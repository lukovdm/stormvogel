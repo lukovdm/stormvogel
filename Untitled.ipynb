{
  "cells": [
    {
      "cell_type": "code",
      "execution_count": 1,
      "id": "c4d32ada-47ed-412e-95dd-3f16880fa568",
      "metadata": {},
      "outputs": [],
      "source": [
        "import examples"
      ]
    },
    {
      "cell_type": "code",
      "execution_count": null,
      "id": "1935eab3-9731-4cd3-9fde-cbd22a25eea3",
      "metadata": {},
      "outputs": [],
      "source": []
    }
  ],
  "metadata": {
    "kernelspec": {
      "display_name": "Python 3 (ipykernel)",
      "language": "python",
      "name": "python3"
    },
    "language_info": {
      "codemirror_mode": {
        "name": "ipython",
        "version": 3
      },
      "file_extension": ".py",
      "mimetype": "text/x-python",
      "name": "python",
      "nbconvert_exporter": "python",
      "pygments_lexer": "ipython3",
      "version": "3.12.7"
    }
  },
  "nbformat": 4,
  "nbformat_minor": 5
}
