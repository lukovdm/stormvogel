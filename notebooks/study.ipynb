{
  "cells": [
    {
      "cell_type": "code",
      "execution_count": 1,
      "id": "0df1511e-565d-45d0-93a8-adafbfaaaefa",
      "metadata": {
        "scrolled": true
      },
      "outputs": [
        {
          "name": "stdout",
          "output_type": "stream",
          "text": [
            "Server started http://localhost:8080"
          ]
        },
        {
          "data": {
            "application/vnd.jupyter.widget-view+json": {
              "model_id": "628ff3e0d13e4ed98f845c69cc8d83bb",
              "version_major": 2,
              "version_minor": 0
            },
            "text/plain": [
              "HBox(children=(Output(), Output()))"
            ]
          },
          "metadata": {},
          "output_type": "display_data"
        }
      ],
      "source": [
        "import stormvogel.model\n",
        "from stormvogel.layout import Layout, DEFAULT\n",
        "from stormvogel.result import Result\n",
        "from IPython.display import clear_output\n",
        "from stormvogel.show import show\n",
        "\n",
        "mdp = stormvogel.model.new_mdp(\"Monty Hall\")\n",
        "\n",
        "init = mdp.get_initial_state()\n",
        "study = mdp.new_action_with_labels(\"study\", frozenset([\"study\"]))\n",
        "not_study = mdp.new_action_with_labels(\"dont study\", frozenset([\"don't study\"]))\n",
        "\n",
        "studied = mdp.new_state(\"studied\")\n",
        "not_studied = mdp.new_state(\"didnt study\")\n",
        "pass_test = mdp.new_state(\"pass test\")\n",
        "fail_test = mdp.new_state(\"fail test\")\n",
        "end = mdp.new_state(\"end\")\n",
        "\n",
        "# From the initial state, you can choose to study, or not to study.\n",
        "init.set_transitions([\n",
        "    (study, studied),\n",
        "    (not_study, not_studied)\n",
        "])\n",
        "\n",
        "# If you studied, then there is a 90% chance that you pass the test.\n",
        "studied.set_transitions([\n",
        "    (9/10, pass_test),\n",
        "    (1/10, fail_test)\n",
        "])\n",
        "\n",
        "# If you did not study, then there is only a 40% chance that you pass the test.\n",
        "not_studied.set_transitions([\n",
        "    (4/10, pass_test),\n",
        "    (6/10, fail_test)\n",
        "])\n",
        "\n",
        "# After the test you are done\n",
        "pass_test.set_transitions([(1, end)])\n",
        "fail_test.set_transitions([(1, end)])\n",
        "\n",
        "# Add reward for passing the test and reward for not studying\n",
        "reward_model = mdp.add_rewards(\"R\")\n",
        "reward_model.set(pass_test, 100)\n",
        "reward_model.set(fail_test, 0)\n",
        "reward_model.set(not_studied, 15)\n",
        "\n",
        "vis = show(mdp, name=\"study\", show_editor=True, separate_labels=[\"init\"])"
      ]
    },
    {
      "cell_type": "code",
      "execution_count": 2,
      "id": "8ee8541b-4116-41b4-a597-7a9ab1a80dfc",
      "metadata": {},
      "outputs": [
        {
          "data": {
            "text/plain": [
              "8080"
            ]
          },
          "execution_count": 2,
          "metadata": {},
          "output_type": "execute_result"
        }
      ],
      "source": [
        "import stormvogel.communication_server\n",
        "\n",
        "stormvogel.communication_server.server.server_port"
      ]
    },
    {
      "cell_type": "code",
      "execution_count": 3,
      "id": "c612df48-b2d8-44a4-b741-21e0e4d80cf8",
      "metadata": {},
      "outputs": [
        {
          "data": {
            "text/plain": [
              "8080"
            ]
          },
          "execution_count": 3,
          "metadata": {},
          "output_type": "execute_result"
        }
      ],
      "source": [
        "vis.nt.server.server_port"
      ]
    },
    {
      "cell_type": "code",
      "execution_count": 6,
      "id": "19c67046-8774-4068-af5f-42406a6c7408",
      "metadata": {},
      "outputs": [
        {
          "data": {
            "text/html": [
              "<script>fetch('http://127.0.0.1:8080/' + JSON.stringify(document.getElementById('study').contentWindow.network.getPositions()))</script>"
            ],
            "text/plain": [
              "<IPython.core.display.HTML object>"
            ]
          },
          "metadata": {},
          "output_type": "display_data"
        },
        {
          "data": {
            "text/plain": [
              "'FAILURE'"
            ]
          },
          "execution_count": 6,
          "metadata": {},
          "output_type": "execute_result"
        }
      ],
      "source": [
        "vis.nt.get_positions()"
      ]
    },
    {
      "cell_type": "code",
      "execution_count": null,
      "id": "d956cd79-ea57-41e8-bcac-6fcf5af9d186",
      "metadata": {},
      "outputs": [],
      "source": []
    }
  ],
  "metadata": {
    "kernelspec": {
      "display_name": "Python (stormvogel)",
      "language": "python",
      "name": "stormvogel-env"
    },
    "language_info": {
      "codemirror_mode": {
        "name": "ipython",
        "version": 3
      },
      "file_extension": ".py",
      "mimetype": "text/x-python",
      "name": "python",
      "nbconvert_exporter": "python",
      "pygments_lexer": "ipython3",
      "version": "3.11.2"
    }
  },
  "nbformat": 4,
  "nbformat_minor": 5
}
