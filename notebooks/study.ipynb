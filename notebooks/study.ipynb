{
  "cells": [
    {
      "cell_type": "code",
      "execution_count": 1,
      "id": "0df1511e-565d-45d0-93a8-adafbfaaaefa",
      "metadata": {},
      "outputs": [
        {
          "name": "stdout",
          "output_type": "stream",
          "text": [
            "{'autoApply': True, '__fake_macros': {'__group_macro': {'borderWidth': 1, 'color': {'background': 'white', 'border': 'black'}, 'shape': 'ellipse', 'mass': 1, 'font': {'color': 'black', 'size': 14}}}, 'groups': {'states': {'borderWidth': 1, 'color': {'background': 'white', 'border': 'black'}, 'shape': 'ellipse', 'mass': 1, 'font': {'color': 'black', 'size': 14}}, 'actions': {'borderWidth': 1, 'color': {'background': 'lightblue', 'border': 'black'}, 'shape': 'diamond', 'mass': 1, 'font': {'color': 'black', 'size': 14}}, 'init': {'borderWidth': 1, 'color': {'background': 'white', 'border': 'black'}, 'shape': 'ellipse', 'mass': 1, 'font': {'color': 'black', 'size': 14}}}, 'edges': {'font': {'color': 'black', 'size': 14}, 'color': 'black'}, 'numbers': {'fractions': True, 'digits': 5}, 'layout': {'randomSeed': 5}, 'saving': {'relative_path': True, 'filename': 'layouts/NAME.json'}, 'physics': {'enabled': True}}\n"
          ]
        },
        {
          "data": {
            "text/html": [
              "<h2>Interactive layout editor</h2>"
            ],
            "text/plain": [
              "<IPython.core.display.HTML object>"
            ]
          },
          "metadata": {},
          "output_type": "display_data"
        },
        {
          "data": {
            "text/html": [
              "<h4>Auto apply</h4>\n",
              "<p>If enabled, any changes to the layout will be applied to the visualization immediately.</p>"
            ],
            "text/plain": [
              "<IPython.core.display.HTML object>"
            ]
          },
          "metadata": {},
          "output_type": "display_data"
        },
        {
          "data": {
            "application/vnd.jupyter.widget-view+json": {
              "model_id": "c28249d1068e4294940ad817f15ffad1",
              "version_major": 2,
              "version_minor": 0
            },
            "text/plain": [
              "interactive(children=(Checkbox(value=True, description='Enabled'), Output()), _dom_classes=('widget-interact',\u2026"
            ]
          },
          "metadata": {},
          "output_type": "display_data"
        },
        {
          "data": {
            "text/html": [
              "<h3>Misc states</h3>"
            ],
            "text/plain": [
              "<IPython.core.display.HTML object>"
            ]
          },
          "metadata": {},
          "output_type": "display_data"
        },
        {
          "data": {
            "application/vnd.jupyter.widget-view+json": {
              "model_id": "b7ad3d11d7d44bffa3b1da2192ddbb7d",
              "version_major": 2,
              "version_minor": 0
            },
            "text/plain": [
              "interactive(children=(IntSlider(value=1, description='Border width'), Output()), _dom_classes=('widget-interac\u2026"
            ]
          },
          "metadata": {},
          "output_type": "display_data"
        },
        {
          "data": {
            "application/vnd.jupyter.widget-view+json": {
              "model_id": "569e5953580946a195a367a9716e488c",
              "version_major": 2,
              "version_minor": 0
            },
            "text/plain": [
              "interactive(children=(ColorPicker(value='white', description='Bg color'), Output()), _dom_classes=('widget-int\u2026"
            ]
          },
          "metadata": {},
          "output_type": "display_data"
        },
        {
          "data": {
            "application/vnd.jupyter.widget-view+json": {
              "model_id": "328115a3d6154f40839ccd3a70f1ca78",
              "version_major": 2,
              "version_minor": 0
            },
            "text/plain": [
              "interactive(children=(ColorPicker(value='black', description='Border color'), Output()), _dom_classes=('widget\u2026"
            ]
          },
          "metadata": {},
          "output_type": "display_data"
        },
        {
          "data": {
            "application/vnd.jupyter.widget-view+json": {
              "model_id": "3986ca64f96043e6b9d6365576cd830e",
              "version_major": 2,
              "version_minor": 0
            },
            "text/plain": [
              "interactive(children=(Dropdown(description='Shape', options=('ellipse', 'circle', 'database', 'box', 'text', '\u2026"
            ]
          },
          "metadata": {},
          "output_type": "display_data"
        },
        {
          "data": {
            "text/html": [
              "<h4>Font</h4>"
            ],
            "text/plain": [
              "<IPython.core.display.HTML object>"
            ]
          },
          "metadata": {},
          "output_type": "display_data"
        },
        {
          "data": {
            "application/vnd.jupyter.widget-view+json": {
              "model_id": "71d89c4b6f1b471a9410fcb8f0bae0bc",
              "version_major": 2,
              "version_minor": 0
            },
            "text/plain": [
              "interactive(children=(ColorPicker(value='black', description='Color'), Output()), _dom_classes=('widget-intera\u2026"
            ]
          },
          "metadata": {},
          "output_type": "display_data"
        },
        {
          "data": {
            "application/vnd.jupyter.widget-view+json": {
              "model_id": "9030a03020654cc3bbda7d60f357a1af",
              "version_major": 2,
              "version_minor": 0
            },
            "text/plain": [
              "interactive(children=(IntSlider(value=14, description='Size'), Output()), _dom_classes=('widget-interact',))"
            ]
          },
          "metadata": {},
          "output_type": "display_data"
        },
        {
          "data": {
            "text/html": [
              "<p>Mass controls degree of repulsion of nodes.</p>"
            ],
            "text/plain": [
              "<IPython.core.display.HTML object>"
            ]
          },
          "metadata": {},
          "output_type": "display_data"
        },
        {
          "data": {
            "application/vnd.jupyter.widget-view+json": {
              "model_id": "f6eda44e0b2f4f6fb60e522556c26ff9",
              "version_major": 2,
              "version_minor": 0
            },
            "text/plain": [
              "interactive(children=(IntSlider(value=1, description='Mass'), Output()), _dom_classes=('widget-interact',))"
            ]
          },
          "metadata": {},
          "output_type": "display_data"
        },
        {
          "data": {
            "text/html": [
              "<h3>Misc Actions</h3>"
            ],
            "text/plain": [
              "<IPython.core.display.HTML object>"
            ]
          },
          "metadata": {},
          "output_type": "display_data"
        },
        {
          "data": {
            "application/vnd.jupyter.widget-view+json": {
              "model_id": "88cae9bc52054a6a88ac8fe3e8c4835b",
              "version_major": 2,
              "version_minor": 0
            },
            "text/plain": [
              "interactive(children=(IntSlider(value=1, description='Border width'), Output()), _dom_classes=('widget-interac\u2026"
            ]
          },
          "metadata": {},
          "output_type": "display_data"
        },
        {
          "data": {
            "application/vnd.jupyter.widget-view+json": {
              "model_id": "56d55102f3c34bfcba87a80daef5ca75",
              "version_major": 2,
              "version_minor": 0
            },
            "text/plain": [
              "interactive(children=(ColorPicker(value='lightblue', description='Bg color'), Output()), _dom_classes=('widget\u2026"
            ]
          },
          "metadata": {},
          "output_type": "display_data"
        },
        {
          "data": {
            "application/vnd.jupyter.widget-view+json": {
              "model_id": "afbaaefe043243a89999d40a6888c024",
              "version_major": 2,
              "version_minor": 0
            },
            "text/plain": [
              "interactive(children=(ColorPicker(value='black', description='Border color'), Output()), _dom_classes=('widget\u2026"
            ]
          },
          "metadata": {},
          "output_type": "display_data"
        },
        {
          "data": {
            "application/vnd.jupyter.widget-view+json": {
              "model_id": "a722dc7b6dc5424885e2df2073ab22f7",
              "version_major": 2,
              "version_minor": 0
            },
            "text/plain": [
              "interactive(children=(Dropdown(description='Shape', index=5, options=('ellipse', 'circle', 'database', 'box', \u2026"
            ]
          },
          "metadata": {},
          "output_type": "display_data"
        },
        {
          "data": {
            "text/html": [
              "<h4>Font</h4>"
            ],
            "text/plain": [
              "<IPython.core.display.HTML object>"
            ]
          },
          "metadata": {},
          "output_type": "display_data"
        },
        {
          "data": {
            "application/vnd.jupyter.widget-view+json": {
              "model_id": "a7681a84db454dc19512a43789d51f23",
              "version_major": 2,
              "version_minor": 0
            },
            "text/plain": [
              "interactive(children=(ColorPicker(value='black', description='Color'), Output()), _dom_classes=('widget-intera\u2026"
            ]
          },
          "metadata": {},
          "output_type": "display_data"
        },
        {
          "data": {
            "application/vnd.jupyter.widget-view+json": {
              "model_id": "3f51c8b95f72404ab9a0ce734847c428",
              "version_major": 2,
              "version_minor": 0
            },
            "text/plain": [
              "interactive(children=(IntSlider(value=14, description='Size'), Output()), _dom_classes=('widget-interact',))"
            ]
          },
          "metadata": {},
          "output_type": "display_data"
        },
        {
          "data": {
            "text/html": [
              "<p>Mass controls degree of repulsion of nodes.</p>"
            ],
            "text/plain": [
              "<IPython.core.display.HTML object>"
            ]
          },
          "metadata": {},
          "output_type": "display_data"
        },
        {
          "data": {
            "application/vnd.jupyter.widget-view+json": {
              "model_id": "e0f66b0ef6fa4b2c82b3ae7faec0f923",
              "version_major": 2,
              "version_minor": 0
            },
            "text/plain": [
              "interactive(children=(IntSlider(value=1, description='Mass'), Output()), _dom_classes=('widget-interact',))"
            ]
          },
          "metadata": {},
          "output_type": "display_data"
        },
        {
          "data": {
            "text/html": [
              "<h3>init</h3>"
            ],
            "text/plain": [
              "<IPython.core.display.HTML object>"
            ]
          },
          "metadata": {},
          "output_type": "display_data"
        },
        {
          "data": {
            "application/vnd.jupyter.widget-view+json": {
              "model_id": "59a661111d0a45748c941d61c4349bb6",
              "version_major": 2,
              "version_minor": 0
            },
            "text/plain": [
              "interactive(children=(IntSlider(value=1, description='Border width'), Output()), _dom_classes=('widget-interac\u2026"
            ]
          },
          "metadata": {},
          "output_type": "display_data"
        },
        {
          "data": {
            "application/vnd.jupyter.widget-view+json": {
              "model_id": "b23c78fab3d944299831d0d69b8aa611",
              "version_major": 2,
              "version_minor": 0
            },
            "text/plain": [
              "interactive(children=(ColorPicker(value='white', description='Bg color'), Output()), _dom_classes=('widget-int\u2026"
            ]
          },
          "metadata": {},
          "output_type": "display_data"
        },
        {
          "data": {
            "application/vnd.jupyter.widget-view+json": {
              "model_id": "85b287f1f1cf4bec85aa10310de147e9",
              "version_major": 2,
              "version_minor": 0
            },
            "text/plain": [
              "interactive(children=(ColorPicker(value='black', description='Border color'), Output()), _dom_classes=('widget\u2026"
            ]
          },
          "metadata": {},
          "output_type": "display_data"
        },
        {
          "data": {
            "application/vnd.jupyter.widget-view+json": {
              "model_id": "fbac781ad3374dfab58d817cc145fe38",
              "version_major": 2,
              "version_minor": 0
            },
            "text/plain": [
              "interactive(children=(Dropdown(description='Shape', options=('ellipse', 'circle', 'database', 'box', 'text', '\u2026"
            ]
          },
          "metadata": {},
          "output_type": "display_data"
        },
        {
          "data": {
            "text/html": [
              "<h4>Font</h4>"
            ],
            "text/plain": [
              "<IPython.core.display.HTML object>"
            ]
          },
          "metadata": {},
          "output_type": "display_data"
        },
        {
          "data": {
            "application/vnd.jupyter.widget-view+json": {
              "model_id": "805650270e454762bd14e9b347f870fd",
              "version_major": 2,
              "version_minor": 0
            },
            "text/plain": [
              "interactive(children=(ColorPicker(value='black', description='Color'), Output()), _dom_classes=('widget-intera\u2026"
            ]
          },
          "metadata": {},
          "output_type": "display_data"
        },
        {
          "data": {
            "application/vnd.jupyter.widget-view+json": {
              "model_id": "5023dcb31f02456792ebf1ec0b393bed",
              "version_major": 2,
              "version_minor": 0
            },
            "text/plain": [
              "interactive(children=(IntSlider(value=14, description='Size'), Output()), _dom_classes=('widget-interact',))"
            ]
          },
          "metadata": {},
          "output_type": "display_data"
        },
        {
          "data": {
            "text/html": [
              "<p>Mass controls degree of repulsion of nodes.</p>"
            ],
            "text/plain": [
              "<IPython.core.display.HTML object>"
            ]
          },
          "metadata": {},
          "output_type": "display_data"
        },
        {
          "data": {
            "application/vnd.jupyter.widget-view+json": {
              "model_id": "38047a062c834b97972396ae654a7320",
              "version_major": 2,
              "version_minor": 0
            },
            "text/plain": [
              "interactive(children=(IntSlider(value=1, description='Mass'), Output()), _dom_classes=('widget-interact',))"
            ]
          },
          "metadata": {},
          "output_type": "display_data"
        },
        {
          "data": {
            "text/html": [
              "<h3>Edges</h3>"
            ],
            "text/plain": [
              "<IPython.core.display.HTML object>"
            ]
          },
          "metadata": {},
          "output_type": "display_data"
        },
        {
          "data": {
            "application/vnd.jupyter.widget-view+json": {
              "model_id": "e34199a6a5424b9f8bcd5bdf7aeb6d94",
              "version_major": 2,
              "version_minor": 0
            },
            "text/plain": [
              "interactive(children=(ColorPicker(value='black', description='Color'), Output()), _dom_classes=('widget-intera\u2026"
            ]
          },
          "metadata": {},
          "output_type": "display_data"
        },
        {
          "data": {
            "text/html": [
              "<h4>Font</h4>"
            ],
            "text/plain": [
              "<IPython.core.display.HTML object>"
            ]
          },
          "metadata": {},
          "output_type": "display_data"
        },
        {
          "data": {
            "application/vnd.jupyter.widget-view+json": {
              "model_id": "82fa3c4aa3364d51a2f5f966458fba38",
              "version_major": 2,
              "version_minor": 0
            },
            "text/plain": [
              "interactive(children=(ColorPicker(value='black', description='Color'), Output()), _dom_classes=('widget-intera\u2026"
            ]
          },
          "metadata": {},
          "output_type": "display_data"
        },
        {
          "data": {
            "application/vnd.jupyter.widget-view+json": {
              "model_id": "be340ab82cc941b5ac9992c34283c0b1",
              "version_major": 2,
              "version_minor": 0
            },
            "text/plain": [
              "interactive(children=(IntSlider(value=14, description='Size'), Output()), _dom_classes=('widget-interact',))"
            ]
          },
          "metadata": {},
          "output_type": "display_data"
        },
        {
          "data": {
            "text/html": [
              "<h4>Save / apply changes</h4>"
            ],
            "text/plain": [
              "<IPython.core.display.HTML object>"
            ]
          },
          "metadata": {},
          "output_type": "display_data"
        },
        {
          "data": {
            "application/vnd.jupyter.widget-view+json": {
              "model_id": "440cb21e18a642e9ab4d6f29a9a22f6c",
              "version_major": 2,
              "version_minor": 0
            },
            "text/plain": [
              "interactive(children=(Checkbox(value=True, description='Relative path'), Output()), _dom_classes=('widget-inte\u2026"
            ]
          },
          "metadata": {},
          "output_type": "display_data"
        },
        {
          "data": {
            "application/vnd.jupyter.widget-view+json": {
              "model_id": "3bbbe7819155490187d056e22380b131",
              "version_major": 2,
              "version_minor": 0
            },
            "text/plain": [
              "interactive(children=(Text(value='layouts/NAME.json', description='File name'), Output()), _dom_classes=('widg\u2026"
            ]
          },
          "metadata": {},
          "output_type": "display_data"
        },
        {
          "data": {
            "application/vnd.jupyter.widget-view+json": {
              "model_id": "febd28b3691c4b9bb2771b89cd72b409",
              "version_major": 2,
              "version_minor": 0
            },
            "text/plain": [
              "Button(button_style='success', description='Save', style=ButtonStyle())"
            ]
          },
          "metadata": {},
          "output_type": "display_data"
        },
        {
          "data": {
            "application/vnd.jupyter.widget-view+json": {
              "model_id": "8d0528eb381a4eb8a83bb70c6cfc34ce",
              "version_major": 2,
              "version_minor": 0
            },
            "text/plain": [
              "Output()"
            ]
          },
          "metadata": {},
          "output_type": "display_data"
        },
        {
          "data": {
            "application/vnd.jupyter.widget-view+json": {
              "model_id": "afb801d89c754664aa22778f4e027fe5",
              "version_major": 2,
              "version_minor": 0
            },
            "text/plain": [
              "Button(button_style='info', description='Apply', style=ButtonStyle())"
            ]
          },
          "metadata": {},
          "output_type": "display_data"
        },
        {
          "data": {
            "application/vnd.jupyter.widget-view+json": {
              "model_id": "63809efadb9a43ec833edeac5763b983",
              "version_major": 2,
              "version_minor": 0
            },
            "text/plain": [
              "Output()"
            ]
          },
          "metadata": {},
          "output_type": "display_data"
        },
        {
          "data": {
            "text/html": [
              "\n",
              "            <iframe\n",
              "                style=\"width: 100%; height: calc(600px + 50px);\"\n",
              "                frameborder=\"0\"\n",
              "                srcdoc=\"&lt;html&gt;\n",
              "    &lt;head&gt;\n",
              "        &lt;meta charset=&quot;utf-8&quot;&gt;\n",
              "        \n",
              "            &lt;script&gt;function neighbourhoodHighlight(params) {\n",
              "  // console.log(&quot;in nieghbourhoodhighlight&quot;);\n",
              "  allNodes = nodes.get({ returnType: &quot;Object&quot; });\n",
              "  // originalNodes = JSON.parse(JSON.stringify(allNodes));\n",
              "  // if something is selected:\n",
              "  if (params.nodes.length &gt; 0) {\n",
              "    highlightActive = true;\n",
              "    var i, j;\n",
              "    var selectedNode = params.nodes[0];\n",
              "    var degrees = 2;\n",
              "\n",
              "    // mark all nodes as hard to read.\n",
              "    for (let nodeId in allNodes) {\n",
              "      // nodeColors[nodeId] = allNodes[nodeId].color;\n",
              "      allNodes[nodeId].color = &quot;rgba(200,200,200,0.5)&quot;;\n",
              "      if (allNodes[nodeId].hiddenLabel === undefined) {\n",
              "        allNodes[nodeId].hiddenLabel = allNodes[nodeId].label;\n",
              "        allNodes[nodeId].label = undefined;\n",
              "      }\n",
              "    }\n",
              "    var connectedNodes = network.getConnectedNodes(selectedNode);\n",
              "    var allConnectedNodes = [];\n",
              "\n",
              "    // get the second degree nodes\n",
              "    for (i = 1; i &lt; degrees; i++) {\n",
              "      for (j = 0; j &lt; connectedNodes.length; j++) {\n",
              "        allConnectedNodes = allConnectedNodes.concat(\n",
              "          network.getConnectedNodes(connectedNodes[j])\n",
              "        );\n",
              "      }\n",
              "    }\n",
              "\n",
              "    // all second degree nodes get a different color and their label back\n",
              "    for (i = 0; i &lt; allConnectedNodes.length; i++) {\n",
              "      // allNodes[allConnectedNodes[i]].color = &quot;pink&quot;;\n",
              "      allNodes[allConnectedNodes[i]].color = &quot;rgba(150,150,150,0.75)&quot;;\n",
              "      if (allNodes[allConnectedNodes[i]].hiddenLabel !== undefined) {\n",
              "        allNodes[allConnectedNodes[i]].label =\n",
              "          allNodes[allConnectedNodes[i]].hiddenLabel;\n",
              "        allNodes[allConnectedNodes[i]].hiddenLabel = undefined;\n",
              "      }\n",
              "    }\n",
              "\n",
              "    // all first degree nodes get their own color and their label back\n",
              "    for (i = 0; i &lt; connectedNodes.length; i++) {\n",
              "      // allNodes[connectedNodes[i]].color = undefined;\n",
              "      allNodes[connectedNodes[i]].color = nodeColors[connectedNodes[i]];\n",
              "      if (allNodes[connectedNodes[i]].hiddenLabel !== undefined) {\n",
              "        allNodes[connectedNodes[i]].label =\n",
              "          allNodes[connectedNodes[i]].hiddenLabel;\n",
              "        allNodes[connectedNodes[i]].hiddenLabel = undefined;\n",
              "      }\n",
              "    }\n",
              "\n",
              "    // the main node gets its own color and its label back.\n",
              "    // allNodes[selectedNode].color = undefined;\n",
              "    allNodes[selectedNode].color = nodeColors[selectedNode];\n",
              "    if (allNodes[selectedNode].hiddenLabel !== undefined) {\n",
              "      allNodes[selectedNode].label = allNodes[selectedNode].hiddenLabel;\n",
              "      allNodes[selectedNode].hiddenLabel = undefined;\n",
              "    }\n",
              "  } else if (highlightActive === true) {\n",
              "    // console.log(&quot;highlightActive was true&quot;);\n",
              "    // reset all nodes\n",
              "    for (let nodeId in allNodes) {\n",
              "      // allNodes[nodeId].color = &quot;purple&quot;;\n",
              "      allNodes[nodeId].color = nodeColors[nodeId];\n",
              "      // delete allNodes[nodeId].color;\n",
              "      if (allNodes[nodeId].hiddenLabel !== undefined) {\n",
              "        allNodes[nodeId].label = allNodes[nodeId].hiddenLabel;\n",
              "        allNodes[nodeId].hiddenLabel = undefined;\n",
              "      }\n",
              "    }\n",
              "    highlightActive = false;\n",
              "  }\n",
              "\n",
              "  // transform the object into an array\n",
              "  var updateArray = [];\n",
              "  if (params.nodes.length &gt; 0) {\n",
              "    for (let nodeId in allNodes) {\n",
              "      if (allNodes.hasOwnProperty(nodeId)) {\n",
              "        // console.log(allNodes[nodeId]);\n",
              "        updateArray.push(allNodes[nodeId]);\n",
              "      }\n",
              "    }\n",
              "    nodes.update(updateArray);\n",
              "  } else {\n",
              "    // console.log(&quot;Nothing was selected&quot;);\n",
              "    for (let nodeId in allNodes) {\n",
              "      if (allNodes.hasOwnProperty(nodeId)) {\n",
              "        // console.log(allNodes[nodeId]);\n",
              "        // allNodes[nodeId].color = {};\n",
              "        updateArray.push(allNodes[nodeId]);\n",
              "      }\n",
              "    }\n",
              "    nodes.update(updateArray);\n",
              "  }\n",
              "}\n",
              "\n",
              "function filterHighlight(params) {\n",
              "  allNodes = nodes.get({ returnType: &quot;Object&quot; });\n",
              "  // if something is selected:\n",
              "  if (params.nodes.length &gt; 0) {\n",
              "    filterActive = true;\n",
              "    let selectedNodes = params.nodes;\n",
              "\n",
              "    // hiding all nodes and saving the label\n",
              "    for (let nodeId in allNodes) {\n",
              "      allNodes[nodeId].hidden = true;\n",
              "      if (allNodes[nodeId].savedLabel === undefined) {\n",
              "        allNodes[nodeId].savedLabel = allNodes[nodeId].label;\n",
              "        allNodes[nodeId].label = undefined;\n",
              "      }\n",
              "    }\n",
              "\n",
              "    for (let i=0; i &lt; selectedNodes.length; i++) {\n",
              "      allNodes[selectedNodes[i]].hidden = false;\n",
              "      if (allNodes[selectedNodes[i]].savedLabel !== undefined) {\n",
              "        allNodes[selectedNodes[i]].label = allNodes[selectedNodes[i]].savedLabel;\n",
              "        allNodes[selectedNodes[i]].savedLabel = undefined;\n",
              "      }\n",
              "    }\n",
              "\n",
              "  } else if (filterActive === true) {\n",
              "    // reset all nodes\n",
              "    for (let nodeId in allNodes) {\n",
              "      allNodes[nodeId].hidden = false;\n",
              "      if (allNodes[nodeId].savedLabel !== undefined) {\n",
              "        allNodes[nodeId].label = allNodes[nodeId].savedLabel;\n",
              "        allNodes[nodeId].savedLabel = undefined;\n",
              "      }\n",
              "    }\n",
              "    filterActive = false;\n",
              "  }\n",
              "\n",
              "  // transform the object into an array\n",
              "  var updateArray = [];\n",
              "  if (params.nodes.length &gt; 0) {\n",
              "    for (let nodeId in allNodes) {\n",
              "      if (allNodes.hasOwnProperty(nodeId)) {\n",
              "        updateArray.push(allNodes[nodeId]);\n",
              "      }\n",
              "    }\n",
              "    nodes.update(updateArray);\n",
              "  } else {\n",
              "    for (let nodeId in allNodes) {\n",
              "      if (allNodes.hasOwnProperty(nodeId)) {\n",
              "        updateArray.push(allNodes[nodeId]);\n",
              "      }\n",
              "    }\n",
              "    nodes.update(updateArray);\n",
              "  }\n",
              "}\n",
              "\n",
              "function selectNode(nodes) {\n",
              "  network.selectNodes(nodes);\n",
              "  neighbourhoodHighlight({ nodes: nodes });\n",
              "  return nodes;\n",
              "}\n",
              "\n",
              "function selectNodes(nodes) {\n",
              "  network.selectNodes(nodes);\n",
              "  filterHighlight({nodes: nodes});\n",
              "  return nodes;\n",
              "}\n",
              "\n",
              "function highlightFilter(filter) {\n",
              "  let selectedNodes = []\n",
              "  let selectedProp = filter[&#x27;property&#x27;]\n",
              "  if (filter[&#x27;item&#x27;] === &#x27;node&#x27;) {\n",
              "    let allNodes = nodes.get({ returnType: &quot;Object&quot; });\n",
              "    for (let nodeId in allNodes) {\n",
              "      if (allNodes[nodeId][selectedProp] &amp;&amp; filter[&#x27;value&#x27;].includes((allNodes[nodeId][selectedProp]).toString())) {\n",
              "        selectedNodes.push(nodeId)\n",
              "      }\n",
              "    }\n",
              "  }\n",
              "  else if (filter[&#x27;item&#x27;] === &#x27;edge&#x27;){\n",
              "    let allEdges = edges.get({returnType: &#x27;object&#x27;});\n",
              "    // check if the selected property exists for selected edge and select the nodes connected to the edge\n",
              "    for (let edge in allEdges) {\n",
              "      if (allEdges[edge][selectedProp] &amp;&amp; filter[&#x27;value&#x27;].includes((allEdges[edge][selectedProp]).toString())) {\n",
              "        selectedNodes.push(allEdges[edge][&#x27;from&#x27;])\n",
              "        selectedNodes.push(allEdges[edge][&#x27;to&#x27;])\n",
              "      }\n",
              "    }\n",
              "  }\n",
              "  selectNodes(selectedNodes)\n",
              "}&lt;/script&gt;\n",
              "            &lt;link rel=&quot;stylesheet&quot; href=&quot;https://cdnjs.cloudflare.com/ajax/libs/vis-network/9.1.2/dist/dist/vis-network.min.css&quot; integrity=&quot;sha512-WgxfT5LWjfszlPHXRmBWHkV2eceiWTOBvrKCNbdgDYTHrT2AeLCGbF4sZlZw3UMN3WtL0tGUoIAKsu8mllg/XA==&quot; crossorigin=&quot;anonymous&quot; referrerpolicy=&quot;no-referrer&quot; /&gt;\n",
              "            &lt;script src=&quot;https://cdnjs.cloudflare.com/ajax/libs/vis-network/9.1.2/dist/vis-network.min.js&quot; integrity=&quot;sha512-LnvoEWDFrqGHlHmDD2101OrLcbsfkrzoSpvtSQtxK3RMnRV0eOkhhBN2dXHKRrUU8p2DGRTk35n4O8nWSVe1mQ==&quot; crossorigin=&quot;anonymous&quot; referrerpolicy=&quot;no-referrer&quot;&gt;&lt;/script&gt;\n",
              "            \n",
              "            \n",
              "            \n",
              "            \n",
              "            \n",
              "            \n",
              "\n",
              "        \n",
              "&lt;center&gt;\n",
              "&lt;h1&gt;&lt;/h1&gt;\n",
              "&lt;/center&gt;\n",
              "\n",
              "&lt;!-- &lt;link rel=&quot;stylesheet&quot; href=&quot;../node_modules/vis/dist/vis.min.css&quot; type=&quot;text/css&quot; /&gt;\n",
              "&lt;script type=&quot;text/javascript&quot; src=&quot;../node_modules/vis/dist/vis.js&quot;&gt; &lt;/script&gt;--&gt;\n",
              "        &lt;link\n",
              "          href=&quot;https://cdn.jsdelivr.net/npm/bootstrap@5.0.0-beta3/dist/css/bootstrap.min.css&quot;\n",
              "          rel=&quot;stylesheet&quot;\n",
              "          integrity=&quot;sha384-eOJMYsd53ii+scO/bJGFsiCZc+5NDVN2yr8+0RDqr0Ql0h+rP48ckxlpbzKgwra6&quot;\n",
              "          crossorigin=&quot;anonymous&quot;\n",
              "        /&gt;\n",
              "        &lt;script\n",
              "          src=&quot;https://cdn.jsdelivr.net/npm/bootstrap@5.0.0-beta3/dist/js/bootstrap.bundle.min.js&quot;\n",
              "          integrity=&quot;sha384-JEW9xMcG8R+pH31jmWH6WWP0WintQrMb4s7ZOdauHnUtxwoG2vI5DkLtS3qm9Ekf&quot;\n",
              "          crossorigin=&quot;anonymous&quot;\n",
              "        &gt;&lt;/script&gt;\n",
              "\n",
              "\n",
              "        &lt;center&gt;\n",
              "          &lt;h1&gt;&lt;/h1&gt;\n",
              "        &lt;/center&gt;\n",
              "        &lt;style type=&quot;text/css&quot;&gt;\n",
              "\n",
              "             #mynetwork {\n",
              "                 width: 100%;\n",
              "                 height: 600px;\n",
              "                 background-color: #ffffff;\n",
              "                 border: 1px solid lightgray;\n",
              "                 position: relative;\n",
              "                 float: left;\n",
              "             }\n",
              "\n",
              "             \n",
              "\n",
              "             \n",
              "\n",
              "             \n",
              "        &lt;/style&gt;\n",
              "    &lt;/head&gt;\n",
              "\n",
              "\n",
              "    &lt;body&gt;\n",
              "        &lt;div class=&quot;card&quot; style=&quot;width: 100%&quot;&gt;\n",
              "            \n",
              "            \n",
              "            &lt;div id=&quot;mynetwork&quot; class=&quot;card-body&quot;&gt;&lt;/div&gt;\n",
              "        &lt;/div&gt;\n",
              "\n",
              "        \n",
              "        \n",
              "\n",
              "        &lt;script type=&quot;text/javascript&quot;&gt;\n",
              "\n",
              "              // initialize global variables.\n",
              "              var edges;\n",
              "              var nodes;\n",
              "              var allNodes;\n",
              "              var allEdges;\n",
              "              var nodeColors;\n",
              "              var originalNodes;\n",
              "              var network;\n",
              "              var container;\n",
              "              var options, data;\n",
              "              var filter = {\n",
              "                  item : &#x27;&#x27;,\n",
              "                  property : &#x27;&#x27;,\n",
              "                  value : []\n",
              "              };\n",
              "\n",
              "              \n",
              "\n",
              "              \n",
              "\n",
              "              // This method is responsible for drawing the graph, returns the drawn network\n",
              "              function drawGraph() {\n",
              "                  var container = document.getElementById(&#x27;mynetwork&#x27;);\n",
              "\n",
              "                  \n",
              "\n",
              "                  // parsing and collecting nodes and edges from the python\n",
              "                  nodes = new vis.DataSet([{&quot;group&quot;: &quot;init&quot;, &quot;id&quot;: 0, &quot;label&quot;: &quot;init\\nResult: &quot;, &quot;shape&quot;: null}, {&quot;group&quot;: &quot;states&quot;, &quot;id&quot;: 1, &quot;label&quot;: &quot;studied\\nResult: &quot;, &quot;shape&quot;: null}, {&quot;group&quot;: &quot;states&quot;, &quot;id&quot;: 2, &quot;label&quot;: &quot;didn\\u0027t study\\nResult: \\nR: 15&quot;, &quot;shape&quot;: null}, {&quot;group&quot;: &quot;states&quot;, &quot;id&quot;: 3, &quot;label&quot;: &quot;pass test\\nResult: \\nR: 100&quot;, &quot;shape&quot;: null}, {&quot;group&quot;: &quot;states&quot;, &quot;id&quot;: 4, &quot;label&quot;: &quot;fail test\\nResult: \\nR: 0&quot;, &quot;shape&quot;: null}, {&quot;group&quot;: &quot;states&quot;, &quot;id&quot;: 5, &quot;label&quot;: &quot;end\\nResult: &quot;, &quot;shape&quot;: null}, {&quot;group&quot;: &quot;actions&quot;, &quot;id&quot;: 10000000000, &quot;label&quot;: &quot;study&quot;, &quot;shape&quot;: null}, {&quot;group&quot;: &quot;actions&quot;, &quot;id&quot;: 10000000001, &quot;label&quot;: &quot;don\\u0027t study&quot;, &quot;shape&quot;: null}]);\n",
              "                  edges = new vis.DataSet([{&quot;arrows&quot;: &quot;to&quot;, &quot;color&quot;: null, &quot;from&quot;: 0, &quot;to&quot;: 10000000000}, {&quot;arrows&quot;: &quot;to&quot;, &quot;color&quot;: null, &quot;from&quot;: 10000000000, &quot;label&quot;: &quot;1&quot;, &quot;to&quot;: 1}, {&quot;arrows&quot;: &quot;to&quot;, &quot;color&quot;: null, &quot;from&quot;: 0, &quot;to&quot;: 10000000001}, {&quot;arrows&quot;: &quot;to&quot;, &quot;color&quot;: null, &quot;from&quot;: 10000000001, &quot;label&quot;: &quot;1&quot;, &quot;to&quot;: 2}, {&quot;arrows&quot;: &quot;to&quot;, &quot;color&quot;: null, &quot;from&quot;: 1, &quot;label&quot;: &quot;9/10&quot;, &quot;to&quot;: 3}, {&quot;arrows&quot;: &quot;to&quot;, &quot;color&quot;: null, &quot;from&quot;: 1, &quot;label&quot;: &quot;1/10&quot;, &quot;to&quot;: 4}, {&quot;arrows&quot;: &quot;to&quot;, &quot;color&quot;: null, &quot;from&quot;: 2, &quot;label&quot;: &quot;2/5&quot;, &quot;to&quot;: 3}, {&quot;arrows&quot;: &quot;to&quot;, &quot;color&quot;: null, &quot;from&quot;: 2, &quot;label&quot;: &quot;3/5&quot;, &quot;to&quot;: 4}, {&quot;arrows&quot;: &quot;to&quot;, &quot;color&quot;: null, &quot;from&quot;: 3, &quot;label&quot;: &quot;1&quot;, &quot;to&quot;: 5}, {&quot;arrows&quot;: &quot;to&quot;, &quot;color&quot;: null, &quot;from&quot;: 4, &quot;label&quot;: &quot;1&quot;, &quot;to&quot;: 5}, {&quot;arrows&quot;: &quot;to&quot;, &quot;color&quot;: null, &quot;from&quot;: 5, &quot;label&quot;: &quot;1&quot;, &quot;to&quot;: 5}]);\n",
              "\n",
              "                  nodeColors = {};\n",
              "                  allNodes = nodes.get({ returnType: &quot;Object&quot; });\n",
              "                  for (nodeId in allNodes) {\n",
              "                    nodeColors[nodeId] = allNodes[nodeId].color;\n",
              "                  }\n",
              "                  allEdges = edges.get({ returnType: &quot;Object&quot; });\n",
              "                  // adding nodes and edges to the graph\n",
              "                  data = {nodes: nodes, edges: edges};\n",
              "\n",
              "                  var options = {&quot;autoApply&quot;: true, &quot;__fake_macros&quot;: {&quot;__group_macro&quot;: {&quot;borderWidth&quot;: 1, &quot;color&quot;: {&quot;background&quot;: &quot;white&quot;, &quot;border&quot;: &quot;black&quot;}, &quot;shape&quot;: &quot;ellipse&quot;, &quot;mass&quot;: 1, &quot;font&quot;: {&quot;color&quot;: &quot;black&quot;, &quot;size&quot;: 14}}}, &quot;groups&quot;: {&quot;states&quot;: {&quot;borderWidth&quot;: 1, &quot;color&quot;: {&quot;background&quot;: &quot;white&quot;, &quot;border&quot;: &quot;black&quot;}, &quot;shape&quot;: &quot;ellipse&quot;, &quot;mass&quot;: 1, &quot;font&quot;: {&quot;color&quot;: &quot;black&quot;, &quot;size&quot;: 14}}, &quot;actions&quot;: {&quot;borderWidth&quot;: 1, &quot;color&quot;: {&quot;background&quot;: &quot;lightblue&quot;, &quot;border&quot;: &quot;black&quot;}, &quot;shape&quot;: &quot;diamond&quot;, &quot;mass&quot;: 1, &quot;font&quot;: {&quot;color&quot;: &quot;black&quot;, &quot;size&quot;: 14}}, &quot;init&quot;: {&quot;borderWidth&quot;: 1, &quot;color&quot;: {&quot;background&quot;: &quot;white&quot;, &quot;border&quot;: &quot;black&quot;}, &quot;shape&quot;: &quot;ellipse&quot;, &quot;mass&quot;: 1, &quot;font&quot;: {&quot;color&quot;: &quot;black&quot;, &quot;size&quot;: 14}}}, &quot;edges&quot;: {&quot;font&quot;: {&quot;color&quot;: &quot;black&quot;, &quot;size&quot;: 14}, &quot;color&quot;: &quot;black&quot;}, &quot;numbers&quot;: {&quot;fractions&quot;: true, &quot;digits&quot;: 5}, &quot;layout&quot;: {&quot;randomSeed&quot;: 5}, &quot;saving&quot;: {&quot;relative_path&quot;: true, &quot;filename&quot;: &quot;layouts/NAME.json&quot;}, &quot;physics&quot;: {&quot;enabled&quot;: true}};\n",
              "\n",
              "                  \n",
              "\n",
              "\n",
              "                  \n",
              "\n",
              "                  network = new vis.Network(container, data, options);\n",
              "\n",
              "                  \n",
              "\n",
              "                  \n",
              "\n",
              "                  \n",
              "\n",
              "\n",
              "                  \n",
              "\n",
              "                  return network;\n",
              "\n",
              "              }\n",
              "              drawGraph();\n",
              "        &lt;/script&gt;\n",
              "    &lt;/body&gt;\n",
              "&lt;/html&gt;\"\n",
              "                border:none !important;\n",
              "                allowfullscreen webkitallowfullscreen mozallowfullscreen\n",
              "            ></iframe>"
            ],
            "text/plain": [
              "<IPython.core.display.HTML object>"
            ]
          },
          "metadata": {},
          "output_type": "display_data"
        }
      ],
      "source": [
        "import stormvogel.model\n",
        "import stormvogel.visualization\n",
        "from stormvogel.visualization import Visualization, show\n",
        "from stormvogel.layout import Layout, DEFAULT\n",
        "\n",
        "mdp = stormvogel.model.new_mdp(\"Monty Hall\")\n",
        "\n",
        "init = mdp.get_initial_state()\n",
        "study = mdp.action(\"study\")\n",
        "not_study = mdp.action(\"don't study\")\n",
        "\n",
        "studied = mdp.new_state(\"studied\")\n",
        "not_studied = mdp.new_state(\"didn't study\")\n",
        "pass_test = mdp.new_state(\"pass test\")\n",
        "fail_test = mdp.new_state(\"fail test\")\n",
        "end = mdp.new_state(\"end\")\n",
        "\n",
        "# From the initial state, you can choose to study, or not to study.\n",
        "init.set_transitions([\n",
        "    (study, studied),\n",
        "    (not_study, not_studied)\n",
        "])\n",
        "\n",
        "# If you studied, then there is a 90% chance that you pass the test.\n",
        "studied.set_transitions([\n",
        "    (9/10, pass_test),\n",
        "    (1/10, fail_test)\n",
        "])\n",
        "\n",
        "# If you did not study, then there is only a 40% chance that you pass the test.\n",
        "not_studied.set_transitions([\n",
        "    (4/10, pass_test),\n",
        "    (6/10, fail_test)\n",
        "])\n",
        "\n",
        "# After the test you are done\n",
        "pass_test.set_transitions([(1, end)])\n",
        "fail_test.set_transitions([(1, end)])\n",
        "\n",
        "# Add reward for passing the test and reward for not studying\n",
        "reward_model = mdp.add_rewards(\"R\")\n",
        "reward_model.set(pass_test, 100)\n",
        "reward_model.set(fail_test, 0)\n",
        "reward_model.set(not_studied, 15)\n",
        "\n",
        "# We use a custom user-defined layout. The parts that it does not define will use the default.\n",
        "# This particular custom layout makes red stars!\n",
        "vis = show(mdp, name=\"study\", show_editor=True, separate_edit_labels=[\"init\"])\n",
        "#mdp.new_state(\"NEW\")\n",
        "# vis.update()"
      ]
    },
    {
      "cell_type": "code",
      "execution_count": null,
      "id": "45757061-9e76-4cfa-a374-9af02ba011ff",
      "metadata": {},
      "outputs": [],
      "source": []
    },
    {
      "cell_type": "code",
      "execution_count": null,
      "id": "db2b89d9-21fd-4efa-841b-8db0a09dfe52",
      "metadata": {},
      "outputs": [],
      "source": []
    },
    {
      "cell_type": "code",
      "execution_count": null,
      "id": "260ead6d-5bca-43ad-aa47-402298394d43",
      "metadata": {},
      "outputs": [],
      "source": []
    }
  ],
  "metadata": {
    "kernelspec": {
      "display_name": "Python (stormvogel)",
      "language": "python",
      "name": "stormvogel-env"
    },
    "language_info": {
      "codemirror_mode": {
        "name": "ipython",
        "version": 3
      },
      "file_extension": ".py",
      "mimetype": "text/x-python",
      "name": "python",
      "nbconvert_exporter": "python",
      "pygments_lexer": "ipython3",
      "version": "3.11.2"
    }
  },
  "nbformat": 4,
  "nbformat_minor": 5
}
