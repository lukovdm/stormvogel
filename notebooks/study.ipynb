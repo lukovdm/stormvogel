{
  "cells": [
    {
      "cell_type": "code",
      "execution_count": 1,
      "id": "0df1511e-565d-45d0-93a8-adafbfaaaefa",
      "metadata": {},
      "outputs": [
        {
          "data": {
            "text/html": [
              "<h2>Interactive layout editor</h2>"
            ],
            "text/plain": [
              "<IPython.core.display.HTML object>"
            ]
          },
          "metadata": {},
          "output_type": "display_data"
        },
        {
          "data": {
            "text/html": [
              "<h4>Auto apply</h4>\n",
              "<p>If enabled, any changes to the layout will be applied to the visualization immediately.</p>"
            ],
            "text/plain": [
              "<IPython.core.display.HTML object>"
            ]
          },
          "metadata": {},
          "output_type": "display_data"
        },
        {
          "data": {
            "application/vnd.jupyter.widget-view+json": {
              "model_id": "d1a8b566a32844dd81ce3148adc2bdc3",
              "version_major": 2,
              "version_minor": 0
            },
            "text/plain": [
              "interactive(children=(Checkbox(value=True, description='Enabled'), Output()), _dom_classes=('widget-interact',\u2026"
            ]
          },
          "metadata": {},
          "output_type": "display_data"
        },
        {
          "data": {
            "text/html": [
              "<h3>Initial state</h3>"
            ],
            "text/plain": [
              "<IPython.core.display.HTML object>"
            ]
          },
          "metadata": {},
          "output_type": "display_data"
        },
        {
          "data": {
            "application/vnd.jupyter.widget-view+json": {
              "model_id": "e8fba54dce164855b4747327a1530398",
              "version_major": 2,
              "version_minor": 0
            },
            "text/plain": [
              "interactive(children=(IntSlider(value=3, description='Border width'), Output()), _dom_classes=('widget-interac\u2026"
            ]
          },
          "metadata": {},
          "output_type": "display_data"
        },
        {
          "data": {
            "application/vnd.jupyter.widget-view+json": {
              "model_id": "7deb4698605d497abf3d14b43b9d3da8",
              "version_major": 2,
              "version_minor": 0
            },
            "text/plain": [
              "interactive(children=(ColorPicker(value='#e01b24', description='Bg color'), Output()), _dom_classes=('widget-i\u2026"
            ]
          },
          "metadata": {},
          "output_type": "display_data"
        },
        {
          "data": {
            "application/vnd.jupyter.widget-view+json": {
              "model_id": "dcb9d08633c04b23846b9b6598e3ca81",
              "version_major": 2,
              "version_minor": 0
            },
            "text/plain": [
              "interactive(children=(ColorPicker(value='#1a5fb4', description='Border color'), Output()), _dom_classes=('widg\u2026"
            ]
          },
          "metadata": {},
          "output_type": "display_data"
        },
        {
          "data": {
            "application/vnd.jupyter.widget-view+json": {
              "model_id": "f5bcc7e7258348b29a6fff8a5213f81e",
              "version_major": 2,
              "version_minor": 0
            },
            "text/plain": [
              "interactive(children=(Dropdown(description='Shape', index=1, options=('ellipse', 'circle', 'database', 'box', \u2026"
            ]
          },
          "metadata": {},
          "output_type": "display_data"
        },
        {
          "data": {
            "text/html": [
              "<h4>Font</h4>"
            ],
            "text/plain": [
              "<IPython.core.display.HTML object>"
            ]
          },
          "metadata": {},
          "output_type": "display_data"
        },
        {
          "data": {
            "application/vnd.jupyter.widget-view+json": {
              "model_id": "d0950b78e8ac49f3bf1d9efb727c7601",
              "version_major": 2,
              "version_minor": 0
            },
            "text/plain": [
              "interactive(children=(ColorPicker(value='#000000', description='Color'), Output()), _dom_classes=('widget-inte\u2026"
            ]
          },
          "metadata": {},
          "output_type": "display_data"
        },
        {
          "data": {
            "application/vnd.jupyter.widget-view+json": {
              "model_id": "79be7c2da129415a93a984cd9c16b75b",
              "version_major": 2,
              "version_minor": 0
            },
            "text/plain": [
              "interactive(children=(IntSlider(value=14, description='Size'), Output()), _dom_classes=('widget-interact',))"
            ]
          },
          "metadata": {},
          "output_type": "display_data"
        },
        {
          "data": {
            "text/html": [
              "<p>Mass controls degree of repulsion of nodes.</p>"
            ],
            "text/plain": [
              "<IPython.core.display.HTML object>"
            ]
          },
          "metadata": {},
          "output_type": "display_data"
        },
        {
          "data": {
            "application/vnd.jupyter.widget-view+json": {
              "model_id": "61876d0a1cde4c518bd27135abe094e1",
              "version_major": 2,
              "version_minor": 0
            },
            "text/plain": [
              "interactive(children=(IntSlider(value=1, description='Mass'), Output()), _dom_classes=('widget-interact',))"
            ]
          },
          "metadata": {},
          "output_type": "display_data"
        },
        {
          "data": {
            "text/html": [
              "<h3>Other states</h3>"
            ],
            "text/plain": [
              "<IPython.core.display.HTML object>"
            ]
          },
          "metadata": {},
          "output_type": "display_data"
        },
        {
          "data": {
            "application/vnd.jupyter.widget-view+json": {
              "model_id": "28aecc3959784214abe0234eb6c170e7",
              "version_major": 2,
              "version_minor": 0
            },
            "text/plain": [
              "interactive(children=(IntSlider(value=1, description='Border width'), Output()), _dom_classes=('widget-interac\u2026"
            ]
          },
          "metadata": {},
          "output_type": "display_data"
        },
        {
          "data": {
            "application/vnd.jupyter.widget-view+json": {
              "model_id": "1d8ca2e040a4457eb38c03f2d833f3ab",
              "version_major": 2,
              "version_minor": 0
            },
            "text/plain": [
              "interactive(children=(ColorPicker(value='#ff7800', description='Bg color'), Output()), _dom_classes=('widget-i\u2026"
            ]
          },
          "metadata": {},
          "output_type": "display_data"
        },
        {
          "data": {
            "application/vnd.jupyter.widget-view+json": {
              "model_id": "db2b941f61d643d09ebe2b4d8107cedd",
              "version_major": 2,
              "version_minor": 0
            },
            "text/plain": [
              "interactive(children=(ColorPicker(value='black', description='Border color'), Output()), _dom_classes=('widget\u2026"
            ]
          },
          "metadata": {},
          "output_type": "display_data"
        },
        {
          "data": {
            "application/vnd.jupyter.widget-view+json": {
              "model_id": "3bcb9e5fec2540319d3bea1ab24489ac",
              "version_major": 2,
              "version_minor": 0
            },
            "text/plain": [
              "interactive(children=(Dropdown(description='Shape', options=('ellipse', 'circle', 'database', 'box', 'text', '\u2026"
            ]
          },
          "metadata": {},
          "output_type": "display_data"
        },
        {
          "data": {
            "text/html": [
              "<h4>Font</h4>"
            ],
            "text/plain": [
              "<IPython.core.display.HTML object>"
            ]
          },
          "metadata": {},
          "output_type": "display_data"
        },
        {
          "data": {
            "application/vnd.jupyter.widget-view+json": {
              "model_id": "f82825c919e444439ef7e7b6a8840e0c",
              "version_major": 2,
              "version_minor": 0
            },
            "text/plain": [
              "interactive(children=(ColorPicker(value='black', description='Color'), Output()), _dom_classes=('widget-intera\u2026"
            ]
          },
          "metadata": {},
          "output_type": "display_data"
        },
        {
          "data": {
            "application/vnd.jupyter.widget-view+json": {
              "model_id": "885a45d697af4e869e88a76507a47e8d",
              "version_major": 2,
              "version_minor": 0
            },
            "text/plain": [
              "interactive(children=(IntSlider(value=14, description='Size'), Output()), _dom_classes=('widget-interact',))"
            ]
          },
          "metadata": {},
          "output_type": "display_data"
        },
        {
          "data": {
            "text/html": [
              "<p>Mass controls degree of repulsion of nodes.</p>"
            ],
            "text/plain": [
              "<IPython.core.display.HTML object>"
            ]
          },
          "metadata": {},
          "output_type": "display_data"
        },
        {
          "data": {
            "application/vnd.jupyter.widget-view+json": {
              "model_id": "c903b627fd844be0b81413710e38ea8f",
              "version_major": 2,
              "version_minor": 0
            },
            "text/plain": [
              "interactive(children=(IntSlider(value=1, description='Mass'), Output()), _dom_classes=('widget-interact',))"
            ]
          },
          "metadata": {},
          "output_type": "display_data"
        },
        {
          "data": {
            "text/html": [
              "<h3>Actions</h3>"
            ],
            "text/plain": [
              "<IPython.core.display.HTML object>"
            ]
          },
          "metadata": {},
          "output_type": "display_data"
        },
        {
          "data": {
            "application/vnd.jupyter.widget-view+json": {
              "model_id": "282aa410507e46109ae87ab6c590706a",
              "version_major": 2,
              "version_minor": 0
            },
            "text/plain": [
              "interactive(children=(IntSlider(value=1, description='Border width'), Output()), _dom_classes=('widget-interac\u2026"
            ]
          },
          "metadata": {},
          "output_type": "display_data"
        },
        {
          "data": {
            "application/vnd.jupyter.widget-view+json": {
              "model_id": "3cbc9ea9bb004259834baf7fbf61788e",
              "version_major": 2,
              "version_minor": 0
            },
            "text/plain": [
              "interactive(children=(ColorPicker(value='#f6d32d', description='Bg color'), Output()), _dom_classes=('widget-i\u2026"
            ]
          },
          "metadata": {},
          "output_type": "display_data"
        },
        {
          "data": {
            "application/vnd.jupyter.widget-view+json": {
              "model_id": "13d0bf2963f7417181b476867177d64a",
              "version_major": 2,
              "version_minor": 0
            },
            "text/plain": [
              "interactive(children=(ColorPicker(value='black', description='Border color'), Output()), _dom_classes=('widget\u2026"
            ]
          },
          "metadata": {},
          "output_type": "display_data"
        },
        {
          "data": {
            "application/vnd.jupyter.widget-view+json": {
              "model_id": "94bf0adeb2814749916acc90eb650b78",
              "version_major": 2,
              "version_minor": 0
            },
            "text/plain": [
              "interactive(children=(Dropdown(description='Shape', index=3, options=('ellipse', 'circle', 'database', 'box', \u2026"
            ]
          },
          "metadata": {},
          "output_type": "display_data"
        },
        {
          "data": {
            "text/html": [
              "<h4>Font</h4>"
            ],
            "text/plain": [
              "<IPython.core.display.HTML object>"
            ]
          },
          "metadata": {},
          "output_type": "display_data"
        },
        {
          "data": {
            "application/vnd.jupyter.widget-view+json": {
              "model_id": "bc565557e06f4f619c574c9f15adf97d",
              "version_major": 2,
              "version_minor": 0
            },
            "text/plain": [
              "interactive(children=(ColorPicker(value='black', description='Color'), Output()), _dom_classes=('widget-intera\u2026"
            ]
          },
          "metadata": {},
          "output_type": "display_data"
        },
        {
          "data": {
            "application/vnd.jupyter.widget-view+json": {
              "model_id": "6aeae008a71941f1b7bc97d013fa09d0",
              "version_major": 2,
              "version_minor": 0
            },
            "text/plain": [
              "interactive(children=(IntSlider(value=14, description='Size'), Output()), _dom_classes=('widget-interact',))"
            ]
          },
          "metadata": {},
          "output_type": "display_data"
        },
        {
          "data": {
            "text/html": [
              "<p>Mass controls degree of repulsion of nodes.</p>"
            ],
            "text/plain": [
              "<IPython.core.display.HTML object>"
            ]
          },
          "metadata": {},
          "output_type": "display_data"
        },
        {
          "data": {
            "application/vnd.jupyter.widget-view+json": {
              "model_id": "fe9ec7305ea5402abee87907e7a12320",
              "version_major": 2,
              "version_minor": 0
            },
            "text/plain": [
              "interactive(children=(IntSlider(value=1, description='Mass'), Output()), _dom_classes=('widget-interact',))"
            ]
          },
          "metadata": {},
          "output_type": "display_data"
        },
        {
          "data": {
            "text/html": [
              "<h3>Edges</h3>"
            ],
            "text/plain": [
              "<IPython.core.display.HTML object>"
            ]
          },
          "metadata": {},
          "output_type": "display_data"
        },
        {
          "data": {
            "application/vnd.jupyter.widget-view+json": {
              "model_id": "5160034831434baea03c2dc6801839d5",
              "version_major": 2,
              "version_minor": 0
            },
            "text/plain": [
              "interactive(children=(ColorPicker(value='#2ec27e', description='Color'), Output()), _dom_classes=('widget-inte\u2026"
            ]
          },
          "metadata": {},
          "output_type": "display_data"
        },
        {
          "data": {
            "text/html": [
              "<h4>Font</h4>"
            ],
            "text/plain": [
              "<IPython.core.display.HTML object>"
            ]
          },
          "metadata": {},
          "output_type": "display_data"
        },
        {
          "data": {
            "application/vnd.jupyter.widget-view+json": {
              "model_id": "f7006a6485984fa3ab206f67bc3465d8",
              "version_major": 2,
              "version_minor": 0
            },
            "text/plain": [
              "interactive(children=(ColorPicker(value='#813d9c', description='Color'), Output()), _dom_classes=('widget-inte\u2026"
            ]
          },
          "metadata": {},
          "output_type": "display_data"
        },
        {
          "data": {
            "application/vnd.jupyter.widget-view+json": {
              "model_id": "af79324d3e114bf7ab26c7cd08081baa",
              "version_major": 2,
              "version_minor": 0
            },
            "text/plain": [
              "interactive(children=(IntSlider(value=14, description='Size'), Output()), _dom_classes=('widget-interact',))"
            ]
          },
          "metadata": {},
          "output_type": "display_data"
        },
        {
          "data": {
            "text/html": [
              "<h4>Save / apply changes</h4>"
            ],
            "text/plain": [
              "<IPython.core.display.HTML object>"
            ]
          },
          "metadata": {},
          "output_type": "display_data"
        },
        {
          "data": {
            "application/vnd.jupyter.widget-view+json": {
              "model_id": "8fdd721f77e6471fbf958ca7b23ac668",
              "version_major": 2,
              "version_minor": 0
            },
            "text/plain": [
              "interactive(children=(Checkbox(value=True, description='Relative path'), Output()), _dom_classes=('widget-inte\u2026"
            ]
          },
          "metadata": {},
          "output_type": "display_data"
        },
        {
          "data": {
            "application/vnd.jupyter.widget-view+json": {
              "model_id": "d0851ab5a2c548e6998b86aff57749c8",
              "version_major": 2,
              "version_minor": 0
            },
            "text/plain": [
              "interactive(children=(Text(value='layouts/rainbow.json', description='File name'), Output()), _dom_classes=('w\u2026"
            ]
          },
          "metadata": {},
          "output_type": "display_data"
        },
        {
          "data": {
            "application/vnd.jupyter.widget-view+json": {
              "model_id": "207ebe1322064ddbbd4d01b64eedf24f",
              "version_major": 2,
              "version_minor": 0
            },
            "text/plain": [
              "Button(button_style='success', description='Save', style=ButtonStyle())"
            ]
          },
          "metadata": {},
          "output_type": "display_data"
        },
        {
          "data": {
            "application/vnd.jupyter.widget-view+json": {
              "model_id": "c95e9dcc9b7245548edfab6383c48c8f",
              "version_major": 2,
              "version_minor": 0
            },
            "text/plain": [
              "Output()"
            ]
          },
          "metadata": {},
          "output_type": "display_data"
        },
        {
          "data": {
            "application/vnd.jupyter.widget-view+json": {
              "model_id": "dbfbcbdf7bfb4ed6be28a576666f2b2f",
              "version_major": 2,
              "version_minor": 0
            },
            "text/plain": [
              "Button(button_style='info', description='Apply', style=ButtonStyle())"
            ]
          },
          "metadata": {},
          "output_type": "display_data"
        },
        {
          "data": {
            "application/vnd.jupyter.widget-view+json": {
              "model_id": "cfc060eef409497bb5088bf145ee7ecf",
              "version_major": 2,
              "version_minor": 0
            },
            "text/plain": [
              "Output()"
            ]
          },
          "metadata": {},
          "output_type": "display_data"
        },
        {
          "data": {
            "text/html": [
              "\n",
              "            <iframe\n",
              "                style=\"width: 100%; height: calc(600px + 50px);\"\n",
              "                frameborder=\"0\"\n",
              "                srcdoc=\"&lt;html&gt;\n",
              "    &lt;head&gt;\n",
              "        &lt;meta charset=&quot;utf-8&quot;&gt;\n",
              "        \n",
              "            &lt;script&gt;function neighbourhoodHighlight(params) {\n",
              "  // console.log(&quot;in nieghbourhoodhighlight&quot;);\n",
              "  allNodes = nodes.get({ returnType: &quot;Object&quot; });\n",
              "  // originalNodes = JSON.parse(JSON.stringify(allNodes));\n",
              "  // if something is selected:\n",
              "  if (params.nodes.length &gt; 0) {\n",
              "    highlightActive = true;\n",
              "    var i, j;\n",
              "    var selectedNode = params.nodes[0];\n",
              "    var degrees = 2;\n",
              "\n",
              "    // mark all nodes as hard to read.\n",
              "    for (let nodeId in allNodes) {\n",
              "      // nodeColors[nodeId] = allNodes[nodeId].color;\n",
              "      allNodes[nodeId].color = &quot;rgba(200,200,200,0.5)&quot;;\n",
              "      if (allNodes[nodeId].hiddenLabel === undefined) {\n",
              "        allNodes[nodeId].hiddenLabel = allNodes[nodeId].label;\n",
              "        allNodes[nodeId].label = undefined;\n",
              "      }\n",
              "    }\n",
              "    var connectedNodes = network.getConnectedNodes(selectedNode);\n",
              "    var allConnectedNodes = [];\n",
              "\n",
              "    // get the second degree nodes\n",
              "    for (i = 1; i &lt; degrees; i++) {\n",
              "      for (j = 0; j &lt; connectedNodes.length; j++) {\n",
              "        allConnectedNodes = allConnectedNodes.concat(\n",
              "          network.getConnectedNodes(connectedNodes[j])\n",
              "        );\n",
              "      }\n",
              "    }\n",
              "\n",
              "    // all second degree nodes get a different color and their label back\n",
              "    for (i = 0; i &lt; allConnectedNodes.length; i++) {\n",
              "      // allNodes[allConnectedNodes[i]].color = &quot;pink&quot;;\n",
              "      allNodes[allConnectedNodes[i]].color = &quot;rgba(150,150,150,0.75)&quot;;\n",
              "      if (allNodes[allConnectedNodes[i]].hiddenLabel !== undefined) {\n",
              "        allNodes[allConnectedNodes[i]].label =\n",
              "          allNodes[allConnectedNodes[i]].hiddenLabel;\n",
              "        allNodes[allConnectedNodes[i]].hiddenLabel = undefined;\n",
              "      }\n",
              "    }\n",
              "\n",
              "    // all first degree nodes get their own color and their label back\n",
              "    for (i = 0; i &lt; connectedNodes.length; i++) {\n",
              "      // allNodes[connectedNodes[i]].color = undefined;\n",
              "      allNodes[connectedNodes[i]].color = nodeColors[connectedNodes[i]];\n",
              "      if (allNodes[connectedNodes[i]].hiddenLabel !== undefined) {\n",
              "        allNodes[connectedNodes[i]].label =\n",
              "          allNodes[connectedNodes[i]].hiddenLabel;\n",
              "        allNodes[connectedNodes[i]].hiddenLabel = undefined;\n",
              "      }\n",
              "    }\n",
              "\n",
              "    // the main node gets its own color and its label back.\n",
              "    // allNodes[selectedNode].color = undefined;\n",
              "    allNodes[selectedNode].color = nodeColors[selectedNode];\n",
              "    if (allNodes[selectedNode].hiddenLabel !== undefined) {\n",
              "      allNodes[selectedNode].label = allNodes[selectedNode].hiddenLabel;\n",
              "      allNodes[selectedNode].hiddenLabel = undefined;\n",
              "    }\n",
              "  } else if (highlightActive === true) {\n",
              "    // console.log(&quot;highlightActive was true&quot;);\n",
              "    // reset all nodes\n",
              "    for (let nodeId in allNodes) {\n",
              "      // allNodes[nodeId].color = &quot;purple&quot;;\n",
              "      allNodes[nodeId].color = nodeColors[nodeId];\n",
              "      // delete allNodes[nodeId].color;\n",
              "      if (allNodes[nodeId].hiddenLabel !== undefined) {\n",
              "        allNodes[nodeId].label = allNodes[nodeId].hiddenLabel;\n",
              "        allNodes[nodeId].hiddenLabel = undefined;\n",
              "      }\n",
              "    }\n",
              "    highlightActive = false;\n",
              "  }\n",
              "\n",
              "  // transform the object into an array\n",
              "  var updateArray = [];\n",
              "  if (params.nodes.length &gt; 0) {\n",
              "    for (let nodeId in allNodes) {\n",
              "      if (allNodes.hasOwnProperty(nodeId)) {\n",
              "        // console.log(allNodes[nodeId]);\n",
              "        updateArray.push(allNodes[nodeId]);\n",
              "      }\n",
              "    }\n",
              "    nodes.update(updateArray);\n",
              "  } else {\n",
              "    // console.log(&quot;Nothing was selected&quot;);\n",
              "    for (let nodeId in allNodes) {\n",
              "      if (allNodes.hasOwnProperty(nodeId)) {\n",
              "        // console.log(allNodes[nodeId]);\n",
              "        // allNodes[nodeId].color = {};\n",
              "        updateArray.push(allNodes[nodeId]);\n",
              "      }\n",
              "    }\n",
              "    nodes.update(updateArray);\n",
              "  }\n",
              "}\n",
              "\n",
              "function filterHighlight(params) {\n",
              "  allNodes = nodes.get({ returnType: &quot;Object&quot; });\n",
              "  // if something is selected:\n",
              "  if (params.nodes.length &gt; 0) {\n",
              "    filterActive = true;\n",
              "    let selectedNodes = params.nodes;\n",
              "\n",
              "    // hiding all nodes and saving the label\n",
              "    for (let nodeId in allNodes) {\n",
              "      allNodes[nodeId].hidden = true;\n",
              "      if (allNodes[nodeId].savedLabel === undefined) {\n",
              "        allNodes[nodeId].savedLabel = allNodes[nodeId].label;\n",
              "        allNodes[nodeId].label = undefined;\n",
              "      }\n",
              "    }\n",
              "\n",
              "    for (let i=0; i &lt; selectedNodes.length; i++) {\n",
              "      allNodes[selectedNodes[i]].hidden = false;\n",
              "      if (allNodes[selectedNodes[i]].savedLabel !== undefined) {\n",
              "        allNodes[selectedNodes[i]].label = allNodes[selectedNodes[i]].savedLabel;\n",
              "        allNodes[selectedNodes[i]].savedLabel = undefined;\n",
              "      }\n",
              "    }\n",
              "\n",
              "  } else if (filterActive === true) {\n",
              "    // reset all nodes\n",
              "    for (let nodeId in allNodes) {\n",
              "      allNodes[nodeId].hidden = false;\n",
              "      if (allNodes[nodeId].savedLabel !== undefined) {\n",
              "        allNodes[nodeId].label = allNodes[nodeId].savedLabel;\n",
              "        allNodes[nodeId].savedLabel = undefined;\n",
              "      }\n",
              "    }\n",
              "    filterActive = false;\n",
              "  }\n",
              "\n",
              "  // transform the object into an array\n",
              "  var updateArray = [];\n",
              "  if (params.nodes.length &gt; 0) {\n",
              "    for (let nodeId in allNodes) {\n",
              "      if (allNodes.hasOwnProperty(nodeId)) {\n",
              "        updateArray.push(allNodes[nodeId]);\n",
              "      }\n",
              "    }\n",
              "    nodes.update(updateArray);\n",
              "  } else {\n",
              "    for (let nodeId in allNodes) {\n",
              "      if (allNodes.hasOwnProperty(nodeId)) {\n",
              "        updateArray.push(allNodes[nodeId]);\n",
              "      }\n",
              "    }\n",
              "    nodes.update(updateArray);\n",
              "  }\n",
              "}\n",
              "\n",
              "function selectNode(nodes) {\n",
              "  network.selectNodes(nodes);\n",
              "  neighbourhoodHighlight({ nodes: nodes });\n",
              "  return nodes;\n",
              "}\n",
              "\n",
              "function selectNodes(nodes) {\n",
              "  network.selectNodes(nodes);\n",
              "  filterHighlight({nodes: nodes});\n",
              "  return nodes;\n",
              "}\n",
              "\n",
              "function highlightFilter(filter) {\n",
              "  let selectedNodes = []\n",
              "  let selectedProp = filter[&#x27;property&#x27;]\n",
              "  if (filter[&#x27;item&#x27;] === &#x27;node&#x27;) {\n",
              "    let allNodes = nodes.get({ returnType: &quot;Object&quot; });\n",
              "    for (let nodeId in allNodes) {\n",
              "      if (allNodes[nodeId][selectedProp] &amp;&amp; filter[&#x27;value&#x27;].includes((allNodes[nodeId][selectedProp]).toString())) {\n",
              "        selectedNodes.push(nodeId)\n",
              "      }\n",
              "    }\n",
              "  }\n",
              "  else if (filter[&#x27;item&#x27;] === &#x27;edge&#x27;){\n",
              "    let allEdges = edges.get({returnType: &#x27;object&#x27;});\n",
              "    // check if the selected property exists for selected edge and select the nodes connected to the edge\n",
              "    for (let edge in allEdges) {\n",
              "      if (allEdges[edge][selectedProp] &amp;&amp; filter[&#x27;value&#x27;].includes((allEdges[edge][selectedProp]).toString())) {\n",
              "        selectedNodes.push(allEdges[edge][&#x27;from&#x27;])\n",
              "        selectedNodes.push(allEdges[edge][&#x27;to&#x27;])\n",
              "      }\n",
              "    }\n",
              "  }\n",
              "  selectNodes(selectedNodes)\n",
              "}&lt;/script&gt;\n",
              "            &lt;link rel=&quot;stylesheet&quot; href=&quot;https://cdnjs.cloudflare.com/ajax/libs/vis-network/9.1.2/dist/dist/vis-network.min.css&quot; integrity=&quot;sha512-WgxfT5LWjfszlPHXRmBWHkV2eceiWTOBvrKCNbdgDYTHrT2AeLCGbF4sZlZw3UMN3WtL0tGUoIAKsu8mllg/XA==&quot; crossorigin=&quot;anonymous&quot; referrerpolicy=&quot;no-referrer&quot; /&gt;\n",
              "            &lt;script src=&quot;https://cdnjs.cloudflare.com/ajax/libs/vis-network/9.1.2/dist/vis-network.min.js&quot; integrity=&quot;sha512-LnvoEWDFrqGHlHmDD2101OrLcbsfkrzoSpvtSQtxK3RMnRV0eOkhhBN2dXHKRrUU8p2DGRTk35n4O8nWSVe1mQ==&quot; crossorigin=&quot;anonymous&quot; referrerpolicy=&quot;no-referrer&quot;&gt;&lt;/script&gt;\n",
              "            \n",
              "            \n",
              "            \n",
              "            \n",
              "            \n",
              "            \n",
              "\n",
              "        \n",
              "&lt;center&gt;\n",
              "&lt;h1&gt;&lt;/h1&gt;\n",
              "&lt;/center&gt;\n",
              "\n",
              "&lt;!-- &lt;link rel=&quot;stylesheet&quot; href=&quot;../node_modules/vis/dist/vis.min.css&quot; type=&quot;text/css&quot; /&gt;\n",
              "&lt;script type=&quot;text/javascript&quot; src=&quot;../node_modules/vis/dist/vis.js&quot;&gt; &lt;/script&gt;--&gt;\n",
              "        &lt;link\n",
              "          href=&quot;https://cdn.jsdelivr.net/npm/bootstrap@5.0.0-beta3/dist/css/bootstrap.min.css&quot;\n",
              "          rel=&quot;stylesheet&quot;\n",
              "          integrity=&quot;sha384-eOJMYsd53ii+scO/bJGFsiCZc+5NDVN2yr8+0RDqr0Ql0h+rP48ckxlpbzKgwra6&quot;\n",
              "          crossorigin=&quot;anonymous&quot;\n",
              "        /&gt;\n",
              "        &lt;script\n",
              "          src=&quot;https://cdn.jsdelivr.net/npm/bootstrap@5.0.0-beta3/dist/js/bootstrap.bundle.min.js&quot;\n",
              "          integrity=&quot;sha384-JEW9xMcG8R+pH31jmWH6WWP0WintQrMb4s7ZOdauHnUtxwoG2vI5DkLtS3qm9Ekf&quot;\n",
              "          crossorigin=&quot;anonymous&quot;\n",
              "        &gt;&lt;/script&gt;\n",
              "\n",
              "\n",
              "        &lt;center&gt;\n",
              "          &lt;h1&gt;&lt;/h1&gt;\n",
              "        &lt;/center&gt;\n",
              "        &lt;style type=&quot;text/css&quot;&gt;\n",
              "\n",
              "             #mynetwork {\n",
              "                 width: 100%;\n",
              "                 height: 600px;\n",
              "                 background-color: #ffffff;\n",
              "                 border: 1px solid lightgray;\n",
              "                 position: relative;\n",
              "                 float: left;\n",
              "             }\n",
              "\n",
              "             \n",
              "\n",
              "             \n",
              "\n",
              "             \n",
              "        &lt;/style&gt;\n",
              "    &lt;/head&gt;\n",
              "\n",
              "\n",
              "    &lt;body&gt;\n",
              "        &lt;div class=&quot;card&quot; style=&quot;width: 100%&quot;&gt;\n",
              "            \n",
              "            \n",
              "            &lt;div id=&quot;mynetwork&quot; class=&quot;card-body&quot;&gt;&lt;/div&gt;\n",
              "        &lt;/div&gt;\n",
              "\n",
              "        \n",
              "        \n",
              "\n",
              "        &lt;script type=&quot;text/javascript&quot;&gt;\n",
              "\n",
              "              // initialize global variables.\n",
              "              var edges;\n",
              "              var nodes;\n",
              "              var allNodes;\n",
              "              var allEdges;\n",
              "              var nodeColors;\n",
              "              var originalNodes;\n",
              "              var network;\n",
              "              var container;\n",
              "              var options, data;\n",
              "              var filter = {\n",
              "                  item : &#x27;&#x27;,\n",
              "                  property : &#x27;&#x27;,\n",
              "                  value : []\n",
              "              };\n",
              "\n",
              "              \n",
              "\n",
              "              \n",
              "\n",
              "              // This method is responsible for drawing the graph, returns the drawn network\n",
              "              function drawGraph() {\n",
              "                  var container = document.getElementById(&#x27;mynetwork&#x27;);\n",
              "\n",
              "                  \n",
              "\n",
              "                  // parsing and collecting nodes and edges from the python\n",
              "                  nodes = new vis.DataSet([{&quot;group&quot;: &quot;init&quot;, &quot;id&quot;: 0, &quot;label&quot;: &quot;init&quot;, &quot;shape&quot;: null}, {&quot;group&quot;: &quot;init&quot;, &quot;id&quot;: 1, &quot;label&quot;: &quot;studied&quot;, &quot;shape&quot;: null}, {&quot;group&quot;: &quot;init&quot;, &quot;id&quot;: 2, &quot;label&quot;: &quot;didn\\u0027t study\\nR: 15&quot;, &quot;shape&quot;: null}, {&quot;group&quot;: &quot;init&quot;, &quot;id&quot;: 3, &quot;label&quot;: &quot;pass test\\nR: 100&quot;, &quot;shape&quot;: null}, {&quot;group&quot;: &quot;init&quot;, &quot;id&quot;: 4, &quot;label&quot;: &quot;fail test\\nR: 0&quot;, &quot;shape&quot;: null}, {&quot;group&quot;: &quot;init&quot;, &quot;id&quot;: 5, &quot;label&quot;: &quot;end&quot;, &quot;shape&quot;: null}]);\n",
              "                  edges = new vis.DataSet([{&quot;arrows&quot;: &quot;to&quot;, &quot;color&quot;: null, &quot;from&quot;: 0, &quot;label&quot;: &quot;1&quot;, &quot;to&quot;: 1}, {&quot;arrows&quot;: &quot;to&quot;, &quot;color&quot;: null, &quot;from&quot;: 0, &quot;label&quot;: &quot;1&quot;, &quot;to&quot;: 2}, {&quot;arrows&quot;: &quot;to&quot;, &quot;color&quot;: null, &quot;from&quot;: 1, &quot;label&quot;: &quot;9/10&quot;, &quot;to&quot;: 3}, {&quot;arrows&quot;: &quot;to&quot;, &quot;color&quot;: null, &quot;from&quot;: 1, &quot;label&quot;: &quot;1/10&quot;, &quot;to&quot;: 4}, {&quot;arrows&quot;: &quot;to&quot;, &quot;color&quot;: null, &quot;from&quot;: 2, &quot;label&quot;: &quot;2/5&quot;, &quot;to&quot;: 3}, {&quot;arrows&quot;: &quot;to&quot;, &quot;color&quot;: null, &quot;from&quot;: 2, &quot;label&quot;: &quot;3/5&quot;, &quot;to&quot;: 4}, {&quot;arrows&quot;: &quot;to&quot;, &quot;color&quot;: null, &quot;from&quot;: 3, &quot;label&quot;: &quot;1&quot;, &quot;to&quot;: 5}, {&quot;arrows&quot;: &quot;to&quot;, &quot;color&quot;: null, &quot;from&quot;: 4, &quot;label&quot;: &quot;1&quot;, &quot;to&quot;: 5}, {&quot;arrows&quot;: &quot;to&quot;, &quot;color&quot;: null, &quot;from&quot;: 5, &quot;label&quot;: &quot;1&quot;, &quot;to&quot;: 5}]);\n",
              "\n",
              "                  nodeColors = {};\n",
              "                  allNodes = nodes.get({ returnType: &quot;Object&quot; });\n",
              "                  for (nodeId in allNodes) {\n",
              "                    nodeColors[nodeId] = allNodes[nodeId].color;\n",
              "                  }\n",
              "                  allEdges = edges.get({ returnType: &quot;Object&quot; });\n",
              "                  // adding nodes and edges to the graph\n",
              "                  data = {nodes: nodes, edges: edges};\n",
              "\n",
              "                  var options = {&quot;autoApply&quot;: true, &quot;groups&quot;: {&quot;init&quot;: {&quot;borderWidth&quot;: 3, &quot;color&quot;: {&quot;background&quot;: &quot;#e01b24&quot;, &quot;border&quot;: &quot;#1a5fb4&quot;}, &quot;shape&quot;: &quot;circle&quot;, &quot;mass&quot;: 1, &quot;font&quot;: {&quot;color&quot;: &quot;#000000&quot;, &quot;size&quot;: 14}}, &quot;states&quot;: {&quot;borderWidth&quot;: 1, &quot;color&quot;: {&quot;background&quot;: &quot;#a51d2d&quot;, &quot;border&quot;: &quot;black&quot;}, &quot;shape&quot;: &quot;ellipse&quot;, &quot;mass&quot;: 1, &quot;font&quot;: {&quot;color&quot;: &quot;black&quot;, &quot;size&quot;: 14}}, &quot;actions&quot;: {&quot;borderWidth&quot;: 1, &quot;color&quot;: {&quot;background&quot;: &quot;#f6d32d&quot;, &quot;border&quot;: &quot;black&quot;}, &quot;shape&quot;: &quot;box&quot;, &quot;mass&quot;: 1, &quot;font&quot;: {&quot;color&quot;: &quot;black&quot;, &quot;size&quot;: 14}}}, &quot;edges&quot;: {&quot;font&quot;: {&quot;color&quot;: &quot;#813d9c&quot;, &quot;size&quot;: 14}, &quot;color&quot;: &quot;#2ec27e&quot;}, &quot;numbers&quot;: {&quot;fractions&quot;: true, &quot;digits&quot;: 5}, &quot;layout&quot;: {&quot;randomSeed&quot;: 5}, &quot;saving&quot;: {&quot;relative_path&quot;: true, &quot;filename&quot;: &quot;layouts/rainbow.json&quot;}, &quot;physics&quot;: {&quot;enabled&quot;: true}};\n",
              "\n",
              "                  \n",
              "\n",
              "\n",
              "                  \n",
              "\n",
              "                  network = new vis.Network(container, data, options);\n",
              "\n",
              "                  \n",
              "\n",
              "                  \n",
              "\n",
              "                  \n",
              "\n",
              "\n",
              "                  \n",
              "\n",
              "                  return network;\n",
              "\n",
              "              }\n",
              "              drawGraph();\n",
              "        &lt;/script&gt;\n",
              "    &lt;/body&gt;\n",
              "&lt;/html&gt;\"\n",
              "                border:none !important;\n",
              "                allowfullscreen webkitallowfullscreen mozallowfullscreen\n",
              "            ></iframe>"
            ],
            "text/plain": [
              "<IPython.core.display.HTML object>"
            ]
          },
          "metadata": {},
          "output_type": "display_data"
        }
      ],
      "source": [
        "import stormvogel.model\n",
        "import stormvogel.visualization\n",
        "from stormvogel.visualization import Visualization, show\n",
        "from stormvogel.layout import Layout, DEFAULT, RAINBOW\n",
        "\n",
        "mdp = stormvogel.model.new_mdp(\"Monty Hall\")\n",
        "\n",
        "init = mdp.get_initial_state()\n",
        "study = mdp.action(\"study\")\n",
        "not_study = mdp.action(\"don't study\")\n",
        "\n",
        "studied = mdp.new_state(\"studied\")\n",
        "not_studied = mdp.new_state(\"didn't study\")\n",
        "pass_test = mdp.new_state(\"pass test\")\n",
        "fail_test = mdp.new_state(\"fail test\")\n",
        "end = mdp.new_state(\"end\")\n",
        "\n",
        "# From the initial state, you can choose to study, or not to study.\n",
        "init.set_transitions([\n",
        "    (study, studied),\n",
        "    (not_study, not_studied)\n",
        "])\n",
        "\n",
        "# If you studied, then there is a 90% chance that you pass the test.\n",
        "studied.set_transitions([\n",
        "    (9/10, pass_test),\n",
        "    (1/10, fail_test)\n",
        "])\n",
        "\n",
        "# If you did not study, then there is only a 40% chance that you pass the test.\n",
        "not_studied.set_transitions([\n",
        "    (4/10, pass_test),\n",
        "    (6/10, fail_test)\n",
        "])\n",
        "\n",
        "# After the test you are done\n",
        "pass_test.set_transitions([(1, end)])\n",
        "fail_test.set_transitions([(1, end)])\n",
        "\n",
        "# Add reward for passing the test and reward for not studying\n",
        "reward_model = mdp.add_rewards(\"R\")\n",
        "reward_model.set(pass_test, 100)\n",
        "reward_model.set(fail_test, 0)\n",
        "reward_model.set(not_studied, 15)\n",
        "\n",
        "# We use a custom user-defined layout. The parts that it does not define will use the default.\n",
        "# This particular custom layout makes red stars!\n",
        "vis = show(mdp, name=\"study\", show_editor=True, layout=RAINBOW())\n",
        "#mdp.new_state(\"NEW\")\n",
        "# vis.update()"
      ]
    },
    {
      "cell_type": "code",
      "execution_count": null,
      "id": "45757061-9e76-4cfa-a374-9af02ba011ff",
      "metadata": {},
      "outputs": [],
      "source": []
    },
    {
      "cell_type": "code",
      "execution_count": null,
      "id": "db2b89d9-21fd-4efa-841b-8db0a09dfe52",
      "metadata": {},
      "outputs": [],
      "source": []
    }
  ],
  "metadata": {
    "kernelspec": {
      "display_name": "Python 3 (ipykernel)",
      "language": "python",
      "name": "python3"
    },
    "language_info": {
      "codemirror_mode": {
        "name": "ipython",
        "version": 3
      },
      "file_extension": ".py",
      "mimetype": "text/x-python",
      "name": "python",
      "nbconvert_exporter": "python",
      "pygments_lexer": "ipython3",
      "version": "3.11.2"
    }
  },
  "nbformat": 4,
  "nbformat_minor": 5
}
