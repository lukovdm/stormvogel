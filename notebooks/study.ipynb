{
  "cells": [
    {
      "cell_type": "code",
      "execution_count": 1,
      "id": "0df1511e-565d-45d0-93a8-adafbfaaaefa",
      "metadata": {},
      "outputs": [
        {
          "data": {
            "text/html": [
              "<h2>Interactive layout editor</h1>"
            ],
            "text/plain": [
              "<IPython.core.display.HTML object>"
            ]
          },
          "metadata": {},
          "output_type": "display_data"
        },
        {
          "data": {
            "text/html": [
              "<h4>Nodes</h4>"
            ],
            "text/plain": [
              "<IPython.core.display.HTML object>"
            ]
          },
          "metadata": {},
          "output_type": "display_data"
        },
        {
          "data": {
            "application/vnd.jupyter.widget-view+json": {
              "model_id": "f077e27ac7434dbbb8e15ed937cd7ddb",
              "version_major": 2,
              "version_minor": 0
            },
            "text/plain": [
              "interactive(children=(ColorPicker(value='#8ff0a4', description='Background'), Output()), _dom_classes=('widget\u2026"
            ]
          },
          "metadata": {},
          "output_type": "display_data"
        },
        {
          "data": {
            "application/vnd.jupyter.widget-view+json": {
              "model_id": "5a3de8ebbeea47a0904d5267ab381bb1",
              "version_major": 2,
              "version_minor": 0
            },
            "text/plain": [
              "interactive(children=(ColorPicker(value='#26a269', description='Border'), Output()), _dom_classes=('widget-int\u2026"
            ]
          },
          "metadata": {},
          "output_type": "display_data"
        },
        {
          "data": {
            "text/html": [
              "<h4>init</h4>"
            ],
            "text/plain": [
              "<IPython.core.display.HTML object>"
            ]
          },
          "metadata": {},
          "output_type": "display_data"
        },
        {
          "data": {
            "application/vnd.jupyter.widget-view+json": {
              "model_id": "4ef02bbe0b6e4e2297f5316c031de092",
              "version_major": 2,
              "version_minor": 0
            },
            "text/plain": [
              "interactive(children=(IntSlider(value=3, description='Border width', max=20), Output()), _dom_classes=('widget\u2026"
            ]
          },
          "metadata": {},
          "output_type": "display_data"
        },
        {
          "data": {
            "application/vnd.jupyter.widget-view+json": {
              "model_id": "9922dd7edf8542018c37e706cab38206",
              "version_major": 2,
              "version_minor": 0
            },
            "text/plain": [
              "interactive(children=(Checkbox(value=False, description='Enable color'), Output()), _dom_classes=('widget-inte\u2026"
            ]
          },
          "metadata": {},
          "output_type": "display_data"
        },
        {
          "data": {
            "application/vnd.jupyter.widget-view+json": {
              "model_id": "795e57e7c02748a6b96a470935a04267",
              "version_major": 2,
              "version_minor": 0
            },
            "text/plain": [
              "interactive(children=(ColorPicker(value='#ffffff', description='Color'), Output()), _dom_classes=('widget-inte\u2026"
            ]
          },
          "metadata": {},
          "output_type": "display_data"
        },
        {
          "data": {
            "application/vnd.jupyter.widget-view+json": {
              "model_id": "5318dbcbe624434cbc02c0a5ab638709",
              "version_major": 2,
              "version_minor": 0
            },
            "text/plain": [
              "interactive(children=(ToggleButtons(description='shape', index=1, options=('ellipse', 'circle', 'database', 'b\u2026"
            ]
          },
          "metadata": {},
          "output_type": "display_data"
        },
        {
          "data": {
            "text/html": [
              "<h4>states</h4>"
            ],
            "text/plain": [
              "<IPython.core.display.HTML object>"
            ]
          },
          "metadata": {},
          "output_type": "display_data"
        },
        {
          "data": {
            "application/vnd.jupyter.widget-view+json": {
              "model_id": "0679c16c94bb425d9135e8989b1df50d",
              "version_major": 2,
              "version_minor": 0
            },
            "text/plain": [
              "interactive(children=(IntSlider(value=1, description='Border width', max=20), Output()), _dom_classes=('widget\u2026"
            ]
          },
          "metadata": {},
          "output_type": "display_data"
        },
        {
          "data": {
            "application/vnd.jupyter.widget-view+json": {
              "model_id": "1b62becf71934e9bbec4b4af041e55fc",
              "version_major": 2,
              "version_minor": 0
            },
            "text/plain": [
              "interactive(children=(Checkbox(value=False, description='Enable color'), Output()), _dom_classes=('widget-inte\u2026"
            ]
          },
          "metadata": {},
          "output_type": "display_data"
        },
        {
          "data": {
            "application/vnd.jupyter.widget-view+json": {
              "model_id": "6a3c999db3fd429cadc5f6ff479de2b2",
              "version_major": 2,
              "version_minor": 0
            },
            "text/plain": [
              "interactive(children=(ColorPicker(value='#ffffff', description='Color'), Output()), _dom_classes=('widget-inte\u2026"
            ]
          },
          "metadata": {},
          "output_type": "display_data"
        },
        {
          "data": {
            "application/vnd.jupyter.widget-view+json": {
              "model_id": "fe03e07d06404cb0b957d499f1ea06b7",
              "version_major": 2,
              "version_minor": 0
            },
            "text/plain": [
              "interactive(children=(ToggleButtons(description='shape', index=6, options=('ellipse', 'circle', 'database', 'b\u2026"
            ]
          },
          "metadata": {},
          "output_type": "display_data"
        },
        {
          "data": {
            "text/html": [
              "<h4>actions</h4>"
            ],
            "text/plain": [
              "<IPython.core.display.HTML object>"
            ]
          },
          "metadata": {},
          "output_type": "display_data"
        },
        {
          "data": {
            "application/vnd.jupyter.widget-view+json": {
              "model_id": "a2fb497ce1224e76b6e400e50c0f9d7f",
              "version_major": 2,
              "version_minor": 0
            },
            "text/plain": [
              "interactive(children=(IntSlider(value=1, description='Border width', max=20), Output()), _dom_classes=('widget\u2026"
            ]
          },
          "metadata": {},
          "output_type": "display_data"
        },
        {
          "data": {
            "application/vnd.jupyter.widget-view+json": {
              "model_id": "8e4b75781b794b229518a69fab8d370f",
              "version_major": 2,
              "version_minor": 0
            },
            "text/plain": [
              "interactive(children=(Checkbox(value=False, description='Enable color'), Output()), _dom_classes=('widget-inte\u2026"
            ]
          },
          "metadata": {},
          "output_type": "display_data"
        },
        {
          "data": {
            "application/vnd.jupyter.widget-view+json": {
              "model_id": "55d3ad188b0d4c3481366580f3cc9cae",
              "version_major": 2,
              "version_minor": 0
            },
            "text/plain": [
              "interactive(children=(ColorPicker(value='#ffffff', description='Color'), Output()), _dom_classes=('widget-inte\u2026"
            ]
          },
          "metadata": {},
          "output_type": "display_data"
        },
        {
          "data": {
            "application/vnd.jupyter.widget-view+json": {
              "model_id": "c1fefc399e1647e1a39f1bcd42852d0d",
              "version_major": 2,
              "version_minor": 0
            },
            "text/plain": [
              "interactive(children=(ToggleButtons(description='shape', index=3, options=('ellipse', 'circle', 'database', 'b\u2026"
            ]
          },
          "metadata": {},
          "output_type": "display_data"
        },
        {
          "data": {
            "text/html": [
              "<h4>Numbers</h4>"
            ],
            "text/plain": [
              "<IPython.core.display.HTML object>"
            ]
          },
          "metadata": {},
          "output_type": "display_data"
        },
        {
          "data": {
            "application/vnd.jupyter.widget-view+json": {
              "model_id": "97d7213ce82c4c3db88c9fc243c39bc9",
              "version_major": 2,
              "version_minor": 0
            },
            "text/plain": [
              "interactive(children=(Checkbox(value=True, description='Enable fractions'), Output()), _dom_classes=('widget-i\u2026"
            ]
          },
          "metadata": {},
          "output_type": "display_data"
        },
        {
          "data": {
            "application/vnd.jupyter.widget-view+json": {
              "model_id": "0023305a8e0246a9ad1249c6cb461978",
              "version_major": 2,
              "version_minor": 0
            },
            "text/plain": [
              "interactive(children=(IntSlider(value=5, description='Digits', max=20), Output()), _dom_classes=('widget-inter\u2026"
            ]
          },
          "metadata": {},
          "output_type": "display_data"
        },
        {
          "data": {
            "application/vnd.jupyter.widget-view+json": {
              "model_id": "2e67a33c39904c08a1ff628bd7e31b7a",
              "version_major": 2,
              "version_minor": 0
            },
            "text/plain": [
              "interactive(children=(IntSlider(value=20, description='Max denom', max=20), Output()), _dom_classes=('widget-i\u2026"
            ]
          },
          "metadata": {},
          "output_type": "display_data"
        },
        {
          "data": {
            "application/vnd.jupyter.widget-view+json": {
              "model_id": "0fc7542127414a4385c7cbc21578525b",
              "version_major": 2,
              "version_minor": 0
            },
            "text/plain": [
              "interactive(children=(Text(value='SAVE_FILE_NAME.json', description='Filename'), Output()), _dom_classes=('wid\u2026"
            ]
          },
          "metadata": {},
          "output_type": "display_data"
        },
        {
          "data": {
            "application/vnd.jupyter.widget-view+json": {
              "model_id": "6ff8de176bdb44dd9b6078fdb7e21e13",
              "version_major": 2,
              "version_minor": 0
            },
            "text/plain": [
              "interactive(children=(Checkbox(value=True, description='Relative path'), Output()), _dom_classes=('widget-inte\u2026"
            ]
          },
          "metadata": {},
          "output_type": "display_data"
        },
        {
          "data": {
            "application/vnd.jupyter.widget-view+json": {
              "model_id": "27d19dd4bdbe4504b89c66794ed25b48",
              "version_major": 2,
              "version_minor": 0
            },
            "text/plain": [
              "Button(description='Save', style=ButtonStyle())"
            ]
          },
          "metadata": {},
          "output_type": "display_data"
        },
        {
          "data": {
            "application/vnd.jupyter.widget-view+json": {
              "model_id": "d64329207ca2433786dddcf18ac9d29d",
              "version_major": 2,
              "version_minor": 0
            },
            "text/plain": [
              "Output()"
            ]
          },
          "metadata": {},
          "output_type": "display_data"
        },
        {
          "name": "stdout",
          "output_type": "stream",
          "text": [
            "study custom layout.html\n"
          ]
        },
        {
          "data": {
            "text/html": [
              "\n",
              "        <iframe\n",
              "            width=\"100%\"\n",
              "            height=\"600px\"\n",
              "            src=\"study custom layout.html\"\n",
              "            frameborder=\"0\"\n",
              "            allowfullscreen\n",
              "            \n",
              "        ></iframe>\n",
              "        "
            ],
            "text/plain": [
              "<IPython.lib.display.IFrame at 0x7efc83dd5690>"
            ]
          },
          "metadata": {},
          "output_type": "display_data"
        }
      ],
      "source": [
        "import stormvogel.model\n",
        "import stormvogel.visualization\n",
        "from stormvogel.visualization import Visualization\n",
        "\n",
        "mdp = stormvogel.model.new_mdp(\"Monty Hall\")\n",
        "\n",
        "init = mdp.get_initial_state()\n",
        "study = mdp.action(\"study\")\n",
        "not_study = mdp.action(\"don't study\")\n",
        "\n",
        "studied = mdp.new_state(\"studied\")\n",
        "not_studied = mdp.new_state(\"didn't study\")\n",
        "pass_test = mdp.new_state(\"pass test\")\n",
        "fail_test = mdp.new_state(\"fail test\")\n",
        "\n",
        "# From the initial state, you can choose to study, or not to study.\n",
        "init.set_transitions([\n",
        "    (study, studied),\n",
        "    (not_study, not_studied)\n",
        "])\n",
        "\n",
        "# If you studied, then there is a 90% chance that you pass the test.\n",
        "studied.set_transitions([\n",
        "    (9/10, pass_test),\n",
        "    (1/10, fail_test)\n",
        "])\n",
        "\n",
        "# If you did not study, then there is only a 40% chance that you pass the test.\n",
        "not_studied.set_transitions([\n",
        "    (4/10, pass_test),\n",
        "    (6/10, fail_test)\n",
        "])\n",
        "# We use a custom user-defined layout. The parts that it does not define will use the default.\n",
        "# This particular custom layout makes states red and uses rounding instead of fractions.\n",
        "layout = stormvogel.visualization.Layout(\"layouts/green.json\")\n",
        "vis = Visualization(mdp, name=\"study custom layout\", layout=layout)\n",
        "vis.show_editor()\n",
        "vis.show()"
      ]
    },
    {
      "cell_type": "code",
      "execution_count": null,
      "id": "45757061-9e76-4cfa-a374-9af02ba011ff",
      "metadata": {},
      "outputs": [],
      "source": []
    }
  ],
  "metadata": {
    "kernelspec": {
      "display_name": "Python 3 (ipykernel)",
      "language": "python",
      "name": "python3"
    },
    "language_info": {
      "codemirror_mode": {
        "name": "ipython",
        "version": 3
      },
      "file_extension": ".py",
      "mimetype": "text/x-python",
      "name": "python",
      "nbconvert_exporter": "python",
      "pygments_lexer": "ipython3",
      "version": "3.11.2"
    }
  },
  "nbformat": 4,
  "nbformat_minor": 5
}
