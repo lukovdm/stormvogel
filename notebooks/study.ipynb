{
  "cells": [
    {
      "cell_type": "code",
      "execution_count": 1,
      "id": "0df1511e-565d-45d0-93a8-adafbfaaaefa",
      "metadata": {},
      "outputs": [
        {
          "data": {
            "text/html": [
              "<h2>Interactive layout editor</h1>"
            ],
            "text/plain": [
              "<IPython.core.display.HTML object>"
            ]
          },
          "metadata": {},
          "output_type": "display_data"
        },
        {
          "data": {
            "application/vnd.jupyter.widget-view+json": {
              "model_id": "9e8040271f00481eaae257b0fe80eb6a",
              "version_major": 2,
              "version_minor": 0
            },
            "text/plain": [
              "interactive(children=(Checkbox(value=True, description='Auto apply changes'), Output()), _dom_classes=('widget\u2026"
            ]
          },
          "metadata": {},
          "output_type": "display_data"
        },
        {
          "data": {
            "text/html": [
              "<h4>Nodes</h4>"
            ],
            "text/plain": [
              "<IPython.core.display.HTML object>"
            ]
          },
          "metadata": {},
          "output_type": "display_data"
        },
        {
          "data": {
            "application/vnd.jupyter.widget-view+json": {
              "model_id": "0cdf41e8995344f8ad243a55e5c19a9b",
              "version_major": 2,
              "version_minor": 0
            },
            "text/plain": [
              "interactive(children=(ColorPicker(value='#99c1f1', description='Background'), Output()), _dom_classes=('widget\u2026"
            ]
          },
          "metadata": {},
          "output_type": "display_data"
        },
        {
          "data": {
            "application/vnd.jupyter.widget-view+json": {
              "model_id": "695e265453674fadb2433ec8c5ebe631",
              "version_major": 2,
              "version_minor": 0
            },
            "text/plain": [
              "interactive(children=(ColorPicker(value='#000000', description='Border'), Output()), _dom_classes=('widget-int\u2026"
            ]
          },
          "metadata": {},
          "output_type": "display_data"
        },
        {
          "data": {
            "text/html": [
              "<h4>init</h4>"
            ],
            "text/plain": [
              "<IPython.core.display.HTML object>"
            ]
          },
          "metadata": {},
          "output_type": "display_data"
        },
        {
          "data": {
            "application/vnd.jupyter.widget-view+json": {
              "model_id": "a5bf432859624cefa6defedede2bd3bc",
              "version_major": 2,
              "version_minor": 0
            },
            "text/plain": [
              "interactive(children=(IntSlider(value=3, description='Border width', max=20), Output()), _dom_classes=('widget\u2026"
            ]
          },
          "metadata": {},
          "output_type": "display_data"
        },
        {
          "data": {
            "application/vnd.jupyter.widget-view+json": {
              "model_id": "f5970fbd6d7e4653b7cefa5324d357ce",
              "version_major": 2,
              "version_minor": 0
            },
            "text/plain": [
              "interactive(children=(Checkbox(value=False, description='Enable color'), Output()), _dom_classes=('widget-inte\u2026"
            ]
          },
          "metadata": {},
          "output_type": "display_data"
        },
        {
          "data": {
            "application/vnd.jupyter.widget-view+json": {
              "model_id": "c1b8ff4dc4674a13b4a5e01dc16fa2c5",
              "version_major": 2,
              "version_minor": 0
            },
            "text/plain": [
              "interactive(children=(ColorPicker(value='#ffffff', description='Color'), Output()), _dom_classes=('widget-inte\u2026"
            ]
          },
          "metadata": {},
          "output_type": "display_data"
        },
        {
          "data": {
            "application/vnd.jupyter.widget-view+json": {
              "model_id": "ab726f3b95714cdd9d05a0398a46c581",
              "version_major": 2,
              "version_minor": 0
            },
            "text/plain": [
              "interactive(children=(ToggleButtons(description='shape', index=1, options=('ellipse', 'circle', 'database', 'b\u2026"
            ]
          },
          "metadata": {},
          "output_type": "display_data"
        },
        {
          "data": {
            "text/html": [
              "<h4>states</h4>"
            ],
            "text/plain": [
              "<IPython.core.display.HTML object>"
            ]
          },
          "metadata": {},
          "output_type": "display_data"
        },
        {
          "data": {
            "application/vnd.jupyter.widget-view+json": {
              "model_id": "2b4a652e9c484679b9bdd4ac1fee7608",
              "version_major": 2,
              "version_minor": 0
            },
            "text/plain": [
              "interactive(children=(IntSlider(value=1, description='Border width', max=20), Output()), _dom_classes=('widget\u2026"
            ]
          },
          "metadata": {},
          "output_type": "display_data"
        },
        {
          "data": {
            "application/vnd.jupyter.widget-view+json": {
              "model_id": "c32ba6fe71e04ea4b7b8c4a50faaed44",
              "version_major": 2,
              "version_minor": 0
            },
            "text/plain": [
              "interactive(children=(Checkbox(value=True, description='Enable color'), Output()), _dom_classes=('widget-inter\u2026"
            ]
          },
          "metadata": {},
          "output_type": "display_data"
        },
        {
          "data": {
            "application/vnd.jupyter.widget-view+json": {
              "model_id": "3195d1936e2244149a465e050e591580",
              "version_major": 2,
              "version_minor": 0
            },
            "text/plain": [
              "interactive(children=(ColorPicker(value='#e01b24', description='Color'), Output()), _dom_classes=('widget-inte\u2026"
            ]
          },
          "metadata": {},
          "output_type": "display_data"
        },
        {
          "data": {
            "application/vnd.jupyter.widget-view+json": {
              "model_id": "48c843b715974f75b845a5514b2c77f5",
              "version_major": 2,
              "version_minor": 0
            },
            "text/plain": [
              "interactive(children=(ToggleButtons(description='shape', index=7, options=('ellipse', 'circle', 'database', 'b\u2026"
            ]
          },
          "metadata": {},
          "output_type": "display_data"
        },
        {
          "data": {
            "text/html": [
              "<h4>actions</h4>"
            ],
            "text/plain": [
              "<IPython.core.display.HTML object>"
            ]
          },
          "metadata": {},
          "output_type": "display_data"
        },
        {
          "data": {
            "application/vnd.jupyter.widget-view+json": {
              "model_id": "26ba9884b60847a58c011b3efcdf10e7",
              "version_major": 2,
              "version_minor": 0
            },
            "text/plain": [
              "interactive(children=(IntSlider(value=1, description='Border width', max=20), Output()), _dom_classes=('widget\u2026"
            ]
          },
          "metadata": {},
          "output_type": "display_data"
        },
        {
          "data": {
            "application/vnd.jupyter.widget-view+json": {
              "model_id": "f5ed4d177127424fab100ae450f9d43b",
              "version_major": 2,
              "version_minor": 0
            },
            "text/plain": [
              "interactive(children=(Checkbox(value=False, description='Enable color'), Output()), _dom_classes=('widget-inte\u2026"
            ]
          },
          "metadata": {},
          "output_type": "display_data"
        },
        {
          "data": {
            "application/vnd.jupyter.widget-view+json": {
              "model_id": "82fbc6e9e1df4970a010ed57d8218308",
              "version_major": 2,
              "version_minor": 0
            },
            "text/plain": [
              "interactive(children=(ColorPicker(value='#ffffff', description='Color'), Output()), _dom_classes=('widget-inte\u2026"
            ]
          },
          "metadata": {},
          "output_type": "display_data"
        },
        {
          "data": {
            "application/vnd.jupyter.widget-view+json": {
              "model_id": "9da6421302114a07b8584c6cd6ebbe06",
              "version_major": 2,
              "version_minor": 0
            },
            "text/plain": [
              "interactive(children=(ToggleButtons(description='shape', index=5, options=('ellipse', 'circle', 'database', 'b\u2026"
            ]
          },
          "metadata": {},
          "output_type": "display_data"
        },
        {
          "data": {
            "text/html": [
              "<h4>Numbers</h4>"
            ],
            "text/plain": [
              "<IPython.core.display.HTML object>"
            ]
          },
          "metadata": {},
          "output_type": "display_data"
        },
        {
          "data": {
            "application/vnd.jupyter.widget-view+json": {
              "model_id": "cb01e24e3b4e4407aec327669acbbe5a",
              "version_major": 2,
              "version_minor": 0
            },
            "text/plain": [
              "interactive(children=(Checkbox(value=True, description='Enable fractions'), Output()), _dom_classes=('widget-i\u2026"
            ]
          },
          "metadata": {},
          "output_type": "display_data"
        },
        {
          "data": {
            "application/vnd.jupyter.widget-view+json": {
              "model_id": "80a6830790524c3c831f2586f39dfae5",
              "version_major": 2,
              "version_minor": 0
            },
            "text/plain": [
              "interactive(children=(IntSlider(value=5, description='Digits', max=20), Output()), _dom_classes=('widget-inter\u2026"
            ]
          },
          "metadata": {},
          "output_type": "display_data"
        },
        {
          "data": {
            "application/vnd.jupyter.widget-view+json": {
              "model_id": "e5d1174d7baf4df785786e12a12129b3",
              "version_major": 2,
              "version_minor": 0
            },
            "text/plain": [
              "interactive(children=(IntSlider(value=20, description='Max denom', max=20), Output()), _dom_classes=('widget-i\u2026"
            ]
          },
          "metadata": {},
          "output_type": "display_data"
        },
        {
          "data": {
            "application/vnd.jupyter.widget-view+json": {
              "model_id": "bfb6d77c9be2416aa53db8dc221343af",
              "version_major": 2,
              "version_minor": 0
            },
            "text/plain": [
              "interactive(children=(Text(value='layouts/SAVE_FILE_NAME.json', description='Filename'), Output()), _dom_class\u2026"
            ]
          },
          "metadata": {},
          "output_type": "display_data"
        },
        {
          "data": {
            "application/vnd.jupyter.widget-view+json": {
              "model_id": "95c7cb2794764478bf16211fe79dc79b",
              "version_major": 2,
              "version_minor": 0
            },
            "text/plain": [
              "interactive(children=(Checkbox(value=True, description='Relative path'), Output()), _dom_classes=('widget-inte\u2026"
            ]
          },
          "metadata": {},
          "output_type": "display_data"
        },
        {
          "data": {
            "application/vnd.jupyter.widget-view+json": {
              "model_id": "23f4723ed7ed484a84eea7b0024d9622",
              "version_major": 2,
              "version_minor": 0
            },
            "text/plain": [
              "Button(description='Save', style=ButtonStyle())"
            ]
          },
          "metadata": {},
          "output_type": "display_data"
        },
        {
          "data": {
            "application/vnd.jupyter.widget-view+json": {
              "model_id": "b17931772bc7402ca10b23ab26274af3",
              "version_major": 2,
              "version_minor": 0
            },
            "text/plain": [
              "Output()"
            ]
          },
          "metadata": {},
          "output_type": "display_data"
        },
        {
          "data": {
            "application/vnd.jupyter.widget-view+json": {
              "model_id": "ea3e6b53eb7b457d8eb268d71707f766",
              "version_major": 2,
              "version_minor": 0
            },
            "text/plain": [
              "Button(description='Apply', style=ButtonStyle())"
            ]
          },
          "metadata": {},
          "output_type": "display_data"
        },
        {
          "data": {
            "application/vnd.jupyter.widget-view+json": {
              "model_id": "e019080b416b431193010ea3790d1cb8",
              "version_major": 2,
              "version_minor": 0
            },
            "text/plain": [
              "Output()"
            ]
          },
          "metadata": {},
          "output_type": "display_data"
        },
        {
          "name": "stdout",
          "output_type": "stream",
          "text": [
            "stars.html\n"
          ]
        },
        {
          "data": {
            "text/html": [
              "\n",
              "        <iframe\n",
              "            width=\"100%\"\n",
              "            height=\"600px\"\n",
              "            src=\"stars.html\"\n",
              "            frameborder=\"0\"\n",
              "            allowfullscreen\n",
              "            \n",
              "        ></iframe>\n",
              "        "
            ],
            "text/plain": [
              "<IPython.lib.display.IFrame at 0x7f8379c7d110>"
            ]
          },
          "metadata": {},
          "output_type": "display_data"
        },
        {
          "data": {
            "text/plain": [
              "<stormvogel.visualization.Visualization at 0x7f8379b5fd50>"
            ]
          },
          "execution_count": 1,
          "metadata": {},
          "output_type": "execute_result"
        }
      ],
      "source": [
        "import stormvogel.model\n",
        "import stormvogel.visualization\n",
        "from stormvogel.visualization import Visualization, show, Layout\n",
        "\n",
        "mdp = stormvogel.model.new_mdp(\"Monty Hall\")\n",
        "\n",
        "init = mdp.get_initial_state()\n",
        "study = mdp.action(\"study\")\n",
        "not_study = mdp.action(\"don't study\")\n",
        "\n",
        "studied = mdp.new_state(\"studied\")\n",
        "not_studied = mdp.new_state(\"didn't study\")\n",
        "pass_test = mdp.new_state(\"pass test\")\n",
        "fail_test = mdp.new_state(\"fail test\")\n",
        "\n",
        "# From the initial state, you can choose to study, or not to study.\n",
        "init.set_transitions([\n",
        "    (study, studied),\n",
        "    (not_study, not_studied)\n",
        "])\n",
        "\n",
        "# If you studied, then there is a 90% chance that you pass the test.\n",
        "studied.set_transitions([\n",
        "    (9/10, pass_test),\n",
        "    (1/10, fail_test)\n",
        "])\n",
        "\n",
        "# If you did not study, then there is only a 40% chance that you pass the test.\n",
        "not_studied.set_transitions([\n",
        "    (4/10, pass_test),\n",
        "    (6/10, fail_test)\n",
        "])\n",
        "# We use a custom user-defined layout. The parts that it does not define will use the default.\n",
        "# This particular custom layout makes states red and uses rounding instead of fractions.\n",
        "\n",
        "show(mdp, name=\"stars\", layout=Layout(\"layouts/red_stars.json\"), show_editor=True)"
      ]
    },
    {
      "cell_type": "code",
      "execution_count": null,
      "id": "45757061-9e76-4cfa-a374-9af02ba011ff",
      "metadata": {},
      "outputs": [],
      "source": []
    },
    {
      "cell_type": "code",
      "execution_count": null,
      "id": "db2b89d9-21fd-4efa-841b-8db0a09dfe52",
      "metadata": {},
      "outputs": [],
      "source": []
    }
  ],
  "metadata": {
    "kernelspec": {
      "display_name": "Python 3 (ipykernel)",
      "language": "python",
      "name": "python3"
    },
    "language_info": {
      "codemirror_mode": {
        "name": "ipython",
        "version": 3
      },
      "file_extension": ".py",
      "mimetype": "text/x-python",
      "name": "python",
      "nbconvert_exporter": "python",
      "pygments_lexer": "ipython3",
      "version": "3.11.2"
    }
  },
  "nbformat": 4,
  "nbformat_minor": 5
}
