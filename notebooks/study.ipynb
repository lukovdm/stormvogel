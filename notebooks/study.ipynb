{
  "cells": [
    {
      "cell_type": "code",
      "execution_count": 1,
      "id": "0df1511e-565d-45d0-93a8-adafbfaaaefa",
      "metadata": {},
      "outputs": [
        {
          "data": {
            "application/vnd.jupyter.widget-view+json": {
              "model_id": "09b2e246af6b444c99cda962fd32da2f",
              "version_major": 2,
              "version_minor": 0
            },
            "text/plain": [
              "VBox(children=(interactive(children=(Checkbox(value=True, description='Auto apply changes'), Output()), _dom_c\u2026"
            ]
          },
          "metadata": {},
          "output_type": "display_data"
        },
        {
          "data": {
            "application/vnd.jupyter.widget-view+json": {
              "model_id": "e4e057b241c349c1b1e3f0ad1dc610a2",
              "version_major": 2,
              "version_minor": 0
            },
            "text/plain": [
              "Button(button_style='success', description='Save', style=ButtonStyle())"
            ]
          },
          "metadata": {},
          "output_type": "display_data"
        },
        {
          "data": {
            "application/vnd.jupyter.widget-view+json": {
              "model_id": "1e8e7b7a09574034bc949f3bbc245c61",
              "version_major": 2,
              "version_minor": 0
            },
            "text/plain": [
              "Output()"
            ]
          },
          "metadata": {},
          "output_type": "display_data"
        },
        {
          "data": {
            "application/vnd.jupyter.widget-view+json": {
              "model_id": "6ee44d4c64cc42c4a22a4013ae0aadc0",
              "version_major": 2,
              "version_minor": 0
            },
            "text/plain": [
              "Button(button_style='info', description='Apply', style=ButtonStyle())"
            ]
          },
          "metadata": {},
          "output_type": "display_data"
        },
        {
          "data": {
            "application/vnd.jupyter.widget-view+json": {
              "model_id": "c8ce69e95ad94d7b917f5d7184abdf2b",
              "version_major": 2,
              "version_minor": 0
            },
            "text/plain": [
              "Output()"
            ]
          },
          "metadata": {},
          "output_type": "display_data"
        },
        {
          "data": {
            "text/html": [
              "\n",
              "          <iframe\n",
              "              width=\"650\"\n",
              "              height=\"450\"\n",
              "              frameborder=\"0\"\n",
              "              srcdoc=\"\n",
              "&lt;!DOCTYPE html&gt;\n",
              "&lt;html lang=&quot;en&quot;&gt;\n",
              "  &lt;head&gt;\n",
              "    &lt;title&gt;Network&lt;/title&gt;\n",
              "    &lt;script\n",
              "      type=&quot;text/javascript&quot;\n",
              "      src=&quot;https://unpkg.com/vis-network/standalone/umd/vis-network.min.js&quot;\n",
              "    &gt;&lt;/script&gt;\n",
              "    &lt;style type=&quot;text/css&quot;&gt;\n",
              "      #mynetwork {\n",
              "        width: 600px;\n",
              "        height: 400px;\n",
              "        border: 1px solid lightgray;\n",
              "      }\n",
              "    &lt;/style&gt;\n",
              "  &lt;/head&gt;\n",
              "  &lt;body&gt;\n",
              "    &lt;div id=&quot;mynetwork&quot;&gt;&lt;/div&gt;\n",
              "    &lt;script type=&quot;text/javascript&quot;&gt;\n",
              "        \n",
              "        var nodes = new vis.DataSet([{ id: 0, label: `init\n",
              "`, group: &quot;init&quot; },\n",
              "{ id: 1, label: `studied\n",
              "`, group: &quot;states&quot; },\n",
              "{ id: 2, label: `didnt study\n",
              "R: 15\n",
              "`, group: &quot;states&quot; },\n",
              "{ id: 3, label: `pass test\n",
              "R: 100\n",
              "`, group: &quot;states&quot; },\n",
              "{ id: 4, label: `fail test\n",
              "R: 0\n",
              "`, group: &quot;states&quot; },\n",
              "{ id: 5, label: `end\n",
              "`, group: &quot;states&quot; },\n",
              "{ id: 10000000000, label: `study`, group: &quot;actions&quot; },\n",
              "{ id: 10000000001, label: `dont study`, group: &quot;actions&quot; },\n",
              "]);\n",
              "        var edges = new vis.DataSet([{ from: 0, to: 10000000000 },\n",
              "{ from: 10000000000, to: 11 },\n",
              "{ from: 0, to: 10000000001 },\n",
              "{ from: 10000000001, to: 21 },\n",
              "{ from: 1, to: 39/10 },\n",
              "{ from: 1, to: 41/10 },\n",
              "{ from: 2, to: 32/5 },\n",
              "{ from: 2, to: 43/5 },\n",
              "{ from: 3, to: 51 },\n",
              "{ from: 4, to: 51 },\n",
              "{ from: 5, to: 51 },\n",
              "]);\n",
              "        var options = {\n",
              "  &quot;autoApply&quot;: true,\n",
              "  &quot;__fake_macros&quot;: {\n",
              "    &quot;__group_macro&quot;: {\n",
              "      &quot;borderWidth&quot;: 1,\n",
              "      &quot;color&quot;: {\n",
              "        &quot;background&quot;: &quot;white&quot;,\n",
              "        &quot;border&quot;: &quot;black&quot;\n",
              "      },\n",
              "      &quot;shape&quot;: &quot;ellipse&quot;,\n",
              "      &quot;mass&quot;: 1,\n",
              "      &quot;font&quot;: {\n",
              "        &quot;color&quot;: &quot;black&quot;,\n",
              "        &quot;size&quot;: 14\n",
              "      }\n",
              "    }\n",
              "  },\n",
              "  &quot;groups&quot;: {\n",
              "    &quot;states&quot;: {\n",
              "      &quot;borderWidth&quot;: 1,\n",
              "      &quot;color&quot;: {\n",
              "        &quot;background&quot;: &quot;white&quot;,\n",
              "        &quot;border&quot;: &quot;black&quot;\n",
              "      },\n",
              "      &quot;shape&quot;: &quot;ellipse&quot;,\n",
              "      &quot;mass&quot;: 1,\n",
              "      &quot;font&quot;: {\n",
              "        &quot;color&quot;: &quot;black&quot;,\n",
              "        &quot;size&quot;: 14\n",
              "      }\n",
              "    },\n",
              "    &quot;actions&quot;: {\n",
              "      &quot;borderWidth&quot;: 1,\n",
              "      &quot;color&quot;: {\n",
              "        &quot;background&quot;: &quot;lightblue&quot;,\n",
              "        &quot;border&quot;: &quot;black&quot;\n",
              "      },\n",
              "      &quot;shape&quot;: &quot;box&quot;,\n",
              "      &quot;mass&quot;: 1,\n",
              "      &quot;font&quot;: {\n",
              "        &quot;color&quot;: &quot;black&quot;,\n",
              "        &quot;size&quot;: 14\n",
              "      }\n",
              "    },\n",
              "    &quot;scheduled_actions&quot;: {\n",
              "      &quot;borderWidth&quot;: 1,\n",
              "      &quot;color&quot;: {\n",
              "        &quot;background&quot;: &quot;pink&quot;,\n",
              "        &quot;border&quot;: &quot;black&quot;\n",
              "      },\n",
              "      &quot;shape&quot;: &quot;box&quot;,\n",
              "      &quot;mass&quot;: 1,\n",
              "      &quot;font&quot;: {\n",
              "        &quot;color&quot;: &quot;black&quot;,\n",
              "        &quot;size&quot;: 14\n",
              "      }\n",
              "    }\n",
              "  },\n",
              "  &quot;edges&quot;: {\n",
              "    &quot;arrows&quot;: &quot;to&quot;,\n",
              "    &quot;font&quot;: {\n",
              "      &quot;color&quot;: &quot;black&quot;,\n",
              "      &quot;size&quot;: 14\n",
              "    },\n",
              "    &quot;color&quot;: {\n",
              "      &quot;color&quot;: &quot;black&quot;\n",
              "    }\n",
              "  },\n",
              "  &quot;numbers&quot;: {\n",
              "    &quot;fractions&quot;: true,\n",
              "    &quot;digits&quot;: 5\n",
              "  },\n",
              "  &quot;resultSymbol&quot;: &quot;\\u2606&quot;,\n",
              "  &quot;schedColor&quot;: true,\n",
              "  &quot;physics&quot;: {\n",
              "    &quot;enabled&quot;: true\n",
              "  },\n",
              "  &quot;layout&quot;: {\n",
              "    &quot;randomSeed&quot;: 5\n",
              "  },\n",
              "  &quot;saving&quot;: {\n",
              "    &quot;relative_path&quot;: true,\n",
              "    &quot;filename&quot;: &quot;layouts/NAME.json&quot;\n",
              "  }\n",
              "};\n",
              "        \n",
              "var container = document.getElementById(&quot;mynetwork&quot;);\n",
              "var data = {\n",
              "    nodes: nodes,\n",
              "    edges: edges,\n",
              "};\n",
              "var network = new vis.Network(container, data, options);\n",
              "    &lt;/script&gt;\n",
              "  &lt;/body&gt;\n",
              "&lt;/html&gt;\n",
              "\"\n",
              "              border:none !important;\n",
              "              allowfullscreen webkitallowfullscreen mozallowfullscreen\n",
              "          ></iframe>"
            ],
            "text/plain": [
              "<IPython.core.display.HTML object>"
            ]
          },
          "metadata": {},
          "output_type": "display_data"
        }
      ],
      "source": [
        "import stormvogel.model\n",
        "import stormvogel.visualization\n",
        "from stormvogel.visualization import Visualization, show\n",
        "from stormvogel.layout import Layout, DEFAULT\n",
        "from stormvogel.result import Result\n",
        "\n",
        "mdp = stormvogel.model.new_mdp(\"Monty Hall\")\n",
        "\n",
        "init = mdp.get_initial_state()\n",
        "study = mdp.new_action_with_labels(\"study\", frozenset([\"study\"]))\n",
        "not_study = mdp.new_action_with_labels(\"dont study\", frozenset([\"don't study\"]))\n",
        "\n",
        "studied = mdp.new_state(\"studied\")\n",
        "not_studied = mdp.new_state(\"didnt study\")\n",
        "pass_test = mdp.new_state(\"pass test\")\n",
        "fail_test = mdp.new_state(\"fail test\")\n",
        "end = mdp.new_state(\"end\")\n",
        "\n",
        "# From the initial state, you can choose to study, or not to study.\n",
        "init.set_transitions([\n",
        "    (study, studied),\n",
        "    (not_study, not_studied)\n",
        "])\n",
        "\n",
        "# If you studied, then there is a 90% chance that you pass the test.\n",
        "studied.set_transitions([\n",
        "    (9/10, pass_test),\n",
        "    (1/10, fail_test)\n",
        "])\n",
        "\n",
        "# If you did not study, then there is only a 40% chance that you pass the test.\n",
        "not_studied.set_transitions([\n",
        "    (4/10, pass_test),\n",
        "    (6/10, fail_test)\n",
        "])\n",
        "\n",
        "# After the test you are done\n",
        "pass_test.set_transitions([(1, end)])\n",
        "fail_test.set_transitions([(1, end)])\n",
        "\n",
        "# Add reward for passing the test and reward for not studying\n",
        "reward_model = mdp.add_rewards(\"R\")\n",
        "reward_model.set(pass_test, 100)\n",
        "reward_model.set(fail_test, 0)\n",
        "reward_model.set(not_studied, 15)\n",
        "\n",
        "vis = show(mdp, name=\"study\", show_editor=True)"
      ]
    },
    {
      "cell_type": "code",
      "execution_count": 2,
      "id": "45757061-9e76-4cfa-a374-9af02ba011ff",
      "metadata": {},
      "outputs": [],
      "source": [
        "vis.update()"
      ]
    },
    {
      "cell_type": "code",
      "execution_count": null,
      "id": "db2b89d9-21fd-4efa-841b-8db0a09dfe52",
      "metadata": {},
      "outputs": [],
      "source": []
    },
    {
      "cell_type": "code",
      "execution_count": null,
      "id": "260ead6d-5bca-43ad-aa47-402298394d43",
      "metadata": {},
      "outputs": [],
      "source": []
    },
    {
      "cell_type": "code",
      "execution_count": null,
      "id": "5b9a1ee1-79c6-4689-8230-3da0eaee540e",
      "metadata": {},
      "outputs": [],
      "source": []
    }
  ],
  "metadata": {
    "kernelspec": {
      "display_name": "Python (stormvogel)",
      "language": "python",
      "name": "stormvogel-env"
    },
    "language_info": {
      "codemirror_mode": {
        "name": "ipython",
        "version": 3
      },
      "file_extension": ".py",
      "mimetype": "text/x-python",
      "name": "python",
      "nbconvert_exporter": "python",
      "pygments_lexer": "ipython3",
      "version": "3.11.2"
    }
  },
  "nbformat": 4,
  "nbformat_minor": 5
}
