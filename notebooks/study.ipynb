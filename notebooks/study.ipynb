{
  "cells": [
    {
      "cell_type": "code",
      "execution_count": 1,
      "id": "0df1511e-565d-45d0-93a8-adafbfaaaefa",
      "metadata": {
        "scrolled": true
      },
      "outputs": [
        {
          "name": "stderr",
          "output_type": "stream",
          "text": [
            "INFO:root:CommunicationsServer started http://localhost:8080\n",
            "DEBUG:root:Generated the following HTML for Network studykWjGuBnlaF:\n",
            "\n",
            "<!DOCTYPE html>\n",
            "<html lang=\"en\">\n",
            "  <head>\n",
            "    <title>Network</title>\n",
            "    <script\n",
            "      type=\"text/javascript\"\n",
            "      src=\"https://unpkg.com/vis-network/standalone/umd/vis-network.min.js\"\n",
            "    ></script>\n",
            "    <style type=\"text/css\">\n",
            "      #mynetwork {\n",
            "        \n",
            "        width: 800px;\n",
            "        height: 600px;\n",
            "        border: 1px solid lightgray;\n",
            "        \n",
            "      }\n",
            "    </style>\n",
            "  </head>\n",
            "  <body>\n",
            "    <div id=\"mynetwork\"></div>\n",
            "    <script type=\"text/javascript\">\n",
            "        \n",
            "        var nodes = new vis.DataSet([{ id: 0, label: `init`, group: \"init\" },\n",
            "{ id: 1, label: `studied`, group: \"states\" },\n",
            "{ id: 2, label: `didnt study\n",
            "R: 15`, group: \"states\" },\n",
            "{ id: 3, label: `pass test\n",
            "R: 100`, group: \"states\" },\n",
            "{ id: 4, label: `fail test\n",
            "R: 0`, group: \"states\" },\n",
            "{ id: 5, label: `end`, group: \"states\" },\n",
            "{ id: 10000000000, label: `study`, group: \"actions\" },\n",
            "{ id: 10000000001, label: `dont study`, group: \"actions\" },\n",
            "]);\n",
            "        var edges = new vis.DataSet([{ from: 0, to: 10000000000 },\n",
            "{ from: 10000000000, to: 1, label: \"1\" },\n",
            "{ from: 0, to: 10000000001 },\n",
            "{ from: 10000000001, to: 2, label: \"1\" },\n",
            "{ from: 1, to: 3, label: \"9/10\" },\n",
            "{ from: 1, to: 4, label: \"1/10\" },\n",
            "{ from: 2, to: 3, label: \"2/5\" },\n",
            "{ from: 2, to: 4, label: \"3/5\" },\n",
            "{ from: 3, to: 5, label: \"1\" },\n",
            "{ from: 4, to: 5, label: \"1\" },\n",
            "{ from: 5, to: 5, label: \"1\" },\n",
            "]);\n",
            "        var options = {\n",
            "  \"__fake_macros\": {\n",
            "    \"__group_macro\": {\n",
            "      \"borderWidth\": 1,\n",
            "      \"color\": {\n",
            "        \"background\": \"white\",\n",
            "        \"border\": \"black\",\n",
            "        \"highlight\": {\n",
            "          \"background\": \"white\",\n",
            "          \"border\": \"red\"\n",
            "        }\n",
            "      },\n",
            "      \"shape\": \"ellipse\",\n",
            "      \"mass\": 1,\n",
            "      \"font\": {\n",
            "        \"color\": \"black\",\n",
            "        \"size\": 14\n",
            "      }\n",
            "    }\n",
            "  },\n",
            "  \"groups\": {\n",
            "    \"states\": {\n",
            "      \"borderWidth\": 1,\n",
            "      \"color\": {\n",
            "        \"background\": \"white\",\n",
            "        \"border\": \"black\",\n",
            "        \"highlight\": {\n",
            "          \"background\": \"white\",\n",
            "          \"border\": \"red\"\n",
            "        }\n",
            "      },\n",
            "      \"shape\": \"ellipse\",\n",
            "      \"mass\": 1,\n",
            "      \"font\": {\n",
            "        \"color\": \"black\",\n",
            "        \"size\": 14\n",
            "      }\n",
            "    },\n",
            "    \"actions\": {\n",
            "      \"borderWidth\": 1,\n",
            "      \"color\": {\n",
            "        \"background\": \"lightblue\",\n",
            "        \"border\": \"black\",\n",
            "        \"highlight\": {\n",
            "          \"background\": \"white\",\n",
            "          \"border\": \"red\"\n",
            "        }\n",
            "      },\n",
            "      \"shape\": \"box\",\n",
            "      \"mass\": 1,\n",
            "      \"font\": {\n",
            "        \"color\": \"black\",\n",
            "        \"size\": 14\n",
            "      }\n",
            "    },\n",
            "    \"scheduled_actions\": {\n",
            "      \"borderWidth\": 1,\n",
            "      \"color\": {\n",
            "        \"background\": \"pink\",\n",
            "        \"border\": \"black\",\n",
            "        \"highlight\": {\n",
            "          \"background\": \"white\",\n",
            "          \"border\": \"red\"\n",
            "        }\n",
            "      },\n",
            "      \"shape\": \"box\",\n",
            "      \"mass\": 1,\n",
            "      \"font\": {\n",
            "        \"color\": \"black\",\n",
            "        \"size\": 14\n",
            "      },\n",
            "      \"schedColor\": false\n",
            "    },\n",
            "    \"init\": {\n",
            "      \"borderWidth\": 1,\n",
            "      \"color\": {\n",
            "        \"background\": \"white\",\n",
            "        \"border\": \"black\",\n",
            "        \"highlight\": {\n",
            "          \"background\": \"white\",\n",
            "          \"border\": \"red\"\n",
            "        }\n",
            "      },\n",
            "      \"shape\": \"ellipse\",\n",
            "      \"mass\": 1,\n",
            "      \"font\": {\n",
            "        \"color\": \"black\",\n",
            "        \"size\": 14\n",
            "      }\n",
            "    }\n",
            "  },\n",
            "  \"reload_button\": false,\n",
            "  \"edges\": {\n",
            "    \"arrows\": \"to\",\n",
            "    \"font\": {\n",
            "      \"color\": \"black\",\n",
            "      \"size\": 14\n",
            "    },\n",
            "    \"color\": {\n",
            "      \"color\": \"black\"\n",
            "    }\n",
            "  },\n",
            "  \"numbers\": {\n",
            "    \"fractions\": true,\n",
            "    \"digits\": 5\n",
            "  },\n",
            "  \"results_and_rewards\": {\n",
            "    \"show_results\": true,\n",
            "    \"resultSymbol\": \"\\u2606\",\n",
            "    \"show_rewards\": true\n",
            "  },\n",
            "  \"layout\": {\n",
            "    \"randomSeed\": 5\n",
            "  },\n",
            "  \"misc\": {\n",
            "    \"enable_physics\": true,\n",
            "    \"width\": 800,\n",
            "    \"height\": 600\n",
            "  },\n",
            "  \"saving\": {\n",
            "    \"relative_path\": true,\n",
            "    \"filename\": \"layouts/NAME.json\",\n",
            "    \"save_button\": false\n",
            "  },\n",
            "  \"positions\": {},\n",
            "  \"physics\": {}\n",
            "};\n",
            "        \n",
            "var container = document.getElementById(\"mynetwork\");\n",
            "var data = {\n",
            "    nodes: nodes,\n",
            "    edges: edges,\n",
            "};\n",
            "var network = new vis.Network(container, data, options);\n",
            "    </script>\n",
            "  </body>\n",
            "</html>\n",
            "\n"
          ]
        },
        {
          "data": {
            "application/vnd.jupyter.widget-view+json": {
              "model_id": "6db1cfaa9f9b453d9db49bf8de97eb4b",
              "version_major": 2,
              "version_minor": 0
            },
            "text/plain": [
              "HBox(children=(Output(), Output()))"
            ]
          },
          "metadata": {},
          "output_type": "display_data"
        },
        {
          "name": "stderr",
          "output_type": "stream",
          "text": [
            "INFO:root:Received request: /ihqZaGoWRc/MESSAGE/{\"0\":{\"x\":5,\"y\":-186},\"1\":{\"x\":98,\"y\":11},\"2\":{\"x\":-120,\"y\":-7},\"3\":{\"x\":0,\"y\":99},\"4\":{\"x\":-24,\"y\":37},\"5\":{\"x\":-62,\"y\":182},\"10000000000\":{\"x\":119,\"y\":-118},\"10000000001\":{\"x\":-122,\"y\":-141}}\n",
            "INFO:root:Received request: /ihqZaGoWRc/MESSAGE/{\"0\":{\"x\":5,\"y\":-186},\"1\":{\"x\":98,\"y\":11},\"2\":{\"x\":-120,\"y\":-7},\"3\":{\"x\":0,\"y\":99},\"4\":{\"x\":-24,\"y\":37},\"5\":{\"x\":-62,\"y\":182},\"10000000000\":{\"x\":119,\"y\":-118},\"10000000001\":{\"x\":-122,\"y\":-141}}\n"
          ]
        }
      ],
      "source": [
        "import logging\n",
        "import ipywidgets as widgets\n",
        "logging.basicConfig(level=logging.DEBUG)\n",
        "\n",
        "debug_output = widgets.Output()\n",
        "\n",
        "import stormvogel.model\n",
        "from stormvogel.layout import Layout, DEFAULT\n",
        "from stormvogel.result import Result\n",
        "from IPython.display import clear_output\n",
        "from stormvogel.show import show\n",
        "\n",
        "mdp = stormvogel.model.new_mdp(\"Monty Hall\")\n",
        "\n",
        "init = mdp.get_initial_state()\n",
        "study = mdp.new_action_with_labels(\"study\", frozenset([\"study\"]))\n",
        "not_study = mdp.new_action_with_labels(\"dont study\", frozenset([\"don't study\"]))\n",
        "\n",
        "studied = mdp.new_state(\"studied\")\n",
        "not_studied = mdp.new_state(\"didnt study\")\n",
        "pass_test = mdp.new_state(\"pass test\")\n",
        "fail_test = mdp.new_state(\"fail test\")\n",
        "end = mdp.new_state(\"end\")\n",
        "\n",
        "# From the initial state, you can choose to study, or not to study.\n",
        "init.set_transitions([\n",
        "    (study, studied),\n",
        "    (not_study, not_studied)\n",
        "])\n",
        "\n",
        "# If you studied, then there is a 90% chance that you pass the test.\n",
        "studied.set_transitions([\n",
        "    (9/10, pass_test),\n",
        "    (1/10, fail_test)\n",
        "])\n",
        "\n",
        "# If you did not study, then there is only a 40% chance that you pass the test.\n",
        "not_studied.set_transitions([\n",
        "    (4/10, pass_test),\n",
        "    (6/10, fail_test)\n",
        "])\n",
        "\n",
        "# After the test you are done\n",
        "pass_test.set_transitions([(1, end)])\n",
        "fail_test.set_transitions([(1, end)])\n",
        "\n",
        "# Add reward for passing the test and reward for not studying\n",
        "reward_model = mdp.add_rewards(\"R\")\n",
        "reward_model.set(pass_test, 100)\n",
        "reward_model.set(fail_test, 0)\n",
        "reward_model.set(not_studied, 15)\n",
        "\n",
        "vis = show(mdp, name=\"study\", show_editor=True, separate_labels=[\"init\"], debug_output=debug_output)"
      ]
    },
    {
      "cell_type": "code",
      "execution_count": 4,
      "id": "da0529d9-2705-49d6-99c1-68ba7e14190c",
      "metadata": {},
      "outputs": [
        {
          "name": "stderr",
          "output_type": "stream",
          "text": [
            "DEBUG:root:full html: <script>fetch('http://127.0.0.1:8080/vxWkHJzSQU/MESSAGE/' + JSON.stringify(document.getElementById('studyetbMQdwDDo').contentWindow.network.getPositions()))</script>\n"
          ]
        },
        {
          "data": {
            "text/html": [
              "<script>fetch('http://127.0.0.1:8080/vxWkHJzSQU/MESSAGE/' + JSON.stringify(document.getElementById('studyetbMQdwDDo').contentWindow.network.getPositions()))</script>"
            ],
            "text/plain": [
              "<IPython.core.display.HTML object>"
            ]
          },
          "metadata": {},
          "output_type": "display_data"
        },
        {
          "name": "stderr",
          "output_type": "stream",
          "text": [
            "INFO:root:Request sent for: vxWkHJzSQU\n",
            "DEBUG:root:Waiting for request result: vxWkHJzSQU\n",
            "DEBUG:root:Waiting for request result: vxWkHJzSQU\n",
            "INFO:root:Succesfully received result of request: vxWkHJzSQU\n"
          ]
        },
        {
          "data": {
            "text/plain": [
              "{0: {'x': 5, 'y': -186},\n",
              " 1: {'x': 98, 'y': 11},\n",
              " 2: {'x': -120, 'y': -7},\n",
              " 3: {'x': 0, 'y': 99},\n",
              " 4: {'x': -24, 'y': 37},\n",
              " 5: {'x': -62, 'y': 182},\n",
              " 10000000000: {'x': 119, 'y': -118},\n",
              " 10000000001: {'x': -122, 'y': -141}}"
            ]
          },
          "execution_count": 4,
          "metadata": {},
          "output_type": "execute_result"
        }
      ],
      "source": [
        "vis.get_positions()"
      ]
    },
    {
      "cell_type": "code",
      "execution_count": 3,
      "id": "d7d29efc-f585-4141-b3f3-def1f55f7a19",
      "metadata": {},
      "outputs": [
        {
          "data": {
            "application/vnd.jupyter.widget-view+json": {
              "model_id": "246ca2c5fc614453819cf2c9bd3a1fcc",
              "version_major": 2,
              "version_minor": 0
            },
            "text/plain": [
              "Output(outputs=({'name': 'stdout', 'text': 'Called Network.show\\nCalled Network.update_options\\nCalled Network\u2026"
            ]
          },
          "metadata": {},
          "output_type": "display_data"
        }
      ],
      "source": [
        "import IPython.display as ipd\n",
        "ipd.display(debug_output)"
      ]
    },
    {
      "cell_type": "code",
      "execution_count": 3,
      "id": "79974d7a-d9e0-4935-8278-66b9ac47e93b",
      "metadata": {},
      "outputs": [
        {
          "name": "stderr",
          "output_type": "stream",
          "text": [
            "DEBUG:root:full html: <script>fetch('http://127.0.0.1:8080/zFBqtQRfoa/MESSAGE/' + '88')</script>\n"
          ]
        },
        {
          "data": {
            "text/html": [
              "<script>fetch('http://127.0.0.1:8080/zFBqtQRfoa/MESSAGE/' + '88')</script>"
            ],
            "text/plain": [
              "<IPython.core.display.HTML object>"
            ]
          },
          "metadata": {},
          "output_type": "display_data"
        },
        {
          "name": "stderr",
          "output_type": "stream",
          "text": [
            "INFO:root:Request sent for: zFBqtQRfoa\n",
            "DEBUG:root:Waiting for request result: zFBqtQRfoa\n",
            "DEBUG:root:Waiting for request result: zFBqtQRfoa\n",
            "INFO:root:Succesfully received result of request: zFBqtQRfoa\n"
          ]
        },
        {
          "data": {
            "text/plain": [
              "'88'"
            ]
          },
          "execution_count": 3,
          "metadata": {},
          "output_type": "execute_result"
        }
      ],
      "source": [
        "vis.nt.server.request(\"'88'\")"
      ]
    },
    {
      "cell_type": "code",
      "execution_count": 9,
      "id": "67ad1968-142a-4dc2-8b0c-53c3c5a4bab8",
      "metadata": {},
      "outputs": [],
      "source": [
        "with debug_output:\n",
        "    ipd.display(ipd.HTML(\"\"\"<script>fetch('http://127.0.0.1:8080/zFBqtQRfoa/MESSAGE/' + 'TEST LOL2')</script>\"\"\"))"
      ]
    },
    {
      "cell_type": "code",
      "execution_count": 8,
      "id": "09ef137f-76e8-4518-8dec-34c4c3a63a28",
      "metadata": {},
      "outputs": [
        {
          "data": {
            "text/html": [
              "<script>fetch('http://127.0.0.1:8080/zFBqtQRfoa/MESSAGE/' + 'TEST LOL')</script>"
            ],
            "text/plain": [
              "<IPython.core.display.HTML object>"
            ]
          },
          "metadata": {},
          "output_type": "display_data"
        }
      ],
      "source": [
        "import IPython.display as ipd\n",
        "ipd.display(ipd.HTML(\"\"\"<script>fetch('http://127.0.0.1:8080/zFBqtQRfoa/MESSAGE/' + 'TEST LOL')</script>\"\"\"))"
      ]
    },
    {
      "cell_type": "code",
      "execution_count": null,
      "id": "75797d32-ca6d-400f-abbe-031ea318ab2a",
      "metadata": {},
      "outputs": [],
      "source": []
    }
  ],
  "metadata": {
    "kernelspec": {
      "display_name": "Python (stormvogel)",
      "language": "python",
      "name": "stormvogel-env"
    },
    "language_info": {
      "codemirror_mode": {
        "name": "ipython",
        "version": 3
      },
      "file_extension": ".py",
      "mimetype": "text/x-python",
      "name": "python",
      "nbconvert_exporter": "python",
      "pygments_lexer": "ipython3",
      "version": "3.11.2"
    }
  },
  "nbformat": 4,
  "nbformat_minor": 5
}
