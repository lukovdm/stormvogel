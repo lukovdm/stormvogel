{
  "cells": [
    {
      "cell_type": "code",
      "execution_count": 1,
      "id": "0df1511e-565d-45d0-93a8-adafbfaaaefa",
      "metadata": {},
      "outputs": [
        {
          "data": {
            "text/html": [
              "<h2>Interactive layout editor</h1>"
            ],
            "text/plain": [
              "<IPython.core.display.HTML object>"
            ]
          },
          "metadata": {},
          "output_type": "display_data"
        },
        {
          "data": {
            "application/vnd.jupyter.widget-view+json": {
              "model_id": "75154dfda0624781a09bd9fb4e5d1d11",
              "version_major": 2,
              "version_minor": 0
            },
            "text/plain": [
              "interactive(children=(Checkbox(value=True, description='Auto apply changes'), Output()), _dom_classes=('widget\u2026"
            ]
          },
          "metadata": {},
          "output_type": "display_data"
        },
        {
          "data": {
            "text/html": [
              "<h4>Nodes</h4>"
            ],
            "text/plain": [
              "<IPython.core.display.HTML object>"
            ]
          },
          "metadata": {},
          "output_type": "display_data"
        },
        {
          "data": {
            "application/vnd.jupyter.widget-view+json": {
              "model_id": "3e5a6fcf44a5447cb0f403ca25d8ad65",
              "version_major": 2,
              "version_minor": 0
            },
            "text/plain": [
              "interactive(children=(ColorPicker(value='#99c1f1', description='Background'), Output()), _dom_classes=('widget\u2026"
            ]
          },
          "metadata": {},
          "output_type": "display_data"
        },
        {
          "data": {
            "application/vnd.jupyter.widget-view+json": {
              "model_id": "0493b8653d2e41c792a515d5c3b25af7",
              "version_major": 2,
              "version_minor": 0
            },
            "text/plain": [
              "interactive(children=(ColorPicker(value='#000000', description='Border'), Output()), _dom_classes=('widget-int\u2026"
            ]
          },
          "metadata": {},
          "output_type": "display_data"
        },
        {
          "data": {
            "text/html": [
              "<h4>init</h4>"
            ],
            "text/plain": [
              "<IPython.core.display.HTML object>"
            ]
          },
          "metadata": {},
          "output_type": "display_data"
        },
        {
          "data": {
            "application/vnd.jupyter.widget-view+json": {
              "model_id": "ff23f98685f64db2881a7b72fcb20d2b",
              "version_major": 2,
              "version_minor": 0
            },
            "text/plain": [
              "interactive(children=(IntSlider(value=3, description='Border width', max=20), Output()), _dom_classes=('widget\u2026"
            ]
          },
          "metadata": {},
          "output_type": "display_data"
        },
        {
          "data": {
            "application/vnd.jupyter.widget-view+json": {
              "model_id": "f27bd3081bc74cc88dcf45246deb3cef",
              "version_major": 2,
              "version_minor": 0
            },
            "text/plain": [
              "interactive(children=(Checkbox(value=False, description='Enable color'), Output()), _dom_classes=('widget-inte\u2026"
            ]
          },
          "metadata": {},
          "output_type": "display_data"
        },
        {
          "data": {
            "application/vnd.jupyter.widget-view+json": {
              "model_id": "2ef49790cf444fff9d49219918501949",
              "version_major": 2,
              "version_minor": 0
            },
            "text/plain": [
              "interactive(children=(ColorPicker(value='#ffffff', description='Color'), Output()), _dom_classes=('widget-inte\u2026"
            ]
          },
          "metadata": {},
          "output_type": "display_data"
        },
        {
          "data": {
            "application/vnd.jupyter.widget-view+json": {
              "model_id": "fce7f4b9671848798b98dfae2cab718a",
              "version_major": 2,
              "version_minor": 0
            },
            "text/plain": [
              "interactive(children=(ToggleButtons(description='shape', index=1, options=('ellipse', 'circle', 'database', 'b\u2026"
            ]
          },
          "metadata": {},
          "output_type": "display_data"
        },
        {
          "data": {
            "text/html": [
              "<h4>states</h4>"
            ],
            "text/plain": [
              "<IPython.core.display.HTML object>"
            ]
          },
          "metadata": {},
          "output_type": "display_data"
        },
        {
          "data": {
            "application/vnd.jupyter.widget-view+json": {
              "model_id": "518fd5a4b6db4c15b71732c4aaddf53d",
              "version_major": 2,
              "version_minor": 0
            },
            "text/plain": [
              "interactive(children=(IntSlider(value=1, description='Border width', max=20), Output()), _dom_classes=('widget\u2026"
            ]
          },
          "metadata": {},
          "output_type": "display_data"
        },
        {
          "data": {
            "application/vnd.jupyter.widget-view+json": {
              "model_id": "928ac56d4e0142099dc8ff7ba7d4bdbd",
              "version_major": 2,
              "version_minor": 0
            },
            "text/plain": [
              "interactive(children=(Checkbox(value=True, description='Enable color'), Output()), _dom_classes=('widget-inter\u2026"
            ]
          },
          "metadata": {},
          "output_type": "display_data"
        },
        {
          "data": {
            "application/vnd.jupyter.widget-view+json": {
              "model_id": "d9589fb1bc4f4a92983fa63b8f101f0f",
              "version_major": 2,
              "version_minor": 0
            },
            "text/plain": [
              "interactive(children=(ColorPicker(value='#e01b24', description='Color'), Output()), _dom_classes=('widget-inte\u2026"
            ]
          },
          "metadata": {},
          "output_type": "display_data"
        },
        {
          "data": {
            "application/vnd.jupyter.widget-view+json": {
              "model_id": "7e9a6d9aa29c4bafbedacb3f249dc4d5",
              "version_major": 2,
              "version_minor": 0
            },
            "text/plain": [
              "interactive(children=(ToggleButtons(description='shape', index=7, options=('ellipse', 'circle', 'database', 'b\u2026"
            ]
          },
          "metadata": {},
          "output_type": "display_data"
        },
        {
          "data": {
            "text/html": [
              "<h4>actions</h4>"
            ],
            "text/plain": [
              "<IPython.core.display.HTML object>"
            ]
          },
          "metadata": {},
          "output_type": "display_data"
        },
        {
          "data": {
            "application/vnd.jupyter.widget-view+json": {
              "model_id": "83875a25a3794d5a9283b738fda1d7f9",
              "version_major": 2,
              "version_minor": 0
            },
            "text/plain": [
              "interactive(children=(IntSlider(value=1, description='Border width', max=20), Output()), _dom_classes=('widget\u2026"
            ]
          },
          "metadata": {},
          "output_type": "display_data"
        },
        {
          "data": {
            "application/vnd.jupyter.widget-view+json": {
              "model_id": "f9a7943e330f4d0cbdab3965d7745263",
              "version_major": 2,
              "version_minor": 0
            },
            "text/plain": [
              "interactive(children=(Checkbox(value=False, description='Enable color'), Output()), _dom_classes=('widget-inte\u2026"
            ]
          },
          "metadata": {},
          "output_type": "display_data"
        },
        {
          "data": {
            "application/vnd.jupyter.widget-view+json": {
              "model_id": "402d4ec3a3964be782eed9c0d1ce750c",
              "version_major": 2,
              "version_minor": 0
            },
            "text/plain": [
              "interactive(children=(ColorPicker(value='#ffffff', description='Color'), Output()), _dom_classes=('widget-inte\u2026"
            ]
          },
          "metadata": {},
          "output_type": "display_data"
        },
        {
          "data": {
            "application/vnd.jupyter.widget-view+json": {
              "model_id": "f1490444f2734d5396c124ab8b658a71",
              "version_major": 2,
              "version_minor": 0
            },
            "text/plain": [
              "interactive(children=(ToggleButtons(description='shape', index=5, options=('ellipse', 'circle', 'database', 'b\u2026"
            ]
          },
          "metadata": {},
          "output_type": "display_data"
        },
        {
          "data": {
            "text/html": [
              "<h4>Numbers</h4>"
            ],
            "text/plain": [
              "<IPython.core.display.HTML object>"
            ]
          },
          "metadata": {},
          "output_type": "display_data"
        },
        {
          "data": {
            "application/vnd.jupyter.widget-view+json": {
              "model_id": "2323ff8c132741efb72effcbefa6af9f",
              "version_major": 2,
              "version_minor": 0
            },
            "text/plain": [
              "interactive(children=(Checkbox(value=True, description='Enable fractions'), Output()), _dom_classes=('widget-i\u2026"
            ]
          },
          "metadata": {},
          "output_type": "display_data"
        },
        {
          "data": {
            "application/vnd.jupyter.widget-view+json": {
              "model_id": "e13f7a5c62cf4b00a936983ebb123c3b",
              "version_major": 2,
              "version_minor": 0
            },
            "text/plain": [
              "interactive(children=(IntSlider(value=5, description='Digits', max=20), Output()), _dom_classes=('widget-inter\u2026"
            ]
          },
          "metadata": {},
          "output_type": "display_data"
        },
        {
          "data": {
            "application/vnd.jupyter.widget-view+json": {
              "model_id": "86748ec692da47e4884f52e6c77596c9",
              "version_major": 2,
              "version_minor": 0
            },
            "text/plain": [
              "interactive(children=(IntSlider(value=20, description='Max denom', max=20), Output()), _dom_classes=('widget-i\u2026"
            ]
          },
          "metadata": {},
          "output_type": "display_data"
        },
        {
          "data": {
            "application/vnd.jupyter.widget-view+json": {
              "model_id": "cd71ff38c06b40f99ef5ff05860ed333",
              "version_major": 2,
              "version_minor": 0
            },
            "text/plain": [
              "interactive(children=(Text(value='layouts/SAVE_FILE_NAME.json', description='Filename'), Output()), _dom_class\u2026"
            ]
          },
          "metadata": {},
          "output_type": "display_data"
        },
        {
          "data": {
            "application/vnd.jupyter.widget-view+json": {
              "model_id": "b74f089bdce54ab988994a579c85c27d",
              "version_major": 2,
              "version_minor": 0
            },
            "text/plain": [
              "interactive(children=(Checkbox(value=True, description='Relative path'), Output()), _dom_classes=('widget-inte\u2026"
            ]
          },
          "metadata": {},
          "output_type": "display_data"
        },
        {
          "data": {
            "application/vnd.jupyter.widget-view+json": {
              "model_id": "908b88c74fc54785bb6fc32b7b76a5cc",
              "version_major": 2,
              "version_minor": 0
            },
            "text/plain": [
              "Button(description='Save', style=ButtonStyle())"
            ]
          },
          "metadata": {},
          "output_type": "display_data"
        },
        {
          "data": {
            "application/vnd.jupyter.widget-view+json": {
              "model_id": "1ec1d498952a4bedb477df2a1eb5d447",
              "version_major": 2,
              "version_minor": 0
            },
            "text/plain": [
              "Output()"
            ]
          },
          "metadata": {},
          "output_type": "display_data"
        },
        {
          "data": {
            "application/vnd.jupyter.widget-view+json": {
              "model_id": "dcfe5c449daf4d81bd8e3b3b22434e47",
              "version_major": 2,
              "version_minor": 0
            },
            "text/plain": [
              "Button(description='Apply', style=ButtonStyle())"
            ]
          },
          "metadata": {},
          "output_type": "display_data"
        },
        {
          "data": {
            "application/vnd.jupyter.widget-view+json": {
              "model_id": "ad9c79991f374d109aea0c20545a0adf",
              "version_major": 2,
              "version_minor": 0
            },
            "text/plain": [
              "Output()"
            ]
          },
          "metadata": {},
          "output_type": "display_data"
        },
        {
          "name": "stdout",
          "output_type": "stream",
          "text": [
            "stars.html\n"
          ]
        },
        {
          "data": {
            "text/html": [
              "\n",
              "        <iframe\n",
              "            width=\"100%\"\n",
              "            height=\"600px\"\n",
              "            src=\"stars.html\"\n",
              "            frameborder=\"0\"\n",
              "            allowfullscreen\n",
              "            \n",
              "        ></iframe>\n",
              "        "
            ],
            "text/plain": [
              "<IPython.lib.display.IFrame at 0x7f5a56d0c250>"
            ]
          },
          "metadata": {},
          "output_type": "display_data"
        }
      ],
      "source": [
        "import stormvogel.model\n",
        "import stormvogel.visualization\n",
        "from stormvogel.visualization import Visualization, show, Layout\n",
        "\n",
        "mdp = stormvogel.model.new_mdp(\"Monty Hall\")\n",
        "\n",
        "init = mdp.get_initial_state()\n",
        "study = mdp.action(\"study\")\n",
        "not_study = mdp.action(\"don't study\")\n",
        "\n",
        "studied = mdp.new_state(\"studied\")\n",
        "not_studied = mdp.new_state(\"didn't study\")\n",
        "pass_test = mdp.new_state(\"pass test\")\n",
        "fail_test = mdp.new_state(\"fail test\")\n",
        "\n",
        "# From the initial state, you can choose to study, or not to study.\n",
        "init.set_transitions([\n",
        "    (study, studied),\n",
        "    (not_study, not_studied)\n",
        "])\n",
        "\n",
        "# If you studied, then there is a 90% chance that you pass the test.\n",
        "studied.set_transitions([\n",
        "    (9/10, pass_test),\n",
        "    (1/10, fail_test)\n",
        "])\n",
        "\n",
        "# If you did not study, then there is only a 40% chance that you pass the test.\n",
        "not_studied.set_transitions([\n",
        "    (4/10, pass_test),\n",
        "    (6/10, fail_test)\n",
        "])\n",
        "# We use a custom user-defined layout. The parts that it does not define will use the default.\n",
        "# This particular custom layout makes red stars!\n",
        "vis = show(mdp, name=\"stars\", layout=Layout(\"layouts/red_stars.json\"), show_editor=True)\n",
        "mdp.new_state(\"NEW\")\n",
        "vis.update()"
      ]
    },
    {
      "cell_type": "code",
      "execution_count": null,
      "id": "45757061-9e76-4cfa-a374-9af02ba011ff",
      "metadata": {},
      "outputs": [],
      "source": []
    },
    {
      "cell_type": "code",
      "execution_count": null,
      "id": "db2b89d9-21fd-4efa-841b-8db0a09dfe52",
      "metadata": {},
      "outputs": [],
      "source": []
    }
  ],
  "metadata": {
    "kernelspec": {
      "display_name": "Python 3 (ipykernel)",
      "language": "python",
      "name": "python3"
    },
    "language_info": {
      "codemirror_mode": {
        "name": "ipython",
        "version": 3
      },
      "file_extension": ".py",
      "mimetype": "text/x-python",
      "name": "python",
      "nbconvert_exporter": "python",
      "pygments_lexer": "ipython3",
      "version": "3.11.2"
    }
  },
  "nbformat": 4,
  "nbformat_minor": 5
}
