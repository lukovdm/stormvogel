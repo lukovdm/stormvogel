{
  "cells": [
    {
      "cell_type": "code",
      "execution_count": 1,
      "id": "0df1511e-565d-45d0-93a8-adafbfaaaefa",
      "metadata": {
        "scrolled": true
      },
      "outputs": [
        {
          "data": {
            "application/vnd.jupyter.widget-view+json": {
              "model_id": "35d1e280f28b472ba3a30a17f04dc8c1",
              "version_major": 2,
              "version_minor": 0
            },
            "text/plain": [
              "Output()"
            ]
          },
          "metadata": {},
          "output_type": "display_data"
        }
      ],
      "source": [
        "import stormvogel.model\n",
        "import stormvogel.visualization\n",
        "from stormvogel.visualization import Visualization, show\n",
        "from stormvogel.layout import Layout, DEFAULT\n",
        "from stormvogel.result import Result\n",
        "from IPython.display import clear_output\n",
        "\n",
        "mdp = stormvogel.model.new_mdp(\"Monty Hall\")\n",
        "\n",
        "init = mdp.get_initial_state()\n",
        "study = mdp.new_action_with_labels(\"study\", frozenset([\"study\"]))\n",
        "not_study = mdp.new_action_with_labels(\"dont study\", frozenset([\"don't study\"]))\n",
        "\n",
        "studied = mdp.new_state(\"studied\")\n",
        "not_studied = mdp.new_state(\"didnt study\")\n",
        "pass_test = mdp.new_state(\"pass test\")\n",
        "fail_test = mdp.new_state(\"fail test\")\n",
        "end = mdp.new_state(\"end\")\n",
        "\n",
        "# From the initial state, you can choose to study, or not to study.\n",
        "init.set_transitions([\n",
        "    (study, studied),\n",
        "    (not_study, not_studied)\n",
        "])\n",
        "\n",
        "# If you studied, then there is a 90% chance that you pass the test.\n",
        "studied.set_transitions([\n",
        "    (9/10, pass_test),\n",
        "    (1/10, fail_test)\n",
        "])\n",
        "\n",
        "# If you did not study, then there is only a 40% chance that you pass the test.\n",
        "not_studied.set_transitions([\n",
        "    (4/10, pass_test),\n",
        "    (6/10, fail_test)\n",
        "])\n",
        "\n",
        "# After the test you are done\n",
        "pass_test.set_transitions([(1, end)])\n",
        "fail_test.set_transitions([(1, end)])\n",
        "\n",
        "# Add reward for passing the test and reward for not studying\n",
        "reward_model = mdp.add_rewards(\"R\")\n",
        "reward_model.set(pass_test, 100)\n",
        "reward_model.set(fail_test, 0)\n",
        "reward_model.set(not_studied, 15)\n",
        "\n",
        "vis = show(mdp, name=\"study\", show_editor=False, separate_labels=[\"init\"])"
      ]
    },
    {
      "cell_type": "code",
      "execution_count": 2,
      "id": "89ff0601-3a51-4696-95fa-0098fda42dde",
      "metadata": {},
      "outputs": [],
      "source": [
        "#"
      ]
    },
    {
      "cell_type": "code",
      "execution_count": null,
      "id": "9c02ca57-3d53-419d-8dbc-bbc5c705d242",
      "metadata": {},
      "outputs": [],
      "source": []
    }
  ],
  "metadata": {
    "kernelspec": {
      "display_name": "Python (stormvogel)",
      "language": "python",
      "name": "stormvogel-env"
    },
    "language_info": {
      "codemirror_mode": {
        "name": "ipython",
        "version": 3
      },
      "file_extension": ".py",
      "mimetype": "text/x-python",
      "name": "python",
      "nbconvert_exporter": "python",
      "pygments_lexer": "ipython3",
      "version": "3.11.2"
    }
  },
  "nbformat": 4,
  "nbformat_minor": 5
}
