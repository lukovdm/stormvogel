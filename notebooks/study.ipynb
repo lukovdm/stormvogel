{
  "cells": [
    {
      "cell_type": "code",
      "execution_count": 1,
      "id": "1f824dd0-04bf-4412-98f1-479ec254db52",
      "metadata": {},
      "outputs": [
        {
          "data": {
            "application/vnd.jupyter.widget-view+json": {
              "model_id": "83f1bd6e0acd434cbcda022039d362b0",
              "version_major": 2,
              "version_minor": 0
            },
            "text/plain": [
              "Output()"
            ]
          },
          "metadata": {},
          "output_type": "display_data"
        }
      ],
      "source": [
        "import logging\n",
        "import ipywidgets as widgets\n",
        "import IPython.display as ipd\n",
        "\n",
        "logging.basicConfig(level=logging.ERROR)\n",
        "\n",
        "debug_output = widgets.Output()\n",
        "ipd.display(debug_output)"
      ]
    },
    {
      "cell_type": "code",
      "execution_count": 2,
      "id": "0df1511e-565d-45d0-93a8-adafbfaaaefa",
      "metadata": {
        "scrolled": true
      },
      "outputs": [
        {
          "data": {
            "application/vnd.jupyter.widget-view+json": {
              "model_id": "25ae527906ea428bab1945ba93c99eee",
              "version_major": 2,
              "version_minor": 0
            },
            "text/plain": [
              "HBox(children=(Output(), Output()))"
            ]
          },
          "metadata": {},
          "output_type": "display_data"
        }
      ],
      "source": [
        "import stormvogel.model\n",
        "from stormvogel.layout import Layout, DEFAULT\n",
        "from stormvogel.result import Result\n",
        "from IPython.display import clear_output\n",
        "from stormvogel.show import show\n",
        "import stormvogel\n",
        "\n",
        "stormvogel.communication_server.enable_server = False\n",
        "\n",
        "mdp = stormvogel.model.new_mdp(\"Monty Hall\")\n",
        "\n",
        "init = mdp.get_initial_state()\n",
        "study = mdp.new_action_with_labels(\"study\", frozenset([\"study\"]))\n",
        "not_study = mdp.new_action_with_labels(\"dont study\", frozenset([\"don't study\"]))\n",
        "\n",
        "studied = mdp.new_state(\"studied\")\n",
        "not_studied = mdp.new_state(\"didnt study\")\n",
        "pass_test = mdp.new_state(\"pass test\")\n",
        "fail_test = mdp.new_state(\"fail test\")\n",
        "end = mdp.new_state(\"end\")\n",
        "\n",
        "# From the initial state, you can choose to study, or not to study.\n",
        "init.set_transitions([\n",
        "    (study, studied),\n",
        "    (not_study, not_studied)\n",
        "])\n",
        "\n",
        "# If you studied, then there is a 90% chance that you pass the test.\n",
        "studied.set_transitions([\n",
        "    (9/10, pass_test),\n",
        "    (1/10, fail_test)\n",
        "])\n",
        "\n",
        "# If you did not study, then there is only a 40% chance that you pass the test.\n",
        "not_studied.set_transitions([\n",
        "    (4/10, pass_test),\n",
        "    (6/10, fail_test)\n",
        "])\n",
        "\n",
        "# After the test you are done\n",
        "pass_test.set_transitions([(1, end)])\n",
        "fail_test.set_transitions([(1, end)])\n",
        "\n",
        "# Add reward for passing the test and reward for not studying\n",
        "reward_model = mdp.add_rewards(\"R\")\n",
        "reward_model.set(pass_test, 100)\n",
        "reward_model.set(fail_test, 0)\n",
        "reward_model.set(not_studied, 15)\n",
        "\n",
        "vis = show(mdp, name=\"study\", show_editor=True, separate_labels=[\"init\"], debug_output=debug_output)"
      ]
    },
    {
      "cell_type": "code",
      "execution_count": 2,
      "id": "d7d29efc-f585-4141-b3f3-def1f55f7a19",
      "metadata": {},
      "outputs": [
        {
          "data": {
            "application/vnd.jupyter.widget-view+json": {
              "model_id": "6c4bfbcd706342cfaeb4e53f98e5c87d",
              "version_major": 2,
              "version_minor": 0
            },
            "text/plain": [
              "Output(outputs=({'name': 'stdout', 'text': 'Called Network.show\\nCalled Network.show\\nCalled Network.update_op\u2026"
            ]
          },
          "metadata": {},
          "output_type": "display_data"
        }
      ],
      "source": [
        "import IPython.display as ipd\n",
        "ipd.display(debug_output)"
      ]
    },
    {
      "cell_type": "code",
      "execution_count": 3,
      "id": "f5677afd-6168-45cb-bd2e-c9f56b17f288",
      "metadata": {},
      "outputs": [
        {
          "data": {
            "text/plain": [
              "{'wdBGhdsFsg': 'AWAITING'}"
            ]
          },
          "execution_count": 3,
          "metadata": {},
          "output_type": "execute_result"
        }
      ],
      "source": [
        "stormvogel.communication_server.awaiting"
      ]
    },
    {
      "cell_type": "code",
      "execution_count": 4,
      "id": "467262db-4633-4b4d-a0aa-c2d595c2a866",
      "metadata": {},
      "outputs": [],
      "source": [
        "vis.layout.layout\n"
      ]
    },
    {
      "cell_type": "code",
      "execution_count": 6,
      "id": "9faef680-3785-4ecc-b832-fba2635a87ba",
      "metadata": {},
      "outputs": [],
      "source": [
        "vis.update()"
      ]
    },
    {
      "cell_type": "code",
      "execution_count": 8,
      "id": "90562c37-6c99-4178-b57b-716c09d1d5f5",
      "metadata": {},
      "outputs": [],
      "source": [
        "vis.nt.update_options(\"{}\")"
      ]
    },
    {
      "cell_type": "code",
      "execution_count": 23,
      "id": "76925e3b-83b2-434b-9cbb-e45a6847f8df",
      "metadata": {},
      "outputs": [
        {
          "data": {
            "application/javascript": [
              "document.getElementById('studyOOCZXVecop').contentWindow.network.setOptions({'nodes':{'color': 'red'}});"
            ],
            "text/plain": [
              "<IPython.core.display.Javascript object>"
            ]
          },
          "metadata": {},
          "output_type": "display_data"
        },
        {
          "data": {
            "text/plain": [
              "\"document.getElementById('studyOOCZXVecop').contentWindow.network.setOptions({'nodes':{'color': 'red'}});\""
            ]
          },
          "execution_count": 23,
          "metadata": {},
          "output_type": "execute_result"
        }
      ],
      "source": [
        "options = '''{'nodes':{'color': 'red'}}'''\n",
        "js = f\"\"\"document.getElementById('{vis.nt.name}').contentWindow.network.setOptions({options});\"\"\"\n",
        "ipd.display(ipd.Javascript(js))\n",
        "js"
      ]
    },
    {
      "cell_type": "code",
      "execution_count": 18,
      "id": "974ce10c-8da1-4a46-9237-48cc406cba9d",
      "metadata": {},
      "outputs": [
        {
          "data": {
            "text/plain": [
              "\"{'__fake_macros': {'__group_macro': {'borderWidth': 1, 'color': {'background': 'white', 'border': 'black', 'highlight': {'background': 'white', 'border': 'red'}}, 'shape': 'ellipse', 'mass': 1, 'font': {'color': 'black', 'size': 14}}}, 'groups': {'states': {'borderWidth': 57, 'color': {'background': 'white', 'border': 'black', 'highlight': {'background': 'white', 'border': 'red'}}, 'shape': 'ellipse', 'mass': 1, 'font': {'color': 'black', 'size': 14}}, 'actions': {'borderWidth': 1, 'color': {'background': 'lightblue', 'border': 'black', 'highlight': {'background': 'white', 'border': 'red'}}, 'shape': 'box', 'mass': 1, 'font': {'color': 'black', 'size': 14}}, 'scheduled_actions': {'borderWidth': 1, 'color': {'background': 'pink', 'border': 'black', 'highlight': {'background': 'white', 'border': 'red'}}, 'shape': 'box', 'mass': 1, 'font': {'color': 'black', 'size': 14}, 'schedColor': False}, 'init': {'borderWidth': 1, 'color': {'background': 'white', 'border': 'black', 'highlight': {'background': 'white', 'border': 'red'}}, 'shape': 'ellipse', 'mass': 1, 'font': {'color': 'black', 'size': 14}}}, 'reload_button': False, 'edges': {'arrows': 'to', 'font': {'color': '#613583', 'size': 14}, 'color': {'color': '#b5835a'}}, 'numbers': {'fractions': True, 'digits': 5}, 'results_and_rewards': {'show_results': True, 'resultSymbol': '\u2606', 'show_rewards': True}, 'layout': {'randomSeed': 5}, 'misc': {'enable_physics': True, 'width': 800, 'height': 600, 'explore': False}, 'saving': {'relative_path': True, 'filename': 'layouts/NAME.json', 'save_button': False, 'load_button': False}, 'positions': {}, 'width': 800, 'height': 600, 'physics': True}\""
            ]
          },
          "execution_count": 18,
          "metadata": {},
          "output_type": "execute_result"
        }
      ],
      "source": [
        "str(vis.layout.layout)"
      ]
    },
    {
      "cell_type": "code",
      "execution_count": 4,
      "id": "c72d4a81-dbb1-446b-99af-3ada9e6578b1",
      "metadata": {},
      "outputs": [],
      "source": [
        "vis.nt.set_options('{groups: {nodes: {color: {background: \"red\"}}}}')"
      ]
    },
    {
      "cell_type": "code",
      "execution_count": null,
      "id": "10c6dd06-1e9a-480f-93cf-bc55c1405fcd",
      "metadata": {},
      "outputs": [],
      "source": []
    }
  ],
  "metadata": {
    "kernelspec": {
      "display_name": "Python (stormvogel)",
      "language": "python",
      "name": "stormvogel-env"
    },
    "language_info": {
      "codemirror_mode": {
        "name": "ipython",
        "version": 3
      },
      "file_extension": ".py",
      "mimetype": "text/x-python",
      "name": "python",
      "nbconvert_exporter": "python",
      "pygments_lexer": "ipython3",
      "version": "3.11.2"
    }
  },
  "nbformat": 4,
  "nbformat_minor": 5
}
