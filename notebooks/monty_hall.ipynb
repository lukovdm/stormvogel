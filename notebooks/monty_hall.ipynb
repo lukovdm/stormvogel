{
  "cells": [
    {
      "cell_type": "code",
      "execution_count": 1,
      "id": "bce64a65-ea2a-42b6-adac-0533b7541ca0",
      "metadata": {},
      "outputs": [],
      "source": [
        "import stormvogel.model\n",
        "\n",
        "mdp = stormvogel.model.new_mdp(\"Monty Hall\")\n",
        "\n",
        "init = mdp.get_initial_state()\n",
        "\n",
        "# first choose car position\n",
        "init.set_transitions(\n",
        "    [(1 / 3, mdp.new_state(\"carchosen\", {\"car_pos\": i})) for i in range(3)]\n",
        ")\n",
        "\n",
        "\n",
        "# we choose a door in each case\n",
        "for s in mdp.get_states_with(\"carchosen\"):\n",
        "    s.set_transitions(\n",
        "        [\n",
        "            (\n",
        "                mdp.action(f\"open{i}\"),\n",
        "                mdp.new_state(\"open\", s.features | {\"chosen_pos\": i}),\n",
        "            )\n",
        "            for i in range(3)\n",
        "        ]\n",
        "    )\n",
        "\n",
        "# the other goat is revealed\n",
        "for s in mdp.get_states_with(\"open\"):\n",
        "    car_pos = s.features[\"car_pos\"]\n",
        "    chosen_pos = s.features[\"chosen_pos\"]\n",
        "    other_pos = {0, 1, 2} - {car_pos, chosen_pos}\n",
        "    s.set_transitions(\n",
        "        [\n",
        "            (\n",
        "                1 / len(other_pos),\n",
        "                mdp.new_state(\"goatrevealed\", s.features | {\"reveal_pos\": i}),\n",
        "            )\n",
        "            for i in other_pos\n",
        "        ]\n",
        "    )\n",
        "\n",
        "# we must choose whether we want to switch\n",
        "for s in mdp.get_states_with(\"goatrevealed\"):\n",
        "    car_pos = s.features[\"car_pos\"]\n",
        "    chosen_pos = s.features[\"chosen_pos\"]\n",
        "    reveal_pos = s.features[\"reveal_pos\"]\n",
        "    other_pos = list({0, 1, 2} - {reveal_pos, chosen_pos})[0]\n",
        "    s.set_transitions(\n",
        "        [\n",
        "            (\n",
        "                mdp.action(\"stay\"),\n",
        "                mdp.new_state(\n",
        "                    [\"done\"] + ([\"target\"] if chosen_pos == car_pos else []),\n",
        "                    s.features | {\"chosen_pos\": chosen_pos},\n",
        "                ),\n",
        "            ),\n",
        "            (\n",
        "                mdp.action(\"switch\"),\n",
        "                mdp.new_state(\n",
        "                    [\"done\"] + ([\"target\"] if other_pos == car_pos else []),\n",
        "                    s.features | {\"chosen_pos\": other_pos},\n",
        "                ),\n",
        "            ),\n",
        "        ]\n",
        "    )"
      ]
    },
    {
      "cell_type": "code",
      "execution_count": 2,
      "id": "02b68164-00de-41b1-ba2b-65e12bef9032",
      "metadata": {},
      "outputs": [
        {
          "ename": "ModuleNotFoundError",
          "evalue": "No module named 'examples'",
          "output_type": "error",
          "traceback": [
            "\u001b[0;31m---------------------------------------------------------------------------\u001b[0m",
            "\u001b[0;31mModuleNotFoundError\u001b[0m                       Traceback (most recent call last)",
            "Cell \u001b[0;32mIn[2], line 1\u001b[0m\n\u001b[0;32m----> 1\u001b[0m \u001b[38;5;28;01mfrom\u001b[39;00m \u001b[38;5;21;01mstormvogel\u001b[39;00m\u001b[38;5;21;01m.\u001b[39;00m\u001b[38;5;21;01mvisualization\u001b[39;00m \u001b[38;5;28;01mimport\u001b[39;00m show\n\u001b[1;32m      3\u001b[0m show(mdp, \u001b[38;5;124m\"\u001b[39m\u001b[38;5;124mmonty\u001b[39m\u001b[38;5;124m\"\u001b[39m, layout_editor\u001b[38;5;241m=\u001b[39m\u001b[38;5;28;01mTrue\u001b[39;00m)\n",
            "File \u001b[0;32m~/.local/lib/python3.12/site-packages/stormvogel/visualization.py:14\u001b[0m\n\u001b[1;32m     11\u001b[0m \u001b[38;5;28;01mfrom\u001b[39;00m \u001b[38;5;21;01mstormvogel\u001b[39;00m\u001b[38;5;21;01m.\u001b[39;00m\u001b[38;5;21;01mmodel\u001b[39;00m \u001b[38;5;28;01mimport\u001b[39;00m EmptyAction, Model, Number, State\n\u001b[1;32m     12\u001b[0m \u001b[38;5;28;01mfrom\u001b[39;00m \u001b[38;5;21;01mstormvogel\u001b[39;00m\u001b[38;5;21;01m.\u001b[39;00m\u001b[38;5;21;01mrdict\u001b[39;00m \u001b[38;5;28;01mimport\u001b[39;00m rget\n\u001b[0;32m---> 14\u001b[0m \u001b[38;5;28;01mimport\u001b[39;00m \u001b[38;5;21;01mstormvogel\u001b[39;00m\u001b[38;5;21;01m.\u001b[39;00m\u001b[38;5;21;01mresult\u001b[39;00m\n\u001b[1;32m     17\u001b[0m \u001b[38;5;28;01mclass\u001b[39;00m \u001b[38;5;21;01mVisualization\u001b[39;00m:\n\u001b[1;32m     18\u001b[0m \u001b[38;5;250m    \u001b[39m\u001b[38;5;124;03m\"\"\"Handles visualization of a Model using a pyvis Network.\"\"\"\u001b[39;00m\n",
            "File \u001b[0;32m~/.local/lib/python3.12/site-packages/stormvogel/result.py:5\u001b[0m\n\u001b[1;32m      3\u001b[0m \u001b[38;5;28;01mimport\u001b[39;00m \u001b[38;5;21;01mstormpy\u001b[39;00m\u001b[38;5;21;01m.\u001b[39;00m\u001b[38;5;21;01mexamples\u001b[39;00m\u001b[38;5;21;01m.\u001b[39;00m\u001b[38;5;21;01mfiles\u001b[39;00m\n\u001b[1;32m      4\u001b[0m \u001b[38;5;28;01mimport\u001b[39;00m \u001b[38;5;21;01mstormpy\u001b[39;00m\u001b[38;5;21;01m.\u001b[39;00m\u001b[38;5;21;01mexamples\u001b[39;00m\n\u001b[0;32m----> 5\u001b[0m \u001b[38;5;28;01mimport\u001b[39;00m \u001b[38;5;21;01mexamples\u001b[39;00m\u001b[38;5;21;01m.\u001b[39;00m\u001b[38;5;21;01mstormpy_mdp\u001b[39;00m\n\u001b[1;32m      8\u001b[0m \u001b[38;5;28;01mclass\u001b[39;00m \u001b[38;5;21;01mResult\u001b[39;00m:\n\u001b[1;32m      9\u001b[0m \u001b[38;5;250m    \u001b[39m\u001b[38;5;124;03m\"\"\"Result object represents the model checking results for a given model\u001b[39;00m\n\u001b[1;32m     10\u001b[0m \n\u001b[1;32m     11\u001b[0m \u001b[38;5;124;03m    Args:\u001b[39;00m\n\u001b[1;32m     12\u001b[0m \u001b[38;5;124;03m        probabilities: for each state the model checking result\u001b[39;00m\n\u001b[1;32m     13\u001b[0m \u001b[38;5;124;03m        scheduler: in case the model is an mdp we can optionally store a scheduler\u001b[39;00m\n\u001b[1;32m     14\u001b[0m \u001b[38;5;124;03m    \"\"\"\u001b[39;00m\n",
            "\u001b[0;31mModuleNotFoundError\u001b[0m: No module named 'examples'"
          ]
        }
      ],
      "source": [
        "from stormvogel.visualization import show\n",
        "\n",
        "show(mdp, \"monty\", layout_editor=True)"
      ]
    },
    {
      "cell_type": "code",
      "execution_count": null,
      "id": "3ec68bb5-2728-458e-8d11-6015f80d79f7",
      "metadata": {},
      "outputs": [],
      "source": []
    },
    {
      "cell_type": "code",
      "execution_count": null,
      "id": "162ce225-a4b5-4356-b868-a9358a6a99f5",
      "metadata": {},
      "outputs": [],
      "source": []
    }
  ],
  "metadata": {
    "kernelspec": {
      "display_name": "Python 3 (ipykernel)",
      "language": "python",
      "name": "python3"
    },
    "language_info": {
      "codemirror_mode": {
        "name": "ipython",
        "version": 3
      },
      "file_extension": ".py",
      "mimetype": "text/x-python",
      "name": "python",
      "nbconvert_exporter": "python",
      "pygments_lexer": "ipython3",
      "version": "3.12.4"
    }
  },
  "nbformat": 4,
  "nbformat_minor": 5
}
