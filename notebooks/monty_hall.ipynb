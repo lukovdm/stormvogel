{
 "cells": [
  {
   "cell_type": "code",
   "execution_count": 2,
   "id": "bce64a65-ea2a-42b6-adac-0533b7541ca0",
   "metadata": {},
   "outputs": [],
   "source": [
    "import stormvogel.model\n",
    "\n",
    "mdp = stormvogel.model.new_mdp(\"Monty Hall\")\n",
    "\n",
    "init = mdp.get_initial_state()\n",
    "\n",
    "# first choose car position\n",
    "init.set_transitions(\n",
    "    [(1 / 3, mdp.new_state(\"carchosen\", {\"car_pos\": i})) for i in range(3)]\n",
    ")\n",
    "\n",
    "# we choose a door in each case\n",
    "for s in mdp.get_states_with(\"carchosen\"):\n",
    "    s.set_transitions(\n",
    "        [\n",
    "            (\n",
    "                mdp.action(f\"open{i}\"),\n",
    "                mdp.new_state(\"open\", s.features | {\"chosen_pos\": i}),\n",
    "            )\n",
    "            for i in range(3)\n",
    "        ]\n",
    "    )\n",
    "\n",
    "# the other goat is revealed\n",
    "for s in mdp.get_states_with(\"open\"):\n",
    "    car_pos = s.features[\"car_pos\"]\n",
    "    chosen_pos = s.features[\"chosen_pos\"]\n",
    "    other_pos = {0, 1, 2} - {car_pos, chosen_pos}\n",
    "    s.set_transitions(\n",
    "        [\n",
    "            (\n",
    "                1 / len(other_pos),\n",
    "                mdp.new_state(\"goatrevealed\", s.features | {\"reveal_pos\": i}),\n",
    "            )\n",
    "            for i in other_pos\n",
    "        ]\n",
    "    )\n",
    "\n",
    "# we must choose whether we want to switch\n",
    "for s in mdp.get_states_with(\"goatrevealed\"):\n",
    "    car_pos = s.features[\"car_pos\"]\n",
    "    chosen_pos = s.features[\"chosen_pos\"]\n",
    "    reveal_pos = s.features[\"reveal_pos\"]\n",
    "    other_pos = list({0, 1, 2} - {reveal_pos, chosen_pos})[0]\n",
    "    s.set_transitions(\n",
    "        [\n",
    "            (\n",
    "                mdp.action(\"stay\"),\n",
    "                mdp.new_state(\n",
    "                    [\"done\"] + ([\"target\"] if chosen_pos == car_pos else []),\n",
    "                    s.features | {\"chosen_pos\": chosen_pos},\n",
    "                ),\n",
    "            ),\n",
    "            (\n",
    "                mdp.action(\"switch\"),\n",
    "                mdp.new_state(\n",
    "                    [\"done\"] + ([\"target\"] if other_pos == car_pos else []),\n",
    "                    s.features | {\"chosen_pos\": other_pos},\n",
    "                ),\n",
    "            ),\n",
    "        ]\n",
    "    )\n"
   ]
  },
  {
   "cell_type": "code",
   "execution_count": 4,
   "id": "02b68164-00de-41b1-ba2b-65e12bef9032",
   "metadata": {},
   "outputs": [
    {
     "ename": "NotImplementedError",
     "evalue": "Non-empty actions are not supported yet.",
     "output_type": "error",
     "traceback": [
      "\u001b[0;31m---------------------------------------------------------------------------\u001b[0m",
      "\u001b[0;31mNotImplementedError\u001b[0m                       Traceback (most recent call last)",
      "Cell \u001b[0;32mIn[4], line 3\u001b[0m\n\u001b[1;32m      1\u001b[0m \u001b[38;5;28;01mfrom\u001b[39;00m \u001b[38;5;21;01mstormvogel\u001b[39;00m\u001b[38;5;21;01m.\u001b[39;00m\u001b[38;5;21;01mvisualization\u001b[39;00m \u001b[38;5;28;01mimport\u001b[39;00m show\n\u001b[0;32m----> 3\u001b[0m \u001b[43mshow\u001b[49m\u001b[43m(\u001b[49m\u001b[43mmdp\u001b[49m\u001b[43m,\u001b[49m\u001b[43m \u001b[49m\u001b[38;5;124;43m\"\u001b[39;49m\u001b[38;5;124;43mmonty\u001b[39;49m\u001b[38;5;124;43m\"\u001b[39;49m\u001b[43m)\u001b[49m\n",
      "File \u001b[0;32m~/git/stormvogel/.venv/lib/python3.11/site-packages/stormvogel/visualization.py:75\u001b[0m, in \u001b[0;36mshow\u001b[0;34m(model, name, notebook)\u001b[0m\n\u001b[1;32m     67\u001b[0m \u001b[38;5;28;01mdef\u001b[39;00m \u001b[38;5;21mshow\u001b[39m(model: Model, name: \u001b[38;5;28mstr\u001b[39m, notebook: \u001b[38;5;28mbool\u001b[39m\u001b[38;5;241m=\u001b[39m\u001b[38;5;28;01mTrue\u001b[39;00m):\n\u001b[1;32m     68\u001b[0m \u001b[38;5;250m    \u001b[39m\u001b[38;5;124;03m\"\"\"Create visualization of a Model using a pyvis Network\u001b[39;00m\n\u001b[1;32m     69\u001b[0m \n\u001b[1;32m     70\u001b[0m \u001b[38;5;124;03m    Args:\u001b[39;00m\n\u001b[0;32m   (...)\u001b[0m\n\u001b[1;32m     73\u001b[0m \u001b[38;5;124;03m        notebook (bool, optional): Leave to true if you are using in a notebook. Defaults to True.\u001b[39;00m\n\u001b[1;32m     74\u001b[0m \u001b[38;5;124;03m    \"\"\"\u001b[39;00m\n\u001b[0;32m---> 75\u001b[0m     vis \u001b[38;5;241m=\u001b[39m \u001b[43mVisualization\u001b[49m\u001b[43m(\u001b[49m\u001b[43mmodel\u001b[49m\u001b[43m,\u001b[49m\u001b[43m \u001b[49m\u001b[43mname\u001b[49m\u001b[43m,\u001b[49m\u001b[43m \u001b[49m\u001b[43mnotebook\u001b[49m\u001b[43m)\u001b[49m\n\u001b[1;32m     76\u001b[0m     vis\u001b[38;5;241m.\u001b[39mshow()\n",
      "File \u001b[0;32m~/git/stormvogel/.venv/lib/python3.11/site-packages/stormvogel/visualization.py:24\u001b[0m, in \u001b[0;36mVisualization.__init__\u001b[0;34m(self, model, name, notebook, cdn_resources)\u001b[0m\n\u001b[1;32m     22\u001b[0m \u001b[38;5;28mself\u001b[39m\u001b[38;5;241m.\u001b[39mg \u001b[38;5;241m=\u001b[39m Network(notebook\u001b[38;5;241m=\u001b[39mnotebook, directed\u001b[38;5;241m=\u001b[39m\u001b[38;5;28;01mTrue\u001b[39;00m, cdn_resources\u001b[38;5;241m=\u001b[39mcdn_resources)\n\u001b[1;32m     23\u001b[0m \u001b[38;5;28mself\u001b[39m\u001b[38;5;241m.\u001b[39m__add_nodes()\n\u001b[0;32m---> 24\u001b[0m \u001b[38;5;28;43mself\u001b[39;49m\u001b[38;5;241;43m.\u001b[39;49m\u001b[43m__add_transitions\u001b[49m\u001b[43m(\u001b[49m\u001b[43m)\u001b[49m\n\u001b[1;32m     25\u001b[0m \u001b[38;5;28mself\u001b[39m\u001b[38;5;241m.\u001b[39m__set_layout()\n",
      "File \u001b[0;32m~/git/stormvogel/.venv/lib/python3.11/site-packages/stormvogel/visualization.py:62\u001b[0m, in \u001b[0;36mVisualization.__add_transitions\u001b[0;34m(self)\u001b[0m\n\u001b[1;32m     60\u001b[0m         \u001b[38;5;28mself\u001b[39m\u001b[38;5;241m.\u001b[39mg\u001b[38;5;241m.\u001b[39madd_edge(state_id, target\u001b[38;5;241m.\u001b[39mid, color\u001b[38;5;241m=\u001b[39m\u001b[38;5;124m\"\u001b[39m\u001b[38;5;124mred\u001b[39m\u001b[38;5;124m\"\u001b[39m, label\u001b[38;5;241m=\u001b[39m\u001b[38;5;28mself\u001b[39m\u001b[38;5;241m.\u001b[39m__formatted_prob(prob))\n\u001b[1;32m     61\u001b[0m \u001b[38;5;28;01melse\u001b[39;00m:\n\u001b[0;32m---> 62\u001b[0m     \u001b[38;5;28;01mraise\u001b[39;00m \u001b[38;5;167;01mNotImplementedError\u001b[39;00m(\u001b[38;5;124m\"\u001b[39m\u001b[38;5;124mNon-empty actions are not supported yet.\u001b[39m\u001b[38;5;124m\"\u001b[39m)\n",
      "\u001b[0;31mNotImplementedError\u001b[0m: Non-empty actions are not supported yet."
     ]
    }
   ],
   "source": [
    "from stormvogel.visualization import show\n",
    "\n",
    "show(mdp, \"monty\")"
   ]
  },
  {
   "cell_type": "code",
   "execution_count": null,
   "id": "3ec68bb5-2728-458e-8d11-6015f80d79f7",
   "metadata": {},
   "outputs": [],
   "source": []
  }
 ],
 "metadata": {
  "kernelspec": {
   "display_name": "Python 3 (ipykernel)",
   "language": "python",
   "name": "python3"
  },
  "language_info": {
   "codemirror_mode": {
    "name": "ipython",
    "version": 3
   },
   "file_extension": ".py",
   "mimetype": "text/x-python",
   "name": "python",
   "nbconvert_exporter": "python",
   "pygments_lexer": "ipython3",
   "version": "3.11.2"
  }
 },
 "nbformat": 4,
 "nbformat_minor": 5
}
