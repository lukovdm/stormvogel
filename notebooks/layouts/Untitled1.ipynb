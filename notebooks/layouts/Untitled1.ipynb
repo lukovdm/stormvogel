{
  "cells": [
    {
      "cell_type": "code",
      "execution_count": 8,
      "id": "c33a4c4c-b973-41b8-8bd0-afb4866ea47a",
      "metadata": {},
      "outputs": [
        {
          "data": {
            "application/vnd.jupyter.widget-view+json": {
              "model_id": "96488dd2db6545ef822093b64b21727e",
              "version_major": 2,
              "version_minor": 0
            },
            "text/plain": [
              "Output()"
            ]
          },
          "metadata": {},
          "output_type": "display_data"
        },
        {
          "data": {
            "text/plain": [
              "{'_trait_values': {'_model_module': '@jupyter-widgets/output',\n",
              "  '_model_module_version': '1.0.0',\n",
              "  '_model_name': 'OutputModel',\n",
              "  '_view_count': None,\n",
              "  '_view_module': '@jupyter-widgets/output',\n",
              "  '_view_module_version': '1.0.0',\n",
              "  '_view_name': 'OutputView',\n",
              "  'comm': <ipykernel.comm.comm.BaseComm at 0x7f5218a3c8d0>,\n",
              "  'msg_id': '',\n",
              "  'tabbable': None,\n",
              "  'tooltip': None,\n",
              "  'keys': ['_dom_classes',\n",
              "   '_model_module',\n",
              "   '_model_module_version',\n",
              "   '_model_name',\n",
              "   '_view_count',\n",
              "   '_view_module',\n",
              "   '_view_module_version',\n",
              "   '_view_name',\n",
              "   'layout',\n",
              "   'msg_id',\n",
              "   'outputs',\n",
              "   'tabbable',\n",
              "   'tooltip'],\n",
              "  '_dom_classes': (),\n",
              "  'layout': Layout(),\n",
              "  'outputs': (),\n",
              "  '_property_lock': {}},\n",
              " '_trait_notifiers': {'comm': {'change': [<traitlets.traitlets.ObserveHandler at 0x7f52193255d0>]}},\n",
              " '_trait_validators': {},\n",
              " '_cross_validation_lock': False,\n",
              " '_model_id': '96488dd2db6545ef822093b64b21727e',\n",
              " '_Output__counter': 0}"
            ]
          },
          "execution_count": 8,
          "metadata": {},
          "output_type": "execute_result"
        }
      ],
      "source": [
        "import IPython.display as ipd\n",
        "import ipywidgets as widgets\n",
        "\n",
        "output = widgets.Output()\n",
        "\n",
        "with output:\n",
        "    ipd.display(ipd.HTML(\"hello there<br>test\"))\n",
        "\n",
        "display(output)\n"
      ]
    },
    {
      "cell_type": "code",
      "execution_count": null,
      "id": "fed0c82f-8632-464d-b85b-19b3c1fa4bcd",
      "metadata": {},
      "outputs": [],
      "source": []
    }
  ],
  "metadata": {
    "kernelspec": {
      "display_name": "Python (stormvogel)",
      "language": "python",
      "name": "stormvogel-env"
    },
    "language_info": {
      "codemirror_mode": {
        "name": "ipython",
        "version": 3
      },
      "file_extension": ".py",
      "mimetype": "text/x-python",
      "name": "python",
      "nbconvert_exporter": "python",
      "pygments_lexer": "ipython3",
      "version": "3.11.2"
    }
  },
  "nbformat": 4,
  "nbformat_minor": 5
}
