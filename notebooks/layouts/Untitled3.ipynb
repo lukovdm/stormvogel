{
  "cells": [
    {
      "cell_type": "code",
      "execution_count": 40,
      "id": "fe81838f-e7b9-40a9-9327-faac5ec52696",
      "metadata": {},
      "outputs": [
        {
          "data": {
            "application/vnd.jupyter.widget-view+json": {
              "model_id": "49dd8fb992e643d98b8a60def9e5202a",
              "version_major": 2,
              "version_minor": 0
            },
            "text/plain": [
              "Output()"
            ]
          },
          "execution_count": 40,
          "metadata": {},
          "output_type": "execute_result"
        }
      ],
      "source": [
        "import IPython.display as ipd\n",
        "import ipywidgets as widgets\n",
        "\n",
        "output = widgets.Output()\n",
        "\n",
        "with output:\n",
        "    display(ipd.HTML(\"<script>document.write('hello there1111')</script>\"))\n",
        "\n",
        "output"
      ]
    },
    {
      "cell_type": "code",
      "execution_count": 13,
      "id": "4ef38298-1682-4125-8cbd-25d80c490681",
      "metadata": {},
      "outputs": [
        {
          "data": {
            "application/vnd.jupyter.widget-view+json": {
              "model_id": "7f46c9a9418c455c9204a71bc5a16e47",
              "version_major": 2,
              "version_minor": 0
            },
            "text/plain": [
              "Output(outputs=({'output_type': 'display_data', 'data': {'text/plain': '<IPython.core.display.HTML object>', '\u2026"
            ]
          },
          "execution_count": 13,
          "metadata": {},
          "output_type": "execute_result"
        }
      ],
      "source": [
        "_"
      ]
    },
    {
      "cell_type": "code",
      "execution_count": 47,
      "id": "d7618944-e0d1-4fc6-9b31-5ac0650ddf96",
      "metadata": {},
      "outputs": [],
      "source": [
        "%%capture cap\n",
        "ipd.HTML(\"<script>document.write('hello there1111')</script>\")\n"
      ]
    },
    {
      "cell_type": "code",
      "execution_count": 48,
      "id": "41f10558-e526-48c9-ab7f-c69f5e6ec1e4",
      "metadata": {},
      "outputs": [
        {
          "data": {
            "text/html": [
              "<script>document.write('hello there1111')</script>"
            ],
            "text/plain": [
              "<IPython.core.display.HTML object>"
            ]
          },
          "metadata": {},
          "output_type": "display_data"
        }
      ],
      "source": [
        "cap.show()"
      ]
    },
    {
      "cell_type": "code",
      "execution_count": 46,
      "id": "e074b90e-ec50-49c0-98ce-fd40290cae32",
      "metadata": {},
      "outputs": [
        {
          "data": {
            "text/plain": [
              "{'_stdout': <_io.StringIO at 0x7f8528728a60>,\n",
              " '_stderr': <_io.StringIO at 0x7f8528728b80>,\n",
              " '_outputs': [{'data': {'text/plain': '<IPython.core.display.HTML object>',\n",
              "    'text/html': \"<script>alert('hi')</script>\"},\n",
              "   'metadata': {}}]}"
            ]
          },
          "execution_count": 46,
          "metadata": {},
          "output_type": "execute_result"
        }
      ],
      "source": [
        "cap.__dict__"
      ]
    },
    {
      "cell_type": "code",
      "execution_count": 39,
      "id": "e26f99c3-a7fc-4bd2-b9ab-6f15217b67fe",
      "metadata": {},
      "outputs": [
        {
          "name": "stdout",
          "output_type": "stream",
          "text": [
            "\n"
          ]
        }
      ],
      "source": [
        "print(str(cap._stdout.read()))"
      ]
    },
    {
      "cell_type": "code",
      "execution_count": null,
      "id": "ed72708a-4c8a-45ae-a1d2-b0aad5b73935",
      "metadata": {},
      "outputs": [],
      "source": []
    }
  ],
  "metadata": {
    "kernelspec": {
      "display_name": "Python 3 (ipykernel)",
      "language": "python",
      "name": "python3"
    },
    "language_info": {
      "codemirror_mode": {
        "name": "ipython",
        "version": 3
      },
      "file_extension": ".py",
      "mimetype": "text/x-python",
      "name": "python",
      "nbconvert_exporter": "python",
      "pygments_lexer": "ipython3",
      "version": "3.11.2"
    }
  },
  "nbformat": 4,
  "nbformat_minor": 5
}
