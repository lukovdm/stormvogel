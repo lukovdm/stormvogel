{
  "cells": [
    {
      "cell_type": "code",
      "execution_count": 1,
      "id": "7fb72b13-8190-4899-a726-a911bbccff22",
      "metadata": {},
      "outputs": [
        {
          "ename": "NameError",
          "evalue": "name 'widgets' is not defined",
          "output_type": "error",
          "traceback": [
            "\u001b[0;31m---------------------------------------------------------------------------\u001b[0m",
            "\u001b[0;31mNameError\u001b[0m                                 Traceback (most recent call last)",
            "Cell \u001b[0;32mIn[1], line 1\u001b[0m\n\u001b[0;32m----> 1\u001b[0m button \u001b[38;5;241m=\u001b[39m \u001b[43mwidgets\u001b[49m\u001b[38;5;241m.\u001b[39mButton(description\u001b[38;5;241m=\u001b[39m\u001b[38;5;124m\"\u001b[39m\u001b[38;5;124mClick Me!\u001b[39m\u001b[38;5;124m\"\u001b[39m)\n\u001b[1;32m      2\u001b[0m output \u001b[38;5;241m=\u001b[39m widgets\u001b[38;5;241m.\u001b[39mOutput()\n\u001b[1;32m      4\u001b[0m \u001b[38;5;28;01mclass\u001b[39;00m \u001b[38;5;21;01mTest\u001b[39;00m:\n",
            "\u001b[0;31mNameError\u001b[0m: name 'widgets' is not defined"
          ]
        }
      ],
      "source": [
        "button = widgets.Button(description=\"Click Me!\")\n",
        "output = widgets.Output()\n",
        "\n",
        "class Test:\n",
        "    def __init__(self):\n",
        "        self.var = 4\n",
        "        \n",
        "    def pr(self):\n",
        "        self.var = 8\n",
        "        print(\"HI\")\n",
        "\n",
        "t = Test()\n",
        "print(t.var)\n",
        "\n",
        "\n"
      ]
    },
    {
      "cell_type": "code",
      "execution_count": 2,
      "id": "342a59a8-e1ee-42d5-b85e-ce5d1190418c",
      "metadata": {},
      "outputs": [
        {
          "ename": "NameError",
          "evalue": "name 'button' is not defined",
          "output_type": "error",
          "traceback": [
            "\u001b[0;31m---------------------------------------------------------------------------\u001b[0m",
            "\u001b[0;31mNameError\u001b[0m                                 Traceback (most recent call last)",
            "Cell \u001b[0;32mIn[2], line 10\u001b[0m\n\u001b[1;32m      7\u001b[0m     \u001b[38;5;28;01mexcept\u001b[39;00m:\n\u001b[1;32m      8\u001b[0m         \u001b[38;5;28;01mpass\u001b[39;00m\n\u001b[0;32m---> 10\u001b[0m \u001b[43mbutton\u001b[49m\u001b[38;5;241m.\u001b[39mon_click(on_button_clicked)\n\u001b[1;32m     12\u001b[0m VBox(children\u001b[38;5;241m=\u001b[39m[button])\n",
            "\u001b[0;31mNameError\u001b[0m: name 'button' is not defined"
          ]
        }
      ],
      "source": [
        "def on_button_clicked(b):\n",
        "    print(type(b))\n",
        "    print(\"Button clicked.\")\n",
        "    t.pr()\n",
        "    try:\n",
        "        b.icon=\"warning\"\n",
        "    except:\n",
        "        pass\n",
        "\n",
        "button.on_click(on_button_clicked)\n",
        "\n",
        "VBox(children=[button])\n"
      ]
    },
    {
      "cell_type": "code",
      "execution_count": null,
      "id": "062c9d9e-6201-49b0-a143-79cd6310c62c",
      "metadata": {},
      "outputs": [],
      "source": [
        "t.var"
      ]
    },
    {
      "cell_type": "code",
      "execution_count": null,
      "id": "91470262-8a96-49ec-863f-421a2595652c",
      "metadata": {},
      "outputs": [],
      "source": [
        "from ipywidgets import widgets\n",
        "from IPython.display import display, clear_output\n",
        "\n",
        "text = widgets.Button()\n",
        "\n",
        "output = widgets.Output()\n",
        "display(output)\n",
        "\n",
        "with output:\n",
        "    display(text)\n",
        "\n",
        "def handle_submit(sender):\n",
        "    with output:\n",
        "        \n",
        "        clear_output()\n",
        "        #print('\\n'.join([text.value] * 40 ))   \n",
        "\n",
        "text.on_click(handle_submit)\n",
        "\n",
        "with output:\n",
        "    print(\"clear me\")\n",
        "\n"
      ]
    },
    {
      "cell_type": "code",
      "execution_count": null,
      "id": "87cffe90-5b5a-4880-a923-5e0dedf9777b",
      "metadata": {},
      "outputs": [],
      "source": []
    }
  ],
  "metadata": {
    "kernelspec": {
      "display_name": "Python (stormvogel)",
      "language": "python",
      "name": "stormvogel-env"
    },
    "language_info": {
      "codemirror_mode": {
        "name": "ipython",
        "version": 3
      },
      "file_extension": ".py",
      "mimetype": "text/x-python",
      "name": "python",
      "nbconvert_exporter": "python",
      "pygments_lexer": "ipython3",
      "version": "3.11.2"
    }
  },
  "nbformat": 4,
  "nbformat_minor": 5
}
