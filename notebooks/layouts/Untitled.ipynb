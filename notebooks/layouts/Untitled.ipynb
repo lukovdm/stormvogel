{
  "cells": [
    {
      "cell_type": "code",
      "execution_count": 54,
      "id": "7fb72b13-8190-4899-a726-a911bbccff22",
      "metadata": {},
      "outputs": [
        {
          "name": "stdout",
          "output_type": "stream",
          "text": [
            "4\n"
          ]
        }
      ],
      "source": [
        "button = widgets.Button(description=\"Click Me!\")\n",
        "output = widgets.Output()\n",
        "\n",
        "class Test:\n",
        "    def __init__(self):\n",
        "        self.var = 4\n",
        "        \n",
        "    def pr(self):\n",
        "        self.var = 8\n",
        "        print(\"HI\")\n",
        "\n",
        "t = Test()\n",
        "print(t.var)\n",
        "\n",
        "\n"
      ]
    },
    {
      "cell_type": "code",
      "execution_count": 56,
      "id": "342a59a8-e1ee-42d5-b85e-ce5d1190418c",
      "metadata": {},
      "outputs": [
        {
          "data": {
            "application/vnd.jupyter.widget-view+json": {
              "model_id": "57c3327c35bb4b23b67e1a3c98b14af9",
              "version_major": 2,
              "version_minor": 0
            },
            "text/plain": [
              "VBox(children=(Button(description='Click Me!', style=ButtonStyle()),))"
            ]
          },
          "execution_count": 56,
          "metadata": {},
          "output_type": "execute_result"
        }
      ],
      "source": [
        "def on_button_clicked(b):\n",
        "    print(type(b))\n",
        "    print(\"Button clicked.\")\n",
        "    t.pr()\n",
        "    try:\n",
        "        b.icon=\"warning\"\n",
        "    except:\n",
        "        pass\n",
        "\n",
        "button.on_click(on_button_clicked)\n",
        "\n",
        "VBox(children=[button])\n"
      ]
    },
    {
      "cell_type": "code",
      "execution_count": 57,
      "id": "062c9d9e-6201-49b0-a143-79cd6310c62c",
      "metadata": {},
      "outputs": [
        {
          "data": {
            "text/plain": [
              "8"
            ]
          },
          "execution_count": 57,
          "metadata": {},
          "output_type": "execute_result"
        }
      ],
      "source": [
        "t.var"
      ]
    },
    {
      "cell_type": "code",
      "execution_count": 13,
      "id": "91470262-8a96-49ec-863f-421a2595652c",
      "metadata": {},
      "outputs": [
        {
          "data": {
            "application/vnd.jupyter.widget-view+json": {
              "model_id": "17e65462a31a44eb9a1f127c26fb1b97",
              "version_major": 2,
              "version_minor": 0
            },
            "text/plain": [
              "Output()"
            ]
          },
          "metadata": {},
          "output_type": "display_data"
        }
      ],
      "source": [
        "from ipywidgets import widgets\n",
        "from IPython.display import display, clear_output\n",
        "\n",
        "text = widgets.Button()\n",
        "\n",
        "output = widgets.Output()\n",
        "display(output)\n",
        "\n",
        "with output:\n",
        "    display(text)\n",
        "\n",
        "def handle_submit(sender):\n",
        "    with output:\n",
        "        \n",
        "        clear_output()\n",
        "        #print('\\n'.join([text.value] * 40 ))   \n",
        "\n",
        "text.on_click(handle_submit)\n",
        "\n",
        "with output:\n",
        "    print(\"clear me\")\n",
        "\n"
      ]
    },
    {
      "cell_type": "code",
      "execution_count": null,
      "id": "87cffe90-5b5a-4880-a923-5e0dedf9777b",
      "metadata": {},
      "outputs": [],
      "source": []
    }
  ],
  "metadata": {
    "kernelspec": {
      "display_name": "Python (stormvogel)",
      "language": "python",
      "name": "stormvogel-env"
    },
    "language_info": {
      "codemirror_mode": {
        "name": "ipython",
        "version": 3
      },
      "file_extension": ".py",
      "mimetype": "text/x-python",
      "name": "python",
      "nbconvert_exporter": "python",
      "pygments_lexer": "ipython3",
      "version": "3.11.2"
    }
  },
  "nbformat": 4,
  "nbformat_minor": 5
}
