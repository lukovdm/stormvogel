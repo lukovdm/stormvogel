{
  "cells": [
    {
      "cell_type": "code",
      "execution_count": 3,
      "id": "bba96034-0426-4d15-82b5-0fbf66d874a3",
      "metadata": {},
      "outputs": [],
      "source": [
        "import IPython.display as ipd\n",
        "import ipywidgets as widgets\n",
        "\n"
      ]
    },
    {
      "cell_type": "code",
      "execution_count": 13,
      "id": "ca44fbaf-3029-427a-81a4-7902c75db804",
      "metadata": {},
      "outputs": [],
      "source": [
        "%%capture cap\n",
        "print(\"test\")\n",
        "ipd.HTML(\"<script>console.log('output test')</script>\")"
      ]
    },
    {
      "cell_type": "code",
      "execution_count": 14,
      "id": "580b7959-bddc-4e1a-be00-f3f71dafece5",
      "metadata": {},
      "outputs": [
        {
          "data": {
            "text/plain": [
              "{'_stdout': <_io.StringIO at 0x7f7767438af0>,\n",
              " '_stderr': <_io.StringIO at 0x7f7767438ca0>,\n",
              " '_outputs': [{'data': {'text/plain': '<IPython.core.display.HTML object>',\n",
              "    'text/html': \"<script>console.log('output test')</script>\"},\n",
              "   'metadata': {}}]}"
            ]
          },
          "execution_count": 14,
          "metadata": {},
          "output_type": "execute_result"
        }
      ],
      "source": [
        "cap.__dict__"
      ]
    },
    {
      "cell_type": "code",
      "execution_count": 47,
      "id": "22738fcd-65b7-495f-8246-1ff670d8e265",
      "metadata": {},
      "outputs": [
        {
          "name": "stdout",
          "output_type": "stream",
          "text": [
            "<bound method CapturedIO.__str__ of <IPython.utils.capture.CapturedIO object at 0x7f7767467410>>\n"
          ]
        }
      ],
      "source": [
        "cap._stdout.getvalue()\n",
        "print(cap.__str__)"
      ]
    },
    {
      "cell_type": "code",
      "execution_count": 19,
      "id": "3919f2d4-71ef-4f19-b592-ec3c8be09d48",
      "metadata": {},
      "outputs": [
        {
          "data": {
            "application/javascript": [
              "if (IPython.notebook.kernel) {\n",
              "    IPython.notebook.kernel.execute('1')\n",
              "}\n"
            ],
            "text/plain": [
              "<IPython.core.display.Javascript object>"
            ]
          },
          "metadata": {},
          "output_type": "display_data"
        }
      ],
      "source": [
        "%%javascript\n",
        "if (IPython.notebook.kernel) {\n",
        "    IPython.notebook.kernel.execute('1')\n",
        "}"
      ]
    },
    {
      "cell_type": "code",
      "execution_count": 24,
      "id": "b99ea547-143b-480e-85fa-aced88dd26bc",
      "metadata": {},
      "outputs": [
        {
          "data": {
            "application/javascript": [
              "\n",
              "  const CodeCell = window.IPython.CodeCell;\n",
              "\n",
              "  CodeCell.prototype.native_handle_input_request = CodeCell.prototype.native_handle_input_request || CodeCell.prototype._handle_input_request\n",
              "  CodeCell.prototype._handle_input_request = function(msg) {\n",
              "    try {\n",
              "      // only apply the hack if the command is valid JSON\n",
              "      const command = JSON.parse(msg.content.prompt);\n",
              "      const kernel = IPython.notebook.kernel;\n",
              "      // in the future: send the command to a server and wait for a response.\n",
              "      // for now: specify a 5 second delay and return 'RESPONSE'\n",
              "      setTimeout(() => { kernel.send_input_reply('RESPONSE') },5000)\n",
              "    } catch(err) {\n",
              "      console.log('Not a command',msg,err);\n",
              "      this.native_handle_input_request(msg);\n",
              "    }\n",
              "  }\n"
            ],
            "text/plain": [
              "<IPython.core.display.Javascript object>"
            ]
          },
          "metadata": {},
          "output_type": "display_data"
        },
        {
          "name": "stdin",
          "output_type": "stream",
          "text": [
            "{\"do\": \"something\"} hi\n"
          ]
        },
        {
          "name": "stdout",
          "output_type": "stream",
          "text": [
            "hi\n"
          ]
        }
      ],
      "source": [
        "import json\n",
        "\n",
        "ipd.display(ipd.Javascript(\"\"\"\n",
        "  const CodeCell = window.IPython.CodeCell;\n",
        "\n",
        "  CodeCell.prototype.native_handle_input_request = CodeCell.prototype.native_handle_input_request || CodeCell.prototype._handle_input_request\n",
        "  CodeCell.prototype._handle_input_request = function(msg) {\n",
        "    try {\n",
        "      // only apply the hack if the command is valid JSON\n",
        "      const command = JSON.parse(msg.content.prompt);\n",
        "      const kernel = IPython.notebook.kernel;\n",
        "      // in the future: send the command to a server and wait for a response.\n",
        "      // for now: specify a 5 second delay and return 'RESPONSE'\n",
        "      setTimeout(() => { kernel.send_input_reply('RESPONSE') },5000)\n",
        "    } catch(err) {\n",
        "      console.log('Not a command',msg,err);\n",
        "      this.native_handle_input_request(msg);\n",
        "    }\n",
        "  }\n",
        "\"\"\"))\n",
        "response = input(json.dumps({\"do\":\"something\"}))\n",
        "print(response)"
      ]
    },
    {
      "cell_type": "code",
      "execution_count": 30,
      "id": "e6396ef0-b50e-4837-a63e-d6c8147df528",
      "metadata": {},
      "outputs": [
        {
          "data": {
            "application/javascript": [
              "window.IPython.notebook.kernel.execute(\"mypath = \" + \"'\"+IPython.notebook.notebook_path+\"'\");"
            ],
            "text/plain": [
              "<IPython.core.display.Javascript object>"
            ]
          },
          "execution_count": 30,
          "metadata": {},
          "output_type": "execute_result"
        }
      ],
      "source": [
        "from IPython.display import display,Javascript\n",
        "Javascript('window.IPython.notebook.kernel.execute(\"mypath = \" + \"\\'\"+IPython.notebook.notebook_path+\"\\'\");')"
      ]
    },
    {
      "cell_type": "code",
      "execution_count": 31,
      "id": "aadb59a0-9968-4644-a4e2-f9677a26797b",
      "metadata": {},
      "outputs": [
        {
          "data": {
            "application/javascript": [
              "\n",
              "IPython.notebook.kernel.execute(\"my_out = 'hello world'\");\n"
            ],
            "text/plain": [
              "<IPython.core.display.Javascript object>"
            ]
          },
          "execution_count": 31,
          "metadata": {},
          "output_type": "execute_result"
        }
      ],
      "source": [
        "my_out = None\n",
        "del my_out\n",
        "my_js = \"\"\"\n",
        "IPython.notebook.kernel.execute(\"my_out = 'hello world'\");\n",
        "\"\"\"\n",
        "Javascript(my_js)"
      ]
    },
    {
      "cell_type": "code",
      "execution_count": 33,
      "id": "77c2c6d2-9390-464b-a014-9fad24b48bdd",
      "metadata": {},
      "outputs": [
        {
          "data": {
            "application/javascript": [
              "\n",
              "alert (\"about to execute python comand\");\n",
              "IPython.notebook.kernel.execute(\"my_out = 'hello world'\");\n"
            ],
            "text/plain": [
              "<IPython.core.display.Javascript object>"
            ]
          },
          "execution_count": 33,
          "metadata": {},
          "output_type": "execute_result"
        }
      ],
      "source": [
        "my_out = None\n",
        "del my_out\n",
        "my_js = \"\"\"\n",
        "alert (\"about to execute python comand\");\n",
        "IPython.notebook.kernel.execute(\"my_out = 'hello world'\");\n",
        "\"\"\"\n",
        "Javascript(my_js)"
      ]
    },
    {
      "cell_type": "code",
      "execution_count": 38,
      "id": "10e41569-6ad9-4869-83a3-6cdbd3086a5b",
      "metadata": {},
      "outputs": [
        {
          "data": {
            "application/javascript": [
              "\n",
              "alert (\"about to execute python comand\");\n",
              "IPython.notebook.kernel.execute(\"my_out = 'hello world'\");\n"
            ]
          },
          "metadata": {},
          "output_type": "display_data"
        }
      ],
      "source": [
        "ipd.display_javascript(Javascript(my_js))"
      ]
    },
    {
      "cell_type": "code",
      "execution_count": 39,
      "id": "5355e535-cea5-47ae-9fde-8d3d99a4963d",
      "metadata": {},
      "outputs": [
        {
          "ename": "NameError",
          "evalue": "name 'my_out' is not defined",
          "output_type": "error",
          "traceback": [
            "\u001b[0;31m---------------------------------------------------------------------------\u001b[0m",
            "\u001b[0;31mNameError\u001b[0m                                 Traceback (most recent call last)",
            "Cell \u001b[0;32mIn[39], line 1\u001b[0m\n\u001b[0;32m----> 1\u001b[0m \u001b[43mmy_out\u001b[49m\n",
            "\u001b[0;31mNameError\u001b[0m: name 'my_out' is not defined"
          ]
        }
      ],
      "source": [
        "my_out"
      ]
    },
    {
      "cell_type": "code",
      "execution_count": 40,
      "id": "47ce9b9a-0755-4c04-8dea-d03cf69dc3cb",
      "metadata": {},
      "outputs": [
        {
          "data": {
            "application/javascript": [
              "\n",
              "  const CodeCell = window.IPython.CodeCell;\n",
              "\n",
              "  CodeCell.prototype.native_handle_input_request = CodeCell.prototype.native_handle_input_request || CodeCell.prototype._handle_input_request\n",
              "  CodeCell.prototype._handle_input_request = function(msg) {\n",
              "    try {\n",
              "      // only apply the hack if the command is valid JSON\n",
              "      console.log(msg.content.prompt)\n",
              "      const command = JSON.parse(msg.content.prompt);\n",
              "      const kernel = IPython.notebook.kernel;\n",
              "      // return some value in the Javascript domain, depending on the 'command'.\n",
              "      // for now: specify a 5 second delay and return 'RESPONSE'\n",
              "      kernel.send_input_reply(eval(command[\"eval\"]))\n",
              "    } catch(err) {\n",
              "      console.log('Not a command',msg,err);\n",
              "      this.native_handle_input_request(msg);\n",
              "    }\n",
              "  }\n"
            ],
            "text/plain": [
              "<IPython.core.display.Javascript object>"
            ]
          },
          "metadata": {},
          "output_type": "display_data"
        }
      ],
      "source": [
        "import json\n",
        "from IPython.display import display, Javascript\n",
        "display(Javascript(\"\"\"\n",
        "  const CodeCell = window.IPython.CodeCell;\n",
        "\n",
        "  CodeCell.prototype.native_handle_input_request = CodeCell.prototype.native_handle_input_request || CodeCell.prototype._handle_input_request\n",
        "  CodeCell.prototype._handle_input_request = function(msg) {\n",
        "    try {\n",
        "      // only apply the hack if the command is valid JSON\n",
        "      console.log(msg.content.prompt)\n",
        "      const command = JSON.parse(msg.content.prompt);\n",
        "      const kernel = IPython.notebook.kernel;\n",
        "      // return some value in the Javascript domain, depending on the 'command'.\n",
        "      // for now: specify a 5 second delay and return 'RESPONSE'\n",
        "      kernel.send_input_reply(eval(command[\"eval\"]))\n",
        "    } catch(err) {\n",
        "      console.log('Not a command',msg,err);\n",
        "      this.native_handle_input_request(msg);\n",
        "    }\n",
        "  }\n",
        "\"\"\"))"
      ]
    },
    {
      "cell_type": "code",
      "execution_count": 48,
      "id": "5b3cd218-1351-4464-b73a-ef37b1023ffa",
      "metadata": {},
      "outputs": [
        {
          "data": {
            "text/html": [
              "<script>IPython.notebook.kernel.execute('print(\"Hello World!\")');</script>"
            ],
            "text/plain": [
              "<IPython.core.display.HTML object>"
            ]
          },
          "metadata": {},
          "output_type": "display_data"
        },
        {
          "data": {
            "application/javascript": [
              "globals()"
            ],
            "text/plain": [
              "<IPython.core.display.Javascript object>"
            ]
          },
          "metadata": {},
          "output_type": "display_data"
        }
      ],
      "source": [
        "import IPython.display as ipd\n",
        "\n",
        "ipd.display(ipd.HTML(\"\"\"<script>IPython.notebook.kernel.execute('print(\"Hello World!\")');</script>\"\"\"))\n",
        "ipd.display(ipd.Javascript(\"globals()\"))"
      ]
    },
    {
      "cell_type": "code",
      "execution_count": null,
      "id": "15eb06a4-c4b9-4e23-ad63-09064fa878f2",
      "metadata": {},
      "outputs": [],
      "source": []
    }
  ],
  "metadata": {
    "kernelspec": {
      "display_name": "Python (stormvogel)",
      "language": "python",
      "name": "stormvogel-env"
    },
    "language_info": {
      "codemirror_mode": {
        "name": "ipython",
        "version": 3
      },
      "file_extension": ".py",
      "mimetype": "text/x-python",
      "name": "python",
      "nbconvert_exporter": "python",
      "pygments_lexer": "ipython3",
      "version": "3.11.2"
    }
  },
  "nbformat": 4,
  "nbformat_minor": 5
}
