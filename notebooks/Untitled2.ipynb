{
  "cells": [
    {
      "cell_type": "code",
      "execution_count": 10,
      "id": "d5e86930-487f-4003-9418-125a964f54bc",
      "metadata": {},
      "outputs": [
        {
          "data": {
            "application/vnd.jupyter.widget-view+json": {
              "model_id": "266f4d39aab546de8af596cba18005a0",
              "version_major": 2,
              "version_minor": 0
            },
            "text/plain": [
              "Output()"
            ]
          },
          "metadata": {},
          "output_type": "display_data"
        },
        {
          "data": {
            "application/vnd.jupyter.widget-view+json": {
              "model_id": "1dfff3581b8e4721ab5459413cb2873a",
              "version_major": 2,
              "version_minor": 0
            },
            "text/plain": [
              "Output()"
            ]
          },
          "metadata": {},
          "output_type": "display_data"
        },
        {
          "data": {
            "application/vnd.jupyter.widget-view+json": {
              "model_id": "a64fad6e3971446b9bd5fab12f0c8753",
              "version_major": 2,
              "version_minor": 0
            },
            "text/plain": [
              "HBox(children=(Output(), Output()))"
            ]
          },
          "metadata": {},
          "output_type": "display_data"
        }
      ],
      "source": [
        "import stormvogel.model\n",
        "import stormvogel.show\n",
        "import stormvogel.layout\n",
        "\n",
        "m = stormvogel.model.new_dtmc()\n",
        "m.new_state(\"\ud83d\udc26\")\n",
        "m.add_self_loops()\n",
        "vis = stormvogel.show.show(m, show_editor=True, layout=stormvogel.layout.Layout(\"layouts/sv.json\"))"
      ]
    },
    {
      "cell_type": "code",
      "execution_count": 2,
      "id": "602eff5d-56ac-4df1-9b4b-bef2d2b1d98b",
      "metadata": {},
      "outputs": [
        {
          "data": {
            "application/vnd.jupyter.widget-view+json": {
              "model_id": "d3f0214220404d868598da9ce1a03f90",
              "version_major": 2,
              "version_minor": 0
            },
            "text/plain": [
              "TagsInput(value=['pizza', 'fries'], allow_duplicates=False, allowed_tags=['pizza', 'fries', 'tomatoes', 'steak\u2026"
            ]
          },
          "execution_count": 2,
          "metadata": {},
          "output_type": "execute_result"
        }
      ],
      "source": [
        "import ipywidgets as widgets\n",
        "\n",
        "tags = widgets.TagsInput(\n",
        "    value=['pizza', 'fries'],\n",
        "    allowed_tags=['pizza', 'fries', 'tomatoes', 'steak'],\n",
        "    allow_duplicates=False\n",
        ")\n",
        "tags"
      ]
    },
    {
      "cell_type": "code",
      "execution_count": null,
      "id": "edf28c66-f672-4f2f-822c-bbfea78ad181",
      "metadata": {},
      "outputs": [],
      "source": []
    }
  ],
  "metadata": {
    "kernelspec": {
      "display_name": "Python 3 (ipykernel)",
      "language": "python",
      "name": "python3"
    },
    "language_info": {
      "codemirror_mode": {
        "name": "ipython",
        "version": 3
      },
      "file_extension": ".py",
      "mimetype": "text/x-python",
      "name": "python",
      "nbconvert_exporter": "python",
      "pygments_lexer": "ipython3",
      "version": "3.12.3"
    }
  },
  "nbformat": 4,
  "nbformat_minor": 5
}
