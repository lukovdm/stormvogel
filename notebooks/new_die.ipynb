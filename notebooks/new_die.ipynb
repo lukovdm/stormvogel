{
  "cells": [
    {
      "cell_type": "code",
      "execution_count": 1,
      "id": "580fce8d-53ed-4cce-939a-9c62ecaaebeb",
      "metadata": {},
      "outputs": [
        {
          "data": {
            "application/vnd.jupyter.widget-view+json": {
              "model_id": "727d38d2ed4841aa8b8061587e696645",
              "version_major": 2,
              "version_minor": 0
            },
            "text/plain": [
              "Output()"
            ]
          },
          "metadata": {},
          "output_type": "display_data"
        },
        {
          "name": "stderr",
          "output_type": "stream",
          "text": [
            "WARNING:root:Server port likely taken.\n"
          ]
        },
        {
          "name": "stdout",
          "output_type": "stream",
          "text": [
            "Stormvogel could not run an internal server to communicate between local processes on 127.0.0.1:8080.\n",
            "Stormvogel is still usable without this, but you will not be able to save node positions in a layout json file.\n",
            "This might be solved as such:\n",
            "1) Restart the kernel and re-run.\n",
            "2) If you already had a stormvogel notebook with a Network or Visualization or show.show in it in this lab session, change the kernel of the current notebook to be the SAME KERNEL (Top right, use kernel for preferred session and look for the name of the PREVIOUS notebook).\n",
            "You can also simply restart all kernels but it might break again.\n",
            "3) Port 8080 might already be used by another process. Try changing stormvogel.communication_server.server_port and running again.\n",
            "4) You might also want to consider changing stormvogel.communication_server.localhost_address to the IPv6 loopback address if you are using IPv6.\n",
            "If you cannot get the server to work, set stormvogel.communication_server.enable_server to false and re-run. This will speed up stormvogel and ignore this message.\n",
            "Please contact the stormvogel developpers if you keep running into issues.\n"
          ]
        },
        {
          "data": {
            "application/vnd.jupyter.widget-view+json": {
              "model_id": "4a3a79c827164894950553569c138c64",
              "version_major": 2,
              "version_minor": 0
            },
            "text/plain": [
              "HBox(children=(Output(), Output()))"
            ]
          },
          "metadata": {},
          "output_type": "display_data"
        }
      ],
      "source": [
        "import stormvogel.model\n",
        "import stormvogel.visualization\n",
        "import stormvogel.show\n",
        "from stormvogel.layout import Layout, DEFAULT\n",
        "\n",
        "# Create a new model with the name \"Die\"\n",
        "dtmc = stormvogel.model.new_dtmc(\"Die\")\n",
        "\n",
        "init = dtmc.get_initial_state()\n",
        "\n",
        "# From the initial state, add the transition to 6 new states with probability 1/6th.\n",
        "init.set_transitions(\n",
        "    [(1 / 6, dtmc.new_state(f\"rolled{i}\", {\"rolled\": i})) for i in range(6)]\n",
        ")\n",
        "\n",
        "# Show a visualization of the model.\n",
        "vis = stormvogel.show.show(dtmc, show_editor=True, layout=DEFAULT())"
      ]
    },
    {
      "cell_type": "code",
      "execution_count": null,
      "id": "7086f2f4-652e-40f9-82df-5b83e377e679",
      "metadata": {},
      "outputs": [],
      "source": []
    }
  ],
  "metadata": {
    "kernelspec": {
      "display_name": "Python (stormvogel)",
      "language": "python",
      "name": "stormvogel-env"
    },
    "language_info": {
      "codemirror_mode": {
        "name": "ipython",
        "version": 3
      },
      "file_extension": ".py",
      "mimetype": "text/x-python",
      "name": "python",
      "nbconvert_exporter": "python",
      "pygments_lexer": "ipython3",
      "version": "3.11.2"
    }
  },
  "nbformat": 4,
  "nbformat_minor": 5
}
