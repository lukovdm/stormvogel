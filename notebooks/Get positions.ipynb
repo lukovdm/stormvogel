{
  "cells": [
    {
      "cell_type": "code",
      "execution_count": 1,
      "id": "fd9a1008-b1cc-4a8a-b5d0-0fe2ed0fb7ea",
      "metadata": {},
      "outputs": [
        {
          "name": "stdout",
          "output_type": "stream",
          "text": [
            "Server started http://localhost:8080\n",
            "{\"0\":{\"x\":20,\"y\":-21}}\n"
          ]
        },
        {
          "name": "stderr",
          "output_type": "stream",
          "text": [
            "127.0.0.1 - - [05/Sep/2024 14:41:54] \"GET /%7B%220%22:%7B%22x%22:20,%22y%22:-21%7D%7D HTTP/1.1\" 200 -\n"
          ]
        },
        {
          "name": "stdout",
          "output_type": "stream",
          "text": [
            "{\"0\":{\"x\":-172,\"y\":-1}}\n"
          ]
        },
        {
          "name": "stderr",
          "output_type": "stream",
          "text": [
            "127.0.0.1 - - [05/Sep/2024 14:43:03] \"GET /%7B%220%22:%7B%22x%22:-172,%22y%22:-1%7D%7D HTTP/1.1\" 200 -\n"
          ]
        },
        {
          "name": "stdout",
          "output_type": "stream",
          "text": [
            "{\"0\":{\"x\":9,\"y\":-153}}\n"
          ]
        },
        {
          "name": "stderr",
          "output_type": "stream",
          "text": [
            "127.0.0.1 - - [05/Sep/2024 14:43:12] \"GET /%7B%220%22:%7B%22x%22:9,%22y%22:-153%7D%7D HTTP/1.1\" 200 -\n"
          ]
        },
        {
          "name": "stdout",
          "output_type": "stream",
          "text": [
            "{\"0\":{\"x\":31,\"y\":-40}}\n"
          ]
        },
        {
          "name": "stderr",
          "output_type": "stream",
          "text": [
            "127.0.0.1 - - [05/Sep/2024 14:43:29] \"GET /%7B%220%22:%7B%22x%22:31,%22y%22:-40%7D%7D HTTP/1.1\" 200 -\n"
          ]
        }
      ],
      "source": [
        "import stormvogel.visjs\n",
        "\n",
        "nt = stormvogel.visjs.Network(name=\"positions\", server_port=8080)"
      ]
    },
    {
      "cell_type": "code",
      "execution_count": 2,
      "id": "bba9a434-bef6-4fde-bf66-3ca44d0fd7ae",
      "metadata": {},
      "outputs": [],
      "source": [
        "nt.add_node(0)"
      ]
    },
    {
      "cell_type": "code",
      "execution_count": 3,
      "id": "ab4042e4-d932-4a2b-8005-322d3df09da1",
      "metadata": {
        "scrolled": true
      },
      "outputs": [
        {
          "data": {
            "application/vnd.jupyter.widget-view+json": {
              "model_id": "e000818f1f824eb3bc1b0f8a4d5faaea",
              "version_major": 2,
              "version_minor": 0
            },
            "text/plain": [
              "Output()"
            ]
          },
          "metadata": {},
          "output_type": "display_data"
        }
      ],
      "source": [
        "nt.show()"
      ]
    },
    {
      "cell_type": "code",
      "execution_count": 10,
      "id": "2301dc59-a495-4869-bc89-3d1e81a04d89",
      "metadata": {},
      "outputs": [
        {
          "data": {
            "text/html": [
              "<script>fetch('http://127.0.0.1:8080/' + JSON.stringify(document.getElementById('positions').contentWindow.network.getPositions()))</script>"
            ],
            "text/plain": [
              "<IPython.core.display.HTML object>"
            ]
          },
          "metadata": {},
          "output_type": "display_data"
        },
        {
          "data": {
            "text/plain": [
              "{0: {'x': 31, 'y': -40}}"
            ]
          },
          "execution_count": 10,
          "metadata": {},
          "output_type": "execute_result"
        }
      ],
      "source": [
        "nt.get_positions()"
      ]
    },
    {
      "cell_type": "code",
      "execution_count": 7,
      "id": "5e5b550d-0416-4b3d-8ded-3bb2b0053b85",
      "metadata": {},
      "outputs": [
        {
          "ename": "AttributeError",
          "evalue": "'Network' object has no attribute 'messenger'",
          "output_type": "error",
          "traceback": [
            "\u001b[0;31m---------------------------------------------------------------------------\u001b[0m",
            "\u001b[0;31mAttributeError\u001b[0m                            Traceback (most recent call last)",
            "Cell \u001b[0;32mIn[7], line 1\u001b[0m\n\u001b[0;32m----> 1\u001b[0m \u001b[43mnt\u001b[49m\u001b[38;5;241;43m.\u001b[39;49m\u001b[43mmessenger\u001b[49m\u001b[38;5;241m.\u001b[39mrequest(\u001b[38;5;124m\"\u001b[39m\u001b[38;5;124m'\u001b[39m\u001b[38;5;124m5\u001b[39m\u001b[38;5;124m'\u001b[39m\u001b[38;5;124m\"\u001b[39m)\n",
            "\u001b[0;31mAttributeError\u001b[0m: 'Network' object has no attribute 'messenger'"
          ]
        }
      ],
      "source": []
    },
    {
      "cell_type": "code",
      "execution_count": 8,
      "id": "4a46f22d-5f46-4395-a15f-a4deb81eeb28",
      "metadata": {},
      "outputs": [
        {
          "ename": "AttributeError",
          "evalue": "'Network' object has no attribute 'messenger'",
          "output_type": "error",
          "traceback": [
            "\u001b[0;31m---------------------------------------------------------------------------\u001b[0m",
            "\u001b[0;31mAttributeError\u001b[0m                            Traceback (most recent call last)",
            "Cell \u001b[0;32mIn[8], line 1\u001b[0m\n\u001b[0;32m----> 1\u001b[0m \u001b[43mnt\u001b[49m\u001b[38;5;241;43m.\u001b[39;49m\u001b[43mmessenger\u001b[49m\u001b[38;5;241m.\u001b[39mserver_port\n",
            "\u001b[0;31mAttributeError\u001b[0m: 'Network' object has no attribute 'messenger'"
          ]
        }
      ],
      "source": []
    },
    {
      "cell_type": "code",
      "execution_count": null,
      "id": "2377aa51-6b2d-4de8-b79b-7973be7f7c8e",
      "metadata": {},
      "outputs": [],
      "source": []
    }
  ],
  "metadata": {
    "kernelspec": {
      "display_name": "Python (stormvogel)",
      "language": "python",
      "name": "stormvogel-env"
    },
    "language_info": {
      "codemirror_mode": {
        "name": "ipython",
        "version": 3
      },
      "file_extension": ".py",
      "mimetype": "text/x-python",
      "name": "python",
      "nbconvert_exporter": "python",
      "pygments_lexer": "ipython3",
      "version": "3.11.2"
    }
  },
  "nbformat": 4,
  "nbformat_minor": 5
}
