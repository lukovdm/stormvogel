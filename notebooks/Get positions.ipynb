{
  "cells": [
    {
      "cell_type": "code",
      "execution_count": 1,
      "id": "fd9a1008-b1cc-4a8a-b5d0-0fe2ed0fb7ea",
      "metadata": {},
      "outputs": [
        {
          "name": "stdout",
          "output_type": "stream",
          "text": [
            "Server started http://localhost:8080\n",
            "5\n"
          ]
        },
        {
          "name": "stderr",
          "output_type": "stream",
          "text": [
            "127.0.0.1 - - [01/Sep/2024 13:40:14] \"GET /5 HTTP/1.1\" 200 -\n"
          ]
        },
        {
          "name": "stdout",
          "output_type": "stream",
          "text": [
            "{\"0\":{\"x\":17,\"y\":-24}}\n"
          ]
        },
        {
          "name": "stderr",
          "output_type": "stream",
          "text": [
            "127.0.0.1 - - [01/Sep/2024 13:40:16] \"GET /%7B%220%22:%7B%22x%22:17,%22y%22:-24%7D%7D HTTP/1.1\" 200 -\n"
          ]
        },
        {
          "name": "stdout",
          "output_type": "stream",
          "text": [
            "{\"0\":{\"x\":17,\"y\":-24}}\n"
          ]
        },
        {
          "name": "stderr",
          "output_type": "stream",
          "text": [
            "127.0.0.1 - - [01/Sep/2024 13:40:21] \"GET /%7B%220%22:%7B%22x%22:17,%22y%22:-24%7D%7D HTTP/1.1\" 200 -\n"
          ]
        },
        {
          "name": "stdout",
          "output_type": "stream",
          "text": [
            "{\"0\":{\"x\":103,\"y\":38}}\n"
          ]
        },
        {
          "name": "stderr",
          "output_type": "stream",
          "text": [
            "127.0.0.1 - - [01/Sep/2024 13:40:25] \"GET /%7B%220%22:%7B%22x%22:103,%22y%22:38%7D%7D HTTP/1.1\" 200 -\n"
          ]
        },
        {
          "name": "stdout",
          "output_type": "stream",
          "text": [
            "{\"0\":{\"x\":-216,\"y\":63}}\n"
          ]
        },
        {
          "name": "stderr",
          "output_type": "stream",
          "text": [
            "127.0.0.1 - - [01/Sep/2024 13:40:30] \"GET /%7B%220%22:%7B%22x%22:-216,%22y%22:63%7D%7D HTTP/1.1\" 200 -\n"
          ]
        },
        {
          "name": "stdout",
          "output_type": "stream",
          "text": [
            "{\"0\":{\"x\":-16,\"y\":1}}\n"
          ]
        },
        {
          "name": "stderr",
          "output_type": "stream",
          "text": [
            "127.0.0.1 - - [01/Sep/2024 13:43:54] \"GET /%7B%220%22:%7B%22x%22:-16,%22y%22:1%7D%7D HTTP/1.1\" 200 -\n"
          ]
        },
        {
          "name": "stdout",
          "output_type": "stream",
          "text": [
            "{\"0\":{\"x\":184,\"y\":76}}\n"
          ]
        },
        {
          "name": "stderr",
          "output_type": "stream",
          "text": [
            "127.0.0.1 - - [01/Sep/2024 13:43:58] \"GET /%7B%220%22:%7B%22x%22:184,%22y%22:76%7D%7D HTTP/1.1\" 200 -\n"
          ]
        },
        {
          "name": "stdout",
          "output_type": "stream",
          "text": [
            "{\"0\":{\"x\":-348,\"y\":-290}}\n"
          ]
        },
        {
          "name": "stderr",
          "output_type": "stream",
          "text": [
            "127.0.0.1 - - [01/Sep/2024 13:44:03] \"GET /%7B%220%22:%7B%22x%22:-348,%22y%22:-290%7D%7D HTTP/1.1\" 200 -\n"
          ]
        }
      ],
      "source": [
        "import stormvogel.visjs\n",
        "\n",
        "nt = stormvogel.visjs.Network(name=\"positions\", server_port=8080)"
      ]
    },
    {
      "cell_type": "code",
      "execution_count": 2,
      "id": "bba9a434-bef6-4fde-bf66-3ca44d0fd7ae",
      "metadata": {},
      "outputs": [],
      "source": [
        "nt.add_node(0)"
      ]
    },
    {
      "cell_type": "code",
      "execution_count": 3,
      "id": "ab4042e4-d932-4a2b-8005-322d3df09da1",
      "metadata": {},
      "outputs": [
        {
          "data": {
            "application/vnd.jupyter.widget-view+json": {
              "model_id": "da88c681d8af472e9bef135a0df8217f",
              "version_major": 2,
              "version_minor": 0
            },
            "text/plain": [
              "Output()"
            ]
          },
          "metadata": {},
          "output_type": "display_data"
        }
      ],
      "source": [
        "nt.show()"
      ]
    },
    {
      "cell_type": "code",
      "execution_count": 13,
      "id": "2301dc59-a495-4869-bc89-3d1e81a04d89",
      "metadata": {},
      "outputs": [
        {
          "data": {
            "text/html": [
              "<script>fetch('http://127.0.0.1:8080/' + JSON.stringify(document.getElementById('positions').contentWindow.network.getPositions()))</script>"
            ],
            "text/plain": [
              "<IPython.core.display.HTML object>"
            ]
          },
          "metadata": {},
          "output_type": "display_data"
        },
        {
          "data": {
            "text/plain": [
              "'{\"0\":{\"x\":-348,\"y\":-290}}'"
            ]
          },
          "execution_count": 13,
          "metadata": {},
          "output_type": "execute_result"
        }
      ],
      "source": [
        "nt.get_positions()"
      ]
    },
    {
      "cell_type": "code",
      "execution_count": 5,
      "id": "5e5b550d-0416-4b3d-8ded-3bb2b0053b85",
      "metadata": {},
      "outputs": [
        {
          "data": {
            "text/html": [
              "<script>fetch('http://127.0.0.1:8080/' + '5')</script>"
            ],
            "text/plain": [
              "<IPython.core.display.HTML object>"
            ]
          },
          "metadata": {},
          "output_type": "display_data"
        },
        {
          "data": {
            "text/plain": [
              "'5'"
            ]
          },
          "execution_count": 5,
          "metadata": {},
          "output_type": "execute_result"
        }
      ],
      "source": [
        "nt.messenger.request(\"'5'\")"
      ]
    },
    {
      "cell_type": "code",
      "execution_count": 6,
      "id": "4a46f22d-5f46-4395-a15f-a4deb81eeb28",
      "metadata": {},
      "outputs": [
        {
          "data": {
            "text/plain": [
              "8080"
            ]
          },
          "execution_count": 6,
          "metadata": {},
          "output_type": "execute_result"
        }
      ],
      "source": [
        "nt.messenger.server_port"
      ]
    },
    {
      "cell_type": "code",
      "execution_count": null,
      "id": "2377aa51-6b2d-4de8-b79b-7973be7f7c8e",
      "metadata": {},
      "outputs": [],
      "source": []
    }
  ],
  "metadata": {
    "kernelspec": {
      "display_name": "Python (stormvogel)",
      "language": "python",
      "name": "stormvogel-env"
    },
    "language_info": {
      "codemirror_mode": {
        "name": "ipython",
        "version": 3
      },
      "file_extension": ".py",
      "mimetype": "text/x-python",
      "name": "python",
      "nbconvert_exporter": "python",
      "pygments_lexer": "ipython3",
      "version": "3.11.2"
    }
  },
  "nbformat": 4,
  "nbformat_minor": 5
}
