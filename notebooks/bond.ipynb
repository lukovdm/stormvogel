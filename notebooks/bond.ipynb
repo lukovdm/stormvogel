{
  "cells": [
    {
      "cell_type": "code",
      "execution_count": 1,
      "id": "ecbc3f07-50a9-4f4a-9df2-4a95527e6db6",
      "metadata": {
        "execution": {
          "iopub.execute_input": "2024-08-20T17:16:04.044291Z",
          "iopub.status.busy": "2024-08-20T17:16:04.044191Z",
          "iopub.status.idle": "2024-08-20T17:16:04.050118Z",
          "shell.execute_reply": "2024-08-20T17:16:04.049869Z"
        }
      },
      "outputs": [
        {
          "data": {
            "text/html": [
              "\n",
              "<html>\n",
              "  <head>\n",
              "    <title>Network</title>\n",
              "    <script\n",
              "      type=\"text/javascript\"\n",
              "      src=\"https://unpkg.com/vis-network/standalone/umd/vis-network.min.js\"\n",
              "    ></script>\n",
              "    <style type=\"text/css\">\n",
              "      #mynetwork {\n",
              "        width: 600px;\n",
              "        height: 400px;\n",
              "        border: 1px solid lightgray;\n",
              "      }\n",
              "    </style>\n",
              "  </head>\n",
              "  <body>\n",
              "    <div id=\"mynetwork\"></div>\n",
              "    <script type=\"text/javascript\">\n",
              "      // create an array with nodes\n",
              "      var nodes = new vis.DataSet([\n",
              "        { id: 1, label: \"Node 1\", hidden: true },\n",
              "        { id: 2, label: \"Node 2\" },\n",
              "        { id: 3, label: \"Node 3\" },\n",
              "        { id: 4, label: \"Node 4\" },\n",
              "        { id: 5, label: \"Node 5\" },\n",
              "      ]);\n",
              "\n",
              "      // create an array with edges\n",
              "      var edges = new vis.DataSet([\n",
              "        { from: 1, to: 3 },\n",
              "        { from: 1, to: 2 },\n",
              "        { from: 2, to: 4 },\n",
              "        { from: 2, to: 5 },\n",
              "        { from: 3, to: 3 },\n",
              "      ]);\n",
              "\n",
              "      // create a network\n",
              "      var container = document.getElementById(\"mynetwork\");\n",
              "      var data = {\n",
              "        nodes: nodes,\n",
              "        edges: edges,\n",
              "      };\n",
              "      var options = {};\n",
              "      var network = new vis.Network(container, data, options);\n",
              "\n",
              "      network.on( 'click', function(properties) {\n",
              "        var nodeId = network.getNodeAt({x:properties.event.srcEvent.offsetX, y:properties.event.srcEvent.offsetY});\n",
              "        var update_array = [{id: nodeId, hidden: true}]\n",
              "        nodes.update(update_array)\n",
              "      });\n",
              "\n",
              "      function myFunction() {\n",
              "          var new_options = {\"nodes\": {\"color\": {\"background\": \"red\"}}}\n",
              "          var update_array = [{id: 1, hidden: false}]\n",
              "          nodes.update(update_array)\n",
              "          network.setOptions(new_options)\n",
              "        }\n",
              "    </script>\n",
              "     <button type=\"button\" onclick=\"myFunction()\">Click Me!</button> \n",
              "  </body>\n",
              "</html>"
            ],
            "text/plain": [
              "<IPython.core.display.HTML object>"
            ]
          },
          "metadata": {},
          "output_type": "display_data"
        }
      ],
      "source": [
        "# from ipywidgets import HTML\n",
        "from IPython.display import HTML, display\n",
        "from IPython.display import IFrame\n",
        "\n",
        "html = \"\"\"\n",
        "<html>\n",
        "  <head>\n",
        "    <title>Network</title>\n",
        "    <script\n",
        "      type=\"text/javascript\"\n",
        "      src=\"https://unpkg.com/vis-network/standalone/umd/vis-network.min.js\"\n",
        "    ></script>\n",
        "    <style type=\"text/css\">\n",
        "      #mynetwork {\n",
        "        width: 600px;\n",
        "        height: 400px;\n",
        "        border: 1px solid lightgray;\n",
        "      }\n",
        "    </style>\n",
        "  </head>\n",
        "  <body>\n",
        "    <div id=\"mynetwork\"></div>\n",
        "    <script type=\"text/javascript\">\n",
        "      // create an array with nodes\n",
        "      var nodes = new vis.DataSet([\n",
        "        { id: 1, label: \"Node 1\", hidden: true },\n",
        "        { id: 2, label: \"Node 2\" },\n",
        "        { id: 3, label: \"Node 3\" },\n",
        "        { id: 4, label: \"Node 4\" },\n",
        "        { id: 5, label: \"Node 5\" },\n",
        "      ]);\n",
        "\n",
        "      // create an array with edges\n",
        "      var edges = new vis.DataSet([\n",
        "        { from: 1, to: 3 },\n",
        "        { from: 1, to: 2 },\n",
        "        { from: 2, to: 4 },\n",
        "        { from: 2, to: 5 },\n",
        "        { from: 3, to: 3 },\n",
        "      ]);\n",
        "\n",
        "      // create a network\n",
        "      var container = document.getElementById(\"mynetwork\");\n",
        "      var data = {\n",
        "        nodes: nodes,\n",
        "        edges: edges,\n",
        "      };\n",
        "      var options = {};\n",
        "      var network = new vis.Network(container, data, options);\n",
        "\n",
        "      network.on( 'click', function(properties) {\n",
        "        var nodeId = network.getNodeAt({x:properties.event.srcEvent.offsetX, y:properties.event.srcEvent.offsetY});\n",
        "        var update_array = [{id: nodeId, hidden: true}]\n",
        "        nodes.update(update_array)\n",
        "      });\n",
        "\n",
        "      function myFunction() {\n",
        "          var new_options = {\"nodes\": {\"color\": {\"background\": \"red\"}}}\n",
        "          var update_array = [{id: 1, hidden: false}]\n",
        "          nodes.update(update_array)\n",
        "          network.setOptions(new_options)\n",
        "        }\n",
        "    </script>\n",
        "     <button type=\"button\" onclick=\"myFunction()\">Click Me!</button> \n",
        "  </body>\n",
        "</html>\"\"\"\n",
        "\n",
        "display(HTML(html))"
      ]
    },
    {
      "cell_type": "code",
      "execution_count": 2,
      "id": "600bb04c-7cea-4e05-9ea9-272844d9c909",
      "metadata": {
        "execution": {
          "iopub.execute_input": "2024-08-20T17:16:04.052956Z",
          "iopub.status.busy": "2024-08-20T17:16:04.052575Z",
          "iopub.status.idle": "2024-08-20T17:16:04.079904Z",
          "shell.execute_reply": "2024-08-20T17:16:04.079271Z"
        }
      },
      "outputs": [],
      "source": [
        "button = \"\"\"\n",
        "\n",
        "\"\"\""
      ]
    },
    {
      "cell_type": "code",
      "execution_count": 3,
      "id": "51745948-3c4e-438e-9a1f-544127e8f648",
      "metadata": {
        "execution": {
          "iopub.execute_input": "2024-08-20T17:16:04.083242Z",
          "iopub.status.busy": "2024-08-20T17:16:04.083001Z",
          "iopub.status.idle": "2024-08-20T17:16:04.092254Z",
          "shell.execute_reply": "2024-08-20T17:16:04.091745Z"
        }
      },
      "outputs": [
        {
          "data": {
            "text/html": [
              "<script>alert()</script>"
            ],
            "text/plain": [
              "<IPython.core.display.HTML object>"
            ]
          },
          "metadata": {},
          "output_type": "display_data"
        }
      ],
      "source": [
        "display(HTML(\"<script>alert()</script>\"))"
      ]
    },
    {
      "cell_type": "code",
      "execution_count": null,
      "id": "51d5c644-7907-4852-9028-15a54e99a97c",
      "metadata": {},
      "outputs": [],
      "source": []
    }
  ],
  "metadata": {
    "kernelspec": {
      "display_name": "Python (stormvogel)",
      "language": "python",
      "name": "stormvogel-env"
    },
    "language_info": {
      "codemirror_mode": {
        "name": "ipython",
        "version": 3
      },
      "file_extension": ".py",
      "mimetype": "text/x-python",
      "name": "python",
      "nbconvert_exporter": "python",
      "pygments_lexer": "ipython3",
      "version": "3.11.2"
    }
  },
  "nbformat": 4,
  "nbformat_minor": 5
}
