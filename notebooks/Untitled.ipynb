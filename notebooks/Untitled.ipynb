{
  "cells": [
    {
      "cell_type": "code",
      "execution_count": 4,
      "id": "3b25d462-2b1a-49ae-9904-6cef00fe28ab",
      "metadata": {},
      "outputs": [],
      "source": [
        "def p():\n",
        "    pass"
      ]
    },
    {
      "cell_type": "code",
      "execution_count": 5,
      "id": "f84a9b01-7171-48bd-9c33-af3e1cda603b",
      "metadata": {},
      "outputs": [
        {
          "name": "stdout",
          "output_type": "stream",
          "text": [
            "hi\n"
          ]
        }
      ],
      "source": [
        "import stormvogel.dict_editor\n",
        "\n",
        "print(\"hi\")"
      ]
    },
    {
      "cell_type": "code",
      "execution_count": 7,
      "id": "fca93fa1-50fd-426b-bdf3-2ae7c676ce0a",
      "metadata": {},
      "outputs": [
        {
          "data": {
            "application/vnd.jupyter.widget-view+json": {
              "model_id": "145e215f398047a895a803b9db09ef40",
              "version_major": 2,
              "version_minor": 0
            },
            "text/plain": [
              "Output()"
            ]
          },
          "metadata": {},
          "output_type": "display_data"
        }
      ],
      "source": [
        "from stormvogel.visualization import Visualization\n",
        "from stormvogel.layout import DEFAULT\n",
        "mdp = stormvogel.model.new_mdp(\"Monty Hall\")\n",
        "layout = DEFAULT()\n",
        "vis = Visualization(model=mdp, name=\"harry\", layout=layout, do_display=True)\n",
        "de = stormvogel.dict_editor.DictEditor(layout.schema, layout.layout, p)\n",
        "de.show()"
      ]
    },
    {
      "cell_type": "code",
      "execution_count": null,
      "id": "b5cbe554-f8c9-4748-8d2c-176c39d5deba",
      "metadata": {},
      "outputs": [],
      "source": []
    }
  ],
  "metadata": {
    "kernelspec": {
      "display_name": "Python (stormvogel)",
      "language": "python",
      "name": "stormvogel-env"
    },
    "language_info": {
      "codemirror_mode": {
        "name": "ipython",
        "version": 3
      },
      "file_extension": ".py",
      "mimetype": "text/x-python",
      "name": "python",
      "nbconvert_exporter": "python",
      "pygments_lexer": "ipython3",
      "version": "3.11.2"
    }
  },
  "nbformat": 4,
  "nbformat_minor": 5
}
