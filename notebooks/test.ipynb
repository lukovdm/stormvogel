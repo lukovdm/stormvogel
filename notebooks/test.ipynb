{
  "cells": [
    {
      "cell_type": "code",
      "execution_count": 1,
      "id": "bf89f677-f870-4ded-aaa3-0a5b760d9f7e",
      "metadata": {},
      "outputs": [
        {
          "ename": "NameError",
          "evalue": "name 'my_func' is not defined",
          "output_type": "error",
          "traceback": [
            "\u001b[0;31m---------------------------------------------------------------------------\u001b[0m",
            "\u001b[0;31mNameError\u001b[0m                                 Traceback (most recent call last)",
            "Cell \u001b[0;32mIn[1], line 5\u001b[0m\n\u001b[1;32m      3\u001b[0m t \u001b[38;5;241m=\u001b[39m Text()\n\u001b[1;32m      4\u001b[0m i \u001b[38;5;241m=\u001b[39m IntSlider()\n\u001b[0;32m----> 5\u001b[0m i2 \u001b[38;5;241m=\u001b[39m interactive(\u001b[43mmy_func\u001b[49m, x\u001b[38;5;241m=\u001b[39mi)\n\u001b[1;32m      6\u001b[0m accordion \u001b[38;5;241m=\u001b[39m Accordion(children\u001b[38;5;241m=\u001b[39m[i2, t, HTML(\u001b[38;5;124m\"\u001b[39m\u001b[38;5;124m<h1>HI</h1>\u001b[39m\u001b[38;5;124m\"\u001b[39m)])\n\u001b[1;32m      7\u001b[0m display(accordion)\n",
            "\u001b[0;31mNameError\u001b[0m: name 'my_func' is not defined"
          ]
        }
      ],
      "source": [
        "from ipywidgets import Accordion, Text, IntSlider, HTML, interactive, HBox, Label\n",
        "\n",
        "t = Text()\n",
        "i = IntSlider()\n",
        "i2 = interactive(my_func, x=i)\n",
        "accordion = Accordion(children=[i2, t, HTML(\"<h1>HI</h1>\")])\n",
        "display(accordion)\n",
        "\n",
        "\n",
        "\n"
      ]
    },
    {
      "cell_type": "code",
      "execution_count": null,
      "id": "31df2b20-de10-4e2c-9f84-0d187a50fdd4",
      "metadata": {},
      "outputs": [],
      "source": [
        "def my_func(x):\n",
        "    print(\"hey now\")\n",
        "    return x\n",
        "\n",
        "y = interactive(my_func, x=i)"
      ]
    },
    {
      "cell_type": "code",
      "execution_count": null,
      "id": "28a68116-3694-453a-8f65-25f4bf79ac7d",
      "metadata": {},
      "outputs": [],
      "source": [
        "items = [Label(str(i)) for i in range(4)]\n",
        "HBox(items)"
      ]
    },
    {
      "cell_type": "code",
      "execution_count": null,
      "id": "c0fbc1f0-ae01-4d9d-be26-50b86704e986",
      "metadata": {},
      "outputs": [],
      "source": []
    }
  ],
  "metadata": {
    "kernelspec": {
      "display_name": "Python 3 (ipykernel)",
      "language": "python",
      "name": "python3"
    },
    "language_info": {
      "codemirror_mode": {
        "name": "ipython",
        "version": 3
      },
      "file_extension": ".py",
      "mimetype": "text/x-python",
      "name": "python",
      "nbconvert_exporter": "python",
      "pygments_lexer": "ipython3",
      "version": "3.11.2"
    }
  },
  "nbformat": 4,
  "nbformat_minor": 5
}
