{
  "cells": [
    {
      "cell_type": "code",
      "execution_count": 1,
      "id": "9573107c-46a3-4d78-b402-fc0ed1ea4a79",
      "metadata": {},
      "outputs": [
        {
          "name": "stderr",
          "output_type": "stream",
          "text": [
            "ERROR:root:Server port taken.\n"
          ]
        },
        {
          "name": "stdout",
          "output_type": "stream",
          "text": [
            "Stormvogel could not run an internal server to communicate between local processes on localhost:8080.\n",
            "Stormvogel is still usable without this, but a few visualization features might not be available. set stormvogel.communication_server.server_warning to False to ignore this message.\n",
            "This might be solved as such:\n",
            "1) If you already had a stormvogel notebook with a Network or Visualization or show.show in it in this lab session, change the kernel of the current notebook to be the SAME KERNEL (Top right, use kernel for preferred session and look for the name of the PREVIOUS notebook).\n",
            "You can also simply restart all kernels but it might break again.\n",
            "2) Port 8080 might already be used by another process. Try changing stormvogel.communication_server.server_port and running again.\n",
            "Please contact the stormvogel developpers if you keep running into issues.\n"
          ]
        },
        {
          "data": {
            "application/vnd.jupyter.widget-view+json": {
              "model_id": "b657771012a146009f7825a9d69e015d",
              "version_major": 2,
              "version_minor": 0
            },
            "text/plain": [
              "Output()"
            ]
          },
          "metadata": {},
          "output_type": "display_data"
        }
      ],
      "source": [
        "from stormvogel.visjs import Network\n",
        "\n",
        "nt = Network(name=\"neem\")\n",
        "nt.add_node(id=0)\n",
        "nt.add_node(id=1, label=\"lol\\n hi\")\n",
        "nt.add_node(id=2, label=\"lol\")\n",
        "nt.add_node(id=3, label=\"hi\")\n",
        "nt.add_node(id=5, label=\"do' not\")\n",
        "nt.add_edge(0, 1, label=\"hi\")\n",
        "nt.add_edge(0, 2)\n",
        "nt.set_options('{}')\n",
        "nt.show()\n"
      ]
    },
    {
      "cell_type": "code",
      "execution_count": 2,
      "id": "2f92467b-9937-47e3-8837-f9e322b0bfe9",
      "metadata": {},
      "outputs": [
        {
          "ename": "AttributeError",
          "evalue": "'NoneType' object has no attribute 'request'",
          "output_type": "error",
          "traceback": [
            "\u001b[0;31m---------------------------------------------------------------------------\u001b[0m",
            "\u001b[0;31mAttributeError\u001b[0m                            Traceback (most recent call last)",
            "Cell \u001b[0;32mIn[2], line 7\u001b[0m\n\u001b[1;32m      5\u001b[0m serv\u001b[38;5;241m.\u001b[39mserver_running\n\u001b[1;32m      6\u001b[0m serv\u001b[38;5;241m.\u001b[39mserver\n\u001b[0;32m----> 7\u001b[0m \u001b[43mserv\u001b[49m\u001b[38;5;241;43m.\u001b[39;49m\u001b[43mserver\u001b[49m\u001b[38;5;241;43m.\u001b[39;49m\u001b[43mrequest\u001b[49m(\u001b[38;5;124m\"\u001b[39m\u001b[38;5;124mString(6)\u001b[39m\u001b[38;5;124m\"\u001b[39m)\n",
            "\u001b[0;31mAttributeError\u001b[0m: 'NoneType' object has no attribute 'request'"
          ]
        }
      ],
      "source": [
        "import stormvogel.communication_server as serv\n",
        "\n",
        "\n",
        "\n",
        "serv.server_running\n",
        "serv.server\n",
        "serv.server.request(\"String(6)\")"
      ]
    },
    {
      "cell_type": "code",
      "execution_count": 8,
      "id": "74486ec8-a0ae-4724-bff2-bc7200dc1241",
      "metadata": {},
      "outputs": [
        {
          "data": {
            "text/plain": [
              "{}"
            ]
          },
          "execution_count": 8,
          "metadata": {},
          "output_type": "execute_result"
        }
      ],
      "source": [
        "import stormvogel\n",
        "stormvogel.communication_server.awaiting"
      ]
    },
    {
      "cell_type": "code",
      "execution_count": 4,
      "id": "b49e07e5-bbe3-49ec-ae19-7091ba1d95d6",
      "metadata": {},
      "outputs": [
        {
          "data": {
            "text/plain": [
              "True"
            ]
          },
          "execution_count": 4,
          "metadata": {},
          "output_type": "execute_result"
        }
      ],
      "source": [
        "serv.server_running"
      ]
    },
    {
      "cell_type": "code",
      "execution_count": 2,
      "id": "dda68ca7-94d7-4549-884a-d4c8f1686c06",
      "metadata": {},
      "outputs": [
        {
          "name": "stdout",
          "output_type": "stream",
          "text": [
            "<stormvogel.communication_server.CommunicationServer object at 0x7fdbab426390>\n"
          ]
        },
        {
          "data": {
            "text/plain": [
              "<stormvogel.communication_server.CommunicationServer at 0x7fdbab426390>"
            ]
          },
          "execution_count": 2,
          "metadata": {},
          "output_type": "execute_result"
        }
      ],
      "source": [
        "import stormvogel.communication_server as serv\n",
        "\n",
        "serv.initialize_server()"
      ]
    },
    {
      "cell_type": "code",
      "execution_count": 4,
      "id": "e08617a3-7978-4e26-a3d9-15c34e6bf0e6",
      "metadata": {},
      "outputs": [
        {
          "name": "stdout",
          "output_type": "stream",
          "text": [
            "Stored 'serv' (module)\n"
          ]
        },
        {
          "name": "stderr",
          "output_type": "stream",
          "text": [
            "/home/ivo/git/stormvogel/.venv/lib/python3.11/site-packages/IPython/extensions/storemagic.py:229: UserWarning: This is now an optional IPython functionality, setting autorestore/serv requires you to install the `pickleshare` library.\n",
            "  db[ 'autorestore/' + arg ] = obj\n"
          ]
        }
      ],
      "source": [
        "%store serv"
      ]
    },
    {
      "cell_type": "code",
      "execution_count": null,
      "id": "8a066717-ddea-41c1-ac4f-58843e19582b",
      "metadata": {},
      "outputs": [],
      "source": []
    }
  ],
  "metadata": {
    "kernelspec": {
      "display_name": "Python (stormvogel)",
      "language": "python",
      "name": "stormvogel-env"
    },
    "language_info": {
      "codemirror_mode": {
        "name": "ipython",
        "version": 3
      },
      "file_extension": ".py",
      "mimetype": "text/x-python",
      "name": "python",
      "nbconvert_exporter": "python",
      "pygments_lexer": "ipython3",
      "version": "3.11.2"
    }
  },
  "nbformat": 4,
  "nbformat_minor": 5
}
