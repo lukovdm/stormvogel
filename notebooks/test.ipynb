{
  "cells": [
    {
      "cell_type": "code",
      "execution_count": 9,
      "id": "c0fbc1f0-ae01-4d9d-be26-50b86704e986",
      "metadata": {},
      "outputs": [],
      "source": [
        "def add(a, b):\n",
        "   res = a + b\n",
        "   return res"
      ]
    },
    {
      "cell_type": "code",
      "execution_count": 10,
      "id": "35f9e65b-befa-4a93-9749-97b073bee13a",
      "metadata": {},
      "outputs": [
        {
          "name": "stdout",
          "output_type": "stream",
          "text": [
            "3\n"
          ]
        }
      ],
      "source": [
        "result = add(1, 2)\n",
        "print(result)"
      ]
    },
    {
      "cell_type": "code",
      "execution_count": 7,
      "id": "6375aab2-107c-4b1c-9566-4a4007414d5c",
      "metadata": {},
      "outputs": [
        {
          "name": "stdout",
          "output_type": "stream",
          "text": [
            "Warning: When  cdn_resources is 'local' jupyter notebook has issues displaying graphics on chrome/safari. Use cdn_resources='in_line' or cdn_resources='remote' if you have issues viewing graphics in a notebook.\n",
            "temp.html\n"
          ]
        },
        {
          "data": {
            "text/html": [
              "\n",
              "        <iframe\n",
              "            width=\"100%\"\n",
              "            height=\"600px\"\n",
              "            src=\"temp.html\"\n",
              "            frameborder=\"0\"\n",
              "            allowfullscreen\n",
              "            \n",
              "        ></iframe>\n",
              "        "
            ],
            "text/plain": [
              "<IPython.lib.display.IFrame at 0x7fc9406b6f50>"
            ]
          },
          "execution_count": 7,
          "metadata": {},
          "output_type": "execute_result"
        }
      ],
      "source": [
        "from pyvis.network import Network\n",
        "net = Network(notebook=True)\n",
        "net.add_node(1, label=\"Node 1\", color=\"green\")\n",
        "net.add_node(2, label=\"Node 2\")\n",
        "net.add_edge(1, 2)\n",
        "net.set_options(\"\"\"\n",
        "const options = {\n",
        "  \"edges\": {\n",
        "    \"color\": {\n",
        "      \"inherit\": \"from\",\n",
        "      \"color\": \"red\"\n",
        "    },\n",
        "    \"selfReferenceSize\": null,\n",
        "    \"selfReference\": {\n",
        "      \"angle\": 0.7853981633974483\n",
        "    },\n",
        "    \"smooth\": {\n",
        "      \"forceDirection\": \"none\"\n",
        "    }\n",
        "  },\n",
        "  \"physics\": {\n",
        "    \"minVelocity\": 0.75\n",
        "  }\n",
        "}\"\"\")\n",
        "# net.show_buttons()\n",
        "net.show(\"temp.html\")"
      ]
    },
    {
      "cell_type": "code",
      "execution_count": null,
      "id": "c2544ac7-236f-40d0-811a-073147ab84ea",
      "metadata": {},
      "outputs": [],
      "source": []
    }
  ],
  "metadata": {
    "kernelspec": {
      "display_name": "Python 3 (ipykernel)",
      "language": "python",
      "name": "python3"
    },
    "language_info": {
      "codemirror_mode": {
        "name": "ipython",
        "version": 3
      },
      "file_extension": ".py",
      "mimetype": "text/x-python",
      "name": "python",
      "nbconvert_exporter": "python",
      "pygments_lexer": "ipython3",
      "version": "3.11.2"
    }
  },
  "nbformat": 4,
  "nbformat_minor": 5
}
