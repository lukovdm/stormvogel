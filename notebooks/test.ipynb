{
  "cells": [
    {
      "cell_type": "code",
      "execution_count": 3,
      "id": "9573107c-46a3-4d78-b402-fc0ed1ea4a79",
      "metadata": {},
      "outputs": [
        {
          "data": {
            "application/vnd.jupyter.widget-view+json": {
              "model_id": "f54454cde93f4446bc04a3e5d08b29bf",
              "version_major": 2,
              "version_minor": 0
            },
            "text/plain": [
              "Output()"
            ]
          },
          "metadata": {},
          "output_type": "display_data"
        }
      ],
      "source": [
        "from stormvogel.visjs import Network\n",
        "\n",
        "nt = Network(name=\"neem\")\n",
        "nt.add_node(id=0)\n",
        "nt.add_node(id=1, label=\"lol\\n hi\")\n",
        "nt.add_node(id=2, label=\"lol\")\n",
        "nt.add_node(id=3, label=\"hi\")\n",
        "nt.add_node(id=5, label=\"do' not\")\n",
        "nt.add_edge(0, 1, label=\"hi\")\n",
        "nt.add_edge(0, 2)\n",
        "nt.set_options('{}')\n",
        "nt.show()\n"
      ]
    },
    {
      "cell_type": "code",
      "execution_count": 4,
      "id": "2f92467b-9937-47e3-8837-f9e322b0bfe9",
      "metadata": {},
      "outputs": [
        {
          "data": {
            "text/html": [
              "<script>fetch('http://127.0.0.1:8080/vvCLGCCPfl/MESSAGE/' + String(6))</script>"
            ],
            "text/plain": [
              "<IPython.core.display.HTML object>"
            ]
          },
          "metadata": {},
          "output_type": "display_data"
        },
        {
          "data": {
            "text/plain": [
              "'6'"
            ]
          },
          "execution_count": 4,
          "metadata": {},
          "output_type": "execute_result"
        }
      ],
      "source": [
        "import stormvogel.communication_server as serv\n",
        "\n",
        "\n",
        "\n",
        "serv.server_running\n",
        "serv.server\n",
        "serv.server.request(\"String(6)\")"
      ]
    },
    {
      "cell_type": "code",
      "execution_count": 5,
      "id": "74486ec8-a0ae-4724-bff2-bc7200dc1241",
      "metadata": {},
      "outputs": [
        {
          "data": {
            "text/plain": [
              "{}"
            ]
          },
          "execution_count": 5,
          "metadata": {},
          "output_type": "execute_result"
        }
      ],
      "source": [
        "import stormvogel\n",
        "stormvogel.communication_server.awaiting"
      ]
    },
    {
      "cell_type": "code",
      "execution_count": 4,
      "id": "b49e07e5-bbe3-49ec-ae19-7091ba1d95d6",
      "metadata": {},
      "outputs": [
        {
          "data": {
            "text/plain": [
              "True"
            ]
          },
          "execution_count": 4,
          "metadata": {},
          "output_type": "execute_result"
        }
      ],
      "source": [
        "serv.server_running"
      ]
    },
    {
      "cell_type": "code",
      "execution_count": 6,
      "id": "dda68ca7-94d7-4549-884a-d4c8f1686c06",
      "metadata": {},
      "outputs": [
        {
          "data": {
            "text/plain": [
              "<stormvogel.communication_server.CommunicationServer at 0x7f008b774e10>"
            ]
          },
          "execution_count": 6,
          "metadata": {},
          "output_type": "execute_result"
        }
      ],
      "source": [
        "import stormvogel.communication_server as serv\n",
        "\n",
        "serv.initialize_server()"
      ]
    }
  ],
  "metadata": {
    "kernelspec": {
      "display_name": "Python (stormvogel)",
      "language": "python",
      "name": "stormvogel-env"
    },
    "language_info": {
      "codemirror_mode": {
        "name": "ipython",
        "version": 3
      },
      "file_extension": ".py",
      "mimetype": "text/x-python",
      "name": "python",
      "nbconvert_exporter": "python",
      "pygments_lexer": "ipython3",
      "version": "3.11.2"
    }
  },
  "nbformat": 4,
  "nbformat_minor": 5
}
