{
  "cells": [
    {
      "cell_type": "code",
      "execution_count": 1,
      "id": "c0fbc1f0-ae01-4d9d-be26-50b86704e986",
      "metadata": {
        "execution": {
          "iopub.execute_input": "2024-08-20T13:42:35.366560Z",
          "iopub.status.busy": "2024-08-20T13:42:35.366343Z",
          "iopub.status.idle": "2024-08-20T13:42:35.369964Z",
          "shell.execute_reply": "2024-08-20T13:42:35.369431Z"
        }
      },
      "outputs": [],
      "source": [
        "def add(a, b):\n",
        "   res = a + b\n",
        "   return res"
      ]
    },
    {
      "cell_type": "code",
      "execution_count": 2,
      "id": "35f9e65b-befa-4a93-9749-97b073bee13a",
      "metadata": {
        "execution": {
          "iopub.execute_input": "2024-08-20T13:42:35.372427Z",
          "iopub.status.busy": "2024-08-20T13:42:35.372233Z",
          "iopub.status.idle": "2024-08-20T13:42:35.375535Z",
          "shell.execute_reply": "2024-08-20T13:42:35.374909Z"
        }
      },
      "outputs": [
        {
          "data": {
            "application/vnd.jupyter.widget-view+json": {
              "model_id": "d35d7d42c6304da2bd6f780d835cc2d6",
              "version_major": 2,
              "version_minor": 0
            },
            "text/plain": [
              "Output(outputs=({'output_type': 'display_data', 'data': {'text/plain': '<IPython.core.display.HTML object>', '\u2026"
            ]
          },
          "metadata": {},
          "output_type": "display_data"
        }
      ],
      "source": [
        "from stormvogel.visjs import Network\n",
        "\n",
        "nt = Network(name=\"neem\")\n",
        "nt.enable_exploration_mode(0)\n",
        "nt.add_node(id=0)\n",
        "nt.add_node(id=1, label=\"lol\\n hi\")\n",
        "nt.add_node(id=2, label=\"lol\")\n",
        "nt.add_node(id=3, label=\"hi\")\n",
        "nt.add_node(id=5, label=\"do' not\")\n",
        "nt.add_edge(0, 1, label=\"hi\")\n",
        "nt.add_edge(0, 2)\n",
        "nt.set_options('{nodes: {color: {background: \"red\"}}}')\n",
        "nt.show()\n",
        "\n"
      ]
    },
    {
      "cell_type": "code",
      "execution_count": 3,
      "id": "6375aab2-107c-4b1c-9566-4a4007414d5c",
      "metadata": {
        "execution": {
          "iopub.execute_input": "2024-08-20T13:42:35.377962Z",
          "iopub.status.busy": "2024-08-20T13:42:35.377733Z",
          "iopub.status.idle": "2024-08-20T13:42:35.513131Z",
          "shell.execute_reply": "2024-08-20T13:42:35.512682Z"
        }
      },
      "outputs": [
        {
          "name": "stdout",
          "output_type": "stream",
          "text": [
            "\n",
            "<!DOCTYPE html>\n",
            "<html lang=\"en\">\n",
            "  <head>\n",
            "    <title>Network</title>\n",
            "    <script\n",
            "      type=\"text/javascript\"\n",
            "      src=\"https://unpkg.com/vis-network/standalone/umd/vis-network.min.js\"\n",
            "    ></script>\n",
            "    <style type=\"text/css\">\n",
            "      #mynetwork {\n",
            "        \n",
            "        width: 800px;\n",
            "        height: 600px;\n",
            "        border: 1px solid lightgray;\n",
            "        \n",
            "      }\n",
            "    </style>\n",
            "  </head>\n",
            "  <body>\n",
            "    <div id=\"mynetwork\"></div>\n",
            "    <script type=\"text/javascript\">\n",
            "        \n",
            "        var nodes = new vis.DataSet([{ id: 0 },\n",
            "{ id: 1, label: `lol\n",
            " hi` },\n",
            "{ id: 2, label: `lol` },\n",
            "{ id: 3, label: `hi` },\n",
            "{ id: 5, label: `do' not` },\n",
            "]);\n",
            "        var edges = new vis.DataSet([{ from: 0, to: 1, label: \"hi\" },\n",
            "{ from: 0, to: 2 },\n",
            "]);\n",
            "        var options = {};\n",
            "        //js\n",
            "var container = document.getElementById(\"mynetwork\");\n",
            "var data = {\n",
            "    nodes: nodes,\n",
            "    edges: edges,\n",
            "};\n",
            "var network = new vis.Network(container, data, options);\n",
            "function makeAllNodesInvisible() {\n",
            "    ids = nodes.getIds();\n",
            "    for (let i = 0; i < ids.length; i++) {\n",
            "        var nodeId = ids[i];\n",
            "        var node = nodes.get(nodeId);\n",
            "        node[\"hidden\"] = true;\n",
            "        nodes.update(node);\n",
            "    } \n",
            "};\n",
            "function makeNeighborsVisible(myNode) {\n",
            "    var ids = network.getConnectedNodes(myNode, 'to');\n",
            "    for (let i = 0; i < ids.length; i++) {\n",
            "        var nodeId = ids[i];\n",
            "        var node = nodes.get(nodeId);\n",
            "        node[\"hidden\"] = false;\n",
            "        nodes.update(node);\n",
            "    }\n",
            "};\n",
            "function makeNodeVisible(nodeId) {\n",
            "    var node = nodes.get(nodeId);\n",
            "    node[\"hidden\"] = false;\n",
            "    nodes.update(node);\n",
            "};\n",
            "network.on( 'click', function(properties) {\n",
            "    var nodeId = network.getNodeAt({x:properties.event.srcEvent.offsetX, y:properties.event.srcEvent.offsetY});\n",
            "    makeNeighborsVisible(nodeId);\n",
            "});\n",
            "\n",
            "    </script>\n",
            "  </body>\n",
            "</html>\n",
            "\n"
          ]
        },
        {
          "data": {
            "application/javascript": [
              "document.getElementById('neem').contentWindow.makeAllNodesInvisible()"
            ],
            "text/plain": [
              "<IPython.core.display.Javascript object>"
            ]
          },
          "metadata": {},
          "output_type": "display_data"
        },
        {
          "data": {
            "application/javascript": [
              "document.getElementById('neem').contentWindow.makeNodeVisible(0)"
            ],
            "text/plain": [
              "<IPython.lib.display.IFrame at 0x7f006f864d70>"
            ]
          },
          "execution_count": 3,
          "metadata": {},
          "output_type": "display_data"
        }
      ],
      "source": [
        "print(nt.generate_html())\n",
        "nt.update_exploration_mode(0)"
      ]
    },
    {
      "cell_type": "code",
      "execution_count": null,
      "id": "8e80054e-dd5e-4a0f-b0f8-4faf34786a9c",
      "metadata": {},
      "outputs": [],
      "source": []
    }
  ],
  "metadata": {
    "kernelspec": {
      "display_name": "Python (stormvogel)",
      "language": "python",
      "name": "stormvogel-env"
    },
    "language_info": {
      "codemirror_mode": {
        "name": "ipython",
        "version": 3
      },
      "file_extension": ".py",
      "mimetype": "text/x-python",
      "name": "python",
      "nbconvert_exporter": "python",
      "pygments_lexer": "ipython3",
      "version": "3.11.2"
    }
  },
  "nbformat": 4,
  "nbformat_minor": 5
}
