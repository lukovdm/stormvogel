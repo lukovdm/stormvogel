{
  "cells": [
    {
      "cell_type": "code",
      "execution_count": 1,
      "id": "bf89f677-f870-4ded-aaa3-0a5b760d9f7e",
      "metadata": {},
      "outputs": [
        {
          "name": "stdout",
          "output_type": "stream",
          "text": [
            "test.html\n"
          ]
        }
      ],
      "source": [
        "from pyvis.network import Network\n",
        "g = Network(notebook=True, cdn_resources=\"remote\")\n",
        "g.add_node(1, group=\"grup\")\n",
        "g.add_node(2, group=\"not grup\")\n",
        "g.show_buttons()\n",
        "\n",
        "g.show(\"test.html\")\n",
        "# g.set_options(\n",
        "# \"\"\"var options = {\n",
        "#     \"groups\": {\n",
        "#         \"grup\" : {\n",
        "#             \"color\" : {\n",
        "#                 \"background\": \"green\",\n",
        "#                 \"border\": \"red\"\n",
        "#             }\n",
        "#         }\n",
        "#     }\n",
        "# }\n",
        "# \"\"\"\n",
        "# )\n"
      ]
    },
    {
      "cell_type": "code",
      "execution_count": null,
      "id": "31df2b20-de10-4e2c-9f84-0d187a50fdd4",
      "metadata": {},
      "outputs": [],
      "source": []
    }
  ],
  "metadata": {
    "kernelspec": {
      "display_name": "Python 3 (ipykernel)",
      "language": "python",
      "name": "python3"
    },
    "language_info": {
      "codemirror_mode": {
        "name": "ipython",
        "version": 3
      },
      "file_extension": ".py",
      "mimetype": "text/x-python",
      "name": "python",
      "nbconvert_exporter": "python",
      "pygments_lexer": "ipython3",
      "version": "3.11.2"
    }
  },
  "nbformat": 4,
  "nbformat_minor": 5
}
