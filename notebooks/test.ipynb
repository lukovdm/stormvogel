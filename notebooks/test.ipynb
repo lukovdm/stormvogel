{
  "cells": [
    {
      "cell_type": "code",
      "execution_count": 7,
      "id": "9573107c-46a3-4d78-b402-fc0ed1ea4a79",
      "metadata": {},
      "outputs": [
        {
          "data": {
            "text/html": [
              "\n",
              "          <iframe\n",
              "                id=\"neem\"\n",
              "                width=\"650\"\n",
              "                height=\"450\"\n",
              "                frameborder=\"0\"\n",
              "                srcdoc=\"\n",
              "&lt;!DOCTYPE html&gt;\n",
              "&lt;html lang=&quot;en&quot;&gt;\n",
              "  &lt;head&gt;\n",
              "    &lt;title&gt;Network&lt;/title&gt;\n",
              "    &lt;script\n",
              "      type=&quot;text/javascript&quot;\n",
              "      src=&quot;https://unpkg.com/vis-network/standalone/umd/vis-network.min.js&quot;\n",
              "    &gt;&lt;/script&gt;\n",
              "    &lt;style type=&quot;text/css&quot;&gt;\n",
              "      #mynetwork {\n",
              "        width: 600px;\n",
              "        height: 400px;\n",
              "        border: 1px solid lightgray;\n",
              "      }\n",
              "    &lt;/style&gt;\n",
              "  &lt;/head&gt;\n",
              "  &lt;body&gt;\n",
              "    &lt;div id=&quot;mynetwork&quot;&gt;&lt;/div&gt;\n",
              "    &lt;script type=&quot;text/javascript&quot;&gt;\n",
              "        \n",
              "        var nodes = new vis.DataSet([{ id: 0 },\n",
              "{ id: 1, label: `lol\n",
              " hi` },\n",
              "{ id: 2, label: `lol` },\n",
              "{ id: 3, label: `hi` },\n",
              "{ id: 5, label: `do&#x27; not` },\n",
              "]);\n",
              "        var edges = new vis.DataSet([{ from: 0, to: 1, label: &quot;hi&quot; },\n",
              "{ from: 0, to: 2 },\n",
              "]);\n",
              "        var options =  {};\n",
              "        \n",
              "var container = document.getElementById(&quot;mynetwork&quot;);\n",
              "var data = {\n",
              "    nodes: nodes,\n",
              "    edges: edges,\n",
              "};\n",
              "var network = new vis.Network(container, data, options);\n",
              "    &lt;/script&gt;\n",
              "  &lt;/body&gt;\n",
              "&lt;/html&gt;\n",
              "\"\n",
              "                border:none !important;\n",
              "                allowfullscreen webkitallowfullscreen mozallowfullscreen\n",
              "          ></iframe>"
            ],
            "text/plain": [
              "<IPython.core.display.HTML object>"
            ]
          },
          "metadata": {},
          "output_type": "display_data"
        }
      ],
      "source": [
        "from stormvogel.visjs import Network\n",
        "\n",
        "nt = Network(name=\"neem\")\n",
        "nt.add_node(id=0)\n",
        "nt.add_node(id=1, label=\"lol\\n hi\")\n",
        "nt.add_node(id=2, label=\"lol\")\n",
        "nt.add_node(id=3, label=\"hi\")\n",
        "nt.add_node(id=5, label=\"do' not\")\n",
        "nt.add_edge(0, 1, label=\"hi\")\n",
        "nt.add_edge(0, 2)\n",
        "nt.set_options('var options = {}')\n",
        "nt.show()\n"
      ]
    },
    {
      "cell_type": "code",
      "execution_count": 17,
      "id": "db3e8d3d-3d05-4fcf-a2de-36e95c684c2f",
      "metadata": {},
      "outputs": [
        {
          "data": {
            "text/html": [
              "<script>document.getElementById('neem').contentWindow.network.setOptions({\"nodes\": {\"color\": {\"background\": \"red\"}}});</script>"
            ],
            "text/plain": [
              "<IPython.core.display.HTML object>"
            ]
          },
          "metadata": {},
          "output_type": "display_data"
        }
      ],
      "source": [
        "nt.update_options('{\"nodes\": {\"color\": {\"background\": \"red\"}}}')"
      ]
    },
    {
      "cell_type": "code",
      "execution_count": 16,
      "id": "6005285b-7a10-45e9-b94c-f35cca126dae",
      "metadata": {},
      "outputs": [
        {
          "data": {
            "text/html": [
              "<script>document.getElementById('neem').contentWindow.network.setOptions({\"nodes\": {\"color\": {\"background\": \"lightblue\"}}});</script>"
            ],
            "text/plain": [
              "<IPython.core.display.HTML object>"
            ]
          },
          "metadata": {},
          "output_type": "display_data"
        }
      ],
      "source": [
        "nt.update_options('{\"nodes\": {\"color\": {\"background\": \"lightblue\"}}}')"
      ]
    },
    {
      "cell_type": "code",
      "execution_count": null,
      "id": "7d16f742-6d6e-4daf-bbf5-215d49ccbbe5",
      "metadata": {},
      "outputs": [],
      "source": []
    }
  ],
  "metadata": {
    "kernelspec": {
      "display_name": "Python (stormvogel)",
      "language": "python",
      "name": "stormvogel-env"
    },
    "language_info": {
      "codemirror_mode": {
        "name": "ipython",
        "version": 3
      },
      "file_extension": ".py",
      "mimetype": "text/x-python",
      "name": "python",
      "nbconvert_exporter": "python",
      "pygments_lexer": "ipython3",
      "version": "3.11.2"
    }
  },
  "nbformat": 4,
  "nbformat_minor": 5
}
