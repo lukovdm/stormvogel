{
  "cells": [
    {
      "cell_type": "code",
      "execution_count": 1,
      "id": "9573107c-46a3-4d78-b402-fc0ed1ea4a79",
      "metadata": {},
      "outputs": [
        {
          "data": {
            "application/vnd.jupyter.widget-view+json": {
              "model_id": "f1bbbaf1497a408fb0fbb5da6431d95d",
              "version_major": 2,
              "version_minor": 0
            },
            "text/plain": [
              "Output()"
            ]
          },
          "metadata": {},
          "output_type": "display_data"
        }
      ],
      "source": [
        "from stormvogel.visjs import Network\n",
        "import ipywidgets as widgets\n",
        "\n",
        "debug_output = widgets.Output()\n",
        "display(debug_output)\n",
        "output = widgets.Output()\n",
        "\n",
        "\n",
        "nt = Network(name=\"neem\", debug_output=debug_output, output=output)\n",
        "nt.add_node(id=0)\n",
        "nt.add_node(id=1, label=\"lol\\n hi\")\n",
        "nt.add_node(id=2, label=\"lol\")\n",
        "nt.add_node(id=3, label=\"hi\")\n",
        "nt.add_node(id=5, label=\"do' not\")\n",
        "nt.add_edge(0, 1, label=\"hi\")\n",
        "nt.add_edge(0, 2)\n",
        "nt.set_options('{}')\n",
        "nt.show()\n"
      ]
    },
    {
      "cell_type": "code",
      "execution_count": 2,
      "id": "db3e8d3d-3d05-4fcf-a2de-36e95c684c2f",
      "metadata": {},
      "outputs": [],
      "source": [
        "nt.update_options('{\"nodes\": {\"color\": {\"background\": \"red\"}}}')"
      ]
    },
    {
      "cell_type": "code",
      "execution_count": 3,
      "id": "6005285b-7a10-45e9-b94c-f35cca126dae",
      "metadata": {},
      "outputs": [],
      "source": [
        "nt.update_options('{\"nodes\": {\"color\": {\"background\": \"lightblue\"}}}')"
      ]
    },
    {
      "cell_type": "code",
      "execution_count": 4,
      "id": "7d16f742-6d6e-4daf-bbf5-215d49ccbbe5",
      "metadata": {},
      "outputs": [],
      "source": [
        "nt.reload()"
      ]
    },
    {
      "cell_type": "code",
      "execution_count": 5,
      "id": "930b2e2d-4c1b-4477-97a7-6c84f796caff",
      "metadata": {},
      "outputs": [
        {
          "data": {
            "application/vnd.jupyter.widget-view+json": {
              "model_id": "f1bbbaf1497a408fb0fbb5da6431d95d",
              "version_major": 2,
              "version_minor": 0
            },
            "text/plain": [
              "Output()"
            ]
          },
          "metadata": {},
          "output_type": "display_data"
        }
      ],
      "source": [
        "display(debug_output)"
      ]
    },
    {
      "cell_type": "code",
      "execution_count": 6,
      "id": "01438b6f-8c67-40c0-aa48-b9ef50bcf4fb",
      "metadata": {},
      "outputs": [],
      "source": [
        "with debug_output:\n",
        "    print(\"hi\")"
      ]
    },
    {
      "cell_type": "code",
      "execution_count": 7,
      "id": "a07dd8c8-3a9b-42d2-8b76-1395e85e2ecb",
      "metadata": {},
      "outputs": [
        {
          "data": {
            "application/vnd.jupyter.widget-view+json": {
              "model_id": "9690cc56434d4cc4b487c36274b2be65",
              "version_major": 2,
              "version_minor": 0
            },
            "text/plain": [
              "Output()"
            ]
          },
          "metadata": {},
          "output_type": "display_data"
        }
      ],
      "source": [
        "display(output)"
      ]
    },
    {
      "cell_type": "code",
      "execution_count": null,
      "id": "efe1d7b1-668e-455a-b7ae-53170554c527",
      "metadata": {},
      "outputs": [],
      "source": []
    }
  ],
  "metadata": {
    "kernelspec": {
      "display_name": "Python (stormvogel)",
      "language": "python",
      "name": "stormvogel-env"
    },
    "language_info": {
      "codemirror_mode": {
        "name": "ipython",
        "version": 3
      },
      "file_extension": ".py",
      "mimetype": "text/x-python",
      "name": "python",
      "nbconvert_exporter": "python",
      "pygments_lexer": "ipython3",
      "version": "3.11.2"
    }
  },
  "nbformat": 4,
  "nbformat_minor": 5
}
