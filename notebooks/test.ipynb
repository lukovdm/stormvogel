{
  "cells": [
    {
      "cell_type": "code",
      "execution_count": 9,
      "id": "bf89f677-f870-4ded-aaa3-0a5b760d9f7e",
      "metadata": {},
      "outputs": [
        {
          "data": {
            "application/vnd.jupyter.widget-view+json": {
              "model_id": "e1166cd54b17422e96ae6085562da8d7",
              "version_major": 2,
              "version_minor": 0
            },
            "text/plain": [
              "Accordion(children=(IntSlider(value=0), Text(value=''), HTML(value='<h1>HI</h1>')), titles=('Slider', 'Text', \u2026"
            ]
          },
          "execution_count": 9,
          "metadata": {},
          "output_type": "execute_result"
        }
      ],
      "source": [
        "from ipywidgets import Accordion, Text, IntSlider, HTML\n",
        "\n",
        "t = Text()\n",
        "accordion = Accordion(children=[IntSlider(), t, HTML(\"<h1>HI</h1>\")], titles=('Slider', 'Text'))\n",
        "accordion\n",
        "\n"
      ]
    },
    {
      "cell_type": "code",
      "execution_count": null,
      "id": "31df2b20-de10-4e2c-9f84-0d187a50fdd4",
      "metadata": {},
      "outputs": [],
      "source": []
    }
  ],
  "metadata": {
    "kernelspec": {
      "display_name": "Python 3 (ipykernel)",
      "language": "python",
      "name": "python3"
    },
    "language_info": {
      "codemirror_mode": {
        "name": "ipython",
        "version": 3
      },
      "file_extension": ".py",
      "mimetype": "text/x-python",
      "name": "python",
      "nbconvert_exporter": "python",
      "pygments_lexer": "ipython3",
      "version": "3.11.2"
    }
  },
  "nbformat": 4,
  "nbformat_minor": 5
}
