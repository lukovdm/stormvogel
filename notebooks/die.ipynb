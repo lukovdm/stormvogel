{
  "cells": [
    {
      "cell_type": "code",
      "execution_count": 1,
      "id": "a6a674b3",
      "metadata": {
        "collapsed": false,
        "jupyter": {
          "outputs_hidden": false
        }
      },
      "outputs": [],
      "source": [
        "import stormvogel.model\n",
        "import stormvogel.visualization\n",
        "import stormvogel.show\n",
        "from stormvogel.layout import Layout, DEFAULT"
      ]
    },
    {
      "cell_type": "code",
      "execution_count": 4,
      "id": "0ec3541e-3907-4cf8-bc0d-29ca09d919b6",
      "metadata": {},
      "outputs": [
        {
          "data": {
            "application/vnd.jupyter.widget-view+json": {
              "model_id": "a144709077b1454d922bac4d5162d0e5",
              "version_major": 2,
              "version_minor": 0
            },
            "text/plain": [
              "VBox(children=(Output(),))"
            ]
          },
          "metadata": {},
          "output_type": "display_data"
        },
        {
          "data": {
            "application/vnd.jupyter.widget-view+json": {
              "model_id": "29b5646a1b94407890b5adf0eebea80b",
              "version_major": 2,
              "version_minor": 0
            },
            "text/plain": [
              "HBox(children=(Output(), Output()))"
            ]
          },
          "metadata": {},
          "output_type": "display_data"
        }
      ],
      "source": [
        "# Create a new model with the name \"Die\"\n",
        "dtmc = stormvogel.model.new_dtmc(\"Die\")\n",
        "\n",
        "init = dtmc.get_initial_state()\n",
        "\n",
        "# From the initial state, add the transition to 6 new states with probability 1/6th.\n",
        "init.set_transitions(\n",
        "    [(1 / 6, dtmc.new_state(f\"rolled{i}\", {\"rolled\": i})) for i in range(6)]\n",
        ")\n",
        "\n",
        "# Show a visualization of the model.\n",
        "vis = stormvogel.show.show(dtmc, show_editor=False, layout=DEFAULT())"
      ]
    },
    {
      "cell_type": "code",
      "execution_count": null,
      "id": "89adee3f-f871-46dc-b80f-e31fce9132af",
      "metadata": {},
      "outputs": [],
      "source": []
    }
  ],
  "metadata": {
    "kernelspec": {
      "display_name": "Python (stormvogel)",
      "language": "python",
      "name": "stormvogel-env"
    },
    "language_info": {
      "codemirror_mode": {
        "name": "ipython",
        "version": 3
      },
      "file_extension": ".py",
      "mimetype": "text/x-python",
      "name": "python",
      "nbconvert_exporter": "python",
      "pygments_lexer": "ipython3",
      "version": "3.11.2"
    }
  },
  "nbformat": 4,
  "nbformat_minor": 5
}
