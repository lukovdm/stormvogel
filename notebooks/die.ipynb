{
  "cells": [
    {
      "cell_type": "code",
      "execution_count": 1,
      "metadata": {},
      "outputs": [],
      "source": [
        "import stormvogel.model\n",
        "import stormvogel.visualization\n",
        "from stormvogel.layout import Layout, DEFAULT"
      ]
    },
    {
      "cell_type": "code",
      "execution_count": 2,
      "metadata": {},
      "outputs": [
        {
          "name": "stdout",
          "output_type": "stream",
          "text": [
            "After groups: {'autoApply': True, '__macros': {'__group_macro': {'borderWidth': 1, 'color': {'background': 'white', 'border': 'black'}, 'shape': 'elipse', 'mass': 1, 'font': {'color': 'black', 'size': 14}}}, 'groups': {'states': {'__use_macro': '__group_macro'}, 'actions': {'borderWidth': 1, 'color': {'background': 'lightblue', 'border': 'black'}, 'shape': 'diamond', 'mass': 1, 'font': {'color': 'black', 'size': 14}}, 'init': {'borderWidth': 1, 'color': {'background': 'white', 'border': 'black'}, 'shape': 'elipse', 'mass': 1, 'font': {'color': 'black', 'size': 14}}, 'rolled3': {'borderWidth': 1, 'color': {'background': 'white', 'border': 'black'}, 'shape': 'elipse', 'mass': 1, 'font': {'color': 'black', 'size': 14}}, 'rolled2': {'borderWidth': 1, 'color': {'background': 'white', 'border': 'black'}, 'shape': 'elipse', 'mass': 1, 'font': {'color': 'black', 'size': 14}}, 'rolled0': {'borderWidth': 1, 'color': {'background': 'white', 'border': 'black'}, 'shape': 'elipse', 'mass': 1, 'font': {'color': 'black', 'size': 14}}, 'rolled5': {'borderWidth': 1, 'color': {'background': 'white', 'border': 'black'}, 'shape': 'elipse', 'mass': 1, 'font': {'color': 'black', 'size': 14}}, 'rolled1': {'borderWidth': 1, 'color': {'background': 'white', 'border': 'black'}, 'shape': 'elipse', 'mass': 1, 'font': {'color': 'black', 'size': 14}}, 'rolled4': {'borderWidth': 1, 'color': {'background': 'white', 'border': 'black'}, 'shape': 'elipse', 'mass': 1, 'font': {'color': 'black', 'size': 14}}}, 'edges': {'font': {'color': 'black', 'size': 14}, 'color': 'black'}, 'numbers': {'fractions': True, 'digits': 5}, 'layout': {'randomSeed': 5}, 'saving': {'relative_path': True, 'filename': 'layouts/NAME.json'}}\n",
            "State with ['init'] was added to init\n",
            "State with ['rolled0'] was added to rolled0\n",
            "State with ['rolled1'] was added to rolled1\n",
            "State with ['rolled2'] was added to rolled2\n",
            "State with ['rolled3'] was added to rolled3\n",
            "State with ['rolled4'] was added to rolled4\n",
            "State with ['rolled5'] was added to rolled5\n",
            "After nt: {'autoApply': True, '__macros': {'__group_macro': {'borderWidth': 1, 'color': {'background': 'white', 'border': 'black'}, 'shape': 'elipse', 'mass': 1, 'font': {'color': 'black', 'size': 14}}}, 'groups': {'states': {'__use_macro': '__group_macro'}, 'actions': {'borderWidth': 1, 'color': {'background': 'lightblue', 'border': 'black'}, 'shape': 'diamond', 'mass': 1, 'font': {'color': 'black', 'size': 14}}, 'init': {'borderWidth': 1, 'color': {'background': 'white', 'border': 'black'}, 'shape': 'elipse', 'mass': 1, 'font': {'color': 'black', 'size': 14}}, 'rolled3': {'borderWidth': 1, 'color': {'background': 'white', 'border': 'black'}, 'shape': 'elipse', 'mass': 1, 'font': {'color': 'black', 'size': 14}}, 'rolled2': {'borderWidth': 1, 'color': {'background': 'white', 'border': 'black'}, 'shape': 'elipse', 'mass': 1, 'font': {'color': 'black', 'size': 14}}, 'rolled0': {'borderWidth': 1, 'color': {'background': 'white', 'border': 'black'}, 'shape': 'elipse', 'mass': 1, 'font': {'color': 'black', 'size': 14}}, 'rolled5': {'borderWidth': 1, 'color': {'background': 'white', 'border': 'black'}, 'shape': 'elipse', 'mass': 1, 'font': {'color': 'black', 'size': 14}}, 'rolled1': {'borderWidth': 1, 'color': {'background': 'white', 'border': 'black'}, 'shape': 'elipse', 'mass': 1, 'font': {'color': 'black', 'size': 14}}, 'rolled4': {'borderWidth': 1, 'color': {'background': 'white', 'border': 'black'}, 'shape': 'elipse', 'mass': 1, 'font': {'color': 'black', 'size': 14}}}, 'edges': {'font': {'color': 'black', 'size': 14}, 'color': 'black'}, 'numbers': {'fractions': True, 'digits': 5}, 'layout': {'randomSeed': 5}, 'saving': {'relative_path': True, 'filename': 'layouts/NAME.json'}, 'physics': {'enabled': True}}\n",
            "Before editor: {'autoApply': True, '__macros': {'__group_macro': {'borderWidth': 1, 'color': {'background': 'white', 'border': 'black'}, 'shape': 'elipse', 'mass': 1, 'font': {'color': 'black', 'size': 14}}}, 'groups': {'states': {'__use_macro': '__group_macro'}, 'actions': {'borderWidth': 1, 'color': {'background': 'lightblue', 'border': 'black'}, 'shape': 'diamond', 'mass': 1, 'font': {'color': 'black', 'size': 14}}, 'init': {'borderWidth': 1, 'color': {'background': 'white', 'border': 'black'}, 'shape': 'elipse', 'mass': 1, 'font': {'color': 'black', 'size': 14}}, 'rolled3': {'borderWidth': 1, 'color': {'background': 'white', 'border': 'black'}, 'shape': 'elipse', 'mass': 1, 'font': {'color': 'black', 'size': 14}}, 'rolled2': {'borderWidth': 1, 'color': {'background': 'white', 'border': 'black'}, 'shape': 'elipse', 'mass': 1, 'font': {'color': 'black', 'size': 14}}, 'rolled0': {'borderWidth': 1, 'color': {'background': 'white', 'border': 'black'}, 'shape': 'elipse', 'mass': 1, 'font': {'color': 'black', 'size': 14}}, 'rolled5': {'borderWidth': 1, 'color': {'background': 'white', 'border': 'black'}, 'shape': 'elipse', 'mass': 1, 'font': {'color': 'black', 'size': 14}}, 'rolled1': {'borderWidth': 1, 'color': {'background': 'white', 'border': 'black'}, 'shape': 'elipse', 'mass': 1, 'font': {'color': 'black', 'size': 14}}, 'rolled4': {'borderWidth': 1, 'color': {'background': 'white', 'border': 'black'}, 'shape': 'elipse', 'mass': 1, 'font': {'color': 'black', 'size': 14}}}, 'edges': {'font': {'color': 'black', 'size': 14}, 'color': 'black'}, 'numbers': {'fractions': True, 'digits': 5}, 'layout': {'randomSeed': 5}, 'saving': {'relative_path': True, 'filename': 'layouts/NAME.json'}, 'physics': {'enabled': True}}\n"
          ]
        },
        {
          "data": {
            "text/html": [
              "<h2>Interactive layout editor</h2>"
            ],
            "text/plain": [
              "<IPython.core.display.HTML object>"
            ]
          },
          "metadata": {},
          "output_type": "display_data"
        },
        {
          "data": {
            "text/html": [
              "<h4>Auto apply</h4>\n",
              "<p>If enabled, any changes to the layout will be applied to the visualization immediately.</p>"
            ],
            "text/plain": [
              "<IPython.core.display.HTML object>"
            ]
          },
          "metadata": {},
          "output_type": "display_data"
        },
        {
          "data": {
            "application/vnd.jupyter.widget-view+json": {
              "model_id": "05370024231b4cf2bc2bf499dc8fcd3a",
              "version_major": 2,
              "version_minor": 0
            },
            "text/plain": [
              "interactive(children=(Checkbox(value=True, description='Enabled'), Output()), _dom_classes=('widget-interact',\u2026"
            ]
          },
          "metadata": {},
          "output_type": "display_data"
        },
        {
          "data": {
            "text/html": [
              "<h3>Misc states</h3>"
            ],
            "text/plain": [
              "<IPython.core.display.HTML object>"
            ]
          },
          "metadata": {},
          "output_type": "display_data"
        },
        {
          "ename": "KeyError",
          "evalue": "'borderWidth'",
          "output_type": "error",
          "traceback": [
            "\u001b[0;31m---------------------------------------------------------------------------\u001b[0m",
            "\u001b[0;31mKeyError\u001b[0m                                  Traceback (most recent call last)",
            "Cell \u001b[0;32mIn[2], line 12\u001b[0m\n\u001b[1;32m      7\u001b[0m init\u001b[38;5;241m.\u001b[39mset_transitions(\n\u001b[1;32m      8\u001b[0m     [(\u001b[38;5;241m1\u001b[39m \u001b[38;5;241m/\u001b[39m \u001b[38;5;241m6\u001b[39m, dtmc\u001b[38;5;241m.\u001b[39mnew_state(\u001b[38;5;124mf\u001b[39m\u001b[38;5;124m\"\u001b[39m\u001b[38;5;124mrolled\u001b[39m\u001b[38;5;132;01m{\u001b[39;00mi\u001b[38;5;132;01m}\u001b[39;00m\u001b[38;5;124m\"\u001b[39m, {\u001b[38;5;124m\"\u001b[39m\u001b[38;5;124mrolled\u001b[39m\u001b[38;5;124m\"\u001b[39m: i})) \u001b[38;5;28;01mfor\u001b[39;00m i \u001b[38;5;129;01min\u001b[39;00m \u001b[38;5;28mrange\u001b[39m(\u001b[38;5;241m6\u001b[39m)]\n\u001b[1;32m      9\u001b[0m )\n\u001b[1;32m     11\u001b[0m \u001b[38;5;66;03m# Show a visualization of the model.\u001b[39;00m\n\u001b[0;32m---> 12\u001b[0m vis \u001b[38;5;241m=\u001b[39m \u001b[43mstormvogel\u001b[49m\u001b[38;5;241;43m.\u001b[39;49m\u001b[43mvisualization\u001b[49m\u001b[38;5;241;43m.\u001b[39;49m\u001b[43mshow\u001b[49m\u001b[43m(\u001b[49m\u001b[43mdtmc\u001b[49m\u001b[43m,\u001b[49m\u001b[43m \u001b[49m\u001b[43mshow_editor\u001b[49m\u001b[38;5;241;43m=\u001b[39;49m\u001b[38;5;28;43;01mTrue\u001b[39;49;00m\u001b[43m,\u001b[49m\u001b[43m \u001b[49m\u001b[43mlayout\u001b[49m\u001b[38;5;241;43m=\u001b[39;49m\u001b[43mDEFAULT\u001b[49m\u001b[43m(\u001b[49m\u001b[43m)\u001b[49m\u001b[43m)\u001b[49m\n\u001b[1;32m     13\u001b[0m \u001b[38;5;66;03m# dtmc.new_state(\"test\")\u001b[39;00m\n\u001b[1;32m     14\u001b[0m \u001b[38;5;66;03m# vis.update()\u001b[39;00m\n\u001b[1;32m     15\u001b[0m \n\u001b[1;32m     16\u001b[0m \u001b[38;5;66;03m# Print the resulting model in dot format.\u001b[39;00m\n\u001b[1;32m     17\u001b[0m \u001b[38;5;66;03m# print(dtmc.to_dot())\u001b[39;00m\n",
            "File \u001b[0;32m~/git/stormvogel/.venv/lib/python3.11/site-packages/stormvogel/visualization.py:224\u001b[0m, in \u001b[0;36mshow\u001b[0;34m(model, result, name, notebook, cdn_resources, layout, show_editor)\u001b[0m\n\u001b[1;32m    222\u001b[0m vis \u001b[38;5;241m=\u001b[39m Visualization(model, result, name, notebook, cdn_resources, layout)\n\u001b[1;32m    223\u001b[0m \u001b[38;5;28;01mif\u001b[39;00m show_editor:\n\u001b[0;32m--> 224\u001b[0m     \u001b[43mvis\u001b[49m\u001b[38;5;241;43m.\u001b[39;49m\u001b[43mshow_editor\u001b[49m\u001b[43m(\u001b[49m\u001b[43m)\u001b[49m\n\u001b[1;32m    225\u001b[0m vis\u001b[38;5;241m.\u001b[39mshow()\n\u001b[1;32m    226\u001b[0m \u001b[38;5;28;01mreturn\u001b[39;00m vis\n",
            "File \u001b[0;32m~/git/stormvogel/.venv/lib/python3.11/site-packages/stormvogel/visualization.py:111\u001b[0m, in \u001b[0;36mVisualization.show_editor\u001b[0;34m(self)\u001b[0m\n\u001b[1;32m    109\u001b[0m \u001b[38;5;28;01mdef\u001b[39;00m \u001b[38;5;21mshow_editor\u001b[39m(\u001b[38;5;28mself\u001b[39m):\n\u001b[1;32m    110\u001b[0m \u001b[38;5;250m    \u001b[39m\u001b[38;5;124;03m\"\"\"Display an interactive layout editor. Use the update() method to apply changes.\"\"\"\u001b[39;00m\n\u001b[0;32m--> 111\u001b[0m     \u001b[38;5;28;43mself\u001b[39;49m\u001b[38;5;241;43m.\u001b[39;49m\u001b[43mlayout\u001b[49m\u001b[38;5;241;43m.\u001b[39;49m\u001b[43mshow_editor\u001b[49m\u001b[43m(\u001b[49m\u001b[38;5;28;43mself\u001b[39;49m\u001b[43m)\u001b[49m\n",
            "File \u001b[0;32m~/git/stormvogel/.venv/lib/python3.11/site-packages/stormvogel/layout.py:83\u001b[0m, in \u001b[0;36mLayout.show_editor\u001b[0;34m(self, vis)\u001b[0m\n\u001b[1;32m     80\u001b[0m         try_update()\n\u001b[1;32m     82\u001b[0m \u001b[38;5;28mprint\u001b[39m(\u001b[38;5;124mf\u001b[39m\u001b[38;5;124m\"\u001b[39m\u001b[38;5;124mBefore editor: \u001b[39m\u001b[38;5;132;01m{\u001b[39;00m\u001b[38;5;28mself\u001b[39m\u001b[38;5;241m.\u001b[39mlayout\u001b[38;5;132;01m}\u001b[39;00m\u001b[38;5;124m\"\u001b[39m)\n\u001b[0;32m---> 83\u001b[0m \u001b[43mEditor\u001b[49m\u001b[43m(\u001b[49m\u001b[43mschema\u001b[49m\u001b[38;5;241;43m=\u001b[39;49m\u001b[38;5;28;43mself\u001b[39;49m\u001b[38;5;241;43m.\u001b[39;49m\u001b[43mschema\u001b[49m\u001b[43m,\u001b[49m\u001b[43m \u001b[49m\u001b[43mupdate_dict\u001b[49m\u001b[38;5;241;43m=\u001b[39;49m\u001b[38;5;28;43mself\u001b[39;49m\u001b[38;5;241;43m.\u001b[39;49m\u001b[43mlayout\u001b[49m\u001b[43m,\u001b[49m\u001b[43m \u001b[49m\u001b[43mon_update\u001b[49m\u001b[38;5;241;43m=\u001b[39;49m\u001b[43mmaybe_update\u001b[49m\u001b[43m)\u001b[49m\n\u001b[1;32m     84\u001b[0m SaveButton(\u001b[38;5;28mself\u001b[39m)\n\u001b[1;32m     85\u001b[0m ApplyButton(\u001b[38;5;28mself\u001b[39m, try_update)\n",
            "File \u001b[0;32m~/git/stormvogel/.venv/lib/python3.11/site-packages/stormvogel/dict_editor.py:71\u001b[0m, in \u001b[0;36mEditor.__init__\u001b[0;34m(self, schema, update_dict, on_update)\u001b[0m\n\u001b[1;32m     69\u001b[0m \u001b[38;5;28mself\u001b[39m\u001b[38;5;241m.\u001b[39mupdate_dict \u001b[38;5;241m=\u001b[39m update_dict\n\u001b[1;32m     70\u001b[0m \u001b[38;5;28mself\u001b[39m\u001b[38;5;241m.\u001b[39mmacros \u001b[38;5;241m=\u001b[39m {}\n\u001b[0;32m---> 71\u001b[0m \u001b[38;5;28;43mself\u001b[39;49m\u001b[38;5;241;43m.\u001b[39;49m\u001b[43mrecurse_create\u001b[49m\u001b[43m(\u001b[49m\u001b[43mschema\u001b[49m\u001b[43m,\u001b[49m\u001b[43m \u001b[49m\u001b[43m[\u001b[49m\u001b[43m]\u001b[49m\u001b[43m)\u001b[49m\n",
            "File \u001b[0;32m~/git/stormvogel/.venv/lib/python3.11/site-packages/stormvogel/dict_editor.py:110\u001b[0m, in \u001b[0;36mEditor.recurse_create\u001b[0;34m(self, sub_schema, path)\u001b[0m\n\u001b[1;32m    101\u001b[0m         WidgetWrapper(\n\u001b[1;32m    102\u001b[0m             title\u001b[38;5;241m=\u001b[39mv[\u001b[38;5;124m\"\u001b[39m\u001b[38;5;124m__title\u001b[39m\u001b[38;5;124m\"\u001b[39m],\n\u001b[1;32m    103\u001b[0m             widget\u001b[38;5;241m=\u001b[39mv[\u001b[38;5;124m\"\u001b[39m\u001b[38;5;124m__widget\u001b[39m\u001b[38;5;124m\"\u001b[39m],\n\u001b[0;32m   (...)\u001b[0m\n\u001b[1;32m    107\u001b[0m             on_update\u001b[38;5;241m=\u001b[39m\u001b[38;5;28mself\u001b[39m\u001b[38;5;241m.\u001b[39mon_update,\n\u001b[1;32m    108\u001b[0m         )\n\u001b[1;32m    109\u001b[0m \u001b[38;5;28;01melse\u001b[39;00m:  \u001b[38;5;66;03m# v is not a widget or macro, then call recursively.\u001b[39;00m\n\u001b[0;32m--> 110\u001b[0m     \u001b[38;5;28;43mself\u001b[39;49m\u001b[38;5;241;43m.\u001b[39;49m\u001b[43mrecurse_create\u001b[49m\u001b[43m(\u001b[49m\u001b[43mv\u001b[49m\u001b[43m,\u001b[49m\u001b[43m \u001b[49m\u001b[43mnew_path\u001b[49m\u001b[43m)\u001b[49m\n",
            "File \u001b[0;32m~/git/stormvogel/.venv/lib/python3.11/site-packages/stormvogel/dict_editor.py:88\u001b[0m, in \u001b[0;36mEditor.recurse_create\u001b[0;34m(self, sub_schema, path)\u001b[0m\n\u001b[1;32m     86\u001b[0m \u001b[38;5;28;01mif\u001b[39;00m \u001b[38;5;124m\"\u001b[39m\u001b[38;5;124m__use_macro\u001b[39m\u001b[38;5;124m\"\u001b[39m \u001b[38;5;129;01min\u001b[39;00m v:\n\u001b[1;32m     87\u001b[0m     macro_value \u001b[38;5;241m=\u001b[39m \u001b[38;5;28mself\u001b[39m\u001b[38;5;241m.\u001b[39mmacros[v[\u001b[38;5;124m\"\u001b[39m\u001b[38;5;124m__use_macro\u001b[39m\u001b[38;5;124m\"\u001b[39m]]\n\u001b[0;32m---> 88\u001b[0m     \u001b[38;5;28;43mself\u001b[39;49m\u001b[38;5;241;43m.\u001b[39;49m\u001b[43mrecurse_create\u001b[49m\u001b[43m(\u001b[49m\u001b[43mmacro_value\u001b[49m\u001b[43m,\u001b[49m\u001b[43m \u001b[49m\u001b[43mnew_path\u001b[49m\u001b[43m)\u001b[49m\n\u001b[1;32m     89\u001b[0m \u001b[38;5;28;01melif\u001b[39;00m \u001b[38;5;124m\"\u001b[39m\u001b[38;5;124m__title\u001b[39m\u001b[38;5;124m\"\u001b[39m \u001b[38;5;129;01min\u001b[39;00m v:  \u001b[38;5;66;03m# v is a widget, because it has a defined title.\u001b[39;00m\n\u001b[1;32m     90\u001b[0m     \u001b[38;5;28;01mif\u001b[39;00m \u001b[38;5;124m\"\u001b[39m\u001b[38;5;124m__kwargs\u001b[39m\u001b[38;5;124m\"\u001b[39m \u001b[38;5;129;01min\u001b[39;00m v:  \u001b[38;5;66;03m# Also pass arguments if relevant.\u001b[39;00m\n",
            "File \u001b[0;32m~/git/stormvogel/.venv/lib/python3.11/site-packages/stormvogel/dict_editor.py:104\u001b[0m, in \u001b[0;36mEditor.recurse_create\u001b[0;34m(self, sub_schema, path)\u001b[0m\n\u001b[1;32m     91\u001b[0m         WidgetWrapper(\n\u001b[1;32m     92\u001b[0m             title\u001b[38;5;241m=\u001b[39mv[\u001b[38;5;124m\"\u001b[39m\u001b[38;5;124m__title\u001b[39m\u001b[38;5;124m\"\u001b[39m],\n\u001b[1;32m     93\u001b[0m             widget\u001b[38;5;241m=\u001b[39mv[\u001b[38;5;124m\"\u001b[39m\u001b[38;5;124m__widget\u001b[39m\u001b[38;5;124m\"\u001b[39m],\n\u001b[0;32m   (...)\u001b[0m\n\u001b[1;32m     98\u001b[0m             \u001b[38;5;241m*\u001b[39m\u001b[38;5;241m*\u001b[39mv[\u001b[38;5;124m\"\u001b[39m\u001b[38;5;124m__kwargs\u001b[39m\u001b[38;5;124m\"\u001b[39m],\n\u001b[1;32m     99\u001b[0m         )\n\u001b[1;32m    100\u001b[0m     \u001b[38;5;28;01melse\u001b[39;00m:\n\u001b[1;32m    101\u001b[0m         WidgetWrapper(\n\u001b[1;32m    102\u001b[0m             title\u001b[38;5;241m=\u001b[39mv[\u001b[38;5;124m\"\u001b[39m\u001b[38;5;124m__title\u001b[39m\u001b[38;5;124m\"\u001b[39m],\n\u001b[1;32m    103\u001b[0m             widget\u001b[38;5;241m=\u001b[39mv[\u001b[38;5;124m\"\u001b[39m\u001b[38;5;124m__widget\u001b[39m\u001b[38;5;124m\"\u001b[39m],\n\u001b[0;32m--> 104\u001b[0m             initial_value\u001b[38;5;241m=\u001b[39m\u001b[43mrget\u001b[49m\u001b[43m(\u001b[49m\u001b[38;5;28;43mself\u001b[39;49m\u001b[38;5;241;43m.\u001b[39;49m\u001b[43mupdate_dict\u001b[49m\u001b[43m,\u001b[49m\u001b[43m \u001b[49m\u001b[43mnew_path\u001b[49m\u001b[43m)\u001b[49m,\n\u001b[1;32m    105\u001b[0m             path\u001b[38;5;241m=\u001b[39mnew_path,\n\u001b[1;32m    106\u001b[0m             update_dict\u001b[38;5;241m=\u001b[39m\u001b[38;5;28mself\u001b[39m\u001b[38;5;241m.\u001b[39mupdate_dict,\n\u001b[1;32m    107\u001b[0m             on_update\u001b[38;5;241m=\u001b[39m\u001b[38;5;28mself\u001b[39m\u001b[38;5;241m.\u001b[39mon_update,\n\u001b[1;32m    108\u001b[0m         )\n\u001b[1;32m    109\u001b[0m \u001b[38;5;28;01melse\u001b[39;00m:  \u001b[38;5;66;03m# v is not a widget or macro, then call recursively.\u001b[39;00m\n\u001b[1;32m    110\u001b[0m     \u001b[38;5;28mself\u001b[39m\u001b[38;5;241m.\u001b[39mrecurse_create(v, new_path)\n",
            "File \u001b[0;32m~/git/stormvogel/.venv/lib/python3.11/site-packages/stormvogel/rdict.py:10\u001b[0m, in \u001b[0;36mrget\u001b[0;34m(d, path)\u001b[0m\n\u001b[1;32m      8\u001b[0m \u001b[38;5;28;01mdef\u001b[39;00m \u001b[38;5;21mrget\u001b[39m(d: \u001b[38;5;28mdict\u001b[39m, path: \u001b[38;5;28mlist\u001b[39m) \u001b[38;5;241m-\u001b[39m\u001b[38;5;241m>\u001b[39m Any:\n\u001b[1;32m      9\u001b[0m \u001b[38;5;250m    \u001b[39m\u001b[38;5;124;03m\"\"\"Recursively get dict value. Throws KeyError if (nested) key not present\"\"\"\u001b[39;00m\n\u001b[0;32m---> 10\u001b[0m     \u001b[38;5;28;01mreturn\u001b[39;00m \u001b[43mreduce\u001b[49m\u001b[43m(\u001b[49m\n\u001b[1;32m     11\u001b[0m \u001b[43m        \u001b[49m\u001b[38;5;28;43;01mlambda\u001b[39;49;00m\u001b[43m \u001b[49m\u001b[43mc\u001b[49m\u001b[43m,\u001b[49m\u001b[43m \u001b[49m\u001b[43mk\u001b[49m\u001b[43m:\u001b[49m\u001b[43m \u001b[49m\u001b[43mc\u001b[49m\u001b[38;5;241;43m.\u001b[39;49m\u001b[38;5;21;43m__getitem__\u001b[39;49m\u001b[43m(\u001b[49m\u001b[43mk\u001b[49m\u001b[43m)\u001b[49m\u001b[43m,\u001b[49m\u001b[43m \u001b[49m\u001b[43mpath\u001b[49m\u001b[43m,\u001b[49m\u001b[43m \u001b[49m\u001b[43md\u001b[49m\n\u001b[1;32m     12\u001b[0m \u001b[43m    \u001b[49m\u001b[43m)\u001b[49m\n",
            "File \u001b[0;32m~/git/stormvogel/.venv/lib/python3.11/site-packages/stormvogel/rdict.py:11\u001b[0m, in \u001b[0;36mrget.<locals>.<lambda>\u001b[0;34m(c, k)\u001b[0m\n\u001b[1;32m      8\u001b[0m \u001b[38;5;28;01mdef\u001b[39;00m \u001b[38;5;21mrget\u001b[39m(d: \u001b[38;5;28mdict\u001b[39m, path: \u001b[38;5;28mlist\u001b[39m) \u001b[38;5;241m-\u001b[39m\u001b[38;5;241m>\u001b[39m Any:\n\u001b[1;32m      9\u001b[0m \u001b[38;5;250m    \u001b[39m\u001b[38;5;124;03m\"\"\"Recursively get dict value. Throws KeyError if (nested) key not present\"\"\"\u001b[39;00m\n\u001b[1;32m     10\u001b[0m     \u001b[38;5;28;01mreturn\u001b[39;00m reduce(\n\u001b[0;32m---> 11\u001b[0m         \u001b[38;5;28;01mlambda\u001b[39;00m c, k: \u001b[43mc\u001b[49m\u001b[38;5;241;43m.\u001b[39;49m\u001b[38;5;21;43m__getitem__\u001b[39;49m\u001b[43m(\u001b[49m\u001b[43mk\u001b[49m\u001b[43m)\u001b[49m, path, d\n\u001b[1;32m     12\u001b[0m     )\n",
            "\u001b[0;31mKeyError\u001b[0m: 'borderWidth'"
          ]
        }
      ],
      "source": [
        "# Create a new model with the name \"Die\"\n",
        "dtmc = stormvogel.model.new_dtmc(\"Die\")\n",
        "\n",
        "init = dtmc.get_initial_state()\n",
        "\n",
        "# From the initial state, add the transition to 6 new states with probability 1/6th.\n",
        "init.set_transitions(\n",
        "    [(1 / 6, dtmc.new_state(f\"rolled{i}\", {\"rolled\": i})) for i in range(6)]\n",
        ")\n",
        "\n",
        "# Show a visualization of the model.\n",
        "vis = stormvogel.visualization.show(dtmc, show_editor=True, layout=DEFAULT())\n",
        "# dtmc.new_state(\"test\")\n",
        "# vis.update()\n",
        "\n",
        "# Print the resulting model in dot format.\n",
        "# print(dtmc.to_dot())"
      ]
    },
    {
      "cell_type": "code",
      "execution_count": null,
      "metadata": {},
      "outputs": [],
      "source": []
    },
    {
      "cell_type": "code",
      "execution_count": null,
      "metadata": {},
      "outputs": [],
      "source": []
    },
    {
      "cell_type": "code",
      "execution_count": null,
      "metadata": {},
      "outputs": [],
      "source": []
    }
  ],
  "metadata": {
    "kernelspec": {
      "display_name": "Python 3 (ipykernel)",
      "language": "python",
      "name": "python3"
    },
    "language_info": {
      "codemirror_mode": {
        "name": "ipython",
        "version": 3
      },
      "file_extension": ".py",
      "mimetype": "text/x-python",
      "name": "python",
      "nbconvert_exporter": "python",
      "pygments_lexer": "ipython3",
      "version": "3.11.2"
    }
  },
  "nbformat": 4,
  "nbformat_minor": 4
}
