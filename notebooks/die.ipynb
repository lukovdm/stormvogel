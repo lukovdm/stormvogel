{
  "cells": [
    {
      "cell_type": "code",
      "execution_count": 1,
      "id": "a6a674b3",
      "metadata": {
        "collapsed": false,
        "jupyter": {
          "outputs_hidden": false
        }
      },
      "outputs": [],
      "source": [
        "import stormvogel.model\n",
        "import stormvogel.visualization\n",
        "import stormvogel.show\n",
        "from stormvogel.layout import Layout, DEFAULT"
      ]
    },
    {
      "cell_type": "code",
      "execution_count": 2,
      "id": "0ec3541e-3907-4cf8-bc0d-29ca09d919b6",
      "metadata": {},
      "outputs": [
        {
          "data": {
            "application/vnd.jupyter.widget-view+json": {
              "model_id": "3b2d5727b3a74236a45600fa7d8aa4d0",
              "version_major": 2,
              "version_minor": 0
            },
            "text/plain": [
              "Output()"
            ]
          },
          "metadata": {},
          "output_type": "display_data"
        },
        {
          "data": {
            "text/html": [
              "<script>fetch('http://127.0.0.1:8889/efoCcmTuNX/MESSAGE/' + 'test message')</script>"
            ],
            "text/plain": [
              "<IPython.core.display.HTML object>"
            ]
          },
          "metadata": {},
          "output_type": "display_data"
        },
        {
          "name": "stdout",
          "output_type": "stream",
          "text": [
            "Stormvogel succesfully started the internal communication server, but could not receive the result of a test request.\n",
            "Stormvogel is still usable without this, but you will not be able to save node positions in a layout json file.\n",
            "1) Restart the kernel and re-run.\n",
            "2) Is the port 127.0.0.1:8889 (from the machine where jupyterlab runs) available?\n",
            "If you are working remotely, it might help to forward this port. For example: 'ssh -N -L 8889:127.0.0.18889 YOUR_SSH_CONFIG_NAME'.\n",
            "3) You might also want to consider changing stormvogel.communication_server.localhost_address to the IPv6 loopback address if you are using IPv6.\n",
            "If you cannot get the server to work, set stormvogel.communication_server.enable_server to false and re-run. This will speed up stormvogel and ignore this message.\n",
            "Please contact the stormvogel developpers if you keep running into issues.\n"
          ]
        },
        {
          "data": {
            "application/vnd.jupyter.widget-view+json": {
              "model_id": "4c4abfce6430466eacdc01431e398f70",
              "version_major": 2,
              "version_minor": 0
            },
            "text/plain": [
              "HBox(children=(Output(), Output()))"
            ]
          },
          "metadata": {},
          "output_type": "display_data"
        }
      ],
      "source": [
        "# Create a new model with the name \"Die\"\n",
        "dtmc = stormvogel.model.new_dtmc(\"Die\")\n",
        "\n",
        "init = dtmc.get_initial_state()\n",
        "\n",
        "# From the initial state, add the transition to 6 new states with probability 1/6th.\n",
        "init.set_transitions(\n",
        "    [(1 / 6, dtmc.new_state(f\"rolled{i}\", {\"rolled\": i})) for i in range(6)]\n",
        ")\n",
        "\n",
        "# Show a visualization of the model.\n",
        "vis = stormvogel.show.show(dtmc, show_editor=True, layout=DEFAULT())"
      ]
    },
    {
      "cell_type": "code",
      "execution_count": null,
      "id": "89adee3f-f871-46dc-b80f-e31fce9132af",
      "metadata": {},
      "outputs": [],
      "source": []
    }
  ],
  "metadata": {
    "kernelspec": {
      "display_name": "Python (stormvogel)",
      "language": "python",
      "name": "stormvogel-env"
    },
    "language_info": {
      "codemirror_mode": {
        "name": "ipython",
        "version": 3
      },
      "file_extension": ".py",
      "mimetype": "text/x-python",
      "name": "python",
      "nbconvert_exporter": "python",
      "pygments_lexer": "ipython3",
      "version": "3.11.2"
    }
  },
  "nbformat": 4,
  "nbformat_minor": 5
}
