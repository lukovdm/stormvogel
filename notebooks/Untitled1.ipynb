{
  "cells": [
    {
      "cell_type": "code",
      "execution_count": 1,
      "id": "aa99d38a-2e05-4c69-b064-09c2f53b5a30",
      "metadata": {},
      "outputs": [
        {
          "data": {
            "application/vnd.jupyter.widget-view+json": {
              "model_id": "c0c5151e290f4314b90966549610815b",
              "version_major": 2,
              "version_minor": 0
            },
            "text/plain": [
              "Output()"
            ]
          },
          "metadata": {},
          "output_type": "display_data"
        }
      ],
      "source": [
        "import stormvogel.layout_editor as svle\n",
        "import stormvogel.visualization as svv\n",
        "import stormvogel.model\n",
        "\n",
        "mdp = stormvogel.model.new_mdp(\"Monty Hall\")\n",
        "vis = svv.Visualization(model=mdp)\n",
        "e = svle.LayoutEditor(vis.layout, vis)\n",
        "e.show()"
      ]
    },
    {
      "cell_type": "code",
      "execution_count": null,
      "id": "7065b7ff-6bca-41e1-a841-f9742a933578",
      "metadata": {},
      "outputs": [],
      "source": []
    },
    {
      "cell_type": "code",
      "execution_count": null,
      "id": "827515de-a739-4322-a0eb-719aea608e7e",
      "metadata": {},
      "outputs": [],
      "source": []
    }
  ],
  "metadata": {
    "kernelspec": {
      "display_name": "Python (stormvogel)",
      "language": "python",
      "name": "stormvogel-env"
    },
    "language_info": {
      "codemirror_mode": {
        "name": "ipython",
        "version": 3
      },
      "file_extension": ".py",
      "mimetype": "text/x-python",
      "name": "python",
      "nbconvert_exporter": "python",
      "pygments_lexer": "ipython3",
      "version": "3.11.2"
    }
  },
  "nbformat": 4,
  "nbformat_minor": 5
}
