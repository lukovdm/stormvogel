{
  "cells": [
    {
      "cell_type": "markdown",
      "id": "6fb63b37-e7f1-434c-b99c-95da4e580608",
      "metadata": {},
      "source": [
        "# Model checking"
      ]
    },
    {
      "cell_type": "code",
      "execution_count": 1,
      "id": "f677ad96-491b-410b-b161-1801e8ee526a",
      "metadata": {},
      "outputs": [],
      "source": [
        "import stormvogel.model\n",
        "from stormvogel import show, model_checking, property_builder"
      ]
    },
    {
      "cell_type": "code",
      "execution_count": 2,
      "id": "56e3af45-3e12-43d6-a16a-786da89ef504",
      "metadata": {
        "scrolled": true
      },
      "outputs": [
        {
          "data": {
            "application/vnd.jupyter.widget-view+json": {
              "model_id": "2628381fe019494d8eed4e627c8c97d4",
              "version_major": 2,
              "version_minor": 0
            },
            "text/plain": [
              "Output()"
            ]
          },
          "metadata": {},
          "output_type": "display_data"
        },
        {
          "data": {
            "text/html": [
              "<script>\n",
              "function return_id_result(url, id, data) {\n",
              "        fetch(url, {\n",
              "            method: 'POST',\n",
              "            body: JSON.stringify({\n",
              "                'id': id,\n",
              "                'data': data\n",
              "            })\n",
              "        })\n",
              "    }\n",
              "</script>"
            ],
            "text/plain": [
              "<IPython.core.display.HTML object>"
            ]
          },
          "metadata": {},
          "output_type": "display_data"
        },
        {
          "data": {
            "application/javascript": [
              "return_id_result('http://127.0.0.1:8889', 'gPVgXpvBmDGnXDFLaXiG', 'test message')"
            ],
            "text/plain": [
              "<IPython.core.display.Javascript object>"
            ]
          },
          "metadata": {},
          "output_type": "display_data"
        },
        {
          "data": {
            "application/vnd.jupyter.widget-view+json": {
              "model_id": "2c2b9a72160844f2bc252dd51b89b7b4",
              "version_major": 2,
              "version_minor": 0
            },
            "text/plain": [
              "Output()"
            ]
          },
          "metadata": {},
          "output_type": "display_data"
        },
        {
          "data": {
            "application/vnd.jupyter.widget-view+json": {
              "model_id": "6368de334a5b477daf79d7075d36a796",
              "version_major": 2,
              "version_minor": 0
            },
            "text/plain": [
              "Output()"
            ]
          },
          "metadata": {},
          "output_type": "display_data"
        },
        {
          "data": {
            "application/vnd.jupyter.widget-view+json": {
              "model_id": "b3050817c6c944d2b2eb460d8d347948",
              "version_major": 2,
              "version_minor": 0
            },
            "text/plain": [
              "HBox(children=(Output(), Output()))"
            ]
          },
          "metadata": {},
          "output_type": "display_data"
        },
        {
          "data": {
            "text/plain": [
              "<stormvogel.visualization.Visualization at 0x7a7d5934d880>"
            ]
          },
          "execution_count": 2,
          "metadata": {},
          "output_type": "execute_result"
        }
      ],
      "source": [
        "mdp = stormvogel.model.new_mdp(\"Monty Hall\")\n",
        "\n",
        "init = mdp.get_initial_state()\n",
        "\n",
        "# first choose car position\n",
        "init.set_transitions(\n",
        "    [(1 / 3, mdp.new_state(\"carchosen\", {\"car_pos\": i})) for i in range(3)]\n",
        ")\n",
        "\n",
        "# we choose a door in each case\n",
        "for s in mdp.get_states_with_label(\"carchosen\"):\n",
        "    s.set_transitions(\n",
        "        [\n",
        "            (\n",
        "                mdp.action(f\"open{i}\"),\n",
        "                mdp.new_state(\"open\", s.features | {\"chosen_pos\": i}),\n",
        "            )\n",
        "            for i in range(3)\n",
        "        ]\n",
        "    )\n",
        "\n",
        "# the other goat is revealed\n",
        "for s in mdp.get_states_with_label(\"open\"):\n",
        "    car_pos = s.features[\"car_pos\"]\n",
        "    chosen_pos = s.features[\"chosen_pos\"]\n",
        "    other_pos = {0, 1, 2} - {car_pos, chosen_pos}\n",
        "    s.set_transitions(\n",
        "        [\n",
        "            (\n",
        "                1 / len(other_pos),\n",
        "                mdp.new_state(\"goatrevealed\", s.features | {\"reveal_pos\": i}),\n",
        "            )\n",
        "            for i in other_pos\n",
        "        ]\n",
        "    )\n",
        "\n",
        "# we must choose whether we want to switch\n",
        "for s in mdp.get_states_with_label(\"goatrevealed\"):\n",
        "    car_pos = s.features[\"car_pos\"]\n",
        "    chosen_pos = s.features[\"chosen_pos\"]\n",
        "    reveal_pos = s.features[\"reveal_pos\"]\n",
        "    other_pos = list({0, 1, 2} - {reveal_pos, chosen_pos})[0]\n",
        "    s.set_transitions(\n",
        "        [\n",
        "            (\n",
        "                mdp.action(\"stay\"),\n",
        "                mdp.new_state(\n",
        "                    [\"done\"] + ([\"target\"] if chosen_pos == car_pos else []),\n",
        "                    s.features | {\"chosen_pos\": chosen_pos},\n",
        "                ),\n",
        "            ),\n",
        "            (\n",
        "                mdp.action(\"switch\"),\n",
        "                mdp.new_state(\n",
        "                    [\"done\"] + ([\"target\"] if other_pos == car_pos else []),\n",
        "                    s.features | {\"chosen_pos\": other_pos},\n",
        "                ),\n",
        "            ),\n",
        "        ]\n",
        "    )\n",
        "\n",
        "# we add self loops to all states with no outgoing transitions\n",
        "mdp.add_self_loops()\n",
        "\n",
        "show.show(mdp, show_editor=True)"
      ]
    },
    {
      "cell_type": "markdown",
      "id": "a954571f-a723-4145-8cb6-2a94fa986718",
      "metadata": {},
      "source": [
        "We can do model checking on this model by only using stormvogel functions directly. Behind the scenes this calls the stormpy model checker. Before we use the model checker however, we need to specify the task. This is done using a property string. We have provided an easy way to create them for beginner users."
      ]
    },
    {
      "cell_type": "code",
      "execution_count": 3,
      "id": "4fe1edee-15ab-45ad-8605-f1c646186718",
      "metadata": {},
      "outputs": [
        {
          "data": {
            "application/vnd.jupyter.widget-view+json": {
              "model_id": "fabffae45cf34e2da2c87baae65f96fe",
              "version_major": 2,
              "version_minor": 0
            },
            "text/plain": [
              "Output()"
            ]
          },
          "metadata": {},
          "output_type": "display_data"
        },
        {
          "data": {
            "application/vnd.jupyter.widget-view+json": {
              "model_id": "dd24cde603004873bc12024b83c3c1da",
              "version_major": 2,
              "version_minor": 0
            },
            "text/plain": [
              "Output()"
            ]
          },
          "metadata": {},
          "output_type": "display_data"
        }
      ],
      "source": [
        "property_builder.build_property_string(mdp)"
      ]
    },
    {
      "cell_type": "markdown",
      "id": "8b5755d7-53a5-4387-8838-2f3cd7b79381",
      "metadata": {},
      "source": [
        "Create a property string and give it as argument to the model checking function in the following way"
      ]
    },
    {
      "cell_type": "code",
      "execution_count": 4,
      "id": "9ceea291-a3f0-47b2-9ecf-b0f8310fa64a",
      "metadata": {},
      "outputs": [],
      "source": [
        "result = model_checking.model_checking(mdp,'Pmax=? [F \"done\"]', True) #true lets it return a scheduler as well"
      ]
    },
    {
      "cell_type": "code",
      "execution_count": 5,
      "id": "3284bfc6-33ce-47fd-8280-598692fe0ef4",
      "metadata": {},
      "outputs": [],
      "source": [
        "result.scheduler.taken_actions[1] = mdp.action(f\"open1\")"
      ]
    },
    {
      "cell_type": "code",
      "execution_count": 6,
      "id": "2c561520-3155-4ad4-99bb-9993692f3e5f",
      "metadata": {},
      "outputs": [
        {
          "data": {
            "text/plain": [
              "Model(name=None, type=<ModelType.MDP: 2>, states={0: State(labels=['init'], features={}, id=0, model=..., observation=None, name='0'), 1: State(labels=['carchosen'], features={}, id=1, model=..., observation=None, name='1'), 2: State(labels=['carchosen'], features={}, id=2, model=..., observation=None, name='2'), 3: State(labels=['carchosen'], features={}, id=3, model=..., observation=None, name='3'), 4: State(labels=['open'], features={}, id=4, model=..., observation=None, name='4'), 5: State(labels=['open'], features={}, id=5, model=..., observation=None, name='5'), 6: State(labels=['open'], features={}, id=6, model=..., observation=None, name='6'), 7: State(labels=['open'], features={}, id=7, model=..., observation=None, name='7'), 8: State(labels=['open'], features={}, id=8, model=..., observation=None, name='8'), 9: State(labels=['open'], features={}, id=9, model=..., observation=None, name='9'), 10: State(labels=['open'], features={}, id=10, model=..., observation=None, name='10'), 11: State(labels=['open'], features={}, id=11, model=..., observation=None, name='11'), 12: State(labels=['open'], features={}, id=12, model=..., observation=None, name='12'), 13: State(labels=['goatrevealed'], features={}, id=13, model=..., observation=None, name='13'), 14: State(labels=['goatrevealed'], features={}, id=14, model=..., observation=None, name='14'), 15: State(labels=['goatrevealed'], features={}, id=15, model=..., observation=None, name='15'), 16: State(labels=['goatrevealed'], features={}, id=16, model=..., observation=None, name='16'), 17: State(labels=['goatrevealed'], features={}, id=17, model=..., observation=None, name='17'), 18: State(labels=['goatrevealed'], features={}, id=18, model=..., observation=None, name='18'), 19: State(labels=['goatrevealed'], features={}, id=19, model=..., observation=None, name='19'), 20: State(labels=['goatrevealed'], features={}, id=20, model=..., observation=None, name='20'), 21: State(labels=['goatrevealed'], features={}, id=21, model=..., observation=None, name='21'), 22: State(labels=['goatrevealed'], features={}, id=22, model=..., observation=None, name='22'), 23: State(labels=['goatrevealed'], features={}, id=23, model=..., observation=None, name='23'), 24: State(labels=['goatrevealed'], features={}, id=24, model=..., observation=None, name='24'), 25: State(labels=['done', 'target'], features={}, id=25, model=..., observation=None, name='25'), 26: State(labels=['done'], features={}, id=26, model=..., observation=None, name='26'), 27: State(labels=['done', 'target'], features={}, id=27, model=..., observation=None, name='27'), 28: State(labels=['done'], features={}, id=28, model=..., observation=None, name='28'), 29: State(labels=['done'], features={}, id=29, model=..., observation=None, name='29'), 30: State(labels=['done', 'target'], features={}, id=30, model=..., observation=None, name='30'), 31: State(labels=['done'], features={}, id=31, model=..., observation=None, name='31'), 32: State(labels=['done', 'target'], features={}, id=32, model=..., observation=None, name='32'), 33: State(labels=['done'], features={}, id=33, model=..., observation=None, name='33'), 34: State(labels=['done', 'target'], features={}, id=34, model=..., observation=None, name='34'), 35: State(labels=['done', 'target'], features={}, id=35, model=..., observation=None, name='35'), 36: State(labels=['done'], features={}, id=36, model=..., observation=None, name='36'), 37: State(labels=['done', 'target'], features={}, id=37, model=..., observation=None, name='37'), 38: State(labels=['done'], features={}, id=38, model=..., observation=None, name='38'), 39: State(labels=['done'], features={}, id=39, model=..., observation=None, name='39'), 40: State(labels=['done', 'target'], features={}, id=40, model=..., observation=None, name='40'), 41: State(labels=['done'], features={}, id=41, model=..., observation=None, name='41'), 42: State(labels=['done', 'target'], features={}, id=42, model=..., observation=None, name='42'), 43: State(labels=['done'], features={}, id=43, model=..., observation=None, name='43'), 44: State(labels=['done', 'target'], features={}, id=44, model=..., observation=None, name='44'), 45: State(labels=['done', 'target'], features={}, id=45, model=..., observation=None, name='45'), 46: State(labels=['done'], features={}, id=46, model=..., observation=None, name='46'), 47: State(labels=['done', 'target'], features={}, id=47, model=..., observation=None, name='47'), 48: State(labels=['done'], features={}, id=48, model=..., observation=None, name='48')}, transitions={0: <stormvogel.model.Transition object at 0x7a7d54181bb0>, 1: <stormvogel.model.Transition object at 0x7a7d54181dc0>, 2: <stormvogel.model.Transition object at 0x7a7d54181fa0>, 3: <stormvogel.model.Transition object at 0x7a7d54182180>, 4: <stormvogel.model.Transition object at 0x7a7d541821e0>, 5: <stormvogel.model.Transition object at 0x7a7d54182270>, 6: <stormvogel.model.Transition object at 0x7a7d54182300>, 7: <stormvogel.model.Transition object at 0x7a7d54182390>, 8: <stormvogel.model.Transition object at 0x7a7d54182420>, 9: <stormvogel.model.Transition object at 0x7a7d541824b0>, 10: <stormvogel.model.Transition object at 0x7a7d54182540>, 11: <stormvogel.model.Transition object at 0x7a7d5414cd40>, 12: <stormvogel.model.Transition object at 0x7a7d542fdbe0>, 13: <stormvogel.model.Transition object at 0x7a7d5414ff80>, 14: <stormvogel.model.Transition object at 0x7a7d54182810>, 15: <stormvogel.model.Transition object at 0x7a7d54182960>, 16: <stormvogel.model.Transition object at 0x7a7d54182ab0>, 17: <stormvogel.model.Transition object at 0x7a7d54182c00>, 18: <stormvogel.model.Transition object at 0x7a7d54182d50>, 19: <stormvogel.model.Transition object at 0x7a7d54182ea0>, 20: <stormvogel.model.Transition object at 0x7a7d54182ff0>, 21: <stormvogel.model.Transition object at 0x7a7d54183140>, 22: <stormvogel.model.Transition object at 0x7a7d54183290>, 23: <stormvogel.model.Transition object at 0x7a7d541833e0>, 24: <stormvogel.model.Transition object at 0x7a7d54183530>, 25: <stormvogel.model.Transition object at 0x7a7d54183590>, 26: <stormvogel.model.Transition object at 0x7a7d54183620>, 27: <stormvogel.model.Transition object at 0x7a7d541836b0>, 28: <stormvogel.model.Transition object at 0x7a7d54183740>, 29: <stormvogel.model.Transition object at 0x7a7d541837d0>, 30: <stormvogel.model.Transition object at 0x7a7d54183860>, 31: <stormvogel.model.Transition object at 0x7a7d541838f0>, 32: <stormvogel.model.Transition object at 0x7a7d54183980>, 33: <stormvogel.model.Transition object at 0x7a7d54183a10>, 34: <stormvogel.model.Transition object at 0x7a7d54183aa0>, 35: <stormvogel.model.Transition object at 0x7a7d54183b30>, 36: <stormvogel.model.Transition object at 0x7a7d54183bc0>, 37: <stormvogel.model.Transition object at 0x7a7d54183c50>, 38: <stormvogel.model.Transition object at 0x7a7d54183ce0>, 39: <stormvogel.model.Transition object at 0x7a7d54183d70>, 40: <stormvogel.model.Transition object at 0x7a7d54183e00>, 41: <stormvogel.model.Transition object at 0x7a7d54183e90>, 42: <stormvogel.model.Transition object at 0x7a7d54183f20>, 43: <stormvogel.model.Transition object at 0x7a7d54183fb0>, 44: <stormvogel.model.Transition object at 0x7a7d541a0080>, 45: <stormvogel.model.Transition object at 0x7a7d541a0110>, 46: <stormvogel.model.Transition object at 0x7a7d541a01a0>, 47: <stormvogel.model.Transition object at 0x7a7d541a0230>, 48: <stormvogel.model.Transition object at 0x7a7d541a02c0>}, actions={Action(labels=frozenset({'open1'})), Action(labels=frozenset()), Action(labels=frozenset({'switch'})), Action(labels=frozenset({'open2'})), Action(labels=frozenset({'stay'})), Action(labels=frozenset({'open0'}))}, rewards=[], exit_rates=None, markovian_states=None)"
            ]
          },
          "execution_count": 6,
          "metadata": {},
          "output_type": "execute_result"
        }
      ],
      "source": [
        "result.scheduler.model"
      ]
    },
    {
      "cell_type": "markdown",
      "id": "5f35d4ff-2758-4fde-8394-33804ab46c62",
      "metadata": {},
      "source": [
        "We can visualize our model together with our results"
      ]
    },
    {
      "cell_type": "code",
      "execution_count": 7,
      "id": "8b95bfe8-6d48-4779-9d5a-9f1714cca005",
      "metadata": {},
      "outputs": [
        {
          "data": {
            "application/vnd.jupyter.widget-view+json": {
              "model_id": "78f3cabcfea941ceb446c333b6646c05",
              "version_major": 2,
              "version_minor": 0
            },
            "text/plain": [
              "Output()"
            ]
          },
          "metadata": {},
          "output_type": "display_data"
        },
        {
          "data": {
            "application/vnd.jupyter.widget-view+json": {
              "model_id": "ce829e5b03f84cac96d7de3d05f42b2a",
              "version_major": 2,
              "version_minor": 0
            },
            "text/plain": [
              "Output()"
            ]
          },
          "metadata": {},
          "output_type": "display_data"
        },
        {
          "data": {
            "application/vnd.jupyter.widget-view+json": {
              "model_id": "f2b0cb583d4448b2a8e20747cb141601",
              "version_major": 2,
              "version_minor": 0
            },
            "text/plain": [
              "Output()"
            ]
          },
          "metadata": {},
          "output_type": "display_data"
        },
        {
          "data": {
            "application/vnd.jupyter.widget-view+json": {
              "model_id": "db6cad030d5b45e2b91a583078275ff4",
              "version_major": 2,
              "version_minor": 0
            },
            "text/plain": [
              "HBox(children=(Output(), Output()))"
            ]
          },
          "metadata": {},
          "output_type": "display_data"
        }
      ],
      "source": [
        "from stormvogel.layout import Layout\n",
        "vis = show.show(mdp, result=result, show_editor=True, scheduler=result.scheduler)"
      ]
    },
    {
      "cell_type": "markdown",
      "id": "d61dc85f-9966-4ebe-aa00-dc1ab6a677d1",
      "metadata": {},
      "source": [
        "To learn how to create more elaborate property strings, visit: https://www.stormchecker.org/documentation/background/properties.html"
      ]
    },
    {
      "cell_type": "code",
      "execution_count": 8,
      "id": "e0b08c09-74d9-4117-9fd0-53a47fe45778",
      "metadata": {},
      "outputs": [
        {
          "name": "stdout",
          "output_type": "stream",
          "text": [
            "{\n",
            "  \"__fake_macros\": {\n",
            "    \"__group_macro\": {\n",
            "      \"borderWidth\": 1,\n",
            "      \"color\": {\n",
            "        \"background\": \"white\",\n",
            "        \"border\": \"black\",\n",
            "        \"highlight\": {\n",
            "          \"background\": \"white\",\n",
            "          \"border\": \"red\"\n",
            "        }\n",
            "      },\n",
            "      \"shape\": \"ellipse\",\n",
            "      \"mass\": 1,\n",
            "      \"font\": {\n",
            "        \"color\": \"black\",\n",
            "        \"size\": 14\n",
            "      }\n",
            "    }\n",
            "  },\n",
            "  \"edit_groups\": {\n",
            "    \"groups\": [\n",
            "      \"states\",\n",
            "      \"actions\",\n",
            "      \"scheduled_actions\"\n",
            "    ]\n",
            "  },\n",
            "  \"groups\": {\n",
            "    \"actions\": {\n",
            "      \"borderWidth\": 1,\n",
            "      \"color\": {\n",
            "        \"background\": \"lightblue\",\n",
            "        \"border\": \"black\",\n",
            "        \"highlight\": {\n",
            "          \"background\": \"white\",\n",
            "          \"border\": \"red\"\n",
            "        }\n",
            "      },\n",
            "      \"shape\": \"box\",\n",
            "      \"mass\": 1,\n",
            "      \"font\": {\n",
            "        \"color\": \"black\",\n",
            "        \"size\": 14\n",
            "      }\n",
            "    },\n",
            "    \"scheduled_actions\": {\n",
            "      \"borderWidth\": 1,\n",
            "      \"color\": {\n",
            "        \"background\": \"pink\",\n",
            "        \"border\": \"red\",\n",
            "        \"highlight\": {\n",
            "          \"background\": \"white\",\n",
            "          \"border\": \"red\"\n",
            "        }\n",
            "      },\n",
            "      \"shape\": \"box\",\n",
            "      \"mass\": 1,\n",
            "      \"font\": {\n",
            "        \"color\": \"black\",\n",
            "        \"size\": 14\n",
            "      }\n",
            "    },\n",
            "    \"states\": {\n",
            "      \"borderWidth\": 1,\n",
            "      \"color\": {\n",
            "        \"background\": \"white\",\n",
            "        \"border\": \"black\",\n",
            "        \"highlight\": {\n",
            "          \"background\": \"white\",\n",
            "          \"border\": \"red\"\n",
            "        }\n",
            "      },\n",
            "      \"shape\": \"ellipse\",\n",
            "      \"mass\": 1,\n",
            "      \"font\": {\n",
            "        \"color\": \"black\",\n",
            "        \"size\": 14\n",
            "      }\n",
            "    }\n",
            "  },\n",
            "  \"reload_button\": false,\n",
            "  \"edges\": {\n",
            "    \"arrows\": \"to\",\n",
            "    \"font\": {\n",
            "      \"color\": \"black\",\n",
            "      \"size\": 14\n",
            "    },\n",
            "    \"color\": {\n",
            "      \"color\": \"black\"\n",
            "    }\n",
            "  },\n",
            "  \"numbers\": {\n",
            "    \"fractions\": true,\n",
            "    \"digits\": 5\n",
            "  },\n",
            "  \"state_properties\": {\n",
            "    \"show_results\": true,\n",
            "    \"result_symbol\": \"\\u2606\",\n",
            "    \"show_rewards\": true,\n",
            "    \"reward_symbol\": \"\\u20ac\",\n",
            "    \"show_zero_rewards\": true,\n",
            "    \"show_observations\": true,\n",
            "    \"observation_symbol\": \"\\u0298\"\n",
            "  },\n",
            "  \"layout\": {\n",
            "    \"randomSeed\": 5\n",
            "  },\n",
            "  \"misc\": {\n",
            "    \"enable_physics\": true,\n",
            "    \"width\": 800,\n",
            "    \"height\": 600,\n",
            "    \"explore\": false\n",
            "  },\n",
            "  \"saving\": {\n",
            "    \"relative_path\": true,\n",
            "    \"filename\": \"layouts/NAME.json\",\n",
            "    \"save_button\": false,\n",
            "    \"load_button\": false\n",
            "  },\n",
            "  \"positions\": {},\n",
            "  \"width\": 800,\n",
            "  \"height\": 600,\n",
            "  \"physics\": true,\n",
            "  \"autoResize\": true\n",
            "}\n"
          ]
        }
      ],
      "source": [
        "print(vis.layout)"
      ]
    },
    {
      "cell_type": "code",
      "execution_count": null,
      "id": "62ba8bb1-850d-43e6-aac1-96d19925fde9",
      "metadata": {},
      "outputs": [],
      "source": []
    }
  ],
  "metadata": {
    "kernelspec": {
      "display_name": "Python 3 (ipykernel)",
      "language": "python",
      "name": "python3"
    },
    "language_info": {
      "codemirror_mode": {
        "name": "ipython",
        "version": 3
      },
      "file_extension": ".py",
      "mimetype": "text/x-python",
      "name": "python",
      "nbconvert_exporter": "python",
      "pygments_lexer": "ipython3",
      "version": "3.12.3"
    }
  },
  "nbformat": 4,
  "nbformat_minor": 5
}
