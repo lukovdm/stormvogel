{
  "cells": [
    {
      "cell_type": "code",
      "execution_count": 7,
      "id": "e0d2c1f7-3a10-4f30-a4d1-2d446de06487",
      "metadata": {},
      "outputs": [
        {
          "name": "stdout",
          "output_type": "stream",
          "text": [
            "Warning: When  cdn_resources is 'local' jupyter notebook has issues displaying graphics on chrome/safari. Use cdn_resources='in_line' or cdn_resources='remote' if you have issues viewing graphics in a notebook.\n",
            "nx.html\n"
          ]
        },
        {
          "data": {
            "text/html": [
              "\n",
              "        <iframe\n",
              "            width=\"500px\"\n",
              "            height=\"500px\"\n",
              "            src=\"nx.html\"\n",
              "            frameborder=\"0\"\n",
              "            allowfullscreen\n",
              "            \n",
              "        ></iframe>\n",
              "        "
            ],
            "text/plain": [
              "<IPython.lib.display.IFrame at 0x7f49ac175e10>"
            ]
          },
          "execution_count": 7,
          "metadata": {},
          "output_type": "execute_result"
        }
      ],
      "source": [
        "from pyvis.network import Network\n",
        "import networkx as nx\n",
        "nx_graph = nx.cycle_graph(10)\n",
        "nx_graph.add_node(20, size=20, title='couple', group=2)\n",
        "nx_graph.nodes[1]['title'] = 'Number 1'\n",
        "nx_graph.nodes[1]['group'] = 1\n",
        "nx_graph.nodes[3]['title'] = 'I belong to a different group!'\n",
        "nx_graph.nodes[3]['group'] = 10\n",
        "nt = Network('500px', '500px', notebook=True)\n",
        "nt.from_nx(nx_graph)\n",
        "nt.show('nx.html')\n",
        "\n"
      ]
    },
    {
      "cell_type": "code",
      "execution_count": 8,
      "id": "0c0b4979-fd00-4393-bf8a-def6d8361ec8",
      "metadata": {},
      "outputs": [],
      "source": [
        "nt.add_node(800)"
      ]
    },
    {
      "cell_type": "code",
      "execution_count": null,
      "id": "838dd337-4211-48f6-8866-1e25023d533d",
      "metadata": {},
      "outputs": [],
      "source": []
    }
  ],
  "metadata": {
    "kernelspec": {
      "display_name": "Python 3 (ipykernel)",
      "language": "python",
      "name": "python3"
    },
    "language_info": {
      "codemirror_mode": {
        "name": "ipython",
        "version": 3
      },
      "file_extension": ".py",
      "mimetype": "text/x-python",
      "name": "python",
      "nbconvert_exporter": "python",
      "pygments_lexer": "ipython3",
      "version": "3.11.2"
    }
  },
  "nbformat": 4,
  "nbformat_minor": 5
}
