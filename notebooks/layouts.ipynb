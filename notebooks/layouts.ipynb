{
  "cells": [
    {
      "cell_type": "code",
      "execution_count": 1,
      "id": "e0d2c1f7-3a10-4f30-a4d1-2d446de06487",
      "metadata": {},
      "outputs": [
        {
          "name": "stdout",
          "output_type": "stream",
          "text": [
            "{'nodes': {'color': {'background': 'white', 'border': 'black'}}, 'init': {'borderWidth': 3, 'color': 'green', 'shape': 'circle'}, 'states': {'borderWidth': 1, 'color': 'None', 'shape': 'circle'}}\n"
          ]
        }
      ],
      "source": [
        "import stormvogel.layout\n",
        "from stormvogel.layout import DEFAULT"
      ]
    },
    {
      "cell_type": "code",
      "execution_count": 2,
      "id": "8c98f637-ed9c-430b-b414-09c665b307f8",
      "metadata": {},
      "outputs": [
        {
          "name": "stdout",
          "output_type": "stream",
          "text": [
            "{'nodes': {'color': {'background': 'red', 'border': 'orange'}}, 'init': {'borderWidth': 3, 'color': 'green', 'shape': 'circle'}, 'states': {'borderWidth': 1, 'color': 'None', 'shape': 'circle'}}\n",
            "{'nodes': {'color': {'background': 'red', 'border': 'orange'}}, 'init': {'borderWidth': 3, 'color': 'green', 'shape': 'circle'}, 'states': {'borderWidth': 1, 'color': 'None', 'shape': 'circle'}}\n"
          ]
        }
      ],
      "source": [
        "# Import custom layout\n",
        "l1 = stormvogel.layout.Layout(\"custom_layout.json\")\n",
        "l2 = stormvogel.layout.Layout(path=\"/home/ivo/git/stormvogel/notebooks/custom_layout.json\", path_relative=False)"
      ]
    },
    {
      "cell_type": "code",
      "execution_count": null,
      "id": "0c0b4979-fd00-4393-bf8a-def6d8361ec8",
      "metadata": {},
      "outputs": [],
      "source": []
    },
    {
      "cell_type": "code",
      "execution_count": null,
      "id": "c44a1ec0-1d94-431a-b62f-a32df6d35884",
      "metadata": {},
      "outputs": [],
      "source": []
    }
  ],
  "metadata": {
    "kernelspec": {
      "display_name": "Python 3 (ipykernel)",
      "language": "python",
      "name": "python3"
    },
    "language_info": {
      "codemirror_mode": {
        "name": "ipython",
        "version": 3
      },
      "file_extension": ".py",
      "mimetype": "text/x-python",
      "name": "python",
      "nbconvert_exporter": "python",
      "pygments_lexer": "ipython3",
      "version": "3.11.2"
    }
  },
  "nbformat": 4,
  "nbformat_minor": 5
}
