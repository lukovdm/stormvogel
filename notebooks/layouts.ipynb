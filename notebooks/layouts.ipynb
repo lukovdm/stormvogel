{
  "cells": [
    {
      "cell_type": "code",
      "execution_count": 1,
      "id": "e0d2c1f7-3a10-4f30-a4d1-2d446de06487",
      "metadata": {},
      "outputs": [],
      "source": [
        "import stormvogel.layout\n",
        "from stormvogel.layout import DEFAULT"
      ]
    },
    {
      "cell_type": "code",
      "execution_count": 2,
      "id": "8c98f637-ed9c-430b-b414-09c665b307f8",
      "metadata": {},
      "outputs": [
        {
          "name": "stdout",
          "output_type": "stream",
          "text": [
            "{'color': 'red'}\n",
            "{'color': 'red'}\n",
            "{'color': 'blue'}\n",
            "{'color': 'blue'}\n"
          ]
        }
      ],
      "source": [
        "# Import custom layout\n",
        "l1 = stormvogel.layout.Layout(custom=True, custom_path=\"custom_layout.json\")\n",
        "l2 = stormvogel.layout.Layout(custom=True, custom_path=\"/home/ivo/git/stormvogel/notebooks/custom_layout.json\", custom_path_relative=False)\n",
        "# Import template layout\n",
        "l3 = stormvogel.layout.Layout(custom=False, template_path=\"layouts/default.json\")\n",
        "l4 = stormvogel.layout.Layout(custom=False, template_path=DEFAULT)\n",
        "l5 = "
      ]
    },
    {
      "cell_type": "code",
      "execution_count": null,
      "id": "9198a4b4-12cd-47a4-8950-278c18023192",
      "metadata": {},
      "outputs": [],
      "source": []
    }
  ],
  "metadata": {
    "kernelspec": {
      "display_name": "Python 3 (ipykernel)",
      "language": "python",
      "name": "python3"
    },
    "language_info": {
      "codemirror_mode": {
        "name": "ipython",
        "version": 3
      },
      "file_extension": ".py",
      "mimetype": "text/x-python",
      "name": "python",
      "nbconvert_exporter": "python",
      "pygments_lexer": "ipython3",
      "version": "3.11.2"
    }
  },
  "nbformat": 4,
  "nbformat_minor": 5
}
