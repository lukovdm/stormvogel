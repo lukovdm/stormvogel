{
  "cells": [
    {
      "cell_type": "code",
      "execution_count": 1,
      "id": "e0d2c1f7-3a10-4f30-a4d1-2d446de06487",
      "metadata": {},
      "outputs": [],
      "source": [
        "import stormvogel.layout\n",
        "from stormvogel.layout import DEFAULT"
      ]
    },
    {
      "cell_type": "code",
      "execution_count": 3,
      "id": "8c98f637-ed9c-430b-b414-09c665b307f8",
      "metadata": {},
      "outputs": [],
      "source": [
        "# Import custom layout\n",
        "l1 = stormvogel.layout.Layout(\"custom_layout.json\")\n",
        "l2 = stormvogel.layout.Layout(path=\"/home/ivo/git/stormvogel/notebooks/custom_layout.json\", path_relative=False)"
      ]
    }
  ],
  "metadata": {
    "kernelspec": {
      "display_name": "Python 3 (ipykernel)",
      "language": "python",
      "name": "python3"
    },
    "language_info": {
      "codemirror_mode": {
        "name": "ipython",
        "version": 3
      },
      "file_extension": ".py",
      "mimetype": "text/x-python",
      "name": "python",
      "nbconvert_exporter": "python",
      "pygments_lexer": "ipython3",
      "version": "3.11.2"
    }
  },
  "nbformat": 4,
  "nbformat_minor": 5
}
