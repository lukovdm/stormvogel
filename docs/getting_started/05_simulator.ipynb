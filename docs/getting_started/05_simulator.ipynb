{
  "cells": [
    {
      "cell_type": "markdown",
      "id": "a7245ed2",
      "metadata": {},
      "source": [
        "# The simulator"
      ]
    },
    {
      "cell_type": "code",
      "execution_count": 16,
      "id": "a8ddc37c-66d2-43e4-8162-6be19a1d70a1",
      "metadata": {},
      "outputs": [],
      "source": [
        "from stormvogel.show import show\n",
        "from stormvogel.layout import Layout\n",
        "import stormvogel.model\n",
        "import stormvogel.simulator"
      ]
    },
    {
      "cell_type": "code",
      "execution_count": 17,
      "id": "cab40f99-3460-4497-8b9f-3d669eee1e11",
      "metadata": {},
      "outputs": [],
      "source": [
        "# We create the monty hall mdp\n",
        "mdp = stormvogel.model.new_mdp(\"Monty Hall\")\n",
        "\n",
        "init = mdp.get_initial_state()\n",
        "\n",
        "# first choose car position\n",
        "init.set_transitions(\n",
        "    [(1 / 3, mdp.new_state(\"carchosen\", {\"car_pos\": i})) for i in range(3)]\n",
        ")\n",
        "\n",
        "# we choose a door in each case\n",
        "for s in mdp.get_states_with_label(\"carchosen\"):\n",
        "    s.set_transitions(\n",
        "        [\n",
        "            (\n",
        "                mdp.action(f\"open{i}\"),\n",
        "                mdp.new_state(\"open\", s.features | {\"chosen_pos\": i}),\n",
        "            )\n",
        "            for i in range(3)\n",
        "        ]\n",
        "    )\n",
        "\n",
        "# the other goat is revealed\n",
        "for s in mdp.get_states_with_label(\"open\"):\n",
        "    car_pos = s.features[\"car_pos\"]\n",
        "    chosen_pos = s.features[\"chosen_pos\"]\n",
        "    other_pos = {0, 1, 2} - {car_pos, chosen_pos}\n",
        "    s.set_transitions(\n",
        "        [\n",
        "            (\n",
        "                1 / len(other_pos),\n",
        "                mdp.new_state(\"goatrevealed\", s.features | {\"reveal_pos\": i}),\n",
        "            )\n",
        "            for i in other_pos\n",
        "        ]\n",
        "    )\n",
        "\n",
        "# we must choose whether we want to switch\n",
        "for s in mdp.get_states_with_label(\"goatrevealed\"):\n",
        "    car_pos = s.features[\"car_pos\"]\n",
        "    chosen_pos = s.features[\"chosen_pos\"]\n",
        "    reveal_pos = s.features[\"reveal_pos\"]\n",
        "    other_pos = list({0, 1, 2} - {reveal_pos, chosen_pos})[0]\n",
        "    s.set_transitions(\n",
        "        [\n",
        "            (\n",
        "                mdp.action(\"stay\"),\n",
        "                mdp.new_state(\n",
        "                    [\"done\"] + ([\"target\"] if chosen_pos == car_pos else []),\n",
        "                    s.features | {\"chosen_pos\": chosen_pos},\n",
        "                ),\n",
        "            ),\n",
        "            (\n",
        "                mdp.action(\"switch\"),\n",
        "                mdp.new_state(\n",
        "                    [\"done\"] + ([\"target\"] if other_pos == car_pos else []),\n",
        "                    s.features | {\"chosen_pos\": other_pos},\n",
        "                ),\n",
        "            ),\n",
        "        ]\n",
        "    )\n",
        "\n",
        "# we add self loops to all states with no outgoing transitions\n",
        "mdp.add_self_loops()"
      ]
    },
    {
      "cell_type": "markdown",
      "id": "d1f90374-dc85-4f31-b59f-aaf5e48a32f7",
      "metadata": {},
      "source": [
        "We show what our mdp model looks like."
      ]
    },
    {
      "cell_type": "code",
      "execution_count": 19,
      "id": "c129cf62-40ca-4246-8718-5c859744e7f8",
      "metadata": {
        "scrolled": true
      },
      "outputs": [
        {
          "data": {
            "application/vnd.jupyter.widget-view+json": {
              "model_id": "032ba87f697f458fa1e7a2a98e8c2d7e",
              "version_major": 2,
              "version_minor": 0
            },
            "text/plain": [
              "Output()"
            ]
          },
          "metadata": {},
          "output_type": "display_data"
        },
        {
          "data": {
            "text/html": [
              "<script>\n",
              "function return_id_result(url, id, data) {\n",
              "        fetch(url, {\n",
              "            method: 'POST',\n",
              "            body: JSON.stringify({\n",
              "                'id': id,\n",
              "                'data': data\n",
              "            })\n",
              "        })\n",
              "    }\n",
              "</script>"
            ],
            "text/plain": [
              "<IPython.core.display.HTML object>"
            ]
          },
          "metadata": {},
          "output_type": "display_data"
        },
        {
          "data": {
            "application/javascript": [
              "return_id_result('http://127.0.0.1:8893', 'mMgpjSSXdSHENTZMNDiD', 'test message')"
            ],
            "text/plain": [
              "<IPython.core.display.Javascript object>"
            ]
          },
          "metadata": {},
          "output_type": "display_data"
        },
        {
          "data": {
            "application/vnd.jupyter.widget-view+json": {
              "model_id": "6596280246694c888cf08192165b9dcc",
              "version_major": 2,
              "version_minor": 0
            },
            "text/plain": [
              "Output()"
            ]
          },
          "metadata": {},
          "output_type": "display_data"
        },
        {
          "data": {
            "application/vnd.jupyter.widget-view+json": {
              "model_id": "9c402af151264a3b9a8a2ad0309ec093",
              "version_major": 2,
              "version_minor": 0
            },
            "text/plain": [
              "HBox(children=(Output(), Output()))"
            ]
          },
          "metadata": {},
          "output_type": "display_data"
        }
      ],
      "source": [
        "vis = show(mdp, layout=Layout(\"layouts/monty.json\"))"
      ]
    },
    {
      "cell_type": "markdown",
      "id": "b5b2990c-65ed-4d7b-a4b8-f303843622e5",
      "metadata": {},
      "source": [
        "We want to simulate this model. That is, we start at the initial state and then we walk through the model by choosing random actions.\n",
        "\n",
        "When we do this, we get a partial model as a result that contains everything we discovered during this walk. \n",
        "\n",
        "Try running this multiple times, and observe that sometimes we get to the target and sometimes we do not."
      ]
    },
    {
      "cell_type": "code",
      "execution_count": 21,
      "id": "eb0fadc0-7bb6-4c1d-ae3e-9e16527726ab",
      "metadata": {},
      "outputs": [
        {
          "data": {
            "application/vnd.jupyter.widget-view+json": {
              "model_id": "30cf8a454ba747d1bc4f24f6aa239289",
              "version_major": 2,
              "version_minor": 0
            },
            "text/plain": [
              "Output()"
            ]
          },
          "metadata": {},
          "output_type": "display_data"
        },
        {
          "data": {
            "application/vnd.jupyter.widget-view+json": {
              "model_id": "2299ae5bb9fb4c72a458459ce9a1457b",
              "version_major": 2,
              "version_minor": 0
            },
            "text/plain": [
              "Output()"
            ]
          },
          "metadata": {},
          "output_type": "display_data"
        },
        {
          "data": {
            "application/vnd.jupyter.widget-view+json": {
              "model_id": "dc54c444f320422293ba1948824db757",
              "version_major": 2,
              "version_minor": 0
            },
            "text/plain": [
              "HBox(children=(Output(), Output()))"
            ]
          },
          "metadata": {},
          "output_type": "display_data"
        }
      ],
      "source": [
        "# we can choose how many steps we take:\n",
        "steps = 4\n",
        "\n",
        "# and we can specify a seed if we want:\n",
        "seed = 12345676346\n",
        "\n",
        "# then we run the simulator:\n",
        "partial_model = stormvogel.simulator.simulate(mdp, steps=steps, seed=seed)\n",
        "# We could also provide a seed.\n",
        "#partial_model = stormvogel.simulator.simulate(mdp, steps=steps, seed=seed)\n",
        "\n",
        "vis = show(partial_model, layout=Layout(\"layouts/small_monty.json\"))"
      ]
    },
    {
      "cell_type": "markdown",
      "id": "49e3893d-bc35-4648-87eb-74a6a222ebf0",
      "metadata": {},
      "source": [
        "We can also provide a scheduler (i.e. policy) which chooses what actions we should take at all time.\n",
        "\n",
        "In this case, we always take the first action, which means that we open door 0, and don't switch doors."
      ]
    },
    {
      "cell_type": "code",
      "execution_count": 22,
      "id": "59ac1e34-866c-42c4-b19b-c2a15c830e2e",
      "metadata": {},
      "outputs": [
        {
          "data": {
            "application/vnd.jupyter.widget-view+json": {
              "model_id": "ff3aa6b8da404aaeb4b7baab33fdaaa9",
              "version_major": 2,
              "version_minor": 0
            },
            "text/plain": [
              "Output()"
            ]
          },
          "metadata": {},
          "output_type": "display_data"
        },
        {
          "data": {
            "application/vnd.jupyter.widget-view+json": {
              "model_id": "abceaa2b013d483eb3d109e5c577f5a4",
              "version_major": 2,
              "version_minor": 0
            },
            "text/plain": [
              "Output()"
            ]
          },
          "metadata": {},
          "output_type": "display_data"
        },
        {
          "data": {
            "application/vnd.jupyter.widget-view+json": {
              "model_id": "3772bb5e552f4ce1adede1f4021abd86",
              "version_major": 2,
              "version_minor": 0
            },
            "text/plain": [
              "HBox(children=(Output(), Output()))"
            ]
          },
          "metadata": {},
          "output_type": "display_data"
        }
      ],
      "source": [
        "#it still chooses random actions but we can prevent this by providing a scheduler:\n",
        "taken_actions = {}\n",
        "for id, state in mdp.states.items():\n",
        "    taken_actions[id] = state.available_actions()[0]\n",
        "scheduler = stormvogel.result.Scheduler(mdp, taken_actions)\n",
        "\n",
        "partial_model = stormvogel.simulator.simulate(mdp, steps=steps, scheduler=scheduler, seed=seed)\n",
        "vis = show(partial_model, layout=Layout(\"layouts/small_monty.json\"))"
      ]
    },
    {
      "cell_type": "markdown",
      "id": "57a9b77d-4a75-42e4-8006-0bb11f2b345c",
      "metadata": {},
      "source": [
        "We can highlight the scheduled states in the visualization of the entire model."
      ]
    },
    {
      "cell_type": "code",
      "execution_count": 23,
      "id": "7e23fc38-b2af-4f02-b0a2-5d06151d2ca5",
      "metadata": {},
      "outputs": [
        {
          "data": {
            "application/vnd.jupyter.widget-view+json": {
              "model_id": "40761d8774774d9196d8f51356720dd8",
              "version_major": 2,
              "version_minor": 0
            },
            "text/plain": [
              "Output()"
            ]
          },
          "metadata": {},
          "output_type": "display_data"
        },
        {
          "data": {
            "application/vnd.jupyter.widget-view+json": {
              "model_id": "d90e8e809b914768bf179d3d80ef3215",
              "version_major": 2,
              "version_minor": 0
            },
            "text/plain": [
              "Output()"
            ]
          },
          "metadata": {},
          "output_type": "display_data"
        },
        {
          "data": {
            "application/vnd.jupyter.widget-view+json": {
              "model_id": "2e152bf6a1d74d479765daab302c7b80",
              "version_major": 2,
              "version_minor": 0
            },
            "text/plain": [
              "HBox(children=(Output(), Output()))"
            ]
          },
          "metadata": {},
          "output_type": "display_data"
        }
      ],
      "source": [
        "vis = show(mdp, show_editor=True, layout=Layout(\"layouts/monty.json\"), scheduler=scheduler)"
      ]
    },
    {
      "cell_type": "markdown",
      "id": "e4f388d8-d08b-40f5-a61b-1f5f29d004c9",
      "metadata": {},
      "source": [
        "We can also get a path from the simulator function."
      ]
    },
    {
      "cell_type": "code",
      "execution_count": 24,
      "id": "34d0c293-d090-4e3d-9e80-4351f5fcba62",
      "metadata": {},
      "outputs": [
        {
          "name": "stdout",
          "output_type": "stream",
          "text": [
            "initial state --(action: frozenset())--> state: 2 --(action: frozenset({'open0'}))--> state: 7 --(action: frozenset())--> state: 17 --(action: frozenset({'stay'}))--> state: 33\n"
          ]
        }
      ],
      "source": [
        "#we can also use another simulator function that returns a path instead of a partial model:\n",
        "path = stormvogel.simulator.simulate_path(mdp, steps=4, scheduler=scheduler, seed=123456)\n",
        "\n",
        "print(path)"
      ]
    },
    {
      "cell_type": "markdown",
      "id": "1e0f6fea-6cd3-43e0-beea-84dc26eeca0b",
      "metadata": {},
      "source": [
        "We can even visualize this path interactively! This works with any Path, not just a scheduler path. TODO."
      ]
    },
    {
      "cell_type": "code",
      "execution_count": 27,
      "id": "afbb3234-99e4-49d0-b259-f598e895f600",
      "metadata": {},
      "outputs": [
        {
          "data": {
            "application/vnd.jupyter.widget-view+json": {
              "model_id": "8d6b5e6b3bf74965a87156927c949d44",
              "version_major": 2,
              "version_minor": 0
            },
            "text/plain": [
              "Output()"
            ]
          },
          "metadata": {},
          "output_type": "display_data"
        },
        {
          "data": {
            "application/vnd.jupyter.widget-view+json": {
              "model_id": "d3e779f986a54726bb1b94f5f4d1d00c",
              "version_major": 2,
              "version_minor": 0
            },
            "text/plain": [
              "Output()"
            ]
          },
          "metadata": {},
          "output_type": "display_data"
        },
        {
          "data": {
            "application/vnd.jupyter.widget-view+json": {
              "model_id": "44d84e6eb9604cbe86bad01238235c10",
              "version_major": 2,
              "version_minor": 0
            },
            "text/plain": [
              "HBox(children=(Output(), Output()))"
            ]
          },
          "metadata": {},
          "output_type": "display_data"
        },
        {
          "ename": "AttributeError",
          "evalue": "'Visualization' object has no attribute 'show_path'",
          "output_type": "error",
          "traceback": [
            "\u001b[0;31m---------------------------------------------------------------------------\u001b[0m",
            "\u001b[0;31mAttributeError\u001b[0m                            Traceback (most recent call last)",
            "Cell \u001b[0;32mIn[27], line 5\u001b[0m\n\u001b[1;32m      2\u001b[0m \u001b[38;5;28;01mfrom\u001b[39;00m \u001b[38;5;21;01mtime\u001b[39;00m \u001b[38;5;28;01mimport\u001b[39;00m sleep\n\u001b[1;32m      4\u001b[0m vis \u001b[38;5;241m=\u001b[39m show(mdp, layout\u001b[38;5;241m=\u001b[39mLayout(\u001b[38;5;124m\"\u001b[39m\u001b[38;5;124mlayouts/monty.json\u001b[39m\u001b[38;5;124m\"\u001b[39m))\n\u001b[0;32m----> 5\u001b[0m \u001b[43mvis\u001b[49m\u001b[38;5;241;43m.\u001b[39;49m\u001b[43mshow_path\u001b[49m(path)\n\u001b[1;32m      6\u001b[0m \u001b[38;5;28;01mfor\u001b[39;00m state \u001b[38;5;129;01min\u001b[39;00m path:\n\u001b[1;32m      7\u001b[0m     vis\u001b[38;5;241m.\u001b[39mhighlight_state(state, color\u001b[38;5;241m=\u001b[39m\u001b[38;5;124m\"\u001b[39m\u001b[38;5;124mred\u001b[39m\u001b[38;5;124m\"\u001b[39m)\n",
            "\u001b[0;31mAttributeError\u001b[0m: 'Visualization' object has no attribute 'show_path'"
          ]
        }
      ],
      "source": [
        "from stormvogel.show import show\n",
        "from time import sleep\n",
        "\n",
        "vis = show(mdp, layout=Layout(\"layouts/monty.json\"))\n",
        "vis.show_path(path)\n",
        "for state in path:\n",
        "    vis.highlight_state(state, color=\"red\")\n",
        "    sleep(1)\n",
        "    # TODO should crash\n",
        "    "
      ]
    },
    {
      "cell_type": "code",
      "execution_count": null,
      "id": "0f6fe7f4-cc9e-4c1d-9850-3799ca47a903",
      "metadata": {},
      "outputs": [],
      "source": []
    }
  ],
  "metadata": {
    "kernelspec": {
      "display_name": "Python 3 (ipykernel)",
      "language": "python",
      "name": "python3"
    },
    "language_info": {
      "codemirror_mode": {
        "name": "ipython",
        "version": 3
      },
      "file_extension": ".py",
      "mimetype": "text/x-python",
      "name": "python",
      "nbconvert_exporter": "python",
      "pygments_lexer": "ipython3",
      "version": "3.12.7"
    }
  },
  "nbformat": 4,
  "nbformat_minor": 5
}
