{
  "cells": [
    {
      "cell_type": "markdown",
      "id": "6ba470eb-80d5-416b-9b09-7ffe806f588a",
      "metadata": {},
      "source": [
        "# The pgc model builer"
      ]
    },
    {
      "cell_type": "code",
      "execution_count": 1,
      "id": "729b4d08-5d13-4126-a0cb-078cb3ae8054",
      "metadata": {},
      "outputs": [],
      "source": [
        "from stormvogel import model, pgc\n",
        "from stormvogel.show import show"
      ]
    },
    {
      "cell_type": "markdown",
      "id": "f1ada096-828f-4e74-8d1a-96fb2fb37915",
      "metadata": {},
      "source": [
        "We can also build a model using the pgc (python guarded command) model builder. Here, we use guards to specify the state we will end up in for each case. This is similar to the structure in prism files."
      ]
    },
    {
      "cell_type": "code",
      "execution_count": 6,
      "id": "cb8aec2d-1b23-4928-a07a-40942b3a439a",
      "metadata": {},
      "outputs": [],
      "source": [
        "import math\n",
        "\n",
        "#changing this constant changes the size of the model\n",
        "N = 2\n",
        "\n",
        "#we can use simpler versions of the Action and State class, included specifically for this method of model building\n",
        "initial_state = pgc.State(x=math.floor(N / 2))\n",
        "left = pgc.Action([\"left\"])\n",
        "right = pgc.Action([\"right\"])\n",
        "\n",
        "#this available actions function will specify what actions are available in each state\n",
        "def available_actions(s: pgc.State):\n",
        "    if s.x == N:\n",
        "        return [right]\n",
        "    elif s.x == 0:\n",
        "        return [left]\n",
        "    else :\n",
        "        return [left,right]\n",
        "\n",
        "#finally we make the delta function, which says to which states we can transition depending on in which state we are and which action we choose.\n",
        "p = 0.5\n",
        "def delta(s: pgc.State, action: pgc.Action):\n",
        "    if action == left:\n",
        "        return (\n",
        "            [\n",
        "                (p, pgc.State(x=s.x + 1)),\n",
        "                (1 - p, pgc.State(x=s.x)),\n",
        "            ]\n",
        "            if s.x < N\n",
        "            else []\n",
        "        )\n",
        "    elif action == right:\n",
        "        return (\n",
        "            [\n",
        "                (p, pgc.State(x=s.x - 1)),\n",
        "                (1 - p, pgc.State(x=s.x)),\n",
        "            ]\n",
        "            if s.x > 0\n",
        "            else []\n",
        "        )"
      ]
    },
    {
      "cell_type": "markdown",
      "id": "9b7c4637-a48e-4841-bbf4-e2da20e37aee",
      "metadata": {},
      "source": [
        "we can also optionally provide functions that assign rewards and labels"
      ]
    },
    {
      "cell_type": "code",
      "execution_count": 7,
      "id": "8531a632-23ae-4451-b5cc-ede2d16ec9ee",
      "metadata": {},
      "outputs": [],
      "source": [
        "def rewards(s: pgc.State, a: pgc.Action):\n",
        "    return [1, 2]\n",
        "\n",
        "def labels(s: pgc.State):\n",
        "    return [str(s.x)]"
      ]
    },
    {
      "cell_type": "markdown",
      "id": "bd5ccbfd-003b-417e-b669-233797084c80",
      "metadata": {},
      "source": [
        "We then combine all of the above to call the build_pgc function that will build our model using the functions"
      ]
    },
    {
      "cell_type": "code",
      "execution_count": 8,
      "id": "7a920d7d-1430-43b5-b56e-3e74a7749ffe",
      "metadata": {},
      "outputs": [
        {
          "data": {
            "application/vnd.jupyter.widget-view+json": {
              "model_id": "3604847b3ffb43cf84643fac43a96c2c",
              "version_major": 2,
              "version_minor": 0
            },
            "text/plain": [
              "Output()"
            ]
          },
          "metadata": {},
          "output_type": "display_data"
        },
        {
          "data": {
            "application/vnd.jupyter.widget-view+json": {
              "model_id": "c94d1d5dc78f49e0b2913c5d42c8177a",
              "version_major": 2,
              "version_minor": 0
            },
            "text/plain": [
              "Output()"
            ]
          },
          "metadata": {},
          "output_type": "display_data"
        },
        {
          "data": {
            "application/vnd.jupyter.widget-view+json": {
              "model_id": "065e5760eeb14890a64a924c40051f95",
              "version_major": 2,
              "version_minor": 0
            },
            "text/plain": [
              "HBox(children=(Output(), Output()))"
            ]
          },
          "metadata": {},
          "output_type": "display_data"
        },
        {
          "data": {
            "text/plain": [
              "<stormvogel.visualization.Visualization at 0x7f8b757b3920>"
            ]
          },
          "execution_count": 8,
          "metadata": {},
          "output_type": "execute_result"
        }
      ],
      "source": [
        "pgc_model = pgc.build_pgc(\n",
        "    delta=delta,\n",
        "    available_actions=available_actions,\n",
        "    initial_state_pgc=initial_state,\n",
        "    labels=labels,\n",
        "    rewards=rewards,\n",
        ")\n",
        "\n",
        "show(pgc_model)"
      ]
    },
    {
      "cell_type": "markdown",
      "id": "65fa94ec-4102-46e8-b98b-68931802514d",
      "metadata": {},
      "source": [
        "We don't have to use the provided State class, in fact we can use any object we like! Here is an example where we use integers instead of states objects."
      ]
    },
    {
      "cell_type": "code",
      "execution_count": 5,
      "id": "be844a3f-bbc8-4c8d-a351-7627f7dd33b9",
      "metadata": {},
      "outputs": [
        {
          "data": {
            "application/vnd.jupyter.widget-view+json": {
              "model_id": "215d2f99bec74b57867223d343719088",
              "version_major": 2,
              "version_minor": 0
            },
            "text/plain": [
              "Output()"
            ]
          },
          "metadata": {},
          "output_type": "display_data"
        },
        {
          "data": {
            "application/vnd.jupyter.widget-view+json": {
              "model_id": "b363f34d5eae4639bad82e50375e2fb9",
              "version_major": 2,
              "version_minor": 0
            },
            "text/plain": [
              "Output()"
            ]
          },
          "metadata": {},
          "output_type": "display_data"
        },
        {
          "data": {
            "application/vnd.jupyter.widget-view+json": {
              "model_id": "cf33b0c7f1ba4601a10b822ba3260e99",
              "version_major": 2,
              "version_minor": 0
            },
            "text/plain": [
              "HBox(children=(Output(), Output()))"
            ]
          },
          "metadata": {},
          "output_type": "display_data"
        },
        {
          "data": {
            "text/plain": [
              "<stormvogel.visualization.Visualization at 0x7f8b75734d70>"
            ]
          },
          "execution_count": 5,
          "metadata": {},
          "output_type": "execute_result"
        }
      ],
      "source": [
        "def delta(state):\n",
        "    return [\n",
        "        (0.5, (state + 1) % 5),\n",
        "        (0.5, (state - 1) % 5),\n",
        "    ]\n",
        "    \n",
        "def rewards(state):\n",
        "    return [state]\n",
        "\n",
        "pgc_model = pgc.build_pgc(delta, initial_state_pgc=0, rewards=rewards, modeltype=model.ModelType.DTMC)\n",
        "show(pgc_model)"
      ]
    },
    {
      "cell_type": "code",
      "execution_count": null,
      "id": "949fbcc2-42a5-471a-98fd-42a05e5225f1",
      "metadata": {},
      "outputs": [],
      "source": []
    },
    {
      "cell_type": "code",
      "execution_count": null,
      "id": "6ca74030-0b38-423c-8171-99d714edbc02",
      "metadata": {},
      "outputs": [],
      "source": []
    },
    {
      "cell_type": "code",
      "execution_count": null,
      "id": "097ed75a-a102-4909-a1e4-5071fd91f038",
      "metadata": {},
      "outputs": [],
      "source": []
    }
  ],
  "metadata": {
    "kernelspec": {
      "display_name": "Python 3 (ipykernel)",
      "language": "python",
      "name": "python3"
    },
    "language_info": {
      "codemirror_mode": {
        "name": "ipython",
        "version": 3
      },
      "file_extension": ".py",
      "mimetype": "text/x-python",
      "name": "python",
      "nbconvert_exporter": "python",
      "pygments_lexer": "ipython3",
      "version": "3.12.3"
    }
  },
  "nbformat": 4,
  "nbformat_minor": 5
}
