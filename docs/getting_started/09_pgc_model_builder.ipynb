{
  "cells": [
    {
      "cell_type": "code",
      "execution_count": 1,
      "id": "729b4d08-5d13-4126-a0cb-078cb3ae8054",
      "metadata": {},
      "outputs": [],
      "source": [
        "from stormvogel import model, pgc\n",
        "from stormvogel.show import show"
      ]
    },
    {
      "cell_type": "markdown",
      "id": "f1ada096-828f-4e74-8d1a-96fb2fb37915",
      "metadata": {},
      "source": [
        "We can also build a model using the pgc (python guarded command) model builder. Here, we use guards to specify the state we will end up in for each case. This is similar to the structure in prism files."
      ]
    },
    {
      "cell_type": "code",
      "execution_count": 11,
      "id": "cb8aec2d-1b23-4928-a07a-40942b3a439a",
      "metadata": {},
      "outputs": [],
      "source": [
        "import math\n",
        "\n",
        "#changing this constant changes the size of the model\n",
        "N = 2\n",
        "\n",
        "#we can use simpler versions of the Action and State class, included specifically for this method of model building\n",
        "initial_state = pgc.State(x=math.floor(N / 2))\n",
        "left = pgc.Action([\"left\"])\n",
        "right = pgc.Action([\"right\"])\n",
        "\n",
        "#this available actions function will specify what actions are available in each state\n",
        "def available_actions(s: pgc.State):\n",
        "    if s.x == N:\n",
        "        return [right]\n",
        "    elif s.x == 0:\n",
        "        return [left]\n",
        "    else :\n",
        "        return [left,right]\n",
        "\n",
        "#finally we make the delta function, which says to which states we can transition depending on in which state we are and which action we choose.\n",
        "p = 0.5\n",
        "def delta(s: pgc.State, action: pgc.Action):\n",
        "    if action == left:\n",
        "        return (\n",
        "            [\n",
        "                (p, pgc.State(x=s.x + 1)),\n",
        "                (1 - p, pgc.State(x=s.x)),\n",
        "            ]\n",
        "            if s.x < N\n",
        "            else []\n",
        "        )\n",
        "    elif action == right:\n",
        "        return (\n",
        "            [\n",
        "                (p, pgc.State(x=s.x - 1)),\n",
        "                (1 - p, pgc.State(x=s.x)),\n",
        "            ]\n",
        "            if s.x > 0\n",
        "            else []\n",
        "        )"
      ]
    },
    {
      "cell_type": "markdown",
      "id": "9b7c4637-a48e-4841-bbf4-e2da20e37aee",
      "metadata": {},
      "source": [
        "we can also optionally provide functions that assign rewards and labels"
      ]
    },
    {
      "cell_type": "code",
      "execution_count": 12,
      "id": "8531a632-23ae-4451-b5cc-ede2d16ec9ee",
      "metadata": {},
      "outputs": [],
      "source": [
        "def rewards(s: pgc.State, a: pgc.Action):\n",
        "    return [1, 2]\n",
        "\n",
        "def labels(s: pgc.State):\n",
        "    return [str(s.x)]"
      ]
    },
    {
      "cell_type": "markdown",
      "id": "bd5ccbfd-003b-417e-b669-233797084c80",
      "metadata": {},
      "source": [
        "We then combine all of the above to call the build_pgc function that will build our model using the functions"
      ]
    },
    {
      "cell_type": "code",
      "execution_count": 13,
      "id": "7a920d7d-1430-43b5-b56e-3e74a7749ffe",
      "metadata": {},
      "outputs": [
        {
          "name": "stdout",
          "output_type": "stream",
          "text": [
            "ModelType.MDP with name None\n",
            "\n",
            "States:\n",
            "State 0 with labels ['init', '1'] and features {}\n",
            "State 1 with labels ['2'] and features {}\n",
            "State 2 with labels ['0'] and features {}\n",
            "\n",
            "Transitions:\n",
            "Action with labels frozenset({'left'}) => 0.5 -> State 1 with labels ['2'] and features {}, 0.5 -> State 0 with labels ['init', '1'] and features {}; Action with labels frozenset({'right'}) => 0.5 -> State 2 with labels ['0'] and features {}, 0.5 -> State 0 with labels ['init', '1'] and features {}\n",
            "Action with labels frozenset({'right'}) => 0.5 -> State 0 with labels ['init', '1'] and features {}, 0.5 -> State 1 with labels ['2'] and features {}\n",
            "Action with labels frozenset({'left'}) => 0.5 -> State 0 with labels ['init', '1'] and features {}, 0.5 -> State 2 with labels ['0'] and features {}\n"
          ]
        },
        {
          "data": {
            "application/vnd.jupyter.widget-view+json": {
              "model_id": "536aad58196a4b5293719f8b9c9e6ee5",
              "version_major": 2,
              "version_minor": 0
            },
            "text/plain": [
              "Output()"
            ]
          },
          "metadata": {},
          "output_type": "display_data"
        },
        {
          "data": {
            "application/vnd.jupyter.widget-view+json": {
              "model_id": "dd6874e2d6a84a8cbe4116ec00be338b",
              "version_major": 2,
              "version_minor": 0
            },
            "text/plain": [
              "Output()"
            ]
          },
          "metadata": {},
          "output_type": "display_data"
        },
        {
          "name": "stdout",
          "output_type": "stream",
          "text": [
            "State 0 with labels ['init', '1'] and features {} Action with labels frozenset()\n"
          ]
        },
        {
          "ename": "RuntimeError",
          "evalue": "This action is not available in this state",
          "output_type": "error",
          "traceback": [
            "\u001b[0;31m---------------------------------------------------------------------------\u001b[0m",
            "\u001b[0;31mRuntimeError\u001b[0m                              Traceback (most recent call last)",
            "Cell \u001b[0;32mIn[13], line 10\u001b[0m\n\u001b[1;32m      1\u001b[0m pgc_model \u001b[38;5;241m=\u001b[39m pgc\u001b[38;5;241m.\u001b[39mbuild_pgc(\n\u001b[1;32m      2\u001b[0m     delta\u001b[38;5;241m=\u001b[39mdelta,\n\u001b[1;32m      3\u001b[0m     available_actions\u001b[38;5;241m=\u001b[39mavailable_actions,\n\u001b[0;32m   (...)\u001b[0m\n\u001b[1;32m      6\u001b[0m     rewards\u001b[38;5;241m=\u001b[39mrewards,\n\u001b[1;32m      7\u001b[0m )\n\u001b[1;32m      9\u001b[0m \u001b[38;5;28mprint\u001b[39m(pgc_model)\n\u001b[0;32m---> 10\u001b[0m \u001b[43mshow\u001b[49m\u001b[43m(\u001b[49m\u001b[43mpgc_model\u001b[49m\u001b[43m)\u001b[49m\n",
            "File \u001b[0;32m~/repositories/stormvogel/.venv/lib/python3.12/site-packages/stormvogel/show.py:53\u001b[0m, in \u001b[0;36mshow\u001b[0;34m(model, result, scheduler, name, layout, show_editor, separate_labels, debug_output)\u001b[0m\n\u001b[1;32m     41\u001b[0m \u001b[38;5;66;03m# do_display = not show_editor\u001b[39;00m\n\u001b[1;32m     42\u001b[0m vis \u001b[38;5;241m=\u001b[39m stormvogel\u001b[38;5;241m.\u001b[39mvisualization\u001b[38;5;241m.\u001b[39mVisualization(\n\u001b[1;32m     43\u001b[0m     model\u001b[38;5;241m=\u001b[39mmodel,\n\u001b[1;32m     44\u001b[0m     name\u001b[38;5;241m=\u001b[39mname,\n\u001b[0;32m   (...)\u001b[0m\n\u001b[1;32m     51\u001b[0m     do_init_server\u001b[38;5;241m=\u001b[39mdo_init_server,\n\u001b[1;32m     52\u001b[0m )\n\u001b[0;32m---> 53\u001b[0m \u001b[43mvis\u001b[49m\u001b[38;5;241;43m.\u001b[39;49m\u001b[43mshow\u001b[49m\u001b[43m(\u001b[49m\u001b[43m)\u001b[49m\n\u001b[1;32m     54\u001b[0m \u001b[38;5;28;01mif\u001b[39;00m show_editor:\n\u001b[1;32m     55\u001b[0m     e \u001b[38;5;241m=\u001b[39m stormvogel\u001b[38;5;241m.\u001b[39mlayout_editor\u001b[38;5;241m.\u001b[39mLayoutEditor(\n\u001b[1;32m     56\u001b[0m         layout, vis, do_display\u001b[38;5;241m=\u001b[39m\u001b[38;5;28;01mFalse\u001b[39;00m, debug_output\u001b[38;5;241m=\u001b[39mdebug_output\n\u001b[1;32m     57\u001b[0m     )\n",
            "File \u001b[0;32m~/repositories/stormvogel/.venv/lib/python3.12/site-packages/stormvogel/visualization.py:110\u001b[0m, in \u001b[0;36mVisualization.show\u001b[0;34m(self)\u001b[0m\n\u001b[1;32m    108\u001b[0m     \u001b[38;5;28mself\u001b[39m\u001b[38;5;241m.\u001b[39mnt\u001b[38;5;241m.\u001b[39menable_exploration_mode(\u001b[38;5;28mself\u001b[39m\u001b[38;5;241m.\u001b[39mmodel\u001b[38;5;241m.\u001b[39mget_initial_state()\u001b[38;5;241m.\u001b[39mid)\n\u001b[1;32m    109\u001b[0m \u001b[38;5;28mself\u001b[39m\u001b[38;5;241m.\u001b[39mlayout\u001b[38;5;241m.\u001b[39mset_groups(\u001b[38;5;28mself\u001b[39m\u001b[38;5;241m.\u001b[39mseparate_labels)\n\u001b[0;32m--> 110\u001b[0m \u001b[38;5;28;43mself\u001b[39;49m\u001b[38;5;241;43m.\u001b[39;49m\u001b[43m__add_states\u001b[49m\u001b[43m(\u001b[49m\u001b[43m)\u001b[49m\n\u001b[1;32m    111\u001b[0m \u001b[38;5;28mself\u001b[39m\u001b[38;5;241m.\u001b[39m__add_transitions()\n\u001b[1;32m    112\u001b[0m \u001b[38;5;28mself\u001b[39m\u001b[38;5;241m.\u001b[39m__update_physics_enabled()\n",
            "File \u001b[0;32m~/repositories/stormvogel/.venv/lib/python3.12/site-packages/stormvogel/visualization.py:131\u001b[0m, in \u001b[0;36mVisualization.__add_states\u001b[0;34m(self)\u001b[0m\n\u001b[1;32m    128\u001b[0m res \u001b[38;5;241m=\u001b[39m \u001b[38;5;28mself\u001b[39m\u001b[38;5;241m.\u001b[39m__format_result(state)\n\u001b[1;32m    129\u001b[0m observations \u001b[38;5;241m=\u001b[39m \u001b[38;5;28mself\u001b[39m\u001b[38;5;241m.\u001b[39m__format_observations(state)\n\u001b[0;32m--> 131\u001b[0m rewards \u001b[38;5;241m=\u001b[39m \u001b[38;5;28;43mself\u001b[39;49m\u001b[38;5;241;43m.\u001b[39;49m\u001b[43m__format_rewards\u001b[49m\u001b[43m(\u001b[49m\u001b[43mstate\u001b[49m\u001b[43m,\u001b[49m\u001b[43m \u001b[49m\u001b[43mstormvogel\u001b[49m\u001b[38;5;241;43m.\u001b[39;49m\u001b[43mmodel\u001b[49m\u001b[38;5;241;43m.\u001b[39;49m\u001b[43mEmptyAction\u001b[49m\u001b[43m)\u001b[49m\n\u001b[1;32m    133\u001b[0m group \u001b[38;5;241m=\u001b[39m (  \u001b[38;5;66;03m# Use a non-default group if specified.\u001b[39;00m\n\u001b[1;32m    134\u001b[0m     und(state\u001b[38;5;241m.\u001b[39mlabels[\u001b[38;5;241m0\u001b[39m])\n\u001b[1;32m    135\u001b[0m     \u001b[38;5;28;01mif\u001b[39;00m (\n\u001b[0;32m   (...)\u001b[0m\n\u001b[1;32m    139\u001b[0m     \u001b[38;5;28;01melse\u001b[39;00m \u001b[38;5;124m\"\u001b[39m\u001b[38;5;124mstates\u001b[39m\u001b[38;5;124m\"\u001b[39m\n\u001b[1;32m    140\u001b[0m )\n\u001b[1;32m    142\u001b[0m \u001b[38;5;28mself\u001b[39m\u001b[38;5;241m.\u001b[39mnt\u001b[38;5;241m.\u001b[39madd_node(\n\u001b[1;32m    143\u001b[0m     state\u001b[38;5;241m.\u001b[39mid,\n\u001b[1;32m    144\u001b[0m     label\u001b[38;5;241m=\u001b[39m\u001b[38;5;124m\"\u001b[39m\u001b[38;5;124m,\u001b[39m\u001b[38;5;124m\"\u001b[39m\u001b[38;5;241m.\u001b[39mjoin(state\u001b[38;5;241m.\u001b[39mlabels) \u001b[38;5;241m+\u001b[39m rewards \u001b[38;5;241m+\u001b[39m res \u001b[38;5;241m+\u001b[39m observations,\n\u001b[1;32m    145\u001b[0m     group\u001b[38;5;241m=\u001b[39mgroup,\n\u001b[1;32m    146\u001b[0m )\n",
            "File \u001b[0;32m~/repositories/stormvogel/.venv/lib/python3.12/site-packages/stormvogel/visualization.py:226\u001b[0m, in \u001b[0;36mVisualization.__format_rewards\u001b[0;34m(self, s, a)\u001b[0m\n\u001b[1;32m    224\u001b[0m \u001b[38;5;28;01mfor\u001b[39;00m reward_model \u001b[38;5;129;01min\u001b[39;00m \u001b[38;5;28mself\u001b[39m\u001b[38;5;241m.\u001b[39mmodel\u001b[38;5;241m.\u001b[39mrewards:\n\u001b[1;32m    225\u001b[0m     \u001b[38;5;28;01mif\u001b[39;00m \u001b[38;5;28mself\u001b[39m\u001b[38;5;241m.\u001b[39mmodel\u001b[38;5;241m.\u001b[39msupports_actions():\n\u001b[0;32m--> 226\u001b[0m         reward \u001b[38;5;241m=\u001b[39m \u001b[43mreward_model\u001b[49m\u001b[38;5;241;43m.\u001b[39;49m\u001b[43mget_state_action_reward\u001b[49m\u001b[43m(\u001b[49m\u001b[43ms\u001b[49m\u001b[43m,\u001b[49m\u001b[43m \u001b[49m\u001b[43ma\u001b[49m\u001b[43m)\u001b[49m\n\u001b[1;32m    227\u001b[0m     \u001b[38;5;28;01melse\u001b[39;00m:\n\u001b[1;32m    228\u001b[0m         reward \u001b[38;5;241m=\u001b[39m reward_model\u001b[38;5;241m.\u001b[39mget_state_reward(s)\n",
            "File \u001b[0;32m~/repositories/stormvogel/.venv/lib/python3.12/site-packages/stormvogel/model.py:393\u001b[0m, in \u001b[0;36mRewardModel.get_state_action_reward\u001b[0;34m(self, state, action)\u001b[0m\n\u001b[1;32m    391\u001b[0m     \u001b[38;5;28;01melse\u001b[39;00m:\n\u001b[1;32m    392\u001b[0m         \u001b[38;5;28mprint\u001b[39m(state,action)\n\u001b[0;32m--> 393\u001b[0m         \u001b[38;5;28;01mraise\u001b[39;00m \u001b[38;5;167;01mRuntimeError\u001b[39;00m(\u001b[38;5;124m\"\u001b[39m\u001b[38;5;124mThis action is not available in this state\u001b[39m\u001b[38;5;124m\"\u001b[39m)\n\u001b[1;32m    394\u001b[0m \u001b[38;5;28;01melse\u001b[39;00m:\n\u001b[1;32m    395\u001b[0m     \u001b[38;5;28;01mraise\u001b[39;00m \u001b[38;5;167;01mRuntimeError\u001b[39;00m(\n\u001b[1;32m    396\u001b[0m         \u001b[38;5;124m\"\u001b[39m\u001b[38;5;124mThe model this rewardmodel belongs to does not support actions\u001b[39m\u001b[38;5;124m\"\u001b[39m\n\u001b[1;32m    397\u001b[0m     )\n",
            "\u001b[0;31mRuntimeError\u001b[0m: This action is not available in this state"
          ]
        }
      ],
      "source": [
        "pgc_model = pgc.build_pgc(\n",
        "    delta=delta,\n",
        "    available_actions=available_actions,\n",
        "    initial_state_pgc=initial_state,\n",
        "    labels=labels,\n",
        "    rewards=rewards,\n",
        ")\n",
        "\n",
        "print(pgc_model)\n",
        "show(pgc_model)"
      ]
    },
    {
      "cell_type": "markdown",
      "id": "65fa94ec-4102-46e8-b98b-68931802514d",
      "metadata": {},
      "source": [
        "We don't have to use the provided State class, in fact we can use any object we like! Here is an example where we use integers instead of states objects."
      ]
    },
    {
      "cell_type": "code",
      "execution_count": 5,
      "id": "be844a3f-bbc8-4c8d-a351-7627f7dd33b9",
      "metadata": {},
      "outputs": [
        {
          "data": {
            "application/vnd.jupyter.widget-view+json": {
              "model_id": "cdcef1e4dd0b423c958c4b9d93dcd083",
              "version_major": 2,
              "version_minor": 0
            },
            "text/plain": [
              "Output()"
            ]
          },
          "metadata": {},
          "output_type": "display_data"
        },
        {
          "data": {
            "text/html": [
              "<script>\n",
              "function return_id_result(url, id, data) {\n",
              "        fetch(url, {\n",
              "            method: 'POST',\n",
              "            body: JSON.stringify({\n",
              "                'id': id,\n",
              "                'data': data\n",
              "            })\n",
              "        })\n",
              "    }\n",
              "</script>"
            ],
            "text/plain": [
              "<IPython.core.display.HTML object>"
            ]
          },
          "metadata": {},
          "output_type": "display_data"
        },
        {
          "data": {
            "application/javascript": [
              "return_id_result('http://127.0.0.1:8889', 'aeTgnBCKSDeENOsGAUqP', 'test message')"
            ],
            "text/plain": [
              "<IPython.core.display.Javascript object>"
            ]
          },
          "metadata": {},
          "output_type": "display_data"
        },
        {
          "data": {
            "application/vnd.jupyter.widget-view+json": {
              "model_id": "9184ba439cfa4ca88ad814e1a5d64d5a",
              "version_major": 2,
              "version_minor": 0
            },
            "text/plain": [
              "Output()"
            ]
          },
          "metadata": {},
          "output_type": "display_data"
        },
        {
          "data": {
            "application/vnd.jupyter.widget-view+json": {
              "model_id": "48bccd91fcb845daad87f534a65c18e9",
              "version_major": 2,
              "version_minor": 0
            },
            "text/plain": [
              "HBox(children=(Output(), Output()))"
            ]
          },
          "metadata": {},
          "output_type": "display_data"
        },
        {
          "data": {
            "text/plain": [
              "<stormvogel.visualization.Visualization at 0x7f1e02d62150>"
            ]
          },
          "execution_count": 5,
          "metadata": {},
          "output_type": "execute_result"
        }
      ],
      "source": [
        "def delta(state):\n",
        "    return [\n",
        "        (0.5, (state + 1) % 5),\n",
        "        (0.5, (state - 1) % 5),\n",
        "    ]\n",
        "    \n",
        "def rewards(state):\n",
        "    return [state]\n",
        "\n",
        "pgc_model = pgc.build_pgc(delta, initial_state_pgc=0, rewards=rewards, modeltype=model.ModelType.DTMC)\n",
        "show(pgc_model)"
      ]
    },
    {
      "cell_type": "code",
      "execution_count": null,
      "id": "d45f2907-f51b-4177-9900-d330c495eace",
      "metadata": {},
      "outputs": [],
      "source": []
    },
    {
      "cell_type": "code",
      "execution_count": null,
      "id": "14e107b0-b890-49ca-ad52-a4289d1776b7",
      "metadata": {},
      "outputs": [],
      "source": []
    }
  ],
  "metadata": {
    "kernelspec": {
      "display_name": "Python 3 (ipykernel)",
      "language": "python",
      "name": "python3"
    },
    "language_info": {
      "codemirror_mode": {
        "name": "ipython",
        "version": 3
      },
      "file_extension": ".py",
      "mimetype": "text/x-python",
      "name": "python",
      "nbconvert_exporter": "python",
      "pygments_lexer": "ipython3",
      "version": "3.12.7"
    }
  },
  "nbformat": 4,
  "nbformat_minor": 5
}
