{
  "cells": [
    {
      "cell_type": "code",
      "execution_count": 21,
      "id": "7f3692d1-ad64-449d-809c-01ceb84e6bb4",
      "metadata": {},
      "outputs": [],
      "source": [
        "from stormvogel.model import Model, ModelType\n",
        "\n",
        "lion = Model(name=\"lion\", model_type=ModelType.DTMC)\n",
        "init = lion.get_initial_state()\n",
        "full = lion.new_state(\"full :D\")\n",
        "satisfied = lion.new_state(\"satisfied :)\")\n",
        "hungry = lion.new_state(\"hungry :(\")\n",
        "starving = lion.new_state(\"starving :((\")\n",
        "rawr = lion.new_state(\"rawr\")\n",
        "hunt = lion.new_state(\"hunt >:D\")\n",
        "desperate_hunt = lion.new_state(\"desparate hunt!\")\n",
        "dead = lion.new_state(\"dead...\")\n",
        "\n",
        "init.set_transitions([(1, satisfied)])\n",
        "satisfied.set_transitions([(1, hungry)])\n",
        "hungry.set_transitions([(1, hunt)])\n",
        "starving.set_transitions([(1, desperate_hunt)])\n",
        "hunt.set_transitions([(0.5, full), (0.3, starving), (0.2, satisfied)])\n",
        "full.set_transitions([(1, satisfied)])\n",
        "desperate_hunt.set_transitions([(0.2, full), (0.3, starving), (0.1, dead), (0.4, satisfied)])\n",
        "lion.add_self_loops()\n"
      ]
    },
    {
      "cell_type": "code",
      "execution_count": 94,
      "id": "7bd105be-1d14-4a3d-82f4-e43242052693",
      "metadata": {},
      "outputs": [
        {
          "data": {
            "application/vnd.jupyter.widget-view+json": {
              "model_id": "a3115368934e47e18101be1caf5c9df3",
              "version_major": 2,
              "version_minor": 0
            },
            "text/plain": [
              "Output()"
            ]
          },
          "metadata": {},
          "output_type": "display_data"
        },
        {
          "data": {
            "application/vnd.jupyter.widget-view+json": {
              "model_id": "d72c51f82fa5413596b006a187513d48",
              "version_major": 2,
              "version_minor": 0
            },
            "text/plain": [
              "Output()"
            ]
          },
          "metadata": {},
          "output_type": "display_data"
        }
      ],
      "source": [
        "from stormvogel.show import show\n",
        "from stormvogel.layout import Layout\n",
        "vis = show(lion, show_editor=False, separate_labels=[\"dead...\", \"hunt >:D\", \"desparate hunt!\"], layout=Layout(\"layouts/lion.json\"))"
      ]
    },
    {
      "cell_type": "code",
      "execution_count": 88,
      "id": "8807425f-1d69-4522-9077-b902c90bd0b2",
      "metadata": {},
      "outputs": [],
      "source": [
        "def naive_value_iteration(model, steps, starting_state):\n",
        "    if steps < 2:\n",
        "        print(\"Need at least two steps\")\n",
        "        return\n",
        "    if model.type != ModelType.DTMC:\n",
        "        print(\"Only works for DTMC\")\n",
        "        return\n",
        "    matrix_steps_states = [[0 for s in model.states] for x in range(steps)]\n",
        "    matrix_steps_states[0][starting_state] = 1\n",
        "    \n",
        "    for current_step in range(steps-1):\n",
        "        next_step = current_step + 1\n",
        "        for s_id, s in model.get_states().items():\n",
        "            branch = model.get_branch(s)\n",
        "            for transition_prob, target in branch.branch:\n",
        "                current_prob = matrix_steps_states[current_step][s_id]\n",
        "                matrix_steps_states[next_step][target.id] += current_prob * transition_prob\n",
        "\n",
        "    return matrix_steps_states\n",
        "        "
      ]
    },
    {
      "cell_type": "code",
      "execution_count": 100,
      "id": "86b53e1d-2cdb-423e-8dcf-3dacd9e8eb75",
      "metadata": {},
      "outputs": [
        {
          "data": {
            "image/png": "[encoded data removed]",
            "text/plain": [
              "<Figure size 1000x1000 with 1 Axes>"
            ]
          },
          "metadata": {},
          "output_type": "display_data"
        },
        {
          "data": {
            "application/vnd.jupyter.widget-view+json": {
              "model_id": "b55137dc5f5643c6a249638531cbc8ac",
              "version_major": 2,
              "version_minor": 0
            },
            "text/plain": [
              "Output()"
            ]
          },
          "metadata": {},
          "output_type": "display_data"
        },
        {
          "data": {
            "application/vnd.jupyter.widget-view+json": {
              "model_id": "c8197f615ee84ce0afdfd2737536de8b",
              "version_major": 2,
              "version_minor": 0
            },
            "text/plain": [
              "Output()"
            ]
          },
          "metadata": {},
          "output_type": "display_data"
        }
      ],
      "source": [
        "import matplotlib.pyplot as plt\n",
        "import numpy as np\n",
        "\n",
        "def invert_2d_list(l):\n",
        "    res = []\n",
        "    for i in range(len(l[0])):\n",
        "        sublist =  []\n",
        "        for j in range(len(l)):\n",
        "            sublist.append(l[j][i])\n",
        "        res.append(sublist)\n",
        "    return res\n",
        "res = naive_value_iteration(lion, 20, starting_state=lion.get_initial_state().id)\n",
        "\n",
        "def display_naive_value_iteration_result(res, size):\n",
        "    fig, ax = plt.subplots(1,1)\n",
        "    yticks = [s.labels[0] for s in lion.get_states().values()] + [\"\"]\n",
        "    ax.set_yticks(range(10))\n",
        "    ax.set_yticklabels(yticks)\n",
        "    \n",
        "    ax.imshow(invert_2d_list(res), cmap='hot', interpolation='nearest', aspect=\"equal\")\n",
        "    plt.xlabel(\"steps\")\n",
        "    plt.ylabel(\"states\")\n",
        "    fig.set_size_inches(size,size)\n",
        "    \n",
        "    plt.show()\n",
        "\n",
        "display_naive_value_iteration_result(res, 10)\n",
        "vis = show(lion, show_editor=False, separate_labels=[\"dead...\", \"hunt >:D\", \"desparate hunt!\"], layout=Layout(\"layouts/lion.json\"))"
      ]
    },
    {
      "cell_type": "code",
      "execution_count": null,
      "id": "ac2ae39b-f09f-453e-8f59-90b81448f8b5",
      "metadata": {},
      "outputs": [],
      "source": []
    }
  ],
  "metadata": {
    "kernelspec": {
      "display_name": "Python (stormvogel)",
      "language": "python",
      "name": "stormvogel-env"
    },
    "language_info": {
      "codemirror_mode": {
        "name": "ipython",
        "version": 3
      },
      "file_extension": ".py",
      "mimetype": "text/x-python",
      "name": "python",
      "nbconvert_exporter": "python",
      "pygments_lexer": "ipython3",
      "version": "3.11.2"
    }
  },
  "nbformat": 4,
  "nbformat_minor": 5
}
