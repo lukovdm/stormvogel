{
  "cells": [
    {
      "cell_type": "markdown",
      "id": "9bdef9ae-fb41-4b72-924b-93077f182178",
      "metadata": {},
      "source": [
        "# Naive value iteration, using a hungry lion\n",
        "We start by creating a model of a lion. Whenever it gets hungry, it will go hunting and hopefully catch a prey. However, if it fails, it might starve to death..."
      ]
    },
    {
      "cell_type": "code",
      "execution_count": 1,
      "id": "7f3692d1-ad64-449d-809c-01ceb84e6bb4",
      "metadata": {
        "execution": {
          "iopub.execute_input": "2024-10-03T08:06:58.249219Z",
          "iopub.status.busy": "2024-10-03T08:06:58.248759Z",
          "iopub.status.idle": "2024-10-03T08:07:08.690293Z",
          "shell.execute_reply": "2024-10-03T08:07:08.689920Z"
        }
      },
      "outputs": [
        {
          "data": {
            "application/vnd.jupyter.widget-view+json": {
              "model_id": "6c0870de174f4ed69adc6b138d5373f2",
              "version_major": 2,
              "version_minor": 0
            },
            "text/plain": [
              "Output()"
            ]
          },
          "metadata": {},
          "output_type": "display_data"
        },
        {
          "data": {
            "text/html": [
              "<script>fetch('http://127.0.0.1:8889/kAtYrilCpN/MESSAGE/' + 'test message')</script>"
            ],
            "text/plain": [
              "<IPython.core.display.HTML object>"
            ]
          },
          "metadata": {},
          "output_type": "display_data"
        },
        {
          "data": {
            "text/html": [
              "<script>fetch('http://127.0.0.1:8889/kAtYrilCpN/MESSAGE/' + 'test message')</script>"
            ],
            "text/plain": [
              "<IPython.core.display.HTML object>"
            ]
          },
          "metadata": {},
          "output_type": "display_data"
        },
        {
          "data": {
            "text/html": [
              "<script>fetch('http://127.0.0.1:8889/kAtYrilCpN/MESSAGE/' + 'test message')</script>"
            ],
            "text/plain": [
              "<IPython.core.display.HTML object>"
            ]
          },
          "metadata": {},
          "output_type": "display_data"
        },
        {
          "data": {
            "text/html": [
              "<script>fetch('http://127.0.0.1:8889/kAtYrilCpN/MESSAGE/' + 'test message')</script>"
            ],
            "text/plain": [
              "<IPython.core.display.HTML object>"
            ]
          },
          "metadata": {},
          "output_type": "display_data"
        },
        {
          "data": {
            "text/html": [
              "<script>fetch('http://127.0.0.1:8889/kAtYrilCpN/MESSAGE/' + 'test message')</script>"
            ],
            "text/plain": [
              "<IPython.core.display.HTML object>"
            ]
          },
          "metadata": {},
          "output_type": "display_data"
        },
        {
          "data": {
            "text/html": [
              "<script>fetch('http://127.0.0.1:8889/kAtYrilCpN/MESSAGE/' + 'test message')</script>"
            ],
            "text/plain": [
              "<IPython.core.display.HTML object>"
            ]
          },
          "metadata": {},
          "output_type": "display_data"
        },
        {
          "data": {
            "text/html": [
              "<script>fetch('http://127.0.0.1:8889/kAtYrilCpN/MESSAGE/' + 'test message')</script>"
            ],
            "text/plain": [
              "<IPython.core.display.HTML object>"
            ]
          },
          "metadata": {},
          "output_type": "display_data"
        },
        {
          "data": {
            "text/html": [
              "<script>fetch('http://127.0.0.1:8889/kAtYrilCpN/MESSAGE/' + 'test message')</script>"
            ],
            "text/plain": [
              "<IPython.core.display.HTML object>"
            ]
          },
          "metadata": {},
          "output_type": "display_data"
        },
        {
          "data": {
            "text/html": [
              "<script>fetch('http://127.0.0.1:8889/kAtYrilCpN/MESSAGE/' + 'test message')</script>"
            ],
            "text/plain": [
              "<IPython.core.display.HTML object>"
            ]
          },
          "metadata": {},
          "output_type": "display_data"
        },
        {
          "data": {
            "text/html": [
              "<script>fetch('http://127.0.0.1:8889/kAtYrilCpN/MESSAGE/' + 'test message')</script>"
            ],
            "text/plain": [
              "<IPython.core.display.HTML object>"
            ]
          },
          "metadata": {},
          "output_type": "display_data"
        },
        {
          "data": {
            "text/html": [
              "<script>fetch('http://127.0.0.1:8889/kAtYrilCpN/MESSAGE/' + 'test message')</script>"
            ],
            "text/plain": [
              "<IPython.core.display.HTML object>"
            ]
          },
          "metadata": {},
          "output_type": "display_data"
        },
        {
          "data": {
            "text/html": [
              "<script>fetch('http://127.0.0.1:8889/kAtYrilCpN/MESSAGE/' + 'test message')</script>"
            ],
            "text/plain": [
              "<IPython.core.display.HTML object>"
            ]
          },
          "metadata": {},
          "output_type": "display_data"
        },
        {
          "data": {
            "text/html": [
              "<script>fetch('http://127.0.0.1:8889/kAtYrilCpN/MESSAGE/' + 'test message')</script>"
            ],
            "text/plain": [
              "<IPython.core.display.HTML object>"
            ]
          },
          "metadata": {},
          "output_type": "display_data"
        },
        {
          "data": {
            "text/html": [
              "<script>fetch('http://127.0.0.1:8889/kAtYrilCpN/MESSAGE/' + 'test message')</script>"
            ],
            "text/plain": [
              "<IPython.core.display.HTML object>"
            ]
          },
          "metadata": {},
          "output_type": "display_data"
        },
        {
          "data": {
            "text/html": [
              "<script>fetch('http://127.0.0.1:8889/kAtYrilCpN/MESSAGE/' + 'test message')</script>"
            ],
            "text/plain": [
              "<IPython.core.display.HTML object>"
            ]
          },
          "metadata": {},
          "output_type": "display_data"
        },
        {
          "data": {
            "text/html": [
              "<script>fetch('http://127.0.0.1:8889/kAtYrilCpN/MESSAGE/' + 'test message')</script>"
            ],
            "text/plain": [
              "<IPython.core.display.HTML object>"
            ]
          },
          "metadata": {},
          "output_type": "display_data"
        },
        {
          "data": {
            "text/html": [
              "<script>fetch('http://127.0.0.1:8889/kAtYrilCpN/MESSAGE/' + 'test message')</script>"
            ],
            "text/plain": [
              "<IPython.core.display.HTML object>"
            ]
          },
          "metadata": {},
          "output_type": "display_data"
        },
        {
          "data": {
            "text/html": [
              "<script>fetch('http://127.0.0.1:8889/kAtYrilCpN/MESSAGE/' + 'test message')</script>"
            ],
            "text/plain": [
              "<IPython.core.display.HTML object>"
            ]
          },
          "metadata": {},
          "output_type": "display_data"
        },
        {
          "data": {
            "text/html": [
              "<script>fetch('http://127.0.0.1:8889/kAtYrilCpN/MESSAGE/' + 'test message')</script>"
            ],
            "text/plain": [
              "<IPython.core.display.HTML object>"
            ]
          },
          "metadata": {},
          "output_type": "display_data"
        },
        {
          "data": {
            "text/html": [
              "<script>fetch('http://127.0.0.1:8889/kAtYrilCpN/MESSAGE/' + 'test message')</script>"
            ],
            "text/plain": [
              "<IPython.core.display.HTML object>"
            ]
          },
          "metadata": {},
          "output_type": "display_data"
        },
        {
          "data": {
            "text/html": [
              "<script>fetch('http://127.0.0.1:8889/kAtYrilCpN/MESSAGE/' + 'test message')</script>"
            ],
            "text/plain": [
              "<IPython.core.display.HTML object>"
            ]
          },
          "metadata": {},
          "output_type": "display_data"
        },
        {
          "data": {
            "text/html": [
              "<script>fetch('http://127.0.0.1:8889/kAtYrilCpN/MESSAGE/' + 'test message')</script>"
            ],
            "text/plain": [
              "<IPython.core.display.HTML object>"
            ]
          },
          "metadata": {},
          "output_type": "display_data"
        },
        {
          "data": {
            "text/html": [
              "<script>fetch('http://127.0.0.1:8889/kAtYrilCpN/MESSAGE/' + 'test message')</script>"
            ],
            "text/plain": [
              "<IPython.core.display.HTML object>"
            ]
          },
          "metadata": {},
          "output_type": "display_data"
        },
        {
          "data": {
            "text/html": [
              "<script>fetch('http://127.0.0.1:8889/kAtYrilCpN/MESSAGE/' + 'test message')</script>"
            ],
            "text/plain": [
              "<IPython.core.display.HTML object>"
            ]
          },
          "metadata": {},
          "output_type": "display_data"
        },
        {
          "data": {
            "text/html": [
              "<script>fetch('http://127.0.0.1:8889/kAtYrilCpN/MESSAGE/' + 'test message')</script>"
            ],
            "text/plain": [
              "<IPython.core.display.HTML object>"
            ]
          },
          "metadata": {},
          "output_type": "display_data"
        },
        {
          "data": {
            "text/html": [
              "<script>fetch('http://127.0.0.1:8889/kAtYrilCpN/MESSAGE/' + 'test message')</script>"
            ],
            "text/plain": [
              "<IPython.core.display.HTML object>"
            ]
          },
          "metadata": {},
          "output_type": "display_data"
        },
        {
          "data": {
            "text/html": [
              "<script>fetch('http://127.0.0.1:8889/kAtYrilCpN/MESSAGE/' + 'test message')</script>"
            ],
            "text/plain": [
              "<IPython.core.display.HTML object>"
            ]
          },
          "metadata": {},
          "output_type": "display_data"
        },
        {
          "data": {
            "text/html": [
              "<script>fetch('http://127.0.0.1:8889/kAtYrilCpN/MESSAGE/' + 'test message')</script>"
            ],
            "text/plain": [
              "<IPython.core.display.HTML object>"
            ]
          },
          "metadata": {},
          "output_type": "display_data"
        },
        {
          "data": {
            "text/html": [
              "<script>fetch('http://127.0.0.1:8889/kAtYrilCpN/MESSAGE/' + 'test message')</script>"
            ],
            "text/plain": [
              "<IPython.core.display.HTML object>"
            ]
          },
          "metadata": {},
          "output_type": "display_data"
        },
        {
          "data": {
            "text/html": [
              "<script>fetch('http://127.0.0.1:8889/kAtYrilCpN/MESSAGE/' + 'test message')</script>"
            ],
            "text/plain": [
              "<IPython.core.display.HTML object>"
            ]
          },
          "metadata": {},
          "output_type": "display_data"
        },
        {
          "data": {
            "text/html": [
              "<script>fetch('http://127.0.0.1:8889/kAtYrilCpN/MESSAGE/' + 'test message')</script>"
            ],
            "text/plain": [
              "<IPython.core.display.HTML object>"
            ]
          },
          "metadata": {},
          "output_type": "display_data"
        },
        {
          "data": {
            "text/html": [
              "<script>fetch('http://127.0.0.1:8889/kAtYrilCpN/MESSAGE/' + 'test message')</script>"
            ],
            "text/plain": [
              "<IPython.core.display.HTML object>"
            ]
          },
          "metadata": {},
          "output_type": "display_data"
        },
        {
          "data": {
            "text/html": [
              "<script>fetch('http://127.0.0.1:8889/kAtYrilCpN/MESSAGE/' + 'test message')</script>"
            ],
            "text/plain": [
              "<IPython.core.display.HTML object>"
            ]
          },
          "metadata": {},
          "output_type": "display_data"
        },
        {
          "data": {
            "text/html": [
              "<script>fetch('http://127.0.0.1:8889/kAtYrilCpN/MESSAGE/' + 'test message')</script>"
            ],
            "text/plain": [
              "<IPython.core.display.HTML object>"
            ]
          },
          "metadata": {},
          "output_type": "display_data"
        },
        {
          "data": {
            "text/html": [
              "<script>fetch('http://127.0.0.1:8889/kAtYrilCpN/MESSAGE/' + 'test message')</script>"
            ],
            "text/plain": [
              "<IPython.core.display.HTML object>"
            ]
          },
          "metadata": {},
          "output_type": "display_data"
        },
        {
          "data": {
            "text/html": [
              "<script>fetch('http://127.0.0.1:8889/kAtYrilCpN/MESSAGE/' + 'test message')</script>"
            ],
            "text/plain": [
              "<IPython.core.display.HTML object>"
            ]
          },
          "metadata": {},
          "output_type": "display_data"
        },
        {
          "data": {
            "text/html": [
              "<script>fetch('http://127.0.0.1:8889/kAtYrilCpN/MESSAGE/' + 'test message')</script>"
            ],
            "text/plain": [
              "<IPython.core.display.HTML object>"
            ]
          },
          "metadata": {},
          "output_type": "display_data"
        },
        {
          "data": {
            "text/html": [
              "<script>fetch('http://127.0.0.1:8889/kAtYrilCpN/MESSAGE/' + 'test message')</script>"
            ],
            "text/plain": [
              "<IPython.core.display.HTML object>"
            ]
          },
          "metadata": {},
          "output_type": "display_data"
        },
        {
          "data": {
            "text/html": [
              "<script>fetch('http://127.0.0.1:8889/kAtYrilCpN/MESSAGE/' + 'test message')</script>"
            ],
            "text/plain": [
              "<IPython.core.display.HTML object>"
            ]
          },
          "metadata": {},
          "output_type": "display_data"
        },
        {
          "data": {
            "text/html": [
              "<script>fetch('http://127.0.0.1:8889/kAtYrilCpN/MESSAGE/' + 'test message')</script>"
            ],
            "text/plain": [
              "<IPython.core.display.HTML object>"
            ]
          },
          "metadata": {},
          "output_type": "display_data"
        },
        {
          "data": {
            "text/html": [
              "<script>fetch('http://127.0.0.1:8889/kAtYrilCpN/MESSAGE/' + 'test message')</script>"
            ],
            "text/plain": [
              "<IPython.core.display.HTML object>"
            ]
          },
          "metadata": {},
          "output_type": "display_data"
        },
        {
          "data": {
            "text/html": [
              "<script>fetch('http://127.0.0.1:8889/kAtYrilCpN/MESSAGE/' + 'test message')</script>"
            ],
            "text/plain": [
              "<IPython.core.display.HTML object>"
            ]
          },
          "metadata": {},
          "output_type": "display_data"
        },
        {
          "data": {
            "text/html": [
              "<script>fetch('http://127.0.0.1:8889/kAtYrilCpN/MESSAGE/' + 'test message')</script>"
            ],
            "text/plain": [
              "<IPython.core.display.HTML object>"
            ]
          },
          "metadata": {},
          "output_type": "display_data"
        },
        {
          "data": {
            "text/html": [
              "<script>fetch('http://127.0.0.1:8889/kAtYrilCpN/MESSAGE/' + 'test message')</script>"
            ],
            "text/plain": [
              "<IPython.core.display.HTML object>"
            ]
          },
          "metadata": {},
          "output_type": "display_data"
        },
        {
          "data": {
            "text/html": [
              "<script>fetch('http://127.0.0.1:8889/kAtYrilCpN/MESSAGE/' + 'test message')</script>"
            ],
            "text/plain": [
              "<IPython.core.display.HTML object>"
            ]
          },
          "metadata": {},
          "output_type": "display_data"
        },
        {
          "data": {
            "text/html": [
              "<script>fetch('http://127.0.0.1:8889/kAtYrilCpN/MESSAGE/' + 'test message')</script>"
            ],
            "text/plain": [
              "<IPython.core.display.HTML object>"
            ]
          },
          "metadata": {},
          "output_type": "display_data"
        },
        {
          "data": {
            "text/html": [
              "<script>fetch('http://127.0.0.1:8889/kAtYrilCpN/MESSAGE/' + 'test message')</script>"
            ],
            "text/plain": [
              "<IPython.core.display.HTML object>"
            ]
          },
          "metadata": {},
          "output_type": "display_data"
        },
        {
          "data": {
            "text/html": [
              "<script>fetch('http://127.0.0.1:8889/kAtYrilCpN/MESSAGE/' + 'test message')</script>"
            ],
            "text/plain": [
              "<IPython.core.display.HTML object>"
            ]
          },
          "metadata": {},
          "output_type": "display_data"
        },
        {
          "data": {
            "text/html": [
              "<script>fetch('http://127.0.0.1:8889/kAtYrilCpN/MESSAGE/' + 'test message')</script>"
            ],
            "text/plain": [
              "<IPython.core.display.HTML object>"
            ]
          },
          "metadata": {},
          "output_type": "display_data"
        },
        {
          "data": {
            "text/html": [
              "<script>fetch('http://127.0.0.1:8889/kAtYrilCpN/MESSAGE/' + 'test message')</script>"
            ],
            "text/plain": [
              "<IPython.core.display.HTML object>"
            ]
          },
          "metadata": {},
          "output_type": "display_data"
        },
        {
          "data": {
            "text/html": [
              "<script>fetch('http://127.0.0.1:8889/kAtYrilCpN/MESSAGE/' + 'test message')</script>"
            ],
            "text/plain": [
              "<IPython.core.display.HTML object>"
            ]
          },
          "metadata": {},
          "output_type": "display_data"
        },
        {
          "name": "stdout",
          "output_type": "stream",
          "text": [
            "Stormvogel succesfully started the internal communication server, but could not receive the result of a test request.\n",
            "Stormvogel is still usable without this, but you will not be able to save node positions in a layout json file.\n",
            "1) Restart the kernel and re-run.\n",
            "2) Is the port 127.0.0.1:8889 (from the machine where jupyterlab runs) available?\n",
            "If you are working remotely, it might help to forward this port. For example: 'ssh -N -L 8889:127.0.0.1:8889 YOUR_SSH_CONFIG_NAME'.\n",
            "3) You might also want to consider changing stormvogel.communication_server.localhost_address to the IPv6 loopback address if you are using IPv6.\n",
            "If you cannot get the server to work, set stormvogel.communication_server.enable_server to false and re-run. This will speed up stormvogel and ignore this message.\n",
            "Please contact the stormvogel developpers if you keep running into issues.\n"
          ]
        },
        {
          "data": {
            "application/vnd.jupyter.widget-view+json": {
              "model_id": "c2b9fda9e1354d6ca57827715ca601ed",
              "version_major": 2,
              "version_minor": 0
            },
            "text/plain": [
              "Output()"
            ]
          },
          "metadata": {},
          "output_type": "display_data"
        }
      ],
      "source": [
        "from stormvogel.model import Model, ModelType\n",
        "\n",
        "lion = Model(name=\"lion\", model_type=ModelType.DTMC)\n",
        "init = lion.get_initial_state()\n",
        "full = lion.new_state(\"full :D\")\n",
        "satisfied = lion.new_state(\"satisfied :)\")\n",
        "hungry = lion.new_state(\"hungry :(\")\n",
        "starving = lion.new_state(\"starving :((\")\n",
        "rawr = lion.new_state(\"rawr\")\n",
        "hunt = lion.new_state(\"hunt >:D\")\n",
        "desperate_hunt = lion.new_state(\"desparate hunt!\")\n",
        "dead = lion.new_state(\"dead...\")\n",
        "\n",
        "init.set_transitions([(1, satisfied)])\n",
        "satisfied.set_transitions([(1, hungry)])\n",
        "hungry.set_transitions([(1, hunt)])\n",
        "starving.set_transitions([(1, desperate_hunt)])\n",
        "hunt.set_transitions([(0.5, full), (0.3, starving), (0.2, satisfied)])\n",
        "full.set_transitions([(1, satisfied)])\n",
        "desperate_hunt.set_transitions([(0.2, full), (0.3, starving), (0.1, dead), (0.4, satisfied)])\n",
        "lion.add_self_loops()\n",
        "\n",
        "from stormvogel.show import show\n",
        "from stormvogel.layout import Layout\n",
        "vis = show(lion, show_editor=False, separate_labels=[\"dead...\", \"hunt >:D\", \"desparate hunt!\"], layout=Layout(\"layouts/lion.json\"))"
      ]
    },
    {
      "cell_type": "markdown",
      "id": "1c09fb4a-1fe9-4f76-982a-1eacd0b46a87",
      "metadata": {},
      "source": [
        "Here we provide an implementation of naive value iteration using the model API."
      ]
    },
    {
      "cell_type": "code",
      "execution_count": 2,
      "id": "8807425f-1d69-4522-9077-b902c90bd0b2",
      "metadata": {
        "execution": {
          "iopub.execute_input": "2024-10-03T08:07:08.701868Z",
          "iopub.status.busy": "2024-10-03T08:07:08.701716Z",
          "iopub.status.idle": "2024-10-03T08:07:08.706787Z",
          "shell.execute_reply": "2024-10-03T08:07:08.706363Z"
        }
      },
      "outputs": [],
      "source": [
        "def naive_value_iteration(model, steps, starting_state):\n",
        "    if steps < 2:\n",
        "        print(\"Need at least two steps\")\n",
        "        return\n",
        "    if model.type != ModelType.DTMC:\n",
        "        print(\"Only works for DTMC\")\n",
        "        return\n",
        "\n",
        "    # Create a matrix and set the value for the starting state to 1 on the first step.\n",
        "    matrix_steps_states = [[0 for s in model.states] for x in range(steps)]\n",
        "    matrix_steps_states[0][starting_state] = 1\n",
        "\n",
        "    # Apply the updated values for each step.\n",
        "    for current_step in range(steps-1):\n",
        "        next_step = current_step + 1\n",
        "        for s_id, s in model.get_states().items():\n",
        "            branch = model.get_branch(s)\n",
        "            for transition_prob, target in branch.branch:\n",
        "                current_prob = matrix_steps_states[current_step][s_id]\n",
        "                matrix_steps_states[next_step][target.id] += current_prob * transition_prob\n",
        "\n",
        "    return matrix_steps_states\n",
        "        "
      ]
    },
    {
      "cell_type": "markdown",
      "id": "46c998da-b579-4fc8-b385-7b1b07582359",
      "metadata": {},
      "source": [
        "We apply naive value iteration on our lion model with 20 steps. Then we display the result of the as a heatmap, using matplotlib."
      ]
    },
    {
      "cell_type": "code",
      "execution_count": 3,
      "id": "86b53e1d-2cdb-423e-8dcf-3dacd9e8eb75",
      "metadata": {
        "execution": {
          "iopub.execute_input": "2024-10-03T08:07:08.710808Z",
          "iopub.status.busy": "2024-10-03T08:07:08.710149Z",
          "iopub.status.idle": "2024-10-03T08:07:09.052392Z",
          "shell.execute_reply": "2024-10-03T08:07:09.052173Z"
        }
      },
      "outputs": [
        {
          "data": {
            "image/png": "[encoded data removed]",
            "text/plain": [
              "<Figure size 1000x1000 with 1 Axes>"
            ]
          },
          "metadata": {},
          "output_type": "display_data"
        }
      ],
      "source": [
        "import matplotlib.pyplot as plt\n",
        "import numpy as np\n",
        "\n",
        "def invert_2d_list(l):\n",
        "    res = []\n",
        "    for i in range(len(l[0])):\n",
        "        sublist =  []\n",
        "        for j in range(len(l)):\n",
        "            sublist.append(l[j][i])\n",
        "        res.append(sublist)\n",
        "    return res\n",
        "\n",
        "\n",
        "def display_naive_value_iteration_result(res, size):\n",
        "    fig, ax = plt.subplots(1,1)\n",
        "    yticks = [s.labels[0] for s in lion.get_states().values()] + [\"\"]\n",
        "    ax.set_xticks(range(len(res)))\n",
        "    ax.set_yticks(range(len(res[0]) + 1))\n",
        "    ax.set_yticklabels(yticks)\n",
        "    \n",
        "    ax.imshow(invert_2d_list(res), cmap='hot', interpolation='nearest', aspect=\"equal\")\n",
        "    plt.xlabel(\"steps\")\n",
        "    plt.ylabel(\"states\")\n",
        "    fig.set_size_inches(size,size)\n",
        "    \n",
        "    plt.show()\n",
        "\n",
        "res = naive_value_iteration(lion, 20, starting_state=lion.get_initial_state().id)\n",
        "display_naive_value_iteration_result(res, 10)"
      ]
    },
    {
      "cell_type": "code",
      "execution_count": null,
      "id": "c8286d58-e311-4f05-8d88-40082705ab09",
      "metadata": {},
      "outputs": [],
      "source": []
    }
  ],
  "metadata": {
    "kernelspec": {
      "display_name": "Python (stormvogel)",
      "language": "python",
      "name": "stormvogel-env"
    },
    "language_info": {
      "codemirror_mode": {
        "name": "ipython",
        "version": 3
      },
      "file_extension": ".py",
      "mimetype": "text/x-python",
      "name": "python",
      "nbconvert_exporter": "python",
      "pygments_lexer": "ipython3",
      "version": "3.12.6"
    },
    "widgets": {
      "application/vnd.jupyter.widget-state+json": {
        "state": {
          "0a4470793a704b388de44c9e5f08cab8": {
            "model_module": "@jupyter-widgets/output",
            "model_module_version": "1.0.0",
            "model_name": "OutputModel",
            "state": {
              "_dom_classes": [],
              "_model_module": "@jupyter-widgets/output",
              "_model_module_version": "1.0.0",
              "_model_name": "OutputModel",
              "_view_count": null,
              "_view_module": "@jupyter-widgets/output",
              "_view_module_version": "1.0.0",
              "_view_name": "OutputView",
              "layout": "IPY_MODEL_47da0120652c4fa4a503c52d24ee2ebc",
              "msg_id": "",
              "outputs": [],
              "tabbable": null,
              "tooltip": null
            }
          },
          "115e6973c59145688509e9aa5b3010ee": {
            "model_module": "@jupyter-widgets/base",
            "model_module_version": "2.0.0",
            "model_name": "LayoutModel",
            "state": {
              "_model_module": "@jupyter-widgets/base",
              "_model_module_version": "2.0.0",
              "_model_name": "LayoutModel",
              "_view_count": null,
              "_view_module": "@jupyter-widgets/base",
              "_view_module_version": "2.0.0",
              "_view_name": "LayoutView",
              "align_content": null,
              "align_items": null,
              "align_self": null,
              "border_bottom": null,
              "border_left": null,
              "border_right": null,
              "border_top": null,
              "bottom": null,
              "display": null,
              "flex": null,
              "flex_flow": null,
              "grid_area": null,
              "grid_auto_columns": null,
              "grid_auto_flow": null,
              "grid_auto_rows": null,
              "grid_column": null,
              "grid_gap": null,
              "grid_row": null,
              "grid_template_areas": null,
              "grid_template_columns": null,
              "grid_template_rows": null,
              "height": null,
              "justify_content": null,
              "justify_items": null,
              "left": null,
              "margin": null,
              "max_height": null,
              "max_width": null,
              "min_height": null,
              "min_width": null,
              "object_fit": null,
              "object_position": null,
              "order": null,
              "overflow": null,
              "padding": null,
              "right": null,
              "top": null,
              "visibility": null,
              "width": null
            }
          },
          "132eeaf7259c4ae6b2349f17d38d49c5": {
            "model_module": "@jupyter-widgets/base",
            "model_module_version": "2.0.0",
            "model_name": "LayoutModel",
            "state": {
              "_model_module": "@jupyter-widgets/base",
              "_model_module_version": "2.0.0",
              "_model_name": "LayoutModel",
              "_view_count": null,
              "_view_module": "@jupyter-widgets/base",
              "_view_module_version": "2.0.0",
              "_view_name": "LayoutView",
              "align_content": null,
              "align_items": null,
              "align_self": null,
              "border_bottom": null,
              "border_left": null,
              "border_right": null,
              "border_top": null,
              "bottom": null,
              "display": null,
              "flex": null,
              "flex_flow": null,
              "grid_area": null,
              "grid_auto_columns": null,
              "grid_auto_flow": null,
              "grid_auto_rows": null,
              "grid_column": null,
              "grid_gap": null,
              "grid_row": null,
              "grid_template_areas": null,
              "grid_template_columns": null,
              "grid_template_rows": null,
              "height": null,
              "justify_content": null,
              "justify_items": null,
              "left": null,
              "margin": null,
              "max_height": null,
              "max_width": null,
              "min_height": null,
              "min_width": null,
              "object_fit": null,
              "object_position": null,
              "order": null,
              "overflow": null,
              "padding": null,
              "right": null,
              "top": null,
              "visibility": null,
              "width": null
            }
          },
          "3b27b22ad54446db888d0366e93642b8": {
            "model_module": "@jupyter-widgets/base",
            "model_module_version": "2.0.0",
            "model_name": "LayoutModel",
            "state": {
              "_model_module": "@jupyter-widgets/base",
              "_model_module_version": "2.0.0",
              "_model_name": "LayoutModel",
              "_view_count": null,
              "_view_module": "@jupyter-widgets/base",
              "_view_module_version": "2.0.0",
              "_view_name": "LayoutView",
              "align_content": null,
              "align_items": null,
              "align_self": null,
              "border_bottom": null,
              "border_left": null,
              "border_right": null,
              "border_top": null,
              "bottom": null,
              "display": null,
              "flex": null,
              "flex_flow": null,
              "grid_area": null,
              "grid_auto_columns": null,
              "grid_auto_flow": null,
              "grid_auto_rows": null,
              "grid_column": null,
              "grid_gap": null,
              "grid_row": null,
              "grid_template_areas": null,
              "grid_template_columns": null,
              "grid_template_rows": null,
              "height": null,
              "justify_content": null,
              "justify_items": null,
              "left": null,
              "margin": null,
              "max_height": null,
              "max_width": null,
              "min_height": null,
              "min_width": null,
              "object_fit": null,
              "object_position": null,
              "order": null,
              "overflow": null,
              "padding": null,
              "right": null,
              "top": null,
              "visibility": null,
              "width": null
            }
          },
          "3c635914241b444ab49f98bbb3c218d1": {
            "model_module": "@jupyter-widgets/base",
            "model_module_version": "2.0.0",
            "model_name": "LayoutModel",
            "state": {
              "_model_module": "@jupyter-widgets/base",
              "_model_module_version": "2.0.0",
              "_model_name": "LayoutModel",
              "_view_count": null,
              "_view_module": "@jupyter-widgets/base",
              "_view_module_version": "2.0.0",
              "_view_name": "LayoutView",
              "align_content": null,
              "align_items": null,
              "align_self": null,
              "border_bottom": null,
              "border_left": null,
              "border_right": null,
              "border_top": null,
              "bottom": null,
              "display": null,
              "flex": null,
              "flex_flow": null,
              "grid_area": null,
              "grid_auto_columns": null,
              "grid_auto_flow": null,
              "grid_auto_rows": null,
              "grid_column": null,
              "grid_gap": null,
              "grid_row": null,
              "grid_template_areas": null,
              "grid_template_columns": null,
              "grid_template_rows": null,
              "height": null,
              "justify_content": null,
              "justify_items": null,
              "left": null,
              "margin": null,
              "max_height": null,
              "max_width": null,
              "min_height": null,
              "min_width": null,
              "object_fit": null,
              "object_position": null,
              "order": null,
              "overflow": null,
              "padding": null,
              "right": null,
              "top": null,
              "visibility": null,
              "width": null
            }
          },
          "47da0120652c4fa4a503c52d24ee2ebc": {
            "model_module": "@jupyter-widgets/base",
            "model_module_version": "2.0.0",
            "model_name": "LayoutModel",
            "state": {
              "_model_module": "@jupyter-widgets/base",
              "_model_module_version": "2.0.0",
              "_model_name": "LayoutModel",
              "_view_count": null,
              "_view_module": "@jupyter-widgets/base",
              "_view_module_version": "2.0.0",
              "_view_name": "LayoutView",
              "align_content": null,
              "align_items": null,
              "align_self": null,
              "border_bottom": null,
              "border_left": null,
              "border_right": null,
              "border_top": null,
              "bottom": null,
              "display": null,
              "flex": null,
              "flex_flow": null,
              "grid_area": null,
              "grid_auto_columns": null,
              "grid_auto_flow": null,
              "grid_auto_rows": null,
              "grid_column": null,
              "grid_gap": null,
              "grid_row": null,
              "grid_template_areas": null,
              "grid_template_columns": null,
              "grid_template_rows": null,
              "height": null,
              "justify_content": null,
              "justify_items": null,
              "left": null,
              "margin": null,
              "max_height": null,
              "max_width": null,
              "min_height": null,
              "min_width": null,
              "object_fit": null,
              "object_position": null,
              "order": null,
              "overflow": null,
              "padding": null,
              "right": null,
              "top": null,
              "visibility": null,
              "width": null
            }
          },
          "52791b15670e460ba9fe9376b20cc3a8": {
            "model_module": "@jupyter-widgets/base",
            "model_module_version": "2.0.0",
            "model_name": "LayoutModel",
            "state": {
              "_model_module": "@jupyter-widgets/base",
              "_model_module_version": "2.0.0",
              "_model_name": "LayoutModel",
              "_view_count": null,
              "_view_module": "@jupyter-widgets/base",
              "_view_module_version": "2.0.0",
              "_view_name": "LayoutView",
              "align_content": null,
              "align_items": null,
              "align_self": null,
              "border_bottom": null,
              "border_left": null,
              "border_right": null,
              "border_top": null,
              "bottom": null,
              "display": null,
              "flex": null,
              "flex_flow": null,
              "grid_area": null,
              "grid_auto_columns": null,
              "grid_auto_flow": null,
              "grid_auto_rows": null,
              "grid_column": null,
              "grid_gap": null,
              "grid_row": null,
              "grid_template_areas": null,
              "grid_template_columns": null,
              "grid_template_rows": null,
              "height": null,
              "justify_content": null,
              "justify_items": null,
              "left": null,
              "margin": null,
              "max_height": null,
              "max_width": null,
              "min_height": null,
              "min_width": null,
              "object_fit": null,
              "object_position": null,
              "order": null,
              "overflow": null,
              "padding": null,
              "right": null,
              "top": null,
              "visibility": null,
              "width": null
            }
          },
          "55fa0e096dad48d992e69289fe7fdc70": {
            "model_module": "@jupyter-widgets/output",
            "model_module_version": "1.0.0",
            "model_name": "OutputModel",
            "state": {
              "_dom_classes": [],
              "_model_module": "@jupyter-widgets/output",
              "_model_module_version": "1.0.0",
              "_model_name": "OutputModel",
              "_view_count": null,
              "_view_module": "@jupyter-widgets/output",
              "_view_module_version": "1.0.0",
              "_view_name": "OutputView",
              "layout": "IPY_MODEL_132eeaf7259c4ae6b2349f17d38d49c5",
              "msg_id": "",
              "outputs": [],
              "tabbable": null,
              "tooltip": null
            }
          },
          "6c0870de174f4ed69adc6b138d5373f2": {
            "model_module": "@jupyter-widgets/output",
            "model_module_version": "1.0.0",
            "model_name": "OutputModel",
            "state": {
              "_dom_classes": [],
              "_model_module": "@jupyter-widgets/output",
              "_model_module_version": "1.0.0",
              "_model_name": "OutputModel",
              "_view_count": null,
              "_view_module": "@jupyter-widgets/output",
              "_view_module_version": "1.0.0",
              "_view_name": "OutputView",
              "layout": "IPY_MODEL_fe8c1c71cc404d5ca3dd56ed41caf8f0",
              "msg_id": "",
              "outputs": [],
              "tabbable": null,
              "tooltip": null
            }
          },
          "774c3e64c51b44d48f82a07fc88b0ac8": {
            "model_module": "@jupyter-widgets/output",
            "model_module_version": "1.0.0",
            "model_name": "OutputModel",
            "state": {
              "_dom_classes": [],
              "_model_module": "@jupyter-widgets/output",
              "_model_module_version": "1.0.0",
              "_model_name": "OutputModel",
              "_view_count": null,
              "_view_module": "@jupyter-widgets/output",
              "_view_module_version": "1.0.0",
              "_view_name": "OutputView",
              "layout": "IPY_MODEL_ef9ef09005ec4e8a9446a35f87253aa9",
              "msg_id": "",
              "outputs": [],
              "tabbable": null,
              "tooltip": null
            }
          },
          "8c26ed794da84acc93a5a7e7928b5f8c": {
            "model_module": "@jupyter-widgets/output",
            "model_module_version": "1.0.0",
            "model_name": "OutputModel",
            "state": {
              "_dom_classes": [],
              "_model_module": "@jupyter-widgets/output",
              "_model_module_version": "1.0.0",
              "_model_name": "OutputModel",
              "_view_count": null,
              "_view_module": "@jupyter-widgets/output",
              "_view_module_version": "1.0.0",
              "_view_name": "OutputView",
              "layout": "IPY_MODEL_115e6973c59145688509e9aa5b3010ee",
              "msg_id": "",
              "outputs": [],
              "tabbable": null,
              "tooltip": null
            }
          },
          "b2feb830225a4cecb139b0703c658564": {
            "model_module": "@jupyter-widgets/base",
            "model_module_version": "2.0.0",
            "model_name": "LayoutModel",
            "state": {
              "_model_module": "@jupyter-widgets/base",
              "_model_module_version": "2.0.0",
              "_model_name": "LayoutModel",
              "_view_count": null,
              "_view_module": "@jupyter-widgets/base",
              "_view_module_version": "2.0.0",
              "_view_name": "LayoutView",
              "align_content": null,
              "align_items": null,
              "align_self": null,
              "border_bottom": null,
              "border_left": null,
              "border_right": null,
              "border_top": null,
              "bottom": null,
              "display": null,
              "flex": null,
              "flex_flow": null,
              "grid_area": null,
              "grid_auto_columns": null,
              "grid_auto_flow": null,
              "grid_auto_rows": null,
              "grid_column": null,
              "grid_gap": null,
              "grid_row": null,
              "grid_template_areas": null,
              "grid_template_columns": null,
              "grid_template_rows": null,
              "height": null,
              "justify_content": null,
              "justify_items": null,
              "left": null,
              "margin": null,
              "max_height": null,
              "max_width": null,
              "min_height": null,
              "min_width": null,
              "object_fit": null,
              "object_position": null,
              "order": null,
              "overflow": null,
              "padding": null,
              "right": null,
              "top": null,
              "visibility": null,
              "width": null
            }
          },
          "b422eb4441534debb7226a46affd3242": {
            "model_module": "@jupyter-widgets/output",
            "model_module_version": "1.0.0",
            "model_name": "OutputModel",
            "state": {
              "_dom_classes": [],
              "_model_module": "@jupyter-widgets/output",
              "_model_module_version": "1.0.0",
              "_model_name": "OutputModel",
              "_view_count": null,
              "_view_module": "@jupyter-widgets/output",
              "_view_module_version": "1.0.0",
              "_view_name": "OutputView",
              "layout": "IPY_MODEL_eaecb40d41574cf282cbba8e83608fb3",
              "msg_id": "",
              "outputs": [],
              "tabbable": null,
              "tooltip": null
            }
          },
          "c22dda8a4057465c8f1af23376ed2936": {
            "model_module": "@jupyter-widgets/base",
            "model_module_version": "2.0.0",
            "model_name": "LayoutModel",
            "state": {
              "_model_module": "@jupyter-widgets/base",
              "_model_module_version": "2.0.0",
              "_model_name": "LayoutModel",
              "_view_count": null,
              "_view_module": "@jupyter-widgets/base",
              "_view_module_version": "2.0.0",
              "_view_name": "LayoutView",
              "align_content": null,
              "align_items": null,
              "align_self": null,
              "border_bottom": null,
              "border_left": null,
              "border_right": null,
              "border_top": null,
              "bottom": null,
              "display": null,
              "flex": null,
              "flex_flow": null,
              "grid_area": null,
              "grid_auto_columns": null,
              "grid_auto_flow": null,
              "grid_auto_rows": null,
              "grid_column": null,
              "grid_gap": null,
              "grid_row": null,
              "grid_template_areas": null,
              "grid_template_columns": null,
              "grid_template_rows": null,
              "height": null,
              "justify_content": null,
              "justify_items": null,
              "left": null,
              "margin": null,
              "max_height": null,
              "max_width": null,
              "min_height": null,
              "min_width": null,
              "object_fit": null,
              "object_position": null,
              "order": null,
              "overflow": null,
              "padding": null,
              "right": null,
              "top": null,
              "visibility": null,
              "width": null
            }
          },
          "c2b9fda9e1354d6ca57827715ca601ed": {
            "model_module": "@jupyter-widgets/output",
            "model_module_version": "1.0.0",
            "model_name": "OutputModel",
            "state": {
              "_dom_classes": [],
              "_model_module": "@jupyter-widgets/output",
              "_model_module_version": "1.0.0",
              "_model_name": "OutputModel",
              "_view_count": null,
              "_view_module": "@jupyter-widgets/output",
              "_view_module_version": "1.0.0",
              "_view_name": "OutputView",
              "layout": "IPY_MODEL_52791b15670e460ba9fe9376b20cc3a8",
              "msg_id": "",
              "outputs": [
                {
                  "data": {
                    "text/html": "\n          <iframe\n                id=\"modelPdlwDqKlTK\"\n                width=\"610\"\n                height=\"426\"\n                frameborder=\"0\"\n                srcdoc=\"\n&lt;!DOCTYPE html&gt;\n&lt;html lang=&quot;en&quot;&gt;\n  &lt;head&gt;\n    &lt;title&gt;Network&lt;/title&gt;\n    &lt;script\n      type=&quot;text/javascript&quot;\n      src=&quot;https://unpkg.com/vis-network/standalone/umd/vis-network.min.js&quot;\n    &gt;&lt;/script&gt;\n    &lt;style type=&quot;text/css&quot;&gt;\n      #mynetwork {\n        \n        width: 590px;\n        height: 406px;\n        border: 1px solid lightgray;\n        \n      }\n    &lt;/style&gt;\n  &lt;/head&gt;\n  &lt;body&gt;\n    &lt;div id=&quot;mynetwork&quot;&gt;&lt;/div&gt;\n    &lt;script type=&quot;text/javascript&quot;&gt;\n        \n        var nodes = new vis.DataSet([{ id: 0, label: `init`, group: &quot;states&quot;, x: -218, y: 28 },\n{ id: 1, label: `full :D`, group: &quot;states&quot;, x: -28, y: 57 },\n{ id: 2, label: `satisfied :)`, group: &quot;states&quot;, x: -79, y: -14 },\n{ id: 3, label: `hungry :(`, group: &quot;states&quot;, x: -86, y: -156 },\n{ id: 4, label: `starving :((`, group: &quot;states&quot;, x: 147, y: -37 },\n{ id: 5, label: `rawr`, group: &quot;states&quot;, x: -386, y: 109 },\n{ id: 6, label: `hunt &gt;:D`, group: &quot;hunt_&gt;:D&quot;, x: 24, y: -96 },\n{ id: 7, label: `desparate hunt!`, group: &quot;desparate_hunt!&quot;, x: 81, y: 69 },\n{ id: 8, label: `dead...`, group: &quot;dead...&quot;, x: 126, y: 205 },\n]);\n        var edges = new vis.DataSet([{ from: 0, to: 2, label: &quot;1&quot; },\n{ from: 2, to: 3, label: &quot;1&quot; },\n{ from: 3, to: 6, label: &quot;1&quot; },\n{ from: 4, to: 7, label: &quot;1&quot; },\n{ from: 6, to: 1, label: &quot;1/2&quot; },\n{ from: 6, to: 4, label: &quot;3/10&quot; },\n{ from: 6, to: 2, label: &quot;1/5&quot; },\n{ from: 1, to: 2, label: &quot;1&quot; },\n{ from: 7, to: 1, label: &quot;1/5&quot; },\n{ from: 7, to: 4, label: &quot;3/10&quot; },\n{ from: 7, to: 8, label: &quot;1/10&quot; },\n{ from: 7, to: 2, label: &quot;2/5&quot; },\n{ from: 5, to: 5, label: &quot;1&quot; },\n{ from: 8, to: 8, label: &quot;1&quot; },\n]);\n        var options = {\n  &quot;__fake_macros&quot;: {\n    &quot;__group_macro&quot;: {\n      &quot;borderWidth&quot;: 1,\n      &quot;color&quot;: {\n        &quot;background&quot;: &quot;white&quot;,\n        &quot;border&quot;: &quot;black&quot;,\n        &quot;highlight&quot;: {\n          &quot;background&quot;: &quot;white&quot;,\n          &quot;border&quot;: &quot;red&quot;\n        }\n      },\n      &quot;shape&quot;: &quot;ellipse&quot;,\n      &quot;mass&quot;: 1,\n      &quot;font&quot;: {\n        &quot;color&quot;: &quot;black&quot;,\n        &quot;size&quot;: 14\n      }\n    }\n  },\n  &quot;groups&quot;: {\n    &quot;states&quot;: {\n      &quot;borderWidth&quot;: 1,\n      &quot;color&quot;: {\n        &quot;background&quot;: &quot;#f5c211&quot;,\n        &quot;border&quot;: &quot;#c64600&quot;,\n        &quot;highlight&quot;: {\n          &quot;background&quot;: &quot;white&quot;,\n          &quot;border&quot;: &quot;red&quot;\n        }\n      },\n      &quot;shape&quot;: &quot;ellipse&quot;,\n      &quot;mass&quot;: 1,\n      &quot;font&quot;: {\n        &quot;color&quot;: &quot;black&quot;,\n        &quot;size&quot;: 14\n      }\n    },\n    &quot;actions&quot;: {\n      &quot;borderWidth&quot;: 1,\n      &quot;color&quot;: {\n        &quot;background&quot;: &quot;lightblue&quot;,\n        &quot;border&quot;: &quot;black&quot;,\n        &quot;highlight&quot;: {\n          &quot;background&quot;: &quot;white&quot;,\n          &quot;border&quot;: &quot;red&quot;\n        }\n      },\n      &quot;shape&quot;: &quot;box&quot;,\n      &quot;mass&quot;: 1,\n      &quot;font&quot;: {\n        &quot;color&quot;: &quot;black&quot;,\n        &quot;size&quot;: 14\n      }\n    },\n    &quot;scheduled_actions&quot;: {\n      &quot;borderWidth&quot;: 1,\n      &quot;color&quot;: {\n        &quot;background&quot;: &quot;pink&quot;,\n        &quot;border&quot;: &quot;black&quot;,\n        &quot;highlight&quot;: {\n          &quot;background&quot;: &quot;white&quot;,\n          &quot;border&quot;: &quot;red&quot;\n        }\n      },\n      &quot;shape&quot;: &quot;box&quot;,\n      &quot;mass&quot;: 1,\n      &quot;font&quot;: {\n        &quot;color&quot;: &quot;black&quot;,\n        &quot;size&quot;: 14\n      },\n      &quot;schedColor&quot;: false\n    },\n    &quot;dead...&quot;: {\n      &quot;borderWidth&quot;: 1,\n      &quot;color&quot;: {\n        &quot;background&quot;: &quot;#c0bfbc&quot;,\n        &quot;border&quot;: &quot;black&quot;,\n        &quot;highlight&quot;: {\n          &quot;background&quot;: &quot;white&quot;,\n          &quot;border&quot;: &quot;red&quot;\n        }\n      },\n      &quot;shape&quot;: &quot;ellipse&quot;,\n      &quot;mass&quot;: 1,\n      &quot;font&quot;: {\n        &quot;color&quot;: &quot;black&quot;,\n        &quot;size&quot;: 14\n      }\n    },\n    &quot;hunt_&gt;:D&quot;: {\n      &quot;borderWidth&quot;: 1,\n      &quot;color&quot;: {\n        &quot;background&quot;: &quot;#2ec27e&quot;,\n        &quot;border&quot;: &quot;black&quot;,\n        &quot;highlight&quot;: {\n          &quot;background&quot;: &quot;white&quot;,\n          &quot;border&quot;: &quot;red&quot;\n        }\n      },\n      &quot;shape&quot;: &quot;ellipse&quot;,\n      &quot;mass&quot;: 1,\n      &quot;font&quot;: {\n        &quot;color&quot;: &quot;black&quot;,\n        &quot;size&quot;: 14\n      }\n    },\n    &quot;desparate_hunt!&quot;: {\n      &quot;borderWidth&quot;: 1,\n      &quot;color&quot;: {\n        &quot;background&quot;: &quot;#ff7800&quot;,\n        &quot;border&quot;: &quot;black&quot;,\n        &quot;highlight&quot;: {\n          &quot;background&quot;: &quot;white&quot;,\n          &quot;border&quot;: &quot;red&quot;\n        }\n      },\n      &quot;shape&quot;: &quot;ellipse&quot;,\n      &quot;mass&quot;: 1,\n      &quot;font&quot;: {\n        &quot;color&quot;: &quot;black&quot;,\n        &quot;size&quot;: 14\n      }\n    }\n  },\n  &quot;reload_button&quot;: false,\n  &quot;edges&quot;: {\n    &quot;arrows&quot;: &quot;to&quot;,\n    &quot;font&quot;: {\n      &quot;color&quot;: &quot;black&quot;,\n      &quot;size&quot;: 14\n    },\n    &quot;color&quot;: {\n      &quot;color&quot;: &quot;black&quot;\n    }\n  },\n  &quot;numbers&quot;: {\n    &quot;fractions&quot;: true,\n    &quot;digits&quot;: 5\n  },\n  &quot;results_and_rewards&quot;: {\n    &quot;show_results&quot;: true,\n    &quot;resultSymbol&quot;: &quot;\\u2606&quot;,\n    &quot;show_rewards&quot;: true\n  },\n  &quot;layout&quot;: {\n    &quot;randomSeed&quot;: 5\n  },\n  &quot;misc&quot;: {\n    &quot;enable_physics&quot;: true,\n    &quot;width&quot;: 590,\n    &quot;height&quot;: 406,\n    &quot;explore&quot;: false\n  },\n  &quot;saving&quot;: {\n    &quot;relative_path&quot;: true,\n    &quot;filename&quot;: &quot;layouts/lion.json&quot;,\n    &quot;save_button&quot;: false,\n    &quot;load_button&quot;: false\n  },\n  &quot;positions&quot;: {\n    &quot;0&quot;: {\n      &quot;x&quot;: -218,\n      &quot;y&quot;: 28\n    },\n    &quot;1&quot;: {\n      &quot;x&quot;: -28,\n      &quot;y&quot;: 57\n    },\n    &quot;2&quot;: {\n      &quot;x&quot;: -79,\n      &quot;y&quot;: -14\n    },\n    &quot;3&quot;: {\n      &quot;x&quot;: -86,\n      &quot;y&quot;: -156\n    },\n    &quot;4&quot;: {\n      &quot;x&quot;: 147,\n      &quot;y&quot;: -37\n    },\n    &quot;5&quot;: {\n      &quot;x&quot;: -386,\n      &quot;y&quot;: 109\n    },\n    &quot;6&quot;: {\n      &quot;x&quot;: 24,\n      &quot;y&quot;: -96\n    },\n    &quot;7&quot;: {\n      &quot;x&quot;: 81,\n      &quot;y&quot;: 69\n    },\n    &quot;8&quot;: {\n      &quot;x&quot;: 126,\n      &quot;y&quot;: 205\n    }\n  },\n  &quot;width&quot;: 590,\n  &quot;height&quot;: 406,\n  &quot;physics&quot;: true\n};\n        //js\nvar container = document.getElementById(&quot;mynetwork&quot;);\nvar data = {\n    nodes: nodes,\n    edges: edges,\n};\nvar network = new vis.Network(container, data, options);\nfunction makeAllNodesInvisible() {\n    ids = nodes.getIds();\n    for (let i = 0; i &lt; ids.length; i++) {\n        var nodeId = ids[i];\n        var node = nodes.get(nodeId);\n        node[&quot;hidden&quot;] = true;\n        nodes.update(node);\n    }\n};\nfunction makeNeighborsVisible(myNode) {\n    var ids = network.getConnectedNodes(myNode, &#x27;to&#x27;);\n    for (let i = 0; i &lt; ids.length; i++) {\n        var nodeId = ids[i];\n        var node = nodes.get(nodeId);\n        node[&quot;hidden&quot;] = false;\n        nodes.update(node);\n    }\n};\nfunction makeNodeVisible(nodeId) {\n    var node = nodes.get(nodeId);\n    node[&quot;hidden&quot;] = false;\n    nodes.update(node);\n};\nnetwork.on( &#x27;click&#x27;, function(properties) {\n    var nodeId = network.getNodeAt({x:properties.event.srcEvent.offsetX, y:properties.event.srcEvent.offsetY});\n    makeNeighborsVisible(nodeId);\n});\n\n    &lt;/script&gt;\n  &lt;/body&gt;\n&lt;/html&gt;\n\"\n                border:none !important;\n                allowfullscreen webkitallowfullscreen mozallowfullscreen\n          ></iframe>",
                    "text/plain": "<IPython.core.display.HTML object>"
                  },
                  "metadata": {},
                  "output_type": "display_data"
                }
              ],
              "tabbable": null,
              "tooltip": null
            }
          },
          "d58ebfdf143a49bc9915bc2048b64f6a": {
            "model_module": "@jupyter-widgets/output",
            "model_module_version": "1.0.0",
            "model_name": "OutputModel",
            "state": {
              "_dom_classes": [],
              "_model_module": "@jupyter-widgets/output",
              "_model_module_version": "1.0.0",
              "_model_name": "OutputModel",
              "_view_count": null,
              "_view_module": "@jupyter-widgets/output",
              "_view_module_version": "1.0.0",
              "_view_name": "OutputView",
              "layout": "IPY_MODEL_3c635914241b444ab49f98bbb3c218d1",
              "msg_id": "",
              "outputs": [],
              "tabbable": null,
              "tooltip": null
            }
          },
          "df806a0b556d433ba1de5dee8fe1b750": {
            "model_module": "@jupyter-widgets/output",
            "model_module_version": "1.0.0",
            "model_name": "OutputModel",
            "state": {
              "_dom_classes": [],
              "_model_module": "@jupyter-widgets/output",
              "_model_module_version": "1.0.0",
              "_model_name": "OutputModel",
              "_view_count": null,
              "_view_module": "@jupyter-widgets/output",
              "_view_module_version": "1.0.0",
              "_view_name": "OutputView",
              "layout": "IPY_MODEL_b2feb830225a4cecb139b0703c658564",
              "msg_id": "",
              "outputs": [],
              "tabbable": null,
              "tooltip": null
            }
          },
          "e8d161eb329f402fbc87cb3346fd20f2": {
            "model_module": "@jupyter-widgets/output",
            "model_module_version": "1.0.0",
            "model_name": "OutputModel",
            "state": {
              "_dom_classes": [],
              "_model_module": "@jupyter-widgets/output",
              "_model_module_version": "1.0.0",
              "_model_name": "OutputModel",
              "_view_count": null,
              "_view_module": "@jupyter-widgets/output",
              "_view_module_version": "1.0.0",
              "_view_name": "OutputView",
              "layout": "IPY_MODEL_c22dda8a4057465c8f1af23376ed2936",
              "msg_id": "",
              "outputs": [],
              "tabbable": null,
              "tooltip": null
            }
          },
          "e9fff04f857c4a9d9b9bce4415808f18": {
            "model_module": "@jupyter-widgets/output",
            "model_module_version": "1.0.0",
            "model_name": "OutputModel",
            "state": {
              "_dom_classes": [],
              "_model_module": "@jupyter-widgets/output",
              "_model_module_version": "1.0.0",
              "_model_name": "OutputModel",
              "_view_count": null,
              "_view_module": "@jupyter-widgets/output",
              "_view_module_version": "1.0.0",
              "_view_name": "OutputView",
              "layout": "IPY_MODEL_3b27b22ad54446db888d0366e93642b8",
              "msg_id": "",
              "outputs": [],
              "tabbable": null,
              "tooltip": null
            }
          },
          "eaecb40d41574cf282cbba8e83608fb3": {
            "model_module": "@jupyter-widgets/base",
            "model_module_version": "2.0.0",
            "model_name": "LayoutModel",
            "state": {
              "_model_module": "@jupyter-widgets/base",
              "_model_module_version": "2.0.0",
              "_model_name": "LayoutModel",
              "_view_count": null,
              "_view_module": "@jupyter-widgets/base",
              "_view_module_version": "2.0.0",
              "_view_name": "LayoutView",
              "align_content": null,
              "align_items": null,
              "align_self": null,
              "border_bottom": null,
              "border_left": null,
              "border_right": null,
              "border_top": null,
              "bottom": null,
              "display": null,
              "flex": null,
              "flex_flow": null,
              "grid_area": null,
              "grid_auto_columns": null,
              "grid_auto_flow": null,
              "grid_auto_rows": null,
              "grid_column": null,
              "grid_gap": null,
              "grid_row": null,
              "grid_template_areas": null,
              "grid_template_columns": null,
              "grid_template_rows": null,
              "height": null,
              "justify_content": null,
              "justify_items": null,
              "left": null,
              "margin": null,
              "max_height": null,
              "max_width": null,
              "min_height": null,
              "min_width": null,
              "object_fit": null,
              "object_position": null,
              "order": null,
              "overflow": null,
              "padding": null,
              "right": null,
              "top": null,
              "visibility": null,
              "width": null
            }
          },
          "ef9ef09005ec4e8a9446a35f87253aa9": {
            "model_module": "@jupyter-widgets/base",
            "model_module_version": "2.0.0",
            "model_name": "LayoutModel",
            "state": {
              "_model_module": "@jupyter-widgets/base",
              "_model_module_version": "2.0.0",
              "_model_name": "LayoutModel",
              "_view_count": null,
              "_view_module": "@jupyter-widgets/base",
              "_view_module_version": "2.0.0",
              "_view_name": "LayoutView",
              "align_content": null,
              "align_items": null,
              "align_self": null,
              "border_bottom": null,
              "border_left": null,
              "border_right": null,
              "border_top": null,
              "bottom": null,
              "display": null,
              "flex": null,
              "flex_flow": null,
              "grid_area": null,
              "grid_auto_columns": null,
              "grid_auto_flow": null,
              "grid_auto_rows": null,
              "grid_column": null,
              "grid_gap": null,
              "grid_row": null,
              "grid_template_areas": null,
              "grid_template_columns": null,
              "grid_template_rows": null,
              "height": null,
              "justify_content": null,
              "justify_items": null,
              "left": null,
              "margin": null,
              "max_height": null,
              "max_width": null,
              "min_height": null,
              "min_width": null,
              "object_fit": null,
              "object_position": null,
              "order": null,
              "overflow": null,
              "padding": null,
              "right": null,
              "top": null,
              "visibility": null,
              "width": null
            }
          },
          "fe8c1c71cc404d5ca3dd56ed41caf8f0": {
            "model_module": "@jupyter-widgets/base",
            "model_module_version": "2.0.0",
            "model_name": "LayoutModel",
            "state": {
              "_model_module": "@jupyter-widgets/base",
              "_model_module_version": "2.0.0",
              "_model_name": "LayoutModel",
              "_view_count": null,
              "_view_module": "@jupyter-widgets/base",
              "_view_module_version": "2.0.0",
              "_view_name": "LayoutView",
              "align_content": null,
              "align_items": null,
              "align_self": null,
              "border_bottom": null,
              "border_left": null,
              "border_right": null,
              "border_top": null,
              "bottom": null,
              "display": null,
              "flex": null,
              "flex_flow": null,
              "grid_area": null,
              "grid_auto_columns": null,
              "grid_auto_flow": null,
              "grid_auto_rows": null,
              "grid_column": null,
              "grid_gap": null,
              "grid_row": null,
              "grid_template_areas": null,
              "grid_template_columns": null,
              "grid_template_rows": null,
              "height": null,
              "justify_content": null,
              "justify_items": null,
              "left": null,
              "margin": null,
              "max_height": null,
              "max_width": null,
              "min_height": null,
              "min_width": null,
              "object_fit": null,
              "object_position": null,
              "order": null,
              "overflow": null,
              "padding": null,
              "right": null,
              "top": null,
              "visibility": null,
              "width": null
            }
          }
        },
        "version_major": 2,
        "version_minor": 0
      }
    }
  },
  "nbformat": 4,
  "nbformat_minor": 5
}
