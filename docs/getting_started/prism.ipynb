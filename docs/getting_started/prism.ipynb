{
  "cells": [
    {
      "cell_type": "markdown",
      "id": "190cc3ba",
      "metadata": {},
      "source": [
        "# Writing PRISM"
      ]
    },
    {
      "cell_type": "code",
      "execution_count": 2,
      "id": "2552891a-8d96-4c77-aa97-0a1ddf5bc02b",
      "metadata": {},
      "outputs": [],
      "source": [
        "from stormvogel import visualization, mapping, result, show\n",
        "import stormpy"
      ]
    },
    {
      "cell_type": "markdown",
      "id": "2c278323",
      "metadata": {},
      "source": [
        "Using the ``%%prism`` keyword, you can immediately tinker with PRISM programs in the notebooks. This example is the [NAND multiplexing case study from the PRISM website](https://www.prismmodelchecker.org/casestudies/nand.php). If you provide a variable name after the keyword, this variable will store your PRISM program after the execution of the cell."
      ]
    },
    {
      "cell_type": "code",
      "execution_count": 3,
      "id": "a00a5906-af87-4fb8-8f5f-ad5690129d33",
      "metadata": {},
      "outputs": [
        {
          "data": {
            "text/plain": [
              "<stormpy.storage.storage.PrismProgram at 0x7f80f44ff8b0>"
            ]
          },
          "execution_count": 3,
          "metadata": {},
          "output_type": "execute_result"
        }
      ],
      "source": [
        "%%prism nand\n",
        "dtmc\n",
        "\n",
        "const int N = 2; // number of inputs in each bundle\n",
        "const int K = 2; // number of restorative stages\n",
        "\n",
        "const int M = 2*K+1; // total number of multiplexing units\n",
        "\n",
        "const double perr = 0.02; // probability nand works correctly\n",
        "const double prob1 = 0.9; // probability initial inputs are stimulated\n",
        "\n",
        "module multiplex\n",
        "\n",
        "\tu : [1..M]; // number of stages\n",
        "\tc : [0..N]; // counter (number of copies of the nand done)\n",
        "\n",
        "\ts : [0..4]; // local state\n",
        "\t// 0 - initial state\n",
        "\t// 1 - set x inputs\n",
        "\t// 2 - set y inputs\n",
        "\t// 3 - set outputs\n",
        "\t// 4 - done\n",
        "\n",
        "\tz : [0..N]; // number of new outputs equal to 1\n",
        "\tzx : [0..N]; // number of old outputs equal to 1\n",
        "\tzy : [0..N]; // need second copy for y\n",
        "\t// initially 9 since initially probability of stimulated state is 0.9\n",
        "\n",
        "\tx : [0..1]; // value of first input\n",
        "\ty : [0..1]; // value of second input\n",
        "\t\n",
        "\t[] s=0 & (c<N) -> (s'=1); // do next nand if have not done N yet\n",
        "\t[] s=0 & (c=N) & (u<M) -> (s'=1) & (zx'=z) & (zy'=z) & (z'=0) & (u'=u+1) & (c'=0); // move on to next u if not finished\n",
        "\t[] s=0 & (c=N) & (u=M) -> (s'=4) & (zx'=0) & (zy'=0) & (x'=0) & (y'=0); // finished (so reset variables not needed to reduce state space)\n",
        "\n",
        "\t// choose x permute selection (have zx stimulated inputs)\n",
        "\t// note only need y to be random\t\n",
        "\t[] s=1 & u=1  -> prob1 : (x'=1) & (s'=2) + (1-prob1) : (x'=0) & (s'=2); // initially random\n",
        "\t[] s=1 & u>1 & zx>0 -> (x'=1) & (s'=2) & (zx'=zx-1);\n",
        "\t[] s=1 & u>1 & zx=0 -> (x'=0) & (s'=2);\n",
        "\n",
        "\t// choose x randomly from selection (have zy stimulated inputs)\n",
        "\t[] s=2 & u=1 -> prob1 : (y'=1) & (s'=3) + (1-prob1) : (y'=0) & (s'=3); // initially random\n",
        "\t[] s=2 & u>1 & zy<(N-c) & zy>0  -> zy/(N-c) : (y'=1) & (s'=3) & (zy'=zy-1) + 1-(zy/(N-c)) : (y'=0) & (s'=3);\n",
        "\t[] s=2 & u>1 & zy=(N-c) & c<N -> 1 : (y'=1) & (s'=3) & (zy'=zy-1);\n",
        "\t[] s=2 & u>1 & zy=0 -> 1 : (y'=0) & (s'=3);\n",
        "\n",
        "\t// use nand gate\n",
        "\t[] s=3 & z<N & c<N -> (1-perr) : (z'=z+(1-x*y)) & (s'=0) & (c'=c+1) & (x'=0) & (y'=0) // not faulty\n",
        "\t         + perr    : (z'=z+(x*y))    & (s'=0) & (c'=c+1) & (x'=0) & (y'=0); // von neumann fault\n",
        "\t\n",
        "\t[] s=4 -> (s'=s);\n",
        "\t\n",
        "endmodule\n",
        "\n",
        "// rewards: final value of gate\n",
        "rewards\n",
        "\t// [] s=0 & (c=N) & (u=M) : z/N;\n",
        "\ts=0 & (c=N) & (u=M) : z/N;\n",
        "endrewards\n",
        "\n",
        "label \"nextnand\" = s=0;\n",
        "label \"selection\" = s=1;\n",
        "label \"whichx\" = s=2;\n",
        "label \"gate\" = s=3 & z<N & c<N;\n",
        "label \"target\" = s=4 & z/N<0.1;\n",
        "label \"end\" = s=4;\n"
      ]
    },
    {
      "cell_type": "markdown",
      "id": "6fdae17c",
      "metadata": {},
      "source": [
        "We now have a PRISM program, but that is not a Markov model yet, only a description. We can build this into a full model using stormpy:"
      ]
    },
    {
      "cell_type": "code",
      "execution_count": 4,
      "id": "049cb9f5-2e69-4092-982f-be446aee0012",
      "metadata": {},
      "outputs": [],
      "source": [
        "nand_model = stormpy.build_model(nand)"
      ]
    },
    {
      "cell_type": "markdown",
      "id": "7aa8ee57",
      "metadata": {},
      "source": [
        "If we want to do model checking later, we need a property as well, such as:"
      ]
    },
    {
      "cell_type": "code",
      "execution_count": 5,
      "id": "336c76a2",
      "metadata": {},
      "outputs": [],
      "source": [
        "prop = stormpy.parse_properties(\"P=? [F \\\"target\\\"]\", nand)"
      ]
    },
    {
      "cell_type": "markdown",
      "id": "c67e37af",
      "metadata": {},
      "source": [
        "We can print the model to get some basic information."
      ]
    },
    {
      "cell_type": "code",
      "execution_count": 6,
      "id": "eb11837e-5c59-42d3-97ed-cedb76eca63c",
      "metadata": {},
      "outputs": [
        {
          "name": "stdout",
          "output_type": "stream",
          "text": [
            "-------------------------------------------------------------- \n",
            "Model type: \tDTMC (sparse)\n",
            "States: \t178\n",
            "Transitions: \t243\n",
            "Reward Models:  (default)\n",
            "State Labels: \t8 labels\n",
            "   * init -> 1 item(s)\n",
            "   * whichx -> 42 item(s)\n",
            "   * selection -> 39 item(s)\n",
            "   * nextnand -> 42 item(s)\n",
            "   * deadlock -> 0 item(s)\n",
            "   * target -> 1 item(s)\n",
            "   * gate -> 52 item(s)\n",
            "   * end -> 3 item(s)\n",
            "Choice Labels: \tnone\n",
            "-------------------------------------------------------------- \n",
            "\n"
          ]
        }
      ],
      "source": [
        "print(nand_model)"
      ]
    },
    {
      "cell_type": "code",
      "execution_count": 7,
      "id": "58dc3f9f",
      "metadata": {},
      "outputs": [],
      "source": [
        "stormpy_result = stormpy.model_checking(nand_model, prop[0])"
      ]
    },
    {
      "cell_type": "code",
      "execution_count": 8,
      "id": "7f568f16",
      "metadata": {},
      "outputs": [
        {
          "name": "stdout",
          "output_type": "stream",
          "text": [
            "[0.7434211305545204, 0.7434211305545204, 0.7742858388475886, 0.46563875591690623, 0.80857995917322, 0.46563875591690623, 0.46563875591690623, 0.46563875591690623, 0.8157245675743932, 0.458494147515733, 0.8157245675743932, 0.458494147515733, 0.8426262463942631, 0.573609458195563, 0.504976011479863, 0.04015737183856233, 0.8725170006385631, 0.573609458195563, 0.573609458195563, 0.573609458195563, 0.556622526995563, 0.04015737183856233, 0.04015737183856233, 0.04015737183856233, 0.8787442411061255, 0.5673822177280005, 0.029397681106124816, 0.8787442411061255, 0.5673822177280005, 0.029397681106124816, 0.8787442411061255, 0.5673822177280005, 0.029397681106124816, 0.8787442411061255, 0.2560201943498754, 0.8787442411061255, 0.029397681106124816, 0.8917176587468806, 0.24304677670912014, 0.8917176587468806, 0.24304677670912014, 0.02467637874688001, 0.26074149670912017, 0.8917176587468806, 0.24304677670912014, 0.8917176587468806, 0.24304677670912014, 0.02467637874688001, 0.26074149670912017, 0.8917176587468806, 0.24304677670912014, 0.8917176587468806, 0.24304677670912014, 0.02467637874688001, 0.26074149670912017, 0.8917176587468806, 0.24304677670912014, 0.8917176587468806, 0.24304677670912014, 0.02467637874688001, 0.26074149670912017, 0.9048629954560005, 0.24759616000000012, 0.020126995456000007, 0.9048629954560005, 0.24759616000000012, 0.020126995456000007, 0.9048629954560005, 0.24759616000000012, 0.020126995456000007, 0.9048629954560005, 0.47506532454400024, 0.020126995456000003, 0.020126995456000007, 0.9138171136000004, 0.46611120640000014, 0.4845432064000002, 0.010649113600000001, 0.010649113600000001, 0.4845432064000002, 0.9138171136000004, 0.46611120640000014, 0.4845432064000002, 0.010649113600000001, 0.010649113600000001, 0.4845432064000002, 0.9138171136000004, 0.46611120640000014, 0.4845432064000002, 0.010649113600000001, 0.010649113600000001, 0.4845432064000002, 0.9138171136000004, 0.46611120640000014, 0.4845432064000002, 0.010649113600000001, 0.010649113600000001, 0.4845432064000002, 0.9227603200000003, 0.47560000000000013, 0.0011603199999999998, 0.9227603200000003, 0.47560000000000013, 0.0011603199999999998, 0.9227603200000003, 0.47560000000000013, 0.0011603199999999998, 0.9227603200000003, 0.028439680000000002, 0.9227603200000003, 0.0011603199999999998, 0.9413920000000002, 0.009808, 0.9413920000000002, 0.009808, 0.0005919999999999999, 0.029008, 0.9413920000000002, 0.009808, 0.9413920000000002, 0.009808, 0.0005919999999999999, 0.029008, 0.9413920000000002, 0.009808, 0.9413920000000002, 0.009808, 0.0005919999999999999, 0.029008, 0.9413920000000002, 0.009808, 0.9413920000000002, 0.009808, 0.0005919999999999999, 0.029008, 0.9604000000000001, 0.01, 0.00039999999999999986, 0.9604000000000001, 0.01, 0.00039999999999999986, 0.9604000000000001, 0.01, 0.00039999999999999986, 0.9604000000000001, 0.0196, 0.00039999999999999986, 0.00039999999999999986, 0.9800000000000001, 0.0, 0.019999999999999997, 0.0, 0.0, 0.019999999999999997, 0.9800000000000001, 0.0, 0.019999999999999997, 0.0, 0.0, 0.019999999999999997, 0.9800000000000001, 0.0, 0.019999999999999997, 0.0, 0.0, 0.019999999999999997, 0.9800000000000001, 0.0, 0.019999999999999997, 0.0, 0.0, 0.019999999999999997, 1.0, 0.0, 0.0, 1.0, 0.0, 0.0]\n"
          ]
        }
      ],
      "source": [
        "print(stormpy_result.get_values())"
      ]
    },
    {
      "cell_type": "markdown",
      "id": "f61dac88",
      "metadata": {},
      "source": [
        "Let's visualize the model in an interactive graph :)"
      ]
    },
    {
      "cell_type": "code",
      "execution_count": 9,
      "id": "4b51450e",
      "metadata": {},
      "outputs": [],
      "source": [
        "stormvogel_model = mapping.stormpy_to_stormvogel(nand_model)\n",
        "\n",
        "stormvogel_result = result.convert_model_checking_result(stormvogel_model, stormpy_result)"
      ]
    },
    {
      "cell_type": "code",
      "execution_count": 10,
      "id": "59196c3e-aa2d-4fa6-abc7-b04bf3b5f1f4",
      "metadata": {},
      "outputs": [
        {
          "data": {
            "application/vnd.jupyter.widget-view+json": {
              "model_id": "aae167f0368c46c8a0c784386f71be99",
              "version_major": 2,
              "version_minor": 0
            },
            "text/plain": [
              "Output()"
            ]
          },
          "metadata": {},
          "output_type": "display_data"
        }
      ],
      "source": [
        "vis = show.show(stormvogel_model, stormvogel_result)"
      ]
    },
    {
      "cell_type": "code",
      "execution_count": null,
      "id": "548b0251-91fe-4184-9a25-6688a0f0366b",
      "metadata": {},
      "outputs": [],
      "source": []
    }
  ],
  "metadata": {
    "kernelspec": {
      "display_name": "Python 3 (ipykernel)",
      "language": "python",
      "name": "python3"
    },
    "language_info": {
      "codemirror_mode": {
        "name": "ipython",
        "version": 3
      },
      "file_extension": ".py",
      "mimetype": "text/x-python",
      "name": "python",
      "nbconvert_exporter": "python",
      "pygments_lexer": "ipython3",
      "version": "3.12.4"
    }
  },
  "nbformat": 4,
  "nbformat_minor": 5
}
