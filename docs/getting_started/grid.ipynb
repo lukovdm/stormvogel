{
  "cells": [
    {
      "cell_type": "markdown",
      "id": "6ab964ed-c2a0-4979-beb1-b780cc47bc35",
      "metadata": {},
      "source": [
        "# POMDP Mazes\n",
        "In this notebook, we will show off the power of POMDPs using mazes.\n",
        "The idea is that you start on some tile, without knowing which tile. You can walk in four directions. If you run into a wall, you observe this. Based on this you can determine where in the maze you are and escape."
      ]
    },
    {
      "cell_type": "code",
      "execution_count": 20,
      "id": "8a36e98c-af1c-46be-852c-a966558a92ab",
      "metadata": {},
      "outputs": [],
      "source": [
        "import stormvogel.model\n",
        "from stormvogel.layout import Layout\n",
        "from stormvogel.show import show"
      ]
    },
    {
      "cell_type": "code",
      "execution_count": 29,
      "id": "2f4d4394-8a2a-424e-b16e-8ed202bdf493",
      "metadata": {},
      "outputs": [],
      "source": [
        "# HERE FOR DEVELOPMENT, MOVE TO LIB\n",
        "import matplotlib\n",
        "from matplotlib import pyplot as plt\n",
        "\n",
        "WALL_SYM = \"X\"\n",
        "EMPTY_SYM = \".\"\n",
        "EXIT_SYM = \"O\"\n",
        "\n",
        "def parse_level(level):\n",
        "    d = {EXIT_SYM: 2, WALL_SYM: 1, EMPTY_SYM: 0}\n",
        "    level_list = list(filter(lambda x: x != \"\", level.splitlines()))\n",
        "    level_list = list(map(\n",
        "        lambda x: list(map(lambda y: d[y], x)), \n",
        "        level_list))\n",
        "    width = len(level_list[0])\n",
        "    height = len(level_list)\n",
        "    return (level_list, width, height)\n",
        "\n",
        "\n",
        "def show_grid(level, hor_size):\n",
        "    # https://stackoverflow.com/questions/19586828/drawing-grid-pattern-in-matplotlib\n",
        "    level_list, width, height = parse_level(level)\n",
        "        \n",
        "    # make a figure + axes\n",
        "    fig, ax = plt.subplots(1, 1, tight_layout=True)\n",
        "    fig.set_size_inches(hor_size, hor_size)\n",
        "    # make color map\n",
        "    my_cmap = matplotlib.colors.ListedColormap(['#8FCB9B', '#8F8073', '#0096FF'])\n",
        "    # draw the grid\n",
        "    for x in range(width + 1):\n",
        "        ax.axvline(x, lw=2, color='k', zorder=5)\n",
        "    for y in range(height + 1):\n",
        "        ax.axhline(y, lw=2, color='k', zorder=5)\n",
        "    \n",
        "    # draw the boxes\n",
        "    ax.imshow(level_list, interpolation='none', cmap=my_cmap, extent=[0, width, 0, height], zorder=0, )\n",
        "    # turn off the axis labels\n",
        "    ax.axis('off')\n",
        "\n",
        "END = 4\n",
        "EXIT = 2\n",
        "WALL = 1\n",
        "WALKABLE = 0\n",
        "OUT_OF_BOUNDS = -1\n",
        "UNKNOWN = 3\n",
        "\n",
        "LEFT = \"\u2190\"\n",
        "RIGHT = \"\u2192\"\n",
        "UP = \"\u2191\"\n",
        "DOWN = \"\u2193\"\n",
        "\n",
        "def out_of_bounds(x, y, width, height):\n",
        "    return x < 0 or y < 0 or x > width-1 or y > height -1\n",
        "\n",
        "def direction_result(x: int, y: int, direction: str, level_list: list, width: int, height: int):\n",
        "    d = {UP: (0,-1), RIGHT: (1,0), DOWN: (0,1), LEFT:(-1,0)}\n",
        "    res_x = x + d[direction][0]\n",
        "    res_y = y + d[direction][1]\n",
        "    if out_of_bounds(res_x,res_y,width,height):\n",
        "        return ((res_x,res_y), OUT_OF_BOUNDS)\n",
        "    if level_list[res_y][res_x] == WALL:\n",
        "        return ((x,y), WALL)\n",
        "    else:\n",
        "        return ((res_x, res_y), WALKABLE)\n",
        "\n",
        "def grid_world(level:list, position_scalar:int=200):\n",
        "    \"\"\"Create a grid world with an actor.\"\"\"\n",
        "    level_list, width, height = parse_level(level)\n",
        "    pomdp = stormvogel.model.new_pomdp(create_initial_state=False)\n",
        "    reward_model = pomdp.add_rewards(\"\")\n",
        "    \n",
        "    escaped = pomdp.new_state(\"escaped\")\n",
        "    escaped.set_observation(END)\n",
        "    reward_model.set(escaped, 0)\n",
        "    \n",
        "    grid = [[None for x in range(width)] for y in range(height)]\n",
        "    for x in range(width):\n",
        "        for y in range(height):\n",
        "            if level_list[y][x] == WALKABLE:\n",
        "                grid[y][x] = pomdp.new_state([\"t\", f\"({x},{y})\"])\n",
        "                grid[y][x].set_observation(UNKNOWN)\n",
        "                reward_model.set(grid[y][x], -1)\n",
        "            if level_list[y][x] == EXIT:\n",
        "                grid[y][x] = pomdp.new_state([\"e\", f\"({x},{y})\"])\n",
        "                grid[y][x].set_observation(UNKNOWN)\n",
        "                reward_model.set(grid[y][x], 100)\n",
        "                grid[y][x].add_transitions([(1, escaped)])\n",
        "    dirs = {d: pomdp.new_action(d) for d in [UP, DOWN, LEFT, RIGHT]}\n",
        "    positions = {}\n",
        "    # Add movement\n",
        "    for x in range(width):\n",
        "        for y in range(height):\n",
        "            if level_list[y][x] == WALKABLE:\n",
        "                for d,action in dirs.items():\n",
        "                    positions[str(grid[y][x].id)] = {\"x\": x * position_scalar, \"y\": y * position_scalar}\n",
        "                    ((res_x, res_y), observation) = direction_result(x,y,d,level_list,width,height)\n",
        "                    if not observation == OUT_OF_BOUNDS:\n",
        "                        took_dir = pomdp.new_state([d, f\"({x},{y})\"])\n",
        "                        reward_model.set(took_dir, 0)\n",
        "                        grid[y][x].add_transitions([(action, took_dir)])\n",
        "                        # print(took_dir)\n",
        "                        took_dir.add_transitions([(1, grid[res_y][res_x])])\n",
        "                        took_dir.set_observation(observation)\n",
        "    pomdp.add_self_loops()\n",
        "    return pomdp, positions"
      ]
    },
    {
      "cell_type": "markdown",
      "id": "6e428cc8-ed8b-4830-a1ae-eea45b663642",
      "metadata": {},
      "source": [
        "First, we define a simple maze in ASSCI. 'X' are walls, '.' are walkable tiles, 'O' is the exit. We visualize it as a grid where walls are brown, walkable tiles are green, and the exit is blue."
      ]
    },
    {
      "cell_type": "code",
      "execution_count": 30,
      "id": "ebdc5973-ff3f-4056-9593-511837966101",
      "metadata": {},
      "outputs": [
        {
          "data": {
            "image/png": "[encoded data removed]",
            "text/plain": [
              "<Figure size 400x400 with 1 Axes>"
            ]
          },
          "metadata": {},
          "output_type": "display_data"
        }
      ],
      "source": [
        "LEVEL =\"\"\"\n",
        "XXXXX\n",
        "X...X\n",
        "XOX.X\n",
        "XXXXX\n",
        "\"\"\"\n",
        "\n",
        "show_grid(LEVEL, hor_size=4)"
      ]
    },
    {
      "cell_type": "markdown",
      "id": "150834b0-8bbf-4e10-bd76-9a53a6930524",
      "metadata": {},
      "source": [
        "Now we create a POMDP from the level. Can you see how it corresponds to the maze?"
      ]
    },
    {
      "cell_type": "code",
      "execution_count": 34,
      "id": "0894848d-98e8-4468-b447-2380be9f97d1",
      "metadata": {},
      "outputs": [
        {
          "data": {
            "application/vnd.jupyter.widget-view+json": {
              "model_id": "521ec48cbabc458bb74d3f70a9be7ed9",
              "version_major": 2,
              "version_minor": 0
            },
            "text/plain": [
              "Output()"
            ]
          },
          "metadata": {},
          "output_type": "display_data"
        },
        {
          "data": {
            "application/vnd.jupyter.widget-view+json": {
              "model_id": "8824b5e9f71945538efda6754e51024c",
              "version_major": 2,
              "version_minor": 0
            },
            "text/plain": [
              "Output()"
            ]
          },
          "metadata": {},
          "output_type": "display_data"
        },
        {
          "data": {
            "application/vnd.jupyter.widget-view+json": {
              "model_id": "60321dd178d54f2a87921158fa756336",
              "version_major": 2,
              "version_minor": 0
            },
            "text/plain": [
              "HBox(children=(Output(), Output()))"
            ]
          },
          "metadata": {},
          "output_type": "display_data"
        }
      ],
      "source": [
        "pomdp, positions = grid_world(LEVEL)\n",
        "\n",
        "vis = show(pomdp, layout=Layout(\"layouts/grid.json\"), separate_labels=[\"t\", \"e\"])"
      ]
    },
    {
      "cell_type": "markdown",
      "id": "a40aedf2-5973-4fb6-8bed-6146dd6db7ca",
      "metadata": {},
      "source": [
        "Some things to keep in mind.\n",
        "* The tiles in the grid that aren't walls have a state t,(x,y)\n",
        "* From such a tile, you can try to go left, right, top or bottom (these are actions)\n",
        "* After taking an action, you go to a state with an observation (symbol \u2299). After this you proceed to another tile state.\n",
        "    + If you try to go into a wall, you observe that you hit a wall (1)\n",
        "    + If you do not hit a wall, you observe this as well (0)\n",
        "\n",
        "For example, if you try to go left in tile (3,2), you observe that you hit a wall and you go back to (3,2). However, if you try to go up, you observe that you don't hit a wall and proceed to (3,1)."
      ]
    },
    {
      "cell_type": "code",
      "execution_count": 35,
      "id": "8d5b0e8e-47db-4dfb-a533-a8181ec04751",
      "metadata": {},
      "outputs": [
        {
          "name": "stdout",
          "output_type": "stream",
          "text": [
            "ERROR (Model.cpp:71): Invalid size (22) of state action reward vector (expected:34).\n"
          ]
        },
        {
          "ename": "RuntimeError",
          "evalue": "IllegalArgumentException: Invalid size (22) of state action reward vector (expected:34).",
          "output_type": "error",
          "traceback": [
            "\u001b[0;31m---------------------------------------------------------------------------\u001b[0m",
            "\u001b[0;31mRuntimeError\u001b[0m                              Traceback (most recent call last)",
            "Cell \u001b[0;32mIn[35], line 4\u001b[0m\n\u001b[1;32m      1\u001b[0m \u001b[38;5;28;01mfrom\u001b[39;00m \u001b[38;5;21;01mstormvogel\u001b[39;00m\u001b[38;5;21;01m.\u001b[39;00m\u001b[38;5;21;01mmapping\u001b[39;00m \u001b[38;5;28;01mimport\u001b[39;00m stormvogel_to_stormpy\n\u001b[0;32m----> 4\u001b[0m stormpy_model \u001b[38;5;241m=\u001b[39m \u001b[43mstormvogel_to_stormpy\u001b[49m\u001b[43m(\u001b[49m\u001b[43mpomdp\u001b[49m\u001b[43m)\u001b[49m\n",
            "File \u001b[0;32m~/git/env/lib/python3.12/site-packages/stormvogel/mapping.py:300\u001b[0m, in \u001b[0;36mstormvogel_to_stormpy\u001b[0;34m(model)\u001b[0m\n\u001b[1;32m    298\u001b[0m     \u001b[38;5;28;01mreturn\u001b[39;00m map_ctmc(model)\n\u001b[1;32m    299\u001b[0m \u001b[38;5;28;01melif\u001b[39;00m model\u001b[38;5;241m.\u001b[39mget_type() \u001b[38;5;241m==\u001b[39m stormvogel\u001b[38;5;241m.\u001b[39mmodel\u001b[38;5;241m.\u001b[39mModelType\u001b[38;5;241m.\u001b[39mPOMDP:\n\u001b[0;32m--> 300\u001b[0m     \u001b[38;5;28;01mreturn\u001b[39;00m \u001b[43mmap_pomdp\u001b[49m\u001b[43m(\u001b[49m\u001b[43mmodel\u001b[49m\u001b[43m)\u001b[49m\n\u001b[1;32m    301\u001b[0m \u001b[38;5;28;01melif\u001b[39;00m model\u001b[38;5;241m.\u001b[39mget_type() \u001b[38;5;241m==\u001b[39m stormvogel\u001b[38;5;241m.\u001b[39mmodel\u001b[38;5;241m.\u001b[39mModelType\u001b[38;5;241m.\u001b[39mMA:\n\u001b[1;32m    302\u001b[0m     \u001b[38;5;28;01mreturn\u001b[39;00m map_ma(model)\n",
            "File \u001b[0;32m~/git/env/lib/python3.12/site-packages/stormvogel/mapping.py:225\u001b[0m, in \u001b[0;36mstormvogel_to_stormpy.<locals>.map_pomdp\u001b[0;34m(model)\u001b[0m\n\u001b[1;32m    223\u001b[0m components\u001b[38;5;241m.\u001b[39mobservability_classes \u001b[38;5;241m=\u001b[39m observations\n\u001b[1;32m    224\u001b[0m components\u001b[38;5;241m.\u001b[39mchoice_labeling \u001b[38;5;241m=\u001b[39m choice_labeling\n\u001b[0;32m--> 225\u001b[0m pomdp \u001b[38;5;241m=\u001b[39m \u001b[43mstormpy\u001b[49m\u001b[38;5;241;43m.\u001b[39;49m\u001b[43mstorage\u001b[49m\u001b[38;5;241;43m.\u001b[39;49m\u001b[43mSparsePomdp\u001b[49m\u001b[43m(\u001b[49m\u001b[43mcomponents\u001b[49m\u001b[43m)\u001b[49m\n\u001b[1;32m    227\u001b[0m \u001b[38;5;28;01mreturn\u001b[39;00m pomdp\n",
            "\u001b[0;31mRuntimeError\u001b[0m: IllegalArgumentException: Invalid size (22) of state action reward vector (expected:34)."
          ]
        }
      ],
      "source": [
        "from stormvogel.mapping import stormvogel_to_stormpy\n",
        "\n",
        "stormpy_model = stormvogel_to_stormpy(pomdp)"
      ]
    },
    {
      "cell_type": "code",
      "execution_count": null,
      "id": "de2bb7df-e401-484a-9ba3-f71b3d33359a",
      "metadata": {},
      "outputs": [],
      "source": []
    }
  ],
  "metadata": {
    "kernelspec": {
      "display_name": "Python 3 (ipykernel)",
      "language": "python",
      "name": "python3"
    },
    "language_info": {
      "codemirror_mode": {
        "name": "ipython",
        "version": 3
      },
      "file_extension": ".py",
      "mimetype": "text/x-python",
      "name": "python",
      "nbconvert_exporter": "python",
      "pygments_lexer": "ipython3",
      "version": "3.12.3"
    }
  },
  "nbformat": 4,
  "nbformat_minor": 5
}
