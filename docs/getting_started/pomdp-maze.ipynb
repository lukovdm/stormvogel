{
  "cells": [
    {
      "cell_type": "markdown",
      "id": "6ab964ed-c2a0-4979-beb1-b780cc47bc35",
      "metadata": {},
      "source": [
        "# POMDP Mazes\n",
        "In this notebook, we will show off the power of POMDPs using mazes.\n",
        "The idea is that you start on some tile, without knowing which tile. You can walk in four directions. If you run into a wall, you observe this. Based on this you can determine where in the maze you are and escape."
      ]
    },
    {
      "cell_type": "code",
      "execution_count": 6,
      "id": "8a36e98c-af1c-46be-852c-a966558a92ab",
      "metadata": {},
      "outputs": [],
      "source": [
        "import stormvogel.model\n",
        "from stormvogel.model import EmptyAction\n",
        "from stormvogel.layout import Layout\n",
        "from stormvogel.show import show"
      ]
    },
    {
      "cell_type": "code",
      "execution_count": 7,
      "id": "2f4d4394-8a2a-424e-b16e-8ed202bdf493",
      "metadata": {},
      "outputs": [],
      "source": [
        "# HERE FOR DEVELOPMENT, MOVE TO LIB\n",
        "import matplotlib\n",
        "from matplotlib import pyplot as plt\n",
        "\n",
        "WALL_SYM = \"X\"\n",
        "EMPTY_SYM = \".\"\n",
        "EXIT_SYM = \"O\"\n",
        "\n",
        "def parse_level(level):\n",
        "    d = {EXIT_SYM: 2, WALL_SYM: 1, EMPTY_SYM: 0}\n",
        "    level_list = list(filter(lambda x: x != \"\", level.splitlines()))\n",
        "    level_list = list(map(\n",
        "        lambda x: list(map(lambda y: d[y], x)), \n",
        "        level_list))\n",
        "    width = len(level_list[0])\n",
        "    height = len(level_list)\n",
        "    return (level_list, width, height)\n",
        "\n",
        "\n",
        "def show_grid(level, hor_size):\n",
        "    # https://stackoverflow.com/questions/19586828/drawing-grid-pattern-in-matplotlib\n",
        "    level_list, width, height = parse_level(level)\n",
        "        \n",
        "    # make a figure + axes\n",
        "    fig, ax = plt.subplots(1, 1, tight_layout=True)\n",
        "    fig.set_size_inches(hor_size, hor_size)\n",
        "    # make color map\n",
        "    my_cmap = matplotlib.colors.ListedColormap(['#8FCB9B', '#8F8073', '#0096FF'])\n",
        "    # draw the grid\n",
        "    for x in range(width + 1):\n",
        "        ax.axvline(x, lw=2, color='k', zorder=5)\n",
        "    for y in range(height + 1):\n",
        "        ax.axhline(y, lw=2, color='k', zorder=5)\n",
        "    \n",
        "    # draw the boxes\n",
        "    ax.imshow(level_list, interpolation='none', cmap=my_cmap, extent=[0, width, 0, height], zorder=0, )\n",
        "    # turn off the axis labels\n",
        "    ax.axis('off')\n",
        "\n",
        "END = 4\n",
        "EXIT = 2\n",
        "WALL = 1\n",
        "WALKABLE = 0\n",
        "OUT_OF_BOUNDS = -1\n",
        "UNKNOWN = 3\n",
        "\n",
        "LEFT = \"\u2190\"\n",
        "RIGHT = \"\u2192\"\n",
        "UP = \"\u2191\"\n",
        "DOWN = \"\u2193\"\n",
        "\n",
        "def out_of_bounds(x, y, width, height):\n",
        "    return x < 0 or y < 0 or x > width-1 or y > height -1\n",
        "\n",
        "def direction_result(x: int, y: int, direction: str, level_list: list, width: int, height: int):\n",
        "    d = {UP: (0,-1), RIGHT: (1,0), DOWN: (0,1), LEFT:(-1,0)}\n",
        "    res_x = x + d[direction][0]\n",
        "    res_y = y + d[direction][1]\n",
        "    if out_of_bounds(res_x,res_y,width,height):\n",
        "        return ((res_x,res_y), OUT_OF_BOUNDS)\n",
        "    if level_list[res_y][res_x] == WALL:\n",
        "        return ((x,y), WALL)\n",
        "    else:\n",
        "        return ((res_x, res_y), WALKABLE)\n",
        "\n",
        "def grid_world(level:list, position_scalar:int=200):\n",
        "    \"\"\"Create a grid world with an actor.\"\"\"\n",
        "    level_list, width, height = parse_level(level)\n",
        "    pomdp = stormvogel.model.new_pomdp(create_initial_state=False)\n",
        "    reward_model = pomdp.add_rewards(\"\")\n",
        "    \n",
        "    escaped = pomdp.new_state(\"escaped\")\n",
        "    escaped.set_observation(END)\n",
        "    #reward_model.set(escaped, 0)\n",
        "    \n",
        "    grid = [[None for x in range(width)] for y in range(height)]\n",
        "    for x in range(width):\n",
        "        for y in range(height):\n",
        "            if level_list[y][x] == WALKABLE:\n",
        "                grid[y][x] = pomdp.new_state([\"t\", f\"({x},{y})\"])\n",
        "                grid[y][x].set_observation(UNKNOWN)\n",
        "                #reward_model.set_state_action_reward(grid[y][x], -1)\n",
        "            if level_list[y][x] == EXIT:\n",
        "                grid[y][x] = pomdp.new_state([\"e\", f\"({x},{y})\"])\n",
        "                grid[y][x].set_observation(UNKNOWN)\n",
        "                #reward_model.set_state_action_reward(grid[y][x], 100)\n",
        "                grid[y][x].add_transitions([(1, escaped)])\n",
        "    dirs = {d: pomdp.new_action(d) for d in [UP, DOWN, LEFT, RIGHT]}\n",
        "    positions = {}\n",
        "    # Add movement\n",
        "    for x in range(width):\n",
        "        for y in range(height):\n",
        "            if level_list[y][x] == WALKABLE:\n",
        "                for d,action in dirs.items():\n",
        "                    positions[str(grid[y][x].id)] = {\"x\": x * position_scalar, \"y\": y * position_scalar}\n",
        "                    ((res_x, res_y), observation) = direction_result(x,y,d,level_list,width,height)\n",
        "\n",
        "                    \n",
        "                    \n",
        "                    if not observation == OUT_OF_BOUNDS:\n",
        "                        took_dir = pomdp.new_state([d, f\"({x},{y})\"])\n",
        "                        grid[y][x].add_transitions([(action, took_dir)])\n",
        "                        #reward_model.set_state_action_reward(grid[y][x], action, -1)\n",
        "                        # print(took_dir)\n",
        "                        took_dir.add_transitions([(1, grid[res_y][res_x])])\n",
        "                        reward_model.set_state_action_reward(took_dir, EmptyAction, -1)\n",
        "                        took_dir.set_observation(observation)\n",
        "    pomdp.add_self_loops()\n",
        "    reward_model.set_unset_rewards(0)\n",
        "    return pomdp, positions"
      ]
    },
    {
      "cell_type": "markdown",
      "id": "6e428cc8-ed8b-4830-a1ae-eea45b663642",
      "metadata": {},
      "source": [
        "First, we define a simple maze in ASSCI. 'X' are walls, '.' are walkable tiles, 'O' is the exit. We visualize it as a grid where walls are brown, walkable tiles are green, and the exit is blue."
      ]
    },
    {
      "cell_type": "code",
      "execution_count": 8,
      "id": "ebdc5973-ff3f-4056-9593-511837966101",
      "metadata": {},
      "outputs": [
        {
          "data": {
            "image/png": "[encoded data removed]",
            "text/plain": [
              "<Figure size 400x400 with 1 Axes>"
            ]
          },
          "metadata": {},
          "output_type": "display_data"
        }
      ],
      "source": [
        "LEVEL =\"\"\"\n",
        "XXXXX\n",
        "X...X\n",
        "XOX.X\n",
        "XXXXX\n",
        "\"\"\"\n",
        "\n",
        "show_grid(LEVEL, hor_size=4)"
      ]
    },
    {
      "cell_type": "markdown",
      "id": "150834b0-8bbf-4e10-bd76-9a53a6930524",
      "metadata": {},
      "source": [
        "Now we create a POMDP from the level. Can you see how it corresponds to the maze?"
      ]
    },
    {
      "cell_type": "code",
      "execution_count": 9,
      "id": "d0400922-7b90-43c5-a01e-cc051089521d",
      "metadata": {},
      "outputs": [
        {
          "data": {
            "application/vnd.jupyter.widget-view+json": {
              "model_id": "a8f320e9dd724c2b8a5365445f84fa30",
              "version_major": 2,
              "version_minor": 0
            },
            "text/plain": [
              "Output()"
            ]
          },
          "metadata": {},
          "output_type": "display_data"
        },
        {
          "data": {
            "application/vnd.jupyter.widget-view+json": {
              "model_id": "f0c470fd49be44aa9f75944c5f2cc558",
              "version_major": 2,
              "version_minor": 0
            },
            "text/plain": [
              "Output()"
            ]
          },
          "metadata": {},
          "output_type": "display_data"
        },
        {
          "data": {
            "application/vnd.jupyter.widget-view+json": {
              "model_id": "97583ad2f3474c4690aa05602a8e72c9",
              "version_major": 2,
              "version_minor": 0
            },
            "text/plain": [
              "HBox(children=(Output(), Output()))"
            ]
          },
          "metadata": {},
          "output_type": "display_data"
        }
      ],
      "source": [
        "pomdp, positions = grid_world(LEVEL)\n",
        "\n",
        "vis = show(pomdp, layout=Layout(\"layouts/grid.json\"), separate_labels=[\"t\", \"e\"], show_editor=True)"
      ]
    },
    {
      "cell_type": "markdown",
      "id": "a40aedf2-5973-4fb6-8bed-6146dd6db7ca",
      "metadata": {},
      "source": [
        "Some things to keep in mind.\n",
        "* The tiles in the grid that aren't walls have a state t,(x,y)\n",
        "* From such a tile, you can try to go left, right, top or bottom (these are actions)\n",
        "* After taking an action, you go to a state with an observation (symbol \u2299). After this you proceed to another tile state.\n",
        "    + If you try to go into a wall, you observe that you hit a wall (1)\n",
        "    + If you do not hit a wall, you observe this as well (0)\n",
        "* Every state has a reward according to our reward model (euro sign). Solving the maze will give you 100 reward but taking a step will cost 1.\n",
        "\n",
        "For example, if you try to go left in tile (3,2), you observe that you hit a wall and you go back to (3,2). However, if you try to go up, you observe that you don't hit a wall and proceed to (3,1)."
      ]
    },
    {
      "cell_type": "code",
      "execution_count": 5,
      "id": "8d5b0e8e-47db-4dfb-a533-a8181ec04751",
      "metadata": {},
      "outputs": [
        {
          "name": "stdout",
          "output_type": "stream",
          "text": [
            "-------------------------------------------------------------- \n",
            "Model type: \tPOMDP (sparse)\n",
            "States: \t22\n",
            "Transitions: \t34\n",
            "Choices: \t34\n",
            "Observations: \t5\n",
            "Reward Models:  (default)\n",
            "State Labels: \t12 labels\n",
            "   * (1,2) -> 1 item(s)\n",
            "   * \u2192 -> 4 item(s)\n",
            "   * e -> 1 item(s)\n",
            "   * escaped -> 1 item(s)\n",
            "   * \u2191 -> 4 item(s)\n",
            "   * t -> 4 item(s)\n",
            "   * \u2193 -> 4 item(s)\n",
            "   * (3,1) -> 5 item(s)\n",
            "   * (3,2) -> 5 item(s)\n",
            "   * \u2190 -> 4 item(s)\n",
            "   * (1,1) -> 5 item(s)\n",
            "   * (2,1) -> 5 item(s)\n",
            "Choice Labels: \t0 labels\n",
            "-------------------------------------------------------------- \n",
            "\n"
          ]
        },
        {
          "data": {
            "application/vnd.jupyter.widget-view+json": {
              "model_id": "be72fa36268d4d918ba8707c62ab09a9",
              "version_major": 2,
              "version_minor": 0
            },
            "text/plain": [
              "Output()"
            ]
          },
          "metadata": {},
          "output_type": "display_data"
        },
        {
          "data": {
            "application/vnd.jupyter.widget-view+json": {
              "model_id": "ec58cba385aa471ab1ab61515bfcd49d",
              "version_major": 2,
              "version_minor": 0
            },
            "text/plain": [
              "Output()"
            ]
          },
          "metadata": {},
          "output_type": "display_data"
        },
        {
          "data": {
            "application/vnd.jupyter.widget-view+json": {
              "model_id": "ef0fe56a641d4ec2a77a8da76ea059a3",
              "version_major": 2,
              "version_minor": 0
            },
            "text/plain": [
              "HBox(children=(Output(), Output()))"
            ]
          },
          "metadata": {},
          "output_type": "display_data"
        }
      ],
      "source": [
        "from stormvogel.mapping import stormvogel_to_stormpy, stormpy_to_stormvogel\n",
        "\n",
        "stormpy_model = stormvogel_to_stormpy(pomdp)\n",
        "print(stormpy_model)\n",
        "pomdp2 = stormpy_to_stormvogel(stormpy_model)\n",
        "#vis2 = show(pomdp2, layout=Layout(\"layouts/grid.json\"), separate_labels=[\"t\", \"e\"], show_editor=True)\n",
        "\n",
        "\n",
        "# TODO use stormpy to find the best policy/schedule, i.e. escape the maze as quickly as possible.\n",
        "# Ask Pim or Linus for help?"
      ]
    },
    {
      "cell_type": "code",
      "execution_count": 9,
      "id": "b1171d26-20f6-40e5-af57-721db56be040",
      "metadata": {},
      "outputs": [
        {
          "name": "stdout",
          "output_type": "stream",
          "text": [
            "{'0': Action(name='0', labels=frozenset()), '1': Action(name='1', labels=frozenset()), '2': Action(name='2', labels=frozenset()), '3': Action(name='3', labels=frozenset()), '4': Action(name='4', labels=frozenset()), '5': Action(name='5', labels=frozenset()), '6': Action(name='6', labels=frozenset()), '7': Action(name='7', labels=frozenset()), '8': Action(name='8', labels=frozenset()), '9': Action(name='9', labels=frozenset()), '10': Action(name='10', labels=frozenset()), '11': Action(name='11', labels=frozenset()), '12': Action(name='12', labels=frozenset()), '13': Action(name='13', labels=frozenset()), '14': Action(name='14', labels=frozenset()), '15': Action(name='15', labels=frozenset()), '16': Action(name='16', labels=frozenset()), '17': Action(name='17', labels=frozenset()), '18': Action(name='18', labels=frozenset()), '19': Action(name='19', labels=frozenset()), '20': Action(name='20', labels=frozenset()), '21': Action(name='21', labels=frozenset()), '22': Action(name='22', labels=frozenset()), '23': Action(name='23', labels=frozenset()), '24': Action(name='24', labels=frozenset()), '25': Action(name='25', labels=frozenset()), '26': Action(name='26', labels=frozenset()), '27': Action(name='27', labels=frozenset()), '28': Action(name='28', labels=frozenset()), '29': Action(name='29', labels=frozenset()), '30': Action(name='30', labels=frozenset()), '31': Action(name='31', labels=frozenset()), '32': Action(name='32', labels=frozenset()), '33': Action(name='33', labels=frozenset())}\n"
          ]
        }
      ],
      "source": [
        "print(pomdp2.actions)\n"
      ]
    },
    {
      "cell_type": "code",
      "execution_count": null,
      "id": "d7b41d4e-b9db-40fb-8aaf-cf3ce5e31cea",
      "metadata": {},
      "outputs": [],
      "source": []
    }
  ],
  "metadata": {
    "kernelspec": {
      "display_name": "Python 3 (ipykernel)",
      "language": "python",
      "name": "python3"
    },
    "language_info": {
      "codemirror_mode": {
        "name": "ipython",
        "version": 3
      },
      "file_extension": ".py",
      "mimetype": "text/x-python",
      "name": "python",
      "nbconvert_exporter": "python",
      "pygments_lexer": "ipython3",
      "version": "3.11.2"
    }
  },
  "nbformat": 4,
  "nbformat_minor": 5
}
