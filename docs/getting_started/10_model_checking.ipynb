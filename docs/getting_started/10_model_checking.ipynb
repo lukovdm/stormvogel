{
  "cells": [
    {
      "cell_type": "markdown",
      "id": "6fb63b37-e7f1-434c-b99c-95da4e580608",
      "metadata": {},
      "source": [
        "# Model checking"
      ]
    },
    {
      "cell_type": "code",
      "execution_count": 1,
      "id": "f677ad96-491b-410b-b161-1801e8ee526a",
      "metadata": {},
      "outputs": [],
      "source": [
        "import stormvogel.model\n",
        "from stormvogel import show, model_checking, property_builder"
      ]
    },
    {
      "cell_type": "code",
      "execution_count": 2,
      "id": "56e3af45-3e12-43d6-a16a-786da89ef504",
      "metadata": {
        "scrolled": true
      },
      "outputs": [
        {
          "data": {
            "application/vnd.jupyter.widget-view+json": {
              "model_id": "82b3bdda0ee7459db2b64fa6814d3eb1",
              "version_major": 2,
              "version_minor": 0
            },
            "text/plain": [
              "Output()"
            ]
          },
          "metadata": {},
          "output_type": "display_data"
        },
        {
          "data": {
            "text/html": [
              "<script>\n",
              "function return_id_result(url, id, data) {\n",
              "        fetch(url, {\n",
              "            method: 'POST',\n",
              "            body: JSON.stringify({\n",
              "                'id': id,\n",
              "                'data': data\n",
              "            })\n",
              "        })\n",
              "    }\n",
              "</script>"
            ],
            "text/plain": [
              "<IPython.core.display.HTML object>"
            ]
          },
          "metadata": {},
          "output_type": "display_data"
        },
        {
          "data": {
            "application/javascript": [
              "return_id_result('http://127.0.0.1:8891', 'zdCEtVaRJbynNMnaYUtL', 'test message')"
            ],
            "text/plain": [
              "<IPython.core.display.Javascript object>"
            ]
          },
          "metadata": {},
          "output_type": "display_data"
        },
        {
          "data": {
            "application/vnd.jupyter.widget-view+json": {
              "model_id": "fc67cfc57b9b4e8a9d2c60cc7418b392",
              "version_major": 2,
              "version_minor": 0
            },
            "text/plain": [
              "Output()"
            ]
          },
          "metadata": {},
          "output_type": "display_data"
        },
        {
          "data": {
            "application/vnd.jupyter.widget-view+json": {
              "model_id": "2354ecc8ccac498687838b315567d582",
              "version_major": 2,
              "version_minor": 0
            },
            "text/plain": [
              "Output()"
            ]
          },
          "metadata": {},
          "output_type": "display_data"
        },
        {
          "data": {
            "application/vnd.jupyter.widget-view+json": {
              "model_id": "2202859eb2794a788fb3a2a6538327ea",
              "version_major": 2,
              "version_minor": 0
            },
            "text/plain": [
              "HBox(children=(Output(), Output()))"
            ]
          },
          "metadata": {},
          "output_type": "display_data"
        },
        {
          "data": {
            "text/plain": [
              "<stormvogel.visualization.Visualization at 0x7a5d26b74cb0>"
            ]
          },
          "execution_count": 2,
          "metadata": {},
          "output_type": "execute_result"
        }
      ],
      "source": [
        "mdp = stormvogel.model.new_mdp(\"Monty Hall\")\n",
        "\n",
        "init = mdp.get_initial_state()\n",
        "\n",
        "# first choose car position\n",
        "init.set_transitions(\n",
        "    [(1 / 3, mdp.new_state(\"carchosen\", {\"car_pos\": i})) for i in range(3)]\n",
        ")\n",
        "\n",
        "# we choose a door in each case\n",
        "for s in mdp.get_states_with_label(\"carchosen\"):\n",
        "    s.set_transitions(\n",
        "        [\n",
        "            (\n",
        "                mdp.action(f\"open{i}\"),\n",
        "                mdp.new_state(\"open\", s.features | {\"chosen_pos\": i}),\n",
        "            )\n",
        "            for i in range(3)\n",
        "        ]\n",
        "    )\n",
        "\n",
        "# the other goat is revealed\n",
        "for s in mdp.get_states_with_label(\"open\"):\n",
        "    car_pos = s.features[\"car_pos\"]\n",
        "    chosen_pos = s.features[\"chosen_pos\"]\n",
        "    other_pos = {0, 1, 2} - {car_pos, chosen_pos}\n",
        "    s.set_transitions(\n",
        "        [\n",
        "            (\n",
        "                1 / len(other_pos),\n",
        "                mdp.new_state(\"goatrevealed\", s.features | {\"reveal_pos\": i}),\n",
        "            )\n",
        "            for i in other_pos\n",
        "        ]\n",
        "    )\n",
        "\n",
        "# we must choose whether we want to switch\n",
        "for s in mdp.get_states_with_label(\"goatrevealed\"):\n",
        "    car_pos = s.features[\"car_pos\"]\n",
        "    chosen_pos = s.features[\"chosen_pos\"]\n",
        "    reveal_pos = s.features[\"reveal_pos\"]\n",
        "    other_pos = list({0, 1, 2} - {reveal_pos, chosen_pos})[0]\n",
        "    s.set_transitions(\n",
        "        [\n",
        "            (\n",
        "                mdp.action(\"stay\"),\n",
        "                mdp.new_state(\n",
        "                    [\"done\"] + ([\"target\"] if chosen_pos == car_pos else []),\n",
        "                    s.features | {\"chosen_pos\": chosen_pos},\n",
        "                ),\n",
        "            ),\n",
        "            (\n",
        "                mdp.action(\"switch\"),\n",
        "                mdp.new_state(\n",
        "                    [\"done\"] + ([\"target\"] if other_pos == car_pos else []),\n",
        "                    s.features | {\"chosen_pos\": other_pos},\n",
        "                ),\n",
        "            ),\n",
        "        ]\n",
        "    )\n",
        "\n",
        "# we add self loops to all states with no outgoing transitions\n",
        "mdp.add_self_loops()\n",
        "\n",
        "show.show(mdp, show_editor=True)"
      ]
    },
    {
      "cell_type": "markdown",
      "id": "a954571f-a723-4145-8cb6-2a94fa986718",
      "metadata": {},
      "source": [
        "We can do model checking on this model by only using stormvogel functions directly. Behind the scenes this calls the stormpy model checker. Before we use the model checker however, we need to specify the task. This is done using a property string. We have provided an easy way to create them for beginner users."
      ]
    },
    {
      "cell_type": "code",
      "execution_count": 3,
      "id": "4fe1edee-15ab-45ad-8605-f1c646186718",
      "metadata": {},
      "outputs": [
        {
          "data": {
            "application/vnd.jupyter.widget-view+json": {
              "model_id": "bdf8bad840534518a0778f83420bd6b6",
              "version_major": 2,
              "version_minor": 0
            },
            "text/plain": [
              "Output()"
            ]
          },
          "metadata": {},
          "output_type": "display_data"
        },
        {
          "data": {
            "application/vnd.jupyter.widget-view+json": {
              "model_id": "a0182b7f29284b1f812be5a753fe0272",
              "version_major": 2,
              "version_minor": 0
            },
            "text/plain": [
              "Output()"
            ]
          },
          "metadata": {},
          "output_type": "display_data"
        }
      ],
      "source": [
        "property_builder.build_property_string(mdp)"
      ]
    },
    {
      "cell_type": "markdown",
      "id": "8b5755d7-53a5-4387-8838-2f3cd7b79381",
      "metadata": {},
      "source": [
        "Create a property string and give it as argument to the model checking function in the following way"
      ]
    },
    {
      "cell_type": "code",
      "execution_count": 4,
      "id": "9ceea291-a3f0-47b2-9ecf-b0f8310fa64a",
      "metadata": {},
      "outputs": [],
      "source": [
        "result = model_checking.model_checking(mdp,'Pmax=? [F \"done\"]', True) #true lets it return a scheduler as well"
      ]
    },
    {
      "cell_type": "code",
      "execution_count": 11,
      "id": "3284bfc6-33ce-47fd-8280-598692fe0ef4",
      "metadata": {},
      "outputs": [],
      "source": [
        "result.scheduler.taken_actions[1] = mdp.action(f\"open1\")"
      ]
    },
    {
      "cell_type": "code",
      "execution_count": 12,
      "id": "2c561520-3155-4ad4-99bb-9993692f3e5f",
      "metadata": {},
      "outputs": [
        {
          "data": {
            "text/plain": [
              "Model(name=None, type=<ModelType.MDP: 2>, states={0: State(labels=['init'], features={}, id=0, model=..., observation=None, name='0'), 1: State(labels=['carchosen'], features={}, id=1, model=..., observation=None, name='1'), 2: State(labels=['carchosen'], features={}, id=2, model=..., observation=None, name='2'), 3: State(labels=['carchosen'], features={}, id=3, model=..., observation=None, name='3'), 4: State(labels=['open'], features={}, id=4, model=..., observation=None, name='4'), 5: State(labels=['open'], features={}, id=5, model=..., observation=None, name='5'), 6: State(labels=['open'], features={}, id=6, model=..., observation=None, name='6'), 7: State(labels=['open'], features={}, id=7, model=..., observation=None, name='7'), 8: State(labels=['open'], features={}, id=8, model=..., observation=None, name='8'), 9: State(labels=['open'], features={}, id=9, model=..., observation=None, name='9'), 10: State(labels=['open'], features={}, id=10, model=..., observation=None, name='10'), 11: State(labels=['open'], features={}, id=11, model=..., observation=None, name='11'), 12: State(labels=['open'], features={}, id=12, model=..., observation=None, name='12'), 13: State(labels=['goatrevealed'], features={}, id=13, model=..., observation=None, name='13'), 14: State(labels=['goatrevealed'], features={}, id=14, model=..., observation=None, name='14'), 15: State(labels=['goatrevealed'], features={}, id=15, model=..., observation=None, name='15'), 16: State(labels=['goatrevealed'], features={}, id=16, model=..., observation=None, name='16'), 17: State(labels=['goatrevealed'], features={}, id=17, model=..., observation=None, name='17'), 18: State(labels=['goatrevealed'], features={}, id=18, model=..., observation=None, name='18'), 19: State(labels=['goatrevealed'], features={}, id=19, model=..., observation=None, name='19'), 20: State(labels=['goatrevealed'], features={}, id=20, model=..., observation=None, name='20'), 21: State(labels=['goatrevealed'], features={}, id=21, model=..., observation=None, name='21'), 22: State(labels=['goatrevealed'], features={}, id=22, model=..., observation=None, name='22'), 23: State(labels=['goatrevealed'], features={}, id=23, model=..., observation=None, name='23'), 24: State(labels=['goatrevealed'], features={}, id=24, model=..., observation=None, name='24'), 25: State(labels=['target', 'done'], features={}, id=25, model=..., observation=None, name='25'), 26: State(labels=['done'], features={}, id=26, model=..., observation=None, name='26'), 27: State(labels=['target', 'done'], features={}, id=27, model=..., observation=None, name='27'), 28: State(labels=['done'], features={}, id=28, model=..., observation=None, name='28'), 29: State(labels=['done'], features={}, id=29, model=..., observation=None, name='29'), 30: State(labels=['target', 'done'], features={}, id=30, model=..., observation=None, name='30'), 31: State(labels=['done'], features={}, id=31, model=..., observation=None, name='31'), 32: State(labels=['target', 'done'], features={}, id=32, model=..., observation=None, name='32'), 33: State(labels=['done'], features={}, id=33, model=..., observation=None, name='33'), 34: State(labels=['target', 'done'], features={}, id=34, model=..., observation=None, name='34'), 35: State(labels=['target', 'done'], features={}, id=35, model=..., observation=None, name='35'), 36: State(labels=['done'], features={}, id=36, model=..., observation=None, name='36'), 37: State(labels=['target', 'done'], features={}, id=37, model=..., observation=None, name='37'), 38: State(labels=['done'], features={}, id=38, model=..., observation=None, name='38'), 39: State(labels=['done'], features={}, id=39, model=..., observation=None, name='39'), 40: State(labels=['target', 'done'], features={}, id=40, model=..., observation=None, name='40'), 41: State(labels=['done'], features={}, id=41, model=..., observation=None, name='41'), 42: State(labels=['target', 'done'], features={}, id=42, model=..., observation=None, name='42'), 43: State(labels=['done'], features={}, id=43, model=..., observation=None, name='43'), 44: State(labels=['target', 'done'], features={}, id=44, model=..., observation=None, name='44'), 45: State(labels=['target', 'done'], features={}, id=45, model=..., observation=None, name='45'), 46: State(labels=['done'], features={}, id=46, model=..., observation=None, name='46'), 47: State(labels=['target', 'done'], features={}, id=47, model=..., observation=None, name='47'), 48: State(labels=['done'], features={}, id=48, model=..., observation=None, name='48')}, transitions={0: <stormvogel.model.Transition object at 0x7a5d26159c40>, 1: <stormvogel.model.Transition object at 0x7a5d26159e50>, 2: <stormvogel.model.Transition object at 0x7a5d2615a030>, 3: <stormvogel.model.Transition object at 0x7a5d2615a210>, 4: <stormvogel.model.Transition object at 0x7a5d2615a270>, 5: <stormvogel.model.Transition object at 0x7a5d2615a300>, 6: <stormvogel.model.Transition object at 0x7a5d2615a390>, 7: <stormvogel.model.Transition object at 0x7a5d2615a420>, 8: <stormvogel.model.Transition object at 0x7a5d2615a4b0>, 9: <stormvogel.model.Transition object at 0x7a5d2615a540>, 10: <stormvogel.model.Transition object at 0x7a5d2615a5d0>, 11: <stormvogel.model.Transition object at 0x7a5d2615a660>, 12: <stormvogel.model.Transition object at 0x7a5d2615a6f0>, 13: <stormvogel.model.Transition object at 0x7a5d2615a870>, 14: <stormvogel.model.Transition object at 0x7a5d26b76660>, 15: <stormvogel.model.Transition object at 0x7a5d2615aa80>, 16: <stormvogel.model.Transition object at 0x7a5d2615abd0>, 17: <stormvogel.model.Transition object at 0x7a5d2615ad20>, 18: <stormvogel.model.Transition object at 0x7a5d2615ae70>, 19: <stormvogel.model.Transition object at 0x7a5d2615afc0>, 20: <stormvogel.model.Transition object at 0x7a5d2615b110>, 21: <stormvogel.model.Transition object at 0x7a5d2615b260>, 22: <stormvogel.model.Transition object at 0x7a5d2615b3b0>, 23: <stormvogel.model.Transition object at 0x7a5d2615b500>, 24: <stormvogel.model.Transition object at 0x7a5d2615b650>, 25: <stormvogel.model.Transition object at 0x7a5d2615b6b0>, 26: <stormvogel.model.Transition object at 0x7a5d2615b740>, 27: <stormvogel.model.Transition object at 0x7a5d2615b7d0>, 28: <stormvogel.model.Transition object at 0x7a5d2615b860>, 29: <stormvogel.model.Transition object at 0x7a5d2615b8f0>, 30: <stormvogel.model.Transition object at 0x7a5d2615b980>, 31: <stormvogel.model.Transition object at 0x7a5d2615ba10>, 32: <stormvogel.model.Transition object at 0x7a5d2615baa0>, 33: <stormvogel.model.Transition object at 0x7a5d2615bb30>, 34: <stormvogel.model.Transition object at 0x7a5d2615bbc0>, 35: <stormvogel.model.Transition object at 0x7a5d2615bc50>, 36: <stormvogel.model.Transition object at 0x7a5d2615bce0>, 37: <stormvogel.model.Transition object at 0x7a5d2615bd70>, 38: <stormvogel.model.Transition object at 0x7a5d2615be00>, 39: <stormvogel.model.Transition object at 0x7a5d2615be90>, 40: <stormvogel.model.Transition object at 0x7a5d2615bf20>, 41: <stormvogel.model.Transition object at 0x7a5d2615bfb0>, 42: <stormvogel.model.Transition object at 0x7a5d26174080>, 43: <stormvogel.model.Transition object at 0x7a5d26174110>, 44: <stormvogel.model.Transition object at 0x7a5d261741a0>, 45: <stormvogel.model.Transition object at 0x7a5d26174230>, 46: <stormvogel.model.Transition object at 0x7a5d261742c0>, 47: <stormvogel.model.Transition object at 0x7a5d26174350>, 48: <stormvogel.model.Transition object at 0x7a5d261743e0>}, actions={Action(labels=frozenset({'open0'})), Action(labels=frozenset()), Action(labels=frozenset({'open2'})), Action(labels=frozenset({'switch'})), Action(labels=frozenset({'stay'})), Action(labels=frozenset({'open1'}))}, rewards=[], exit_rates=None, markovian_states=None)"
            ]
          },
          "execution_count": 12,
          "metadata": {},
          "output_type": "execute_result"
        }
      ],
      "source": [
        "result.scheduler.model"
      ]
    },
    {
      "cell_type": "markdown",
      "id": "5f35d4ff-2758-4fde-8394-33804ab46c62",
      "metadata": {},
      "source": [
        "We can visualize our model together with our results"
      ]
    },
    {
      "cell_type": "code",
      "execution_count": 13,
      "id": "8b95bfe8-6d48-4779-9d5a-9f1714cca005",
      "metadata": {},
      "outputs": [
        {
          "data": {
            "application/vnd.jupyter.widget-view+json": {
              "model_id": "5ff3ab80802346f0b0a92dd77f4d8ba8",
              "version_major": 2,
              "version_minor": 0
            },
            "text/plain": [
              "Output()"
            ]
          },
          "metadata": {},
          "output_type": "display_data"
        },
        {
          "data": {
            "application/vnd.jupyter.widget-view+json": {
              "model_id": "eab73eb0c86444fa891cf190b45c8bf4",
              "version_major": 2,
              "version_minor": 0
            },
            "text/plain": [
              "Output()"
            ]
          },
          "metadata": {},
          "output_type": "display_data"
        },
        {
          "data": {
            "application/vnd.jupyter.widget-view+json": {
              "model_id": "0bec9cd6a05c47199ec13d9441a2e0a3",
              "version_major": 2,
              "version_minor": 0
            },
            "text/plain": [
              "Output()"
            ]
          },
          "metadata": {},
          "output_type": "display_data"
        },
        {
          "data": {
            "application/vnd.jupyter.widget-view+json": {
              "model_id": "74b7dbddf6174913a883b4a4ee192969",
              "version_major": 2,
              "version_minor": 0
            },
            "text/plain": [
              "HBox(children=(Output(), Output()))"
            ]
          },
          "metadata": {},
          "output_type": "display_data"
        }
      ],
      "source": [
        "from stormvogel.layout import Layout\n",
        "vis = show.show(mdp, result=result, show_editor=True, scheduler=result.scheduler, layout=Layout(\"layouts/monty.json\"))"
      ]
    },
    {
      "cell_type": "markdown",
      "id": "d61dc85f-9966-4ebe-aa00-dc1ab6a677d1",
      "metadata": {},
      "source": [
        "To learn how to create more elaborate property strings, visit: https://www.stormchecker.org/documentation/background/properties.html"
      ]
    },
    {
      "cell_type": "code",
      "execution_count": 6,
      "id": "e0b08c09-74d9-4117-9fd0-53a47fe45778",
      "metadata": {},
      "outputs": [
        {
          "name": "stdout",
          "output_type": "stream",
          "text": [
            "{\n",
            "  \"__fake_macros\": {\n",
            "    \"__group_macro\": {\n",
            "      \"borderWidth\": 1,\n",
            "      \"color\": {\n",
            "        \"background\": \"white\",\n",
            "        \"border\": \"black\",\n",
            "        \"highlight\": {\n",
            "          \"background\": \"white\",\n",
            "          \"border\": \"red\"\n",
            "        }\n",
            "      },\n",
            "      \"shape\": \"ellipse\",\n",
            "      \"mass\": 1,\n",
            "      \"font\": {\n",
            "        \"color\": \"black\",\n",
            "        \"size\": 14\n",
            "      }\n",
            "    }\n",
            "  },\n",
            "  \"edit_groups\": {\n",
            "    \"groups\": [\n",
            "      \"states\",\n",
            "      \"actions\",\n",
            "      \"scheduled_actions\"\n",
            "    ]\n",
            "  },\n",
            "  \"groups\": {\n",
            "    \"actions\": {\n",
            "      \"borderWidth\": 1,\n",
            "      \"color\": {\n",
            "        \"background\": \"lightblue\",\n",
            "        \"border\": \"black\",\n",
            "        \"highlight\": {\n",
            "          \"background\": \"white\",\n",
            "          \"border\": \"red\"\n",
            "        }\n",
            "      },\n",
            "      \"shape\": \"box\",\n",
            "      \"mass\": 1,\n",
            "      \"font\": {\n",
            "        \"color\": \"black\",\n",
            "        \"size\": 36\n",
            "      }\n",
            "    },\n",
            "    \"states\": {\n",
            "      \"borderWidth\": 1,\n",
            "      \"color\": {\n",
            "        \"background\": \"white\",\n",
            "        \"border\": \"black\",\n",
            "        \"highlight\": {\n",
            "          \"background\": \"white\",\n",
            "          \"border\": \"red\"\n",
            "        }\n",
            "      },\n",
            "      \"shape\": \"ellipse\",\n",
            "      \"mass\": 1,\n",
            "      \"font\": {\n",
            "        \"color\": \"black\",\n",
            "        \"size\": 33\n",
            "      }\n",
            "    },\n",
            "    \"scheduled_actions\": {\n",
            "      \"borderWidth\": 1,\n",
            "      \"color\": {\n",
            "        \"background\": \"pink\",\n",
            "        \"border\": \"black\",\n",
            "        \"highlight\": {\n",
            "          \"background\": \"white\",\n",
            "          \"border\": \"red\"\n",
            "        }\n",
            "      },\n",
            "      \"shape\": \"box\",\n",
            "      \"mass\": 1,\n",
            "      \"font\": {\n",
            "        \"color\": \"black\",\n",
            "        \"size\": 36\n",
            "      },\n",
            "      \"schedColor\": false\n",
            "    }\n",
            "  },\n",
            "  \"reload_button\": false,\n",
            "  \"edges\": {\n",
            "    \"arrows\": \"to\",\n",
            "    \"font\": {\n",
            "      \"color\": \"black\",\n",
            "      \"size\": 14\n",
            "    },\n",
            "    \"color\": {\n",
            "      \"color\": \"black\"\n",
            "    }\n",
            "  },\n",
            "  \"numbers\": {\n",
            "    \"fractions\": true,\n",
            "    \"digits\": 5\n",
            "  },\n",
            "  \"state_properties\": {\n",
            "    \"show_results\": true,\n",
            "    \"result_symbol\": \"\\u2606\",\n",
            "    \"show_rewards\": true,\n",
            "    \"reward_symbol\": \"\\u20ac\",\n",
            "    \"show_zero_rewards\": true,\n",
            "    \"show_observations\": true,\n",
            "    \"observation_symbol\": \"\\u0298\"\n",
            "  },\n",
            "  \"layout\": {\n",
            "    \"randomSeed\": 5\n",
            "  },\n",
            "  \"misc\": {\n",
            "    \"enable_physics\": true,\n",
            "    \"width\": 929,\n",
            "    \"height\": 745,\n",
            "    \"explore\": false\n",
            "  },\n",
            "  \"saving\": {\n",
            "    \"relative_path\": true,\n",
            "    \"filename\": \"layouts/monty.json\",\n",
            "    \"save_button\": false,\n",
            "    \"load_button\": false\n",
            "  },\n",
            "  \"positions\": {\n",
            "    \"0\": {\n",
            "      \"x\": 13,\n",
            "      \"y\": -7\n",
            "    },\n",
            "    \"1\": {\n",
            "      \"x\": -162,\n",
            "      \"y\": 44\n",
            "    },\n",
            "    \"2\": {\n",
            "      \"x\": 153,\n",
            "      \"y\": 116\n",
            "    },\n",
            "    \"3\": {\n",
            "      \"x\": 62,\n",
            "      \"y\": -189\n",
            "    },\n",
            "    \"4\": {\n",
            "      \"x\": -500,\n",
            "      \"y\": 175\n",
            "    },\n",
            "    \"5\": {\n",
            "      \"x\": -416,\n",
            "      \"y\": -150\n",
            "    },\n",
            "    \"6\": {\n",
            "      \"x\": -176,\n",
            "      \"y\": 322\n",
            "    },\n",
            "    \"7\": {\n",
            "      \"x\": 347,\n",
            "      \"y\": 369\n",
            "    },\n",
            "    \"8\": {\n",
            "      \"x\": 511,\n",
            "      \"y\": 88\n",
            "    },\n",
            "    \"9\": {\n",
            "      \"x\": 77,\n",
            "      \"y\": 413\n",
            "    },\n",
            "    \"10\": {\n",
            "      \"x\": 342,\n",
            "      \"y\": -310\n",
            "    },\n",
            "    \"11\": {\n",
            "      \"x\": 173,\n",
            "      \"y\": -510\n",
            "    },\n",
            "    \"12\": {\n",
            "      \"x\": -120,\n",
            "      \"y\": -474\n",
            "    },\n",
            "    \"13\": {\n",
            "      \"x\": -587,\n",
            "      \"y\": 325\n",
            "    },\n",
            "    \"14\": {\n",
            "      \"x\": -653,\n",
            "      \"y\": 99\n",
            "    },\n",
            "    \"15\": {\n",
            "      \"x\": -547,\n",
            "      \"y\": -255\n",
            "    },\n",
            "    \"16\": {\n",
            "      \"x\": -234,\n",
            "      \"y\": 463\n",
            "    },\n",
            "    \"17\": {\n",
            "      \"x\": 446,\n",
            "      \"y\": 496\n",
            "    },\n",
            "    \"18\": {\n",
            "      \"x\": 592,\n",
            "      \"y\": -52\n",
            "    },\n",
            "    \"19\": {\n",
            "      \"x\": 673,\n",
            "      \"y\": 159\n",
            "    },\n",
            "    \"20\": {\n",
            "      \"x\": 83,\n",
            "      \"y\": 576\n",
            "    },\n",
            "    \"21\": {\n",
            "      \"x\": 476,\n",
            "      \"y\": -407\n",
            "    },\n",
            "    \"22\": {\n",
            "      \"x\": 228,\n",
            "      \"y\": -670\n",
            "    },\n",
            "    \"23\": {\n",
            "      \"x\": -265,\n",
            "      \"y\": -433\n",
            "    },\n",
            "    \"24\": {\n",
            "      \"x\": -146,\n",
            "      \"y\": -650\n",
            "    },\n",
            "    \"25\": {\n",
            "      \"x\": -647,\n",
            "      \"y\": 606\n",
            "    },\n",
            "    \"26\": {\n",
            "      \"x\": -859,\n",
            "      \"y\": 431\n",
            "    },\n",
            "    \"27\": {\n",
            "      \"x\": -941,\n",
            "      \"y\": 146\n",
            "    },\n",
            "    \"28\": {\n",
            "      \"x\": -856,\n",
            "      \"y\": -91\n",
            "    },\n",
            "    \"29\": {\n",
            "      \"x\": -669,\n",
            "      \"y\": -514\n",
            "    },\n",
            "    \"30\": {\n",
            "      \"x\": -826,\n",
            "      \"y\": -327\n",
            "    },\n",
            "    \"31\": {\n",
            "      \"x\": -432,\n",
            "      \"y\": 648\n",
            "    },\n",
            "    \"32\": {\n",
            "      \"x\": -242,\n",
            "      \"y\": 743\n",
            "    },\n",
            "    \"33\": {\n",
            "      \"x\": 709,\n",
            "      \"y\": 595\n",
            "    },\n",
            "    \"34\": {\n",
            "      \"x\": 473,\n",
            "      \"y\": 779\n",
            "    },\n",
            "    \"35\": {\n",
            "      \"x\": 842,\n",
            "      \"y\": -208\n",
            "    },\n",
            "    \"36\": {\n",
            "      \"x\": 345,\n",
            "      \"y\": -100\n",
            "    },\n",
            "    \"37\": {\n",
            "      \"x\": 875,\n",
            "      \"y\": 357\n",
            "    },\n",
            "    \"38\": {\n",
            "      \"x\": 949,\n",
            "      \"y\": 59\n",
            "    },\n",
            "    \"39\": {\n",
            "      \"x\": 214,\n",
            "      \"y\": 826\n",
            "    },\n",
            "    \"40\": {\n",
            "      \"x\": -38,\n",
            "      \"y\": 836\n",
            "    },\n",
            "    \"41\": {\n",
            "      \"x\": 602,\n",
            "      \"y\": -658\n",
            "    },\n",
            "    \"42\": {\n",
            "      \"x\": 755,\n",
            "      \"y\": -462\n",
            "    },\n",
            "    \"43\": {\n",
            "      \"x\": 184,\n",
            "      \"y\": -954\n",
            "    },\n",
            "    \"44\": {\n",
            "      \"x\": 446,\n",
            "      \"y\": -860\n",
            "    },\n",
            "    \"45\": {\n",
            "      \"x\": -474,\n",
            "      \"y\": -630\n",
            "    },\n",
            "    \"46\": {\n",
            "      \"x\": -169,\n",
            "      \"y\": -181\n",
            "    },\n",
            "    \"47\": {\n",
            "      \"x\": -341,\n",
            "      \"y\": -870\n",
            "    },\n",
            "    \"48\": {\n",
            "      \"x\": -73,\n",
            "      \"y\": -922\n",
            "    },\n",
            "    \"10000000000\": {\n",
            "      \"x\": -329,\n",
            "      \"y\": 115\n",
            "    },\n",
            "    \"10000000001\": {\n",
            "      \"x\": -282,\n",
            "      \"y\": -60\n",
            "    },\n",
            "    \"10000000002\": {\n",
            "      \"x\": -134,\n",
            "      \"y\": 184\n",
            "    },\n",
            "    \"10000000003\": {\n",
            "      \"x\": 250,\n",
            "      \"y\": 245\n",
            "    },\n",
            "    \"10000000004\": {\n",
            "      \"x\": 328,\n",
            "      \"y\": 92\n",
            "    },\n",
            "    \"10000000005\": {\n",
            "      \"x\": 83,\n",
            "      \"y\": 255\n",
            "    },\n",
            "    \"10000000006\": {\n",
            "      \"x\": 213,\n",
            "      \"y\": -217\n",
            "    },\n",
            "    \"10000000007\": {\n",
            "      \"x\": 120,\n",
            "      \"y\": -352\n",
            "    },\n",
            "    \"10000000008\": {\n",
            "      \"x\": -39,\n",
            "      \"y\": -321\n",
            "    },\n",
            "    \"10000000009\": {\n",
            "      \"x\": -597,\n",
            "      \"y\": 477\n",
            "    },\n",
            "    \"10000000010\": {\n",
            "      \"x\": -735,\n",
            "      \"y\": 371\n",
            "    },\n",
            "    \"10000000011\": {\n",
            "      \"x\": -803,\n",
            "      \"y\": 137\n",
            "    },\n",
            "    \"10000000012\": {\n",
            "      \"x\": -738,\n",
            "      \"y\": -22\n",
            "    },\n",
            "    \"10000000013\": {\n",
            "      \"x\": -592,\n",
            "      \"y\": -399\n",
            "    },\n",
            "    \"10000000014\": {\n",
            "      \"x\": -698,\n",
            "      \"y\": -273\n",
            "    },\n",
            "    \"10000000015\": {\n",
            "      \"x\": -359,\n",
            "      \"y\": 533\n",
            "    },\n",
            "    \"10000000016\": {\n",
            "      \"x\": -211,\n",
            "      \"y\": 609\n",
            "    },\n",
            "    \"10000000017\": {\n",
            "      \"x\": 590,\n",
            "      \"y\": 528\n",
            "    },\n",
            "    \"10000000018\": {\n",
            "      \"x\": 443,\n",
            "      \"y\": 645\n",
            "    },\n",
            "    \"10000000019\": {\n",
            "      \"x\": 725,\n",
            "      \"y\": -133\n",
            "    },\n",
            "    \"10000000020\": {\n",
            "      \"x\": 473,\n",
            "      \"y\": -119\n",
            "    },\n",
            "    \"10000000021\": {\n",
            "      \"x\": 762,\n",
            "      \"y\": 280\n",
            "    },\n",
            "    \"10000000022\": {\n",
            "      \"x\": 817,\n",
            "      \"y\": 102\n",
            "    },\n",
            "    \"10000000023\": {\n",
            "      \"x\": 174,\n",
            "      \"y\": 695\n",
            "    },\n",
            "    \"10000000024\": {\n",
            "      \"x\": 3,\n",
            "      \"y\": 704\n",
            "    },\n",
            "    \"10000000025\": {\n",
            "      \"x\": 519,\n",
            "      \"y\": -549\n",
            "    },\n",
            "    \"10000000026\": {\n",
            "      \"x\": 627,\n",
            "      \"y\": -413\n",
            "    },\n",
            "    \"10000000027\": {\n",
            "      \"x\": 187,\n",
            "      \"y\": -816\n",
            "    },\n",
            "    \"10000000028\": {\n",
            "      \"x\": 354,\n",
            "      \"y\": -757\n",
            "    },\n",
            "    \"10000000029\": {\n",
            "      \"x\": -381,\n",
            "      \"y\": -529\n",
            "    },\n",
            "    \"10000000030\": {\n",
            "      \"x\": -242,\n",
            "      \"y\": -292\n",
            "    },\n",
            "    \"10000000031\": {\n",
            "      \"x\": -259,\n",
            "      \"y\": -758\n",
            "    },\n",
            "    \"10000000032\": {\n",
            "      \"x\": -84,\n",
            "      \"y\": -786\n",
            "    }\n",
            "  },\n",
            "  \"width\": 929,\n",
            "  \"height\": 745,\n",
            "  \"physics\": true,\n",
            "  \"autoResize\": true\n",
            "}\n"
          ]
        }
      ],
      "source": [
        "print(vis.layout)"
      ]
    },
    {
      "cell_type": "code",
      "execution_count": null,
      "id": "62ba8bb1-850d-43e6-aac1-96d19925fde9",
      "metadata": {},
      "outputs": [],
      "source": []
    }
  ],
  "metadata": {
    "kernelspec": {
      "display_name": "Python 3 (ipykernel)",
      "language": "python",
      "name": "python3"
    },
    "language_info": {
      "codemirror_mode": {
        "name": "ipython",
        "version": 3
      },
      "file_extension": ".py",
      "mimetype": "text/x-python",
      "name": "python",
      "nbconvert_exporter": "python",
      "pygments_lexer": "ipython3",
      "version": "3.12.3"
    }
  },
  "nbformat": 4,
  "nbformat_minor": 5
}
