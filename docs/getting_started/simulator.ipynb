{
  "cells": [
    {
      "cell_type": "code",
      "execution_count": null,
      "id": "a8ddc37c-66d2-43e4-8162-6be19a1d70a1",
      "metadata": {},
      "outputs": [],
      "source": [
        "from stormvogel import visualization, show, simulator\n",
        "import stormvogel.model"
      ]
    },
    {
      "cell_type": "code",
      "execution_count": null,
      "id": "cab40f99-3460-4497-8b9f-3d669eee1e11",
      "metadata": {},
      "outputs": [],
      "source": [
        "# We create the monty hall mdp\n",
        "mdp = stormvogel.model.new_mdp(\"Monty Hall\")\n",
        "\n",
        "init = mdp.get_initial_state()\n",
        "\n",
        "# first choose car position\n",
        "init.set_transitions(\n",
        "    [(1 / 3, mdp.new_state(\"carchosen\", {\"car_pos\": i})) for i in range(3)]\n",
        ")\n",
        "\n",
        "# we choose a door in each case\n",
        "for s in mdp.get_states_with_label(\"carchosen\"):\n",
        "    s.set_transitions(\n",
        "        [\n",
        "            (\n",
        "                mdp.action(f\"open{i}\"),\n",
        "                mdp.new_state(\"open\", s.features | {\"chosen_pos\": i}),\n",
        "            )\n",
        "            for i in range(3)\n",
        "        ]\n",
        "    )\n",
        "\n",
        "# the other goat is revealed\n",
        "for s in mdp.get_states_with_label(\"open\"):\n",
        "    car_pos = s.features[\"car_pos\"]\n",
        "    chosen_pos = s.features[\"chosen_pos\"]\n",
        "    other_pos = {0, 1, 2} - {car_pos, chosen_pos}\n",
        "    s.set_transitions(\n",
        "        [\n",
        "            (\n",
        "                1 / len(other_pos),\n",
        "                mdp.new_state(\"goatrevealed\", s.features | {\"reveal_pos\": i}),\n",
        "            )\n",
        "            for i in other_pos\n",
        "        ]\n",
        "    )\n",
        "\n",
        "# we must choose whether we want to switch\n",
        "for s in mdp.get_states_with_label(\"goatrevealed\"):\n",
        "    car_pos = s.features[\"car_pos\"]\n",
        "    chosen_pos = s.features[\"chosen_pos\"]\n",
        "    reveal_pos = s.features[\"reveal_pos\"]\n",
        "    other_pos = list({0, 1, 2} - {reveal_pos, chosen_pos})[0]\n",
        "    s.set_transitions(\n",
        "        [\n",
        "            (\n",
        "                mdp.action(\"stay\"),\n",
        "                mdp.new_state(\n",
        "                    [\"done\"] + ([\"target\"] if chosen_pos == car_pos else []),\n",
        "                    s.features | {\"chosen_pos\": chosen_pos},\n",
        "                ),\n",
        "            ),\n",
        "            (\n",
        "                mdp.action(\"switch\"),\n",
        "                mdp.new_state(\n",
        "                    [\"done\"] + ([\"target\"] if other_pos == car_pos else []),\n",
        "                    s.features | {\"chosen_pos\": other_pos},\n",
        "                ),\n",
        "            ),\n",
        "        ]\n",
        "    )\n",
        "\n",
        "# we add self loops to all states with no outgoing transitions\n",
        "mdp.add_self_loops()"
      ]
    },
    {
      "cell_type": "code",
      "execution_count": null,
      "id": "eb0fadc0-7bb6-4c1d-ae3e-9e16527726ab",
      "metadata": {},
      "outputs": [],
      "source": [
        "#we want to simulate this model. That is, we start at the initial state and then\n",
        "#we walk through the model according to transition probabilities.\n",
        "#When we do this, we get a partial model as a result that contains everything we discovered\n",
        "#during this walk.\n",
        "\n",
        "#we can choose how many steps we take:\n",
        "steps = 4\n",
        "\n",
        "#and we can specify a seed if we want:\n",
        "seed = 123456\n",
        "\n",
        "#then we run the simulator:\n",
        "partial_model = stormvogel.simulator.simulate(mdp, steps=steps, seed=seed)\n",
        "print(partial_model)"
      ]
    },
    {
      "cell_type": "code",
      "execution_count": null,
      "id": "59ac1e34-866c-42c4-b19b-c2a15c830e2e",
      "metadata": {
        "scrolled": true
      },
      "outputs": [],
      "source": [
        "#it still chooses random actions but we can prevent this by providing a scheduler:\n",
        "taken_actions = {}\n",
        "for id, state in mdp.states.items():\n",
        "    taken_actions[id] = state.available_actions()[0]\n",
        "scheduler = stormvogel.result.Scheduler(mdp, taken_actions)\n",
        "\n",
        "partial_model = stormvogel.simulator.simulate(mdp, steps=steps, scheduler=scheduler, seed=seed)\n",
        "print(partial_model)"
      ]
    },
    {
      "cell_type": "code",
      "execution_count": null,
      "id": "22871288-755c-463f-9150-f207c2f5c211",
      "metadata": {},
      "outputs": [],
      "source": [
        "#we can also visualize the partial model that we get from the simulator:\n",
        "show.show(partial_model)\n"
      ]
    },
    {
      "cell_type": "code",
      "execution_count": null,
      "id": "34d0c293-d090-4e3d-9e80-4351f5fcba62",
      "metadata": {},
      "outputs": [],
      "source": [
        "#we can also use another simulator function that returns a path instead of a partial model:\n",
        "path = stormvogel.simulator.simulate_path(mdp, steps=4, scheduler=scheduler, seed=123456)\n",
        "\n",
        "print(path)"
      ]
    },
    {
      "cell_type": "code",
      "execution_count": null,
      "id": "99c763fa-82ea-42ff-8833-79c640f14518",
      "metadata": {},
      "outputs": [],
      "source": []
    }
  ],
  "metadata": {
    "kernelspec": {
      "display_name": "Python (stormvogel)",
      "language": "python",
      "name": "stormvogel-env"
    },
    "language_info": {
      "codemirror_mode": {
        "name": "ipython",
        "version": 3
      },
      "file_extension": ".py",
      "mimetype": "text/x-python",
      "name": "python",
      "nbconvert_exporter": "python",
      "pygments_lexer": "ipython3",
      "version": "3.12.7"
    }
  },
  "nbformat": 4,
  "nbformat_minor": 5
}
