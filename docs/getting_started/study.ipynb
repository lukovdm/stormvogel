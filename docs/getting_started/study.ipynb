{
  "cells": [
    {
      "cell_type": "markdown",
      "id": "31fda09b",
      "metadata": {},
      "source": [
        "# The studying dilemma"
      ]
    },
    {
      "cell_type": "code",
      "execution_count": 1,
      "id": "e924f3a4",
      "metadata": {},
      "outputs": [],
      "source": [
        "import stormvogel.model\n",
        "import stormvogel.visualization\n",
        "from stormvogel.layout import Layout\n",
        "from stormvogel.show import show"
      ]
    },
    {
      "cell_type": "markdown",
      "id": "0b09222b",
      "metadata": {},
      "source": [
        "Let's create an MDP and add all states:"
      ]
    },
    {
      "cell_type": "code",
      "execution_count": 2,
      "id": "1f2120a8",
      "metadata": {},
      "outputs": [],
      "source": [
        "mdp = stormvogel.model.new_mdp(\"Monty Hall\")\n",
        "\n",
        "init = mdp.get_initial_state()\n",
        "study = mdp.action(\"study\")\n",
        "not_study = mdp.action(\"don't study\")\n",
        "\n",
        "studied = mdp.new_state(\"studied\")\n",
        "not_studied = mdp.new_state(\"didn't study\")\n",
        "pass_test = mdp.new_state(\"pass test\")\n",
        "fail_test = mdp.new_state(\"fail test\")\n",
        "end = mdp.new_state(\"end\")"
      ]
    },
    {
      "cell_type": "code",
      "execution_count": 3,
      "id": "1143b6c0",
      "metadata": {},
      "outputs": [],
      "source": [
        "init.set_transitions([\n",
        "    (study, studied),\n",
        "    (not_study, not_studied)\n",
        "])"
      ]
    },
    {
      "cell_type": "markdown",
      "id": "1db64312",
      "metadata": {},
      "source": [
        "If you studied, then there is a 90% chance that you pass the test."
      ]
    },
    {
      "cell_type": "code",
      "execution_count": 4,
      "id": "64bfb789",
      "metadata": {},
      "outputs": [],
      "source": [
        "studied.set_transitions([\n",
        "    (9/10, pass_test),\n",
        "    (1/10, fail_test)\n",
        "])"
      ]
    },
    {
      "cell_type": "markdown",
      "id": "600839f5",
      "metadata": {},
      "source": [
        "If you did not study, then there is only a 40% chance that you pass the test."
      ]
    },
    {
      "cell_type": "code",
      "execution_count": 5,
      "id": "89d1d749",
      "metadata": {},
      "outputs": [],
      "source": [
        "not_studied.set_transitions([\n",
        "    (4/10, pass_test),\n",
        "    (6/10, fail_test)\n",
        "])"
      ]
    },
    {
      "cell_type": "markdown",
      "id": "b0c4965f",
      "metadata": {},
      "source": [
        "After the test, you are done"
      ]
    },
    {
      "cell_type": "code",
      "execution_count": 6,
      "id": "2f8fb42e",
      "metadata": {},
      "outputs": [],
      "source": [
        "pass_test.set_transitions([(1, end)])\n",
        "fail_test.set_transitions([(1, end)])"
      ]
    },
    {
      "cell_type": "markdown",
      "id": "14d7ab92",
      "metadata": {},
      "source": [
        "We'll add some rewards for passing the test (nice!) and for not studying (had some free time)"
      ]
    },
    {
      "cell_type": "code",
      "execution_count": 7,
      "id": "bfcbb7fa",
      "metadata": {},
      "outputs": [],
      "source": [
        "reward_model = mdp.add_rewards(\"R\")\n",
        "reward_model.set(pass_test, 100)\n",
        "reward_model.set(fail_test, 0)\n",
        "reward_model.set(not_studied, 15)"
      ]
    },
    {
      "cell_type": "markdown",
      "id": "797e09bb",
      "metadata": {},
      "source": [
        "We'll decorate our model with a nice layout."
      ]
    },
    {
      "cell_type": "code",
      "execution_count": 11,
      "id": "0df1511e-565d-45d0-93a8-adafbfaaaefa",
      "metadata": {},
      "outputs": [
        {
          "data": {
            "application/vnd.jupyter.widget-view+json": {
              "model_id": "d673e36704814ff59e7e9c999902ffc4",
              "version_major": 2,
              "version_minor": 0
            },
            "text/plain": [
              "Output()"
            ]
          },
          "metadata": {},
          "output_type": "display_data"
        },
        {
          "data": {
            "application/vnd.jupyter.widget-view+json": {
              "model_id": "ae30b918c5214b7faea5cfc7a687c434",
              "version_major": 2,
              "version_minor": 0
            },
            "text/plain": [
              "HBox(children=(Output(outputs=({'output_type': 'display_data', 'data': {'text/plain': '<IPython.core.display.H\u2026"
            ]
          },
          "metadata": {},
          "output_type": "display_data"
        }
      ],
      "source": [
        "vis = show(mdp, show_editor=True, layout=Layout(\"pinkgreen.json\"))"
      ]
    },
    {
      "cell_type": "code",
      "execution_count": null,
      "id": "d4fd0009-1632-4318-b4f4-2cc764666295",
      "metadata": {},
      "outputs": [],
      "source": []
    }
  ],
  "metadata": {
    "kernelspec": {
      "display_name": "Python 3 (ipykernel)",
      "language": "python",
      "name": "python3"
    },
    "language_info": {
      "codemirror_mode": {
        "name": "ipython",
        "version": 3
      },
      "file_extension": ".py",
      "mimetype": "text/x-python",
      "name": "python",
      "nbconvert_exporter": "python",
      "pygments_lexer": "ipython3",
      "version": "3.12.7"
    }
  },
  "nbformat": 4,
  "nbformat_minor": 5
}
