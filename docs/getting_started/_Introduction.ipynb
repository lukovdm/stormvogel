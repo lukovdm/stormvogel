{
  "cells": [
    {
      "cell_type": "markdown",
      "id": "6e5ee076-e5d0-49ba-85fb-b464735503de",
      "metadata": {},
      "source": [
        "# Welcome to Stormvogel! ([Github](https://github.com/moves-rwth/stormvogel), [Pypi](https://pypi.org/project/stormvogel/), [Docs](https://moves-rwth.github.io/stormvogel/))\n",
        "This notebook provides an overview as well as some example usage and pointers to further material.\n",
        "\n",
        "### What is model checking?\n",
        "Many processes in science and technology can be analyzed using a state-based **model**. In the broadest sense, such a model includes *states*, *transitions* between states, and usually some kind of *output* or way to interact with an environment. Once we have a model, we might want to know if this model *satisfies* certain *properties* or constraints. The process of determining whether a given model satisfies some property is called **model checking**.\n",
        "\n",
        "Example: The behaviour of a self-driving might can be modeled using a Markov model that behaves exactly like the car. We might then check if the model (and hopefully by extension the actual car) satisfies the property that it will accelerate when a red light is observed."
      ]
    },
    {
      "cell_type": "code",
      "execution_count": 2,
      "id": "df22ee92-d159-46de-913b-bf22e1022386",
      "metadata": {},
      "outputs": [],
      "source": [
        "# TODO, import car model from examples and visualize it."
      ]
    },
    {
      "cell_type": "markdown",
      "id": "97ee7880-9bf6-4f6b-add6-fd1db5db8c34",
      "metadata": {},
      "source": [
        "Over the last decades, many tools to automate model checking have been developed at various institutions.\n",
        "\n",
        "### What is Storm, Stormpy and Stormvogel?\n",
        "* [Storm](https://www.stormchecker.org/) is a model checker developed at RWTH Aachen University using C/C++. It is currently considered one of the best model checking tools. It is designed in a low-level way that allows users a great level of control over the internal representation of the models. This meams that Storm is very efficient, but also difficult to use.\n",
        "* [Stormpy](https://moves-rwth.github.io/stormpy/) is an API with Python bindings for Storm. It is structured mostly similar to Storm itself. \n",
        "* Stormvogel is a series of APIs and visualization tools for the Storm(py) model checker that are desinged to be easier to use than Stormpy. The goal of Stormvogel is to provide an accessible way to do probabilistic model checking and to provide educational tools about model checking. It is being developped at Radboud University.\n",
        "\n",
        "### What does Stormvogel provide?\n",
        "* APIs for constructing models. Currently, DTMCs, MDPs, CTMCs, POMDPs and Markov Automata are supported. For more information about building models, see the TODO notebook.\n",
        "  - The `model` API can be used to construct a model directly by explicitely defining a set of states and transitions.\n",
        "  - The `pgc` API can be used to construct a model by defining a delta function. The structure is similar to PRISM.\n",
        "  - The `PRISM` API can be used to construct a model using the PRISM syntax, which has been the standard in model checking over the last years.\n",
        "* Visualization TODO\n",
        "* Conversion to storm TODO\n",
        "* Property builder TODO\n",
        "* Model checker TODO\n",
        "\n",
        "### Questions, bugs & contributing\n",
        "TODO Section about how to reach out to us."
      ]
    },
    {
      "cell_type": "code",
      "execution_count": null,
      "id": "f0d80d44-2ef4-42e5-a37b-df7f03edc00c",
      "metadata": {},
      "outputs": [],
      "source": []
    }
  ],
  "metadata": {
    "kernelspec": {
      "display_name": "Python 3 (ipykernel)",
      "language": "python",
      "name": "python3"
    },
    "language_info": {
      "codemirror_mode": {
        "name": "ipython",
        "version": 3
      },
      "file_extension": ".py",
      "mimetype": "text/x-python",
      "name": "python",
      "nbconvert_exporter": "python",
      "pygments_lexer": "ipython3",
      "version": "3.12.3"
    }
  },
  "nbformat": 4,
  "nbformat_minor": 5
}
