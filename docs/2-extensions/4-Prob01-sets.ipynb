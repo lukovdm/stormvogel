{
  "cells": [
    {
      "cell_type": "markdown",
      "id": "fe3f725a-e324-4b85-87e7-ad4483812ff3",
      "metadata": {},
      "source": [
        "# Prob 01 sets"
      ]
    },
    {
      "cell_type": "code",
      "execution_count": null,
      "id": "3a15f751-8983-44a1-bb73-a1a68818518d",
      "metadata": {},
      "outputs": [],
      "source": [
        "import stormpy\n",
        "import stormvogel.model\n",
        "import stormvogel.mapping as mapping\n",
        "\n",
        "def state_set_to_bit_vector(m: stormvogel.model.Model, phi_states: set[int], psi_states: set[int]):\n",
        "    \n",
        "    return "
      ]
    }
  ],
  "metadata": {
    "kernelspec": {
      "display_name": "Python 3 (ipykernel)",
      "language": "python",
      "name": "python3"
    },
    "language_info": {
      "codemirror_mode": {
        "name": "ipython",
        "version": 3
      },
      "file_extension": ".py",
      "mimetype": "text/x-python",
      "name": "python",
      "nbconvert_exporter": "python",
      "pygments_lexer": "ipython3",
      "version": "3.12.3"
    }
  },
  "nbformat": 4,
  "nbformat_minor": 5
}
