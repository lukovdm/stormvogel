{
  "cells": [
    {
      "cell_type": "markdown",
      "id": "88b12dc5-440d-4cd9-b681-b2203489919c",
      "metadata": {},
      "source": [
        "# Model checking\n",
        "TODO"
      ]
    },
    {
      "cell_type": "code",
      "execution_count": null,
      "id": "a4dec2b5-0f0e-484b-b3b2-34ebe8302b8b",
      "metadata": {},
      "outputs": [],
      "source": []
    }
  ],
  "metadata": {
    "kernelspec": {
      "display_name": "Python 3 (ipykernel)",
      "language": "python",
      "name": "python3"
    },
    "language_info": {
      "codemirror_mode": {
        "name": "ipython",
        "version": 3
      },
      "file_extension": ".py",
      "mimetype": "text/x-python",
      "name": "python",
      "nbconvert_exporter": "python",
      "pygments_lexer": "ipython3",
      "version": "3.12.3"
    }
  },
  "nbformat": 4,
  "nbformat_minor": 5
}
