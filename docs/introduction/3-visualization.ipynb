{
  "cells": [
    {
      "cell_type": "markdown",
      "id": "b1a9eb4f-4bfc-4316-a661-e1dcc7b6ad93",
      "metadata": {},
      "source": [
        "# Visualization\n",
        "\n",
        "When visualizing a model using, there are a lot of layout options. In this notebook we will show how to edit the way that a model looks.\n",
        "\n",
        "Remember the car model from the introduction? You will notice that it does not have the same colors as it had in the introduction notebook. The reason for this is that in the introduction, we used a different **Layout**."
      ]
    },
    {
      "cell_type": "code",
      "execution_count": 2,
      "id": "783cbc97-e727-4128-a66c-d36a1db82eff",
      "metadata": {},
      "outputs": [
        {
          "data": {
            "application/vnd.jupyter.widget-view+json": {
              "model_id": "3e02184286ca4daabad058228609b7aa",
              "version_major": 2,
              "version_minor": 0
            },
            "text/plain": [
              "Output()"
            ]
          },
          "metadata": {},
          "output_type": "display_data"
        },
        {
          "data": {
            "application/vnd.jupyter.widget-view+json": {
              "model_id": "9fe40d297c4a40b5a106b567286ee9b7",
              "version_major": 2,
              "version_minor": 0
            },
            "text/plain": [
              "Output()"
            ]
          },
          "metadata": {},
          "output_type": "display_data"
        },
        {
          "data": {
            "application/vnd.jupyter.widget-view+json": {
              "model_id": "062aaf110ec749b186233708beaa39c9",
              "version_major": 2,
              "version_minor": 0
            },
            "text/plain": [
              "Output()"
            ]
          },
          "metadata": {},
          "output_type": "display_data"
        },
        {
          "data": {
            "application/vnd.jupyter.widget-view+json": {
              "model_id": "2c894a2c951b4326a6dbb0eddc580dd5",
              "version_major": 2,
              "version_minor": 0
            },
            "text/plain": [
              "HBox(children=(Output(), Output()))"
            ]
          },
          "metadata": {},
          "output_type": "display_data"
        }
      ],
      "source": [
        "import stormvogel.show, stormvogel.examples.car, stormvogel.show\n",
        "from stormvogel.layout import Layout\n",
        "vis = stormvogel.show.show(stormvogel.examples.car.car, show_editor=True, layout=Layout(\"layouts/testing.json\"))"
      ]
    }
  ],
  "metadata": {
    "kernelspec": {
      "display_name": "Python 3 (ipykernel)",
      "language": "python",
      "name": "python3"
    },
    "language_info": {
      "codemirror_mode": {
        "name": "ipython",
        "version": 3
      },
      "file_extension": ".py",
      "mimetype": "text/x-python",
      "name": "python",
      "nbconvert_exporter": "python",
      "pygments_lexer": "ipython3",
      "version": "3.12.3"
    }
  },
  "nbformat": 4,
  "nbformat_minor": 5
}
