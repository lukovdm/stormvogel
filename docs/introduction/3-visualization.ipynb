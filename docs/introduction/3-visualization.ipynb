{
  "cells": [
    {
      "cell_type": "markdown",
      "id": "b1a9eb4f-4bfc-4316-a661-e1dcc7b6ad93",
      "metadata": {},
      "source": [
        "# Visualization\n",
        "\n",
        "When visualizing a model using, there are a lot of layout options. In this notebook we will show how to edit the way that a model looks.\n",
        "\n",
        "Remember the car model from the introduction? You will notice that it does not have the same colors as it had in the introduction notebook. The reason for this is that in the introduction, we used a different **Layout**."
      ]
    },
    {
      "cell_type": "code",
      "execution_count": 4,
      "id": "783cbc97-e727-4128-a66c-d36a1db82eff",
      "metadata": {},
      "outputs": [
        {
          "data": {
            "application/vnd.jupyter.widget-view+json": {
              "model_id": "12c9dd72b7d3416ca8136ae2668ef2e8",
              "version_major": 2,
              "version_minor": 0
            },
            "text/plain": [
              "Output()"
            ]
          },
          "metadata": {},
          "output_type": "display_data"
        },
        {
          "data": {
            "text/html": [
              "<script>\n",
              "function return_id_result(url, id, data) {\n",
              "        fetch(url, {\n",
              "            method: 'POST',\n",
              "            body: JSON.stringify({\n",
              "                'id': id,\n",
              "                'data': data\n",
              "            })\n",
              "        })\n",
              "    }\n",
              "</script>"
            ],
            "text/plain": [
              "<IPython.core.display.HTML object>"
            ]
          },
          "metadata": {},
          "output_type": "display_data"
        },
        {
          "data": {
            "application/javascript": [
              "return_id_result('http://127.0.0.1:8891', 'ejeDXgykPmIIToppVYhq', 'test message')"
            ],
            "text/plain": [
              "<IPython.core.display.Javascript object>"
            ]
          },
          "metadata": {},
          "output_type": "display_data"
        },
        {
          "data": {
            "application/vnd.jupyter.widget-view+json": {
              "model_id": "464ac835795149048782af8a7fcb6461",
              "version_major": 2,
              "version_minor": 0
            },
            "text/plain": [
              "Output()"
            ]
          },
          "metadata": {},
          "output_type": "display_data"
        },
        {
          "data": {
            "application/vnd.jupyter.widget-view+json": {
              "model_id": "789cc764381e45d7b90e29cb152e7044",
              "version_major": 2,
              "version_minor": 0
            },
            "text/plain": [
              "HBox(children=(Output(), Output()))"
            ]
          },
          "metadata": {},
          "output_type": "display_data"
        }
      ],
      "source": [
        "import stormvogel.show, stormvogel.examples.car, stormvogel.show\n",
        "vis = stormvogel.show.show(stormvogel.examples.car.car, show_editor=True)"
      ]
    },
    {
      "cell_type": "code",
      "execution_count": null,
      "id": "4a0205b2-4995-4d67-b9bd-d8e331bad688",
      "metadata": {},
      "outputs": [],
      "source": []
    }
  ],
  "metadata": {
    "kernelspec": {
      "display_name": "Python 3 (ipykernel)",
      "language": "python",
      "name": "python3"
    },
    "language_info": {
      "codemirror_mode": {
        "name": "ipython",
        "version": 3
      },
      "file_extension": ".py",
      "mimetype": "text/x-python",
      "name": "python",
      "nbconvert_exporter": "python",
      "pygments_lexer": "ipython3",
      "version": "3.12.3"
    }
  },
  "nbformat": 4,
  "nbformat_minor": 5
}
