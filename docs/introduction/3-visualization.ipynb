{
  "cells": [
    {
      "cell_type": "markdown",
      "id": "b1a9eb4f-4bfc-4316-a661-e1dcc7b6ad93",
      "metadata": {},
      "source": [
        "# Visualization\n",
        "\n",
        "When visualizing a model using, there are a lot of layout options. In this notebook we will show how to edit the way that a model looks.\n",
        "\n",
        "Remember the car model from the introduction? You will notice that it does not have the same colors as it had in the introduction notebook. The reason for this is that in the introduction, we used a different **Layout**."
      ]
    },
    {
      "cell_type": "code",
      "execution_count": 2,
      "id": "783cbc97-e727-4128-a66c-d36a1db82eff",
      "metadata": {},
      "outputs": [
        {
          "data": {
            "application/vnd.jupyter.widget-view+json": {
              "model_id": "ffc09003eba344e8a36b9a8dc56b1956",
              "version_major": 2,
              "version_minor": 0
            },
            "text/plain": [
              "Output()"
            ]
          },
          "metadata": {},
          "output_type": "display_data"
        },
        {
          "data": {
            "application/vnd.jupyter.widget-view+json": {
              "model_id": "44e30a773f17484e8235ce76e82b95bd",
              "version_major": 2,
              "version_minor": 0
            },
            "text/plain": [
              "Output()"
            ]
          },
          "metadata": {},
          "output_type": "display_data"
        },
        {
          "data": {
            "application/vnd.jupyter.widget-view+json": {
              "model_id": "d34bc91f99db4f3a92d16688ee76d08c",
              "version_major": 2,
              "version_minor": 0
            },
            "text/plain": [
              "Output()"
            ]
          },
          "metadata": {},
          "output_type": "display_data"
        },
        {
          "data": {
            "application/vnd.jupyter.widget-view+json": {
              "model_id": "a4f0746835884da1a230a6feb3563545",
              "version_major": 2,
              "version_minor": 0
            },
            "text/plain": [
              "HBox(children=(Output(), Output()))"
            ]
          },
          "metadata": {},
          "output_type": "display_data"
        }
      ],
      "source": [
        "import stormvogel.show, stormvogel.examples.car, stormvogel.show\n",
        "from stormvogel.layout import Layout\n",
        "vis = stormvogel.show.show(stormvogel.examples.car.car, show_editor=True, layout=Layout(\"layouts/testing.json\"))"
      ]
    },
    {
      "cell_type": "code",
      "execution_count": null,
      "id": "a65d906d-3d4f-4da6-9c24-250106e0d407",
      "metadata": {},
      "outputs": [],
      "source": []
    }
  ],
  "metadata": {
    "kernelspec": {
      "display_name": "Python 3 (ipykernel)",
      "language": "python",
      "name": "python3"
    },
    "language_info": {
      "codemirror_mode": {
        "name": "ipython",
        "version": 3
      },
      "file_extension": ".py",
      "mimetype": "text/x-python",
      "name": "python",
      "nbconvert_exporter": "python",
      "pygments_lexer": "ipython3",
      "version": "3.12.3"
    }
  },
  "nbformat": 4,
  "nbformat_minor": 5
}
