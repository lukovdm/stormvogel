{
  "cells": [
    {
      "cell_type": "markdown",
      "id": "f89aacda-bebf-4561-93d2-4b8da00105ff",
      "metadata": {},
      "source": [
        "# Building CTMCs\n",
        "TODO"
      ]
    },
    {
      "cell_type": "code",
      "execution_count": null,
      "id": "11b7b237-d9a4-4754-8d22-6ec89280dfc2",
      "metadata": {},
      "outputs": [],
      "source": []
    }
  ],
  "metadata": {
    "kernelspec": {
      "display_name": "Python 3 (ipykernel)",
      "language": "python",
      "name": "python3"
    },
    "language_info": {
      "codemirror_mode": {
        "name": "ipython",
        "version": 3
      },
      "file_extension": ".py",
      "mimetype": "text/x-python",
      "name": "python",
      "nbconvert_exporter": "python",
      "pygments_lexer": "ipython3",
      "version": "3.12.3"
    }
  },
  "nbformat": 4,
  "nbformat_minor": 5
}
