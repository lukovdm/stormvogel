{
  "cells": [
    {
      "cell_type": "markdown",
      "id": "f65f3d5a-3b08-43c8-bc85-66d7ee8068b9",
      "metadata": {},
      "source": [
        "# Communication server remark\n",
        "**Note: Only read this if you got the warning, and you want to save node positions from a visualization.**\n",
        "\n",
        "Stormvogel uses a local server (or multiple local servers if multiple kernels are running) to communicate between visualization elements (Javascript frontend) and Python. Sometimes this communication fails and when this happens the user gets a warning. Stormvogel is perfectly usable without this server, but you can no longer save the node positions of a layout. If you really need to save node positions, here are some pointers to fixing the issue."
      ]
    },
    {
      "cell_type": "markdown",
      "id": "cb96e5e3-0092-4670-8c2b-d4f923a8d734",
      "metadata": {},
      "source": [
        "### Could not start server / test request failed / no free port.\n",
        "1) Restart the kernel and re-run.\n",
        "2) If you are working remotely, you need to forward ports 8889-8905. For example: `ssh -N -L 8889:localhost:8889 YOUR_SSH_CONFIG_NAME`.<br>\n",
        "Check if the port range localhost:8889-8905 (from the machine where jupyterlab runs) is available.<br>\n",
        "If you cannot use this range, try setting `stormvogel.communication_server.min_port` and `max_port` to a port range that is available.\n",
        "3) You might also want to consider changing `stormvogel.communication_server.localhost_address` to the IPv6 loopback address if you are using IPv6.\n",
        "\n",
        "Please contact the stormvogel developpers if you keep running into issues.\n",
        "\n",
        "You can also disable the warning message by setting `use_server` to `False` in your call to `show`\n",
        "\n",
        "Example:"
      ]
    },
    {
      "cell_type": "code",
      "execution_count": 2,
      "id": "7ee6cb3a-2336-466e-9f98-57db32a4f6cb",
      "metadata": {},
      "outputs": [],
      "source": [
        "import stormvogel\n",
        "stormvogel.communication_server.min_port = 3000\n",
        "stormvogel.communication_server.max_port = 3020\n",
        "stormvogel.communication_server.localhost_address = \"::1/128\"\n",
        "stormvogel.communication_server.use_server = False"
      ]
    }
  ],
  "metadata": {
    "kernelspec": {
      "display_name": "Python 3 (ipykernel)",
      "language": "python",
      "name": "python3"
    },
    "language_info": {
      "codemirror_mode": {
        "name": "ipython",
        "version": 3
      },
      "file_extension": ".py",
      "mimetype": "text/x-python",
      "name": "python",
      "nbconvert_exporter": "python",
      "pygments_lexer": "ipython3",
      "version": "3.12.3"
    }
  },
  "nbformat": 4,
  "nbformat_minor": 5
}
