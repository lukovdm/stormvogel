{
  "cells": [
    {
      "cell_type": "code",
      "execution_count": 36,
      "id": "7f63f632-fbc0-4da2-beb6-9f5ebff7368d",
      "metadata": {},
      "outputs": [],
      "source": [
        "from stormvogel import *"
      ]
    },
    {
      "cell_type": "code",
      "execution_count": 203,
      "id": "1cd681fb-b2a4-474b-bab9-b76c40fdb5a2",
      "metadata": {},
      "outputs": [
        {
          "data": {
            "text/plain": [
              "<stormpy.storage.storage.PrismProgram at 0x700978c34df0>"
            ]
          },
          "execution_count": 203,
          "metadata": {},
          "output_type": "execute_result"
        }
      ],
      "source": [
        "%%prism grid_prism\n",
        "mdp\n",
        "\n",
        "const int N = 3; // Grid size\n",
        "\n",
        "const int R_X = 0; // Ranger and lions initial positions\n",
        "const int R_Y = N-1;\n",
        "const int F_X = 0;\n",
        "const int F_Y = 0;\n",
        "const int C_X = N-1;\n",
        "const int C_Y = (N-1)/2;\n",
        "\n",
        "\n",
        "const int C1_X = 1; // Camera positions\n",
        "const int C1_Y = 2;\n",
        "const int C2_X = (N-1)/2;\n",
        "const int C2_Y = 0;\n",
        "const int C3_X = N-1;\n",
        "const int C3_Y = N-2;\n",
        "\n",
        "module ranger\n",
        "    r_x : [0..N-1] init R_X;\n",
        "    r_y : [0..N-1] init R_Y;\n",
        "    \n",
        "    c_1 : [0..2] init 0; // camera 1, 0: nothing, 1: fang, 2: claw\n",
        "    c_2: [0..2] init 0;\n",
        "    c_3: [0..2] init 0;\n",
        "    i_c: [0..1] init 0; // inspected claw\n",
        "    i_f: [0..1] init 0; // inspected fang\n",
        "\n",
        "    // TODO add inspect action\n",
        "    // TODO add action move for synchronization\n",
        "\n",
        "    [left] (r_x > 0) ->      0.8 : (r_x' = r_x - 1) & (r_y' = r_y)\n",
        "                           + 0.2 : (r_x' = r_x) & (r_y' = r_y);\n",
        "    [right] (r_x < N-1) ->   0.8: (r_x' = r_x + 1) & (r_y' = r_y)\n",
        "                           + 0.2 : (r_x' = r_x) & (r_y' = r_y);\n",
        "    [up] (r_y > 0) ->        0.8: (r_x' = r_x) & (r_y' = r_y - 1)\n",
        "                           + 0.2 : (r_x' = r_x) & (r_y' = r_y);\n",
        "    [down] (r_y < N-1) ->    0.8: (r_x' = r_x) & (r_y' = r_y + 1)\n",
        "                           + 0.2 : (r_x' = r_x) & (r_y' = r_y);\n",
        "endmodule\n",
        "\n",
        "module fang\n",
        "    f_x : [0..N-1] init F_X;\n",
        "    f_y : [0..N-1] init F_Y;\n",
        "\n",
        "    [left] (fang_move_left = 1)  -> 0.03 : (f_x' = f_x - 1) & (f_y' = f_y);\n",
        "    [left] (fang_move_right = 1) -> 0.03 : (f_x' = f_x + 1) & (f_y' = f_y);\n",
        "    [left] (fang_move_up = 1) -> 0.03 : (f_x' = f_x) & (f_y' = f_y - 1);\n",
        "    [left] (fang_move_down = 1) -> 0.03 : (f_x' = f_x) & (f_y' = f_y + 1);\n",
        "\n",
        "    [right] (fang_move_left = 1)  -> 0.03 : (f_x' = f_x - 1) & (f_y' = f_y);\n",
        "    [right] (fang_move_right = 1) -> 0.03 : (f_x' = f_x + 1) & (f_y' = f_y);\n",
        "    [right] (fang_move_up = 1) -> 0.03 : (f_x' = f_x) & (f_y' = f_y - 1);\n",
        "    [right] (fang_move_down = 1) -> 0.03 : (f_x' = f_x) & (f_y' = f_y + 1);\n",
        "\n",
        "    [up] (fang_move_left = 1)  -> 0.03 : (f_x' = f_x - 1) & (f_y' = f_y);\n",
        "    [up] (fang_move_right = 1) -> 0.03 : (f_x' = f_x + 1) & (f_y' = f_y);\n",
        "    [up] (fang_move_up = 1) -> 0.03 : (f_x' = f_x) & (f_y' = f_y - 1);\n",
        "    [up] (fang_move_down = 1) -> 0.03 : (f_x' = f_x) & (f_y' = f_y + 1);\n",
        "\n",
        "    [down] (fang_move_left = 1)  -> 0.03 : (f_x' = f_x - 1) & (f_y' = f_y);\n",
        "    [down] (fang_move_right = 1) -> 0.03 : (f_x' = f_x + 1) & (f_y' = f_y);\n",
        "    [down] (fang_move_up = 1) -> 0.03 : (f_x' = f_x) & (f_y' = f_y - 1);\n",
        "    [down] (fang_move_down = 1) -> 0.03 : (f_x' = f_x) & (f_y' = f_y + 1);\n",
        "endmodule\n",
        "\n",
        "module claw\n",
        "    c_x : [0..N-1] init C_X; // Claw tribe\n",
        "    c_y : [0..N-1] init C_Y;\n",
        "endmodule\n",
        "\n",
        "formula tribe_distance_x = f_x - c_x;\n",
        "formula tribe_distance_y = f_y - c_y;\n",
        "\n",
        "// Lion movement\n",
        "formula lion_move_h1 = ((pow(pow(tribe_distance_y,2),0.5) > 1) | \n",
        "                        (tribe_distance_x > 2) | \n",
        "                        (tribe_distance_x > 1 & (pow(pow(tribe_distance_y,2),0.5) = 1)) |\n",
        "                        (tribe_distance_x = 1 & (pow(pow(tribe_distance_y,2),0.5) > 1)));\n",
        "\n",
        "formula lion_move_h2 = ((pow(pow(tribe_distance_y,2),0.5) > 1) | \n",
        "                       (tribe_distance_x < -2) | \n",
        "                       (tribe_distance_x < -1 & (pow(pow(tribe_distance_y,2),0.5) = 1)) |\n",
        "                       (tribe_distance_x = -1 & (pow(pow(tribe_distance_y,2),0.5) > 1)));\n",
        "\n",
        "formula lion_move_v1 = ((pow(pow(tribe_distance_x,2),0.5) > 1) | \n",
        "                        (tribe_distance_y > 2) | \n",
        "                        (tribe_distance_y > 1 & (pow(pow(tribe_distance_x,2),0.5) = 1)) |\n",
        "                        (tribe_distance_y = 1 & (pow(pow(tribe_distance_x,2),0.5) > 1)));\n",
        "\n",
        "formula lion_move_v2 = ((pow(pow(tribe_distance_x,2),0.5) > 1) | \n",
        "                        (tribe_distance_y < -2) | \n",
        "                        (tribe_distance_y < -1 & (pow(pow(tribe_distance_x,2),0.5) = 1)) |\n",
        "                        (tribe_distance_y = -1 & (pow(pow(tribe_distance_x,2),0.5) > 1)));\n",
        "\n",
        "// Fang movement possibilities\n",
        "formula fang_move_left  = ((f_x > 0) & lion_move_h1) ? 1 : 0;\n",
        "formula fang_move_right = ((f_x < 4) & lion_move_h2) ? 1 : 0;\n",
        "formula fang_move_up    = ((f_y > 0) & lion_move_v1) ? 1 : 0;\n",
        "formula fang_move_down  = ((f_y < 4) & lion_move_v2) ? 1 : 0;\n",
        "formula fang_moves = fang_move_left + fang_move_right + fang_move_up + fang_move_down;\n",
        "\n",
        "// Claw movement possibilities\n",
        "formula claw_move_left  = ((c_y > 0) & lion_move_h2) ? 1 : 0;\n",
        "formula claw_move_right = ((c_y < 4) & lion_move_h1) ? 1 : 0;\n",
        "formula claw_move_up    = ((c_y > 0) & lion_move_v2) ? 1 : 0;\n",
        "formula claw_move_down  = ((c_y < 4) & lion_move_v1) ? 1 : 0;\n",
        "formula claw_moves = claw_move_left + claw_move_right + claw_move_up + claw_move_down;"
      ]
    },
    {
      "cell_type": "code",
      "execution_count": 208,
      "id": "13b6eb22-9adf-4e6e-a0a3-f8ad48c0ae90",
      "metadata": {},
      "outputs": [
        {
          "name": "stdout",
          "output_type": "stream",
          "text": [
            "-------------------------------------------------------------- \n",
            "Model type: \tMDP (sparse)\n",
            "States: \t81\n",
            "Transitions: \t1152\n",
            "Choices: \t576\n",
            "Reward Models:  none\n",
            "State Labels: \t2 labels\n",
            "   * deadlock -> 0 item(s)\n",
            "   * init -> 1 item(s)\n",
            "Choice Labels: \tnone\n",
            "-------------------------------------------------------------- \n",
            "\n"
          ]
        }
      ],
      "source": [
        "from stormvogel import *\n",
        "import stormpy\n",
        "import stormvogel.stormpy_utils.mapping as mapping\n",
        "model = stormpy.build_model(grid_prism)\n",
        "print(model)\n",
        "\n",
        "no_transitions = model.transition_matrix.nr_rows\n",
        "if no_transitions < 100:\n",
        "    sv_model = mapping.stormpy_to_stormvogel(model)\n",
        "    show(sv_model)"
      ]
    },
    {
      "cell_type": "code",
      "execution_count": null,
      "id": "aaf56d97-44f2-4486-b806-efe82a2f39a2",
      "metadata": {},
      "outputs": [],
      "source": []
    },
    {
      "cell_type": "code",
      "execution_count": null,
      "id": "db6bb7ce-50e7-4c9f-86a9-60a92de20a1e",
      "metadata": {},
      "outputs": [],
      "source": []
    }
  ],
  "metadata": {
    "kernelspec": {
      "display_name": "Python 3 (ipykernel)",
      "language": "python",
      "name": "python3"
    },
    "language_info": {
      "codemirror_mode": {
        "name": "ipython",
        "version": 3
      },
      "file_extension": ".py",
      "mimetype": "text/x-python",
      "name": "python",
      "nbconvert_exporter": "python",
      "pygments_lexer": "ipython3",
      "version": "3.12.3"
    }
  },
  "nbformat": 4,
  "nbformat_minor": 5
}
